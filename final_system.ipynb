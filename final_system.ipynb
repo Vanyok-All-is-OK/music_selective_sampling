{
  "nbformat": 4,
  "nbformat_minor": 0,
  "metadata": {
    "colab": {
      "provenance": [],
      "collapsed_sections": [
        "-90IeThWwOmU",
        "1QmnkAKtwgmD",
        "sh9mCUdy3A-B",
        "hm49qCPvH3kj",
        "pnQxmF-uX2qQ"
      ]
    },
    "kernelspec": {
      "name": "python3",
      "display_name": "Python 3"
    },
    "language_info": {
      "name": "python"
    }
  },
  "cells": [
    {
      "cell_type": "markdown",
      "source": [
        "# Настройка среды"
      ],
      "metadata": {
        "id": "-90IeThWwOmU"
      }
    },
    {
      "cell_type": "code",
      "execution_count": null,
      "metadata": {
        "colab": {
          "base_uri": "https://localhost:8080/"
        },
        "id": "oou5qJpVvr_V",
        "outputId": "7b6d880a-9cdb-48db-bd23-3a762d344260"
      },
      "outputs": [
        {
          "output_type": "stream",
          "name": "stdout",
          "text": [
            "Selecting previously unselected package libqt5core5a:amd64.\r\n",
            "(Reading database ... \r(Reading database ... 5%\r(Reading database ... 10%\r(Reading database ... 15%\r(Reading database ... 20%\r(Reading database ... 25%\r(Reading database ... 30%\r(Reading database ... 35%\r(Reading database ... 40%\r(Reading database ... 45%\r(Reading database ... 50%\r(Reading database ... 55%\r(Reading database ... 60%\r(Reading database ... 65%\r(Reading database ... 70%\r(Reading database ... 75%\r(Reading database ... 80%\r(Reading database ... 85%\r(Reading database ... 90%\r(Reading database ... 95%\r(Reading database ... 100%\r(Reading database ... 121918 files and directories currently installed.)\r\n",
            "Preparing to unpack .../00-libqt5core5a_5.15.3+dfsg-2ubuntu0.2_amd64.deb ...\r\n",
            "Unpacking libqt5core5a:amd64 (5.15.3+dfsg-2ubuntu0.2) ...\r\n",
            "Selecting previously unselected package libevdev2:amd64.\r\n",
            "Preparing to unpack .../01-libevdev2_1.12.1+dfsg-1_amd64.deb ...\r\n",
            "Unpacking libevdev2:amd64 (1.12.1+dfsg-1) ...\r\n",
            "Selecting previously unselected package libmtdev1:amd64.\r\n",
            "Preparing to unpack .../02-libmtdev1_1.1.6-1build4_amd64.deb ...\r\n",
            "Unpacking libmtdev1:amd64 (1.1.6-1build4) ...\r\n",
            "Selecting previously unselected package libgudev-1.0-0:amd64.\r\n",
            "Preparing to unpack .../03-libgudev-1.0-0_1%3a237-2build1_amd64.deb ...\r\n",
            "Unpacking libgudev-1.0-0:amd64 (1:237-2build1) ...\r\n",
            "Selecting previously unselected package libwacom-common.\r\n",
            "Preparing to unpack .../04-libwacom-common_2.2.0-1_all.deb ...\r\n",
            "Unpacking libwacom-common (2.2.0-1) ...\r\n",
            "Selecting previously unselected package libwacom9:amd64.\r\n",
            "Preparing to unpack .../05-libwacom9_2.2.0-1_amd64.deb ...\r\n",
            "Unpacking libwacom9:amd64 (2.2.0-1) ...\r\n",
            "Selecting previously unselected package libinput-bin.\r\n",
            "Preparing to unpack .../06-libinput-bin_1.20.0-1ubuntu0.3_amd64.deb ...\r\n",
            "Unpacking libinput-bin (1.20.0-1ubuntu0.3) ...\r\n",
            "Selecting previously unselected package libinput10:amd64.\r\n",
            "Preparing to unpack .../07-libinput10_1.20.0-1ubuntu0.3_amd64.deb ...\r\n",
            "Unpacking libinput10:amd64 (1.20.0-1ubuntu0.3) ...\r\n",
            "Selecting previously unselected package libmd4c0:amd64.\r\n",
            "Preparing to unpack .../08-libmd4c0_0.4.8-1_amd64.deb ...\r\n",
            "Unpacking libmd4c0:amd64 (0.4.8-1) ...\r\n",
            "Selecting previously unselected package libqt5dbus5:amd64.\r\n",
            "Preparing to unpack .../09-libqt5dbus5_5.15.3+dfsg-2ubuntu0.2_amd64.deb ...\r\n",
            "Unpacking libqt5dbus5:amd64 (5.15.3+dfsg-2ubuntu0.2) ...\r\n",
            "Selecting previously unselected package libqt5network5:amd64.\r\n",
            "Preparing to unpack .../10-libqt5network5_5.15.3+dfsg-2ubuntu0.2_amd64.deb ...\r\n",
            "Unpacking libqt5network5:amd64 (5.15.3+dfsg-2ubuntu0.2) ...\r\n",
            "Selecting previously unselected package libxcb-icccm4:amd64.\r\n",
            "Preparing to unpack .../11-libxcb-icccm4_0.4.1-1.1build2_amd64.deb ...\r\n",
            "Unpacking libxcb-icccm4:amd64 (0.4.1-1.1build2) ...\r\n",
            "Selecting previously unselected package libxcb-util1:amd64.\r\n",
            "Preparing to unpack .../12-libxcb-util1_0.4.0-1build2_amd64.deb ...\r\n",
            "Unpacking libxcb-util1:amd64 (0.4.0-1build2) ...\r\n",
            "Selecting previously unselected package libxcb-image0:amd64.\r\n",
            "Preparing to unpack .../13-libxcb-image0_0.4.0-2_amd64.deb ...\r\n",
            "Unpacking libxcb-image0:amd64 (0.4.0-2) ...\r\n",
            "Selecting previously unselected package libxcb-keysyms1:amd64.\r\n",
            "Preparing to unpack .../14-libxcb-keysyms1_0.4.0-1build3_amd64.deb ...\r\n",
            "Unpacking libxcb-keysyms1:amd64 (0.4.0-1build3) ...\r\n",
            "Selecting previously unselected package libxcb-render-util0:amd64.\r\n",
            "Preparing to unpack .../15-libxcb-render-util0_0.3.9-1build3_amd64.deb ...\r\n",
            "Unpacking libxcb-render-util0:amd64 (0.3.9-1build3) ...\r\n",
            "Selecting previously unselected package libxcb-xinerama0:amd64.\r\n",
            "Preparing to unpack .../16-libxcb-xinerama0_1.14-3ubuntu3_amd64.deb ...\r\n",
            "Unpacking libxcb-xinerama0:amd64 (1.14-3ubuntu3) ...\r\n",
            "Selecting previously unselected package libxcb-xinput0:amd64.\r\n",
            "Preparing to unpack .../17-libxcb-xinput0_1.14-3ubuntu3_amd64.deb ...\r\n",
            "Unpacking libxcb-xinput0:amd64 (1.14-3ubuntu3) ...\r\n",
            "Selecting previously unselected package libxcb-xkb1:amd64.\r\n",
            "Preparing to unpack .../18-libxcb-xkb1_1.14-3ubuntu3_amd64.deb ...\r\n",
            "Unpacking libxcb-xkb1:amd64 (1.14-3ubuntu3) ...\r\n",
            "Selecting previously unselected package libxkbcommon-x11-0:amd64.\r\n",
            "Preparing to unpack .../19-libxkbcommon-x11-0_1.4.0-1_amd64.deb ...\r\n",
            "Unpacking libxkbcommon-x11-0:amd64 (1.4.0-1) ...\r\n",
            "Selecting previously unselected package libqt5gui5:amd64.\r\n",
            "Preparing to unpack .../20-libqt5gui5_5.15.3+dfsg-2ubuntu0.2_amd64.deb ...\r\n",
            "Unpacking libqt5gui5:amd64 (5.15.3+dfsg-2ubuntu0.2) ...\r\n",
            "Selecting previously unselected package libqt5widgets5:amd64.\r\n",
            "Preparing to unpack .../21-libqt5widgets5_5.15.3+dfsg-2ubuntu0.2_amd64.deb ...\r\n",
            "Unpacking libqt5widgets5:amd64 (5.15.3+dfsg-2ubuntu0.2) ...\r\n",
            "Selecting previously unselected package libqt5svg5:amd64.\r\n",
            "Preparing to unpack .../22-libqt5svg5_5.15.3-1_amd64.deb ...\r\n",
            "Unpacking libqt5svg5:amd64 (5.15.3-1) ...\r\n",
            "Selecting previously unselected package fluid-soundfont-gm.\r\n",
            "Preparing to unpack .../23-fluid-soundfont-gm_3.1-5.3_all.deb ...\r\n",
            "Unpacking fluid-soundfont-gm (3.1-5.3) ...\r\n",
            "Selecting previously unselected package libinstpatch-1.0-2:amd64.\r\n",
            "Preparing to unpack .../24-libinstpatch-1.0-2_1.1.6-1_amd64.deb ...\r\n",
            "Unpacking libinstpatch-1.0-2:amd64 (1.1.6-1) ...\r\n",
            "Selecting previously unselected package timgm6mb-soundfont.\r\n",
            "Preparing to unpack .../25-timgm6mb-soundfont_1.3-5_all.deb ...\r\n",
            "Unpacking timgm6mb-soundfont (1.3-5) ...\r\n",
            "Selecting previously unselected package libfluidsynth3:amd64.\r\n",
            "Preparing to unpack .../26-libfluidsynth3_2.2.5-1_amd64.deb ...\r\n",
            "Unpacking libfluidsynth3:amd64 (2.2.5-1) ...\r\n",
            "Selecting previously unselected package fluidsynth.\r\n",
            "Preparing to unpack .../27-fluidsynth_2.2.5-1_amd64.deb ...\r\n",
            "Unpacking fluidsynth (2.2.5-1) ...\r\n",
            "Selecting previously unselected package libwacom-bin.\r\n",
            "Preparing to unpack .../28-libwacom-bin_2.2.0-1_amd64.deb ...\r\n",
            "Unpacking libwacom-bin (2.2.0-1) ...\r\n",
            "Selecting previously unselected package qsynth.\r\n",
            "Preparing to unpack .../29-qsynth_0.9.6-1_amd64.deb ...\r\n",
            "Unpacking qsynth (0.9.6-1) ...\r\n",
            "Selecting previously unselected package qt5-gtk-platformtheme:amd64.\r\n",
            "Preparing to unpack .../30-qt5-gtk-platformtheme_5.15.3+dfsg-2ubuntu0.2_amd64.deb ...\r\n",
            "Unpacking qt5-gtk-platformtheme:amd64 (5.15.3+dfsg-2ubuntu0.2) ...\r\n",
            "Selecting previously unselected package qttranslations5-l10n.\r\n",
            "Preparing to unpack .../31-qttranslations5-l10n_5.15.3-1_all.deb ...\r\n",
            "Unpacking qttranslations5-l10n (5.15.3-1) ...\r\n",
            "Setting up libxcb-xinput0:amd64 (1.14-3ubuntu3) ...\r\n",
            "Setting up libxcb-keysyms1:amd64 (0.4.0-1build3) ...\r\n",
            "Setting up libxcb-render-util0:amd64 (0.3.9-1build3) ...\r\n",
            "Setting up libxcb-icccm4:amd64 (0.4.1-1.1build2) ...\r\n",
            "Setting up libxcb-util1:amd64 (0.4.0-1build2) ...\r\n",
            "Setting up libxcb-xkb1:amd64 (1.14-3ubuntu3) ...\r\n",
            "Setting up libxcb-image0:amd64 (0.4.0-2) ...\r\n",
            "Setting up libxcb-xinerama0:amd64 (1.14-3ubuntu3) ...\r\n",
            "Setting up qttranslations5-l10n (5.15.3-1) ...\r\n",
            "Setting up libxkbcommon-x11-0:amd64 (1.4.0-1) ...\r\n",
            "Setting up libqt5core5a:amd64 (5.15.3+dfsg-2ubuntu0.2) ...\r\n",
            "Setting up libmtdev1:amd64 (1.1.6-1build4) ...\r\n",
            "Setting up libqt5dbus5:amd64 (5.15.3+dfsg-2ubuntu0.2) ...\r\n",
            "Setting up libmd4c0:amd64 (0.4.8-1) ...\r\n",
            "Setting up fluid-soundfont-gm (3.1-5.3) ...\r\n",
            "update-alternatives: using /usr/share/sounds/sf2/FluidR3_GM.sf2 to provide /usr/share/sounds/sf2/default-GM.sf2 (default-GM.sf2) in auto mode\r\n",
            "update-alternatives: using /usr/share/sounds/sf2/FluidR3_GM.sf2 to provide /usr/share/sounds/sf3/default-GM.sf3 (default-GM.sf3) in auto mode\r\n",
            "Setting up timgm6mb-soundfont (1.3-5) ...\r\n",
            "Setting up libevdev2:amd64 (1.12.1+dfsg-1) ...\r\n",
            "Setting up libinstpatch-1.0-2:amd64 (1.1.6-1) ...\r\n",
            "Setting up libgudev-1.0-0:amd64 (1:237-2build1) ...\r\n",
            "Setting up libfluidsynth3:amd64 (2.2.5-1) ...\r\n",
            "Setting up libwacom-common (2.2.0-1) ...\r\n",
            "Setting up libwacom9:amd64 (2.2.0-1) ...\r\n",
            "Setting up libqt5network5:amd64 (5.15.3+dfsg-2ubuntu0.2) ...\r\n",
            "Setting up libinput-bin (1.20.0-1ubuntu0.3) ...\r\n",
            "Setting up fluidsynth (2.2.5-1) ...\r\n",
            "Created symlink /etc/systemd/user/default.target.wants/fluidsynth.service → /usr/lib/systemd/user/fluidsynth.service.\r\n",
            "Setting up libwacom-bin (2.2.0-1) ...\r\n",
            "Setting up libinput10:amd64 (1.20.0-1ubuntu0.3) ...\r\n",
            "Setting up libqt5gui5:amd64 (5.15.3+dfsg-2ubuntu0.2) ...\r\n",
            "Setting up libqt5widgets5:amd64 (5.15.3+dfsg-2ubuntu0.2) ...\r\n",
            "Setting up qt5-gtk-platformtheme:amd64 (5.15.3+dfsg-2ubuntu0.2) ...\r\n",
            "Setting up libqt5svg5:amd64 (5.15.3-1) ...\r\n",
            "Setting up qsynth (0.9.6-1) ...\r\n",
            "Processing triggers for hicolor-icon-theme (0.17-2) ...\r\n",
            "Processing triggers for libc-bin (2.35-0ubuntu3.4) ...\r\n",
            "/sbin/ldconfig.real: /usr/local/lib/libtbbbind.so.3 is not a symbolic link\r\n",
            "\r\n",
            "/sbin/ldconfig.real: /usr/local/lib/libtbbmalloc_proxy.so.2 is not a symbolic link\r\n",
            "\r\n",
            "/sbin/ldconfig.real: /usr/local/lib/libtbb.so.12 is not a symbolic link\r\n",
            "\r\n",
            "/sbin/ldconfig.real: /usr/local/lib/libtbbmalloc.so.2 is not a symbolic link\r\n",
            "\r\n",
            "/sbin/ldconfig.real: /usr/local/lib/libtbbbind_2_0.so.3 is not a symbolic link\r\n",
            "\r\n",
            "/sbin/ldconfig.real: /usr/local/lib/libtbbbind_2_5.so.3 is not a symbolic link\r\n",
            "\r\n",
            "Processing triggers for man-db (2.10.2-1) ...\r\n",
            "     ━━━━━━━━━━━━━━━━━━━━━━━━━━━━━━━━━━━━━━━━ 209.4/209.4 kB 4.7 MB/s eta 0:00:00\n",
            "     ━━━━━━━━━━━━━━━━━━━━━━━━━━━━━━━━━━━━━━━━ 1.4/1.4 MB 13.5 MB/s eta 0:00:00\n",
            "     ━━━━━━━━━━━━━━━━━━━━━━━━━━━━━━━━━━━━━━━━ 18.5/18.5 MB 49.5 MB/s eta 0:00:00\n",
            "     ━━━━━━━━━━━━━━━━━━━━━━━━━━━━━━━━━━━━━━━━ 5.6/5.6 MB 63.3 MB/s eta 0:00:00\n",
            "     ━━━━━━━━━━━━━━━━━━━━━━━━━━━━━━━━━━━━━━━━ 302.8/302.8 kB 30.2 MB/s eta 0:00:00\n",
            "     ━━━━━━━━━━━━━━━━━━━━━━━━━━━━━━━━━━━━━━━━ 6.5/6.5 MB 94.3 MB/s eta 0:00:00\n",
            "     ━━━━━━━━━━━━━━━━━━━━━━━━━━━━━━━━━━━━━━━━ 84.4/84.4 kB 11.6 MB/s eta 0:00:00\n",
            "     ━━━━━━━━━━━━━━━━━━━━━━━━━━━━━━━━━━━━━━━━ 193.4/193.4 kB 23.7 MB/s eta 0:00:00\n",
            "     ━━━━━━━━━━━━━━━━━━━━━━━━━━━━━━━━━━━━━━━━ 385.2/385.2 kB 38.5 MB/s eta 0:00:00\n",
            "     ━━━━━━━━━━━━━━━━━━━━━━━━━━━━━━━━━━━━━━━━ 58.1/58.1 kB 7.9 MB/s eta 0:00:00\n",
            "     ━━━━━━━━━━━━━━━━━━━━━━━━━━━━━━━━━━━━━━━━ 611.8/611.8 kB 49.2 MB/s eta 0:00:00\n",
            "     ━━━━━━━━━━━━━━━━━━━━━━━━━━━━━━━━━━━━━━━━ 367.1/367.1 kB 32.2 MB/s eta 0:00:00\n",
            "     ━━━━━━━━━━━━━━━━━━━━━━━━━━━━━━━━━━━━━━━━ 981.4/981.4 kB 53.6 MB/s eta 0:00:00\n",
            "     ━━━━━━━━━━━━━━━━━━━━━━━━━━━━━━━━━━━━━━━━ 54.6/54.6 kB 7.7 MB/s eta 0:00:00\n",
            "     ━━━━━━━━━━━━━━━━━━━━━━━━━━━━━━━━━━━━━━━━ 199.7/199.7 kB 24.7 MB/s eta 0:00:00\n",
            "     ━━━━━━━━━━━━━━━━━━━━━━━━━━━━━━━━━━━━━━━━ 199.7/199.7 kB 22.6 MB/s eta 0:00:00\n",
            "     ━━━━━━━━━━━━━━━━━━━━━━━━━━━━━━━━━━━━━━━━ 179.6/179.6 kB 21.6 MB/s eta 0:00:00\n",
            "     ━━━━━━━━━━━━━━━━━━━━━━━━━━━━━━━━━━━━━━━━ 174.8/174.8 kB 21.0 MB/s eta 0:00:00\n",
            "     ━━━━━━━━━━━━━━━━━━━━━━━━━━━━━━━━━━━━━━━━ 165.0/165.0 kB 22.3 MB/s eta 0:00:00\n",
            "     ━━━━━━━━━━━━━━━━━━━━━━━━━━━━━━━━━━━━━━━━ 151.2/151.2 kB 19.7 MB/s eta 0:00:00\n",
            "     ━━━━━━━━━━━━━━━━━━━━━━━━━━━━━━━━━━━━━━━━ 147.8/147.8 kB 18.3 MB/s eta 0:00:00\n",
            "     ━━━━━━━━━━━━━━━━━━━━━━━━━━━━━━━━━━━━━━━━ 127.9/127.9 kB 15.9 MB/s eta 0:00:00\n",
            "     ━━━━━━━━━━━━━━━━━━━━━━━━━━━━━━━━━━━━━━━━ 247.3/247.3 kB 23.3 MB/s eta 0:00:00\n",
            "     ━━━━━━━━━━━━━━━━━━━━━━━━━━━━━━━━━━━━━━━━ 1.6/1.6 MB 70.8 MB/s eta 0:00:00\n",
            "     ━━━━━━━━━━━━━━━━━━━━━━━━━━━━━━━━━━━━━━━━ 191.5/191.5 kB 21.7 MB/s eta 0:00:00\n",
            "     ━━━━━━━━━━━━━━━━━━━━━━━━━━━━━━━━━━━━━━━━ 191.4/191.4 kB 23.4 MB/s eta 0:00:00\n",
            "     ━━━━━━━━━━━━━━━━━━━━━━━━━━━━━━━━━━━━━━━━ 178.2/178.2 kB 17.1 MB/s eta 0:00:00\n",
            "     ━━━━━━━━━━━━━━━━━━━━━━━━━━━━━━━━━━━━━━━━ 294.6/294.6 kB 32.3 MB/s eta 0:00:00\n",
            "     ━━━━━━━━━━━━━━━━━━━━━━━━━━━━━━━━━━━━━━━━ 1.6/1.6 MB 60.4 MB/s eta 0:00:00\n",
            "     ━━━━━━━━━━━━━━━━━━━━━━━━━━━━━━━━━━━━━━━━ 53.0/53.0 kB 6.8 MB/s eta 0:00:00\n"
          ]
        },
        {
          "output_type": "stream",
          "name": "stderr",
          "text": [
            "ERROR: pip's dependency resolver does not currently take into account all the packages that are installed. This behaviour is the source of the following dependency conflicts.\n",
            "panel 1.3.8 requires bokeh<3.4.0,>=3.2.0, but you have bokeh 2.4.3 which is incompatible.\n",
            "Cloning into 'magenta'...\n"
          ]
        }
      ],
      "source": [
        "%%bash\n",
        "\n",
        "apt-get update -qq && apt-get install -qq fluidsynth\n",
        "\n",
        "pip install -qU note-seq pygtrie tensor2tensor pyfluidsynth bokeh==2.4.3\n",
        "sed -i -e '46,49d' -e '64,67d' /usr/local/lib/python3.10/dist-packages/tensorflow_probability/python/internal/prefer_static.py\n",
        "sed -i 's/np.bool/bool/g' /usr/local/lib/python3.10/dist-packages/tensorflow_probability/python/mcmc/sample_halton_sequence.py\n",
        "sed -i 's/_kwargs = spec_.kwargs.copy()/_kwargs = spec_.kwargs.copy() if spec_.kwargs else {}/g' /usr/local/lib/python3.10/dist-packages/gym/envs/registration.py\n",
        "\n",
        "git clone --branch=main https://github.com/magenta/magenta\n",
        "mv magenta magenta_tmp; mv magenta_tmp/* .; rm -rf magenta_tmp\n",
        "rm ./magenta/__init__.py\n",
        "rm ./magenta/models/score2perf/__init__.py"
      ]
    },
    {
      "cell_type": "code",
      "source": [
        "!gsutil -q -m cp gs://magentadata/soundfonts/Yamaha-C5-Salamander-JNv5.1.sf2 /content/"
      ],
      "metadata": {
        "id": "mFk2s4iLwbqm"
      },
      "execution_count": null,
      "outputs": []
    },
    {
      "cell_type": "markdown",
      "source": [
        "# Импортирование нужных библиотек"
      ],
      "metadata": {
        "id": "1QmnkAKtwgmD"
      }
    },
    {
      "cell_type": "code",
      "source": [
        "import numpy as np\n",
        "\n",
        "import tensorflow.compat.v1 as tf\n",
        "tf.disable_v2_behavior()\n",
        "\n",
        "from google.colab import files\n",
        "\n",
        "from tensor2tensor import models\n",
        "from tensor2tensor import problems\n",
        "from tensor2tensor.data_generators import text_encoder\n",
        "from tensor2tensor.utils import decoding\n",
        "from tensor2tensor.utils import trainer_lib\n",
        "\n",
        "import note_seq\n",
        "from magenta.models.score2perf.score2perf import Score2PerfProblem"
      ],
      "metadata": {
        "colab": {
          "base_uri": "https://localhost:8080/"
        },
        "id": "imKfDYWNweau",
        "outputId": "142c20fb-1a88-42b4-9bc4-cc75ddc57b8d"
      },
      "execution_count": null,
      "outputs": [
        {
          "output_type": "stream",
          "name": "stderr",
          "text": [
            "WARNING:tensorflow:From /usr/local/lib/python3.10/dist-packages/tensorflow/python/compat/v2_compat.py:108: disable_resource_variables (from tensorflow.python.ops.variable_scope) is deprecated and will be removed in a future version.\n",
            "Instructions for updating:\n",
            "non-resource variables are not supported in the long term\n",
            "/usr/local/lib/python3.10/dist-packages/tensorflow_addons/utils/tfa_eol_msg.py:23: UserWarning: \n",
            "\n",
            "TensorFlow Addons (TFA) has ended development and introduction of new features.\n",
            "TFA has entered a minimal maintenance and release mode until a planned end of life in May 2024.\n",
            "Please modify downstream libraries to take dependencies from other repositories in our TensorFlow community (e.g. Keras, Keras-CV, and Keras-NLP). \n",
            "\n",
            "For more information see: https://github.com/tensorflow/addons/issues/2807 \n",
            "\n",
            "  warnings.warn(\n",
            "/usr/local/lib/python3.10/dist-packages/gym/utils/passive_env_checker.py:31: UserWarning: \u001b[33mWARN: A Box observation space has an unconventional shape (neither an image, nor a 1D vector). We recommend flattening the observation to have only a 1D vector or use a custom policy to properly process the data. Actual observation shape: (3, 3)\u001b[0m\n",
            "  logger.warn(\n",
            "/usr/local/lib/python3.10/dist-packages/gym/core.py:317: DeprecationWarning: \u001b[33mWARN: Initializing wrapper in old step API which returns one bool instead of two. It is recommended to set `new_step_api=True` to use new step API. This will be the default behaviour in future.\u001b[0m\n",
            "  deprecation(\n",
            "/usr/local/lib/python3.10/dist-packages/gym/wrappers/step_api_compatibility.py:39: DeprecationWarning: \u001b[33mWARN: Initializing environment in old step API which returns one bool instead of two. It is recommended to set `new_step_api=True` to use new step API. This will be the default behaviour in future.\u001b[0m\n",
            "  deprecation(\n",
            "/usr/local/lib/python3.10/dist-packages/tensorflow_gan/__init__.py:60: DeprecationWarning: distutils Version classes are deprecated. Use packaging.version instead.\n",
            "  if (distutils.version.LooseVersion(tf.__version__) <\n",
            "/usr/local/lib/python3.10/dist-packages/bokeh/core/property/primitive.py:37: DeprecationWarning: `np.bool8` is a deprecated alias for `np.bool_`.  (Deprecated NumPy 1.24)\n",
            "  bokeh_bool_types += (np.bool8,)\n"
          ]
        }
      ]
    },
    {
      "cell_type": "code",
      "source": [
        "import matplotlib.pyplot as plt\n",
        "%matplotlib inline\n",
        "import seaborn as sns\n",
        "sns.set(style=\"darkgrid\")"
      ],
      "metadata": {
        "colab": {
          "base_uri": "https://localhost:8080/"
        },
        "id": "IzU4cdUuYgBc",
        "outputId": "433fd52a-75e8-45ab-fbbf-67a7a83520bb"
      },
      "execution_count": null,
      "outputs": [
        {
          "output_type": "stream",
          "name": "stderr",
          "text": [
            "/usr/local/lib/python3.10/dist-packages/ipykernel/ipkernel.py:283: DeprecationWarning: `should_run_async` will not call `transform_cell` automatically in the future. Please pass the result to `transformed_cell` argument and any exception that happen during thetransform in `preprocessing_exc_tuple` in IPython 7.17 and above.\n",
            "  and should_run_async(code)\n"
          ]
        }
      ]
    },
    {
      "cell_type": "markdown",
      "source": [
        "# Вспомогательные константы и функции"
      ],
      "metadata": {
        "id": "sh9mCUdy3A-B"
      }
    },
    {
      "cell_type": "code",
      "source": [
        "SF2_PATH = '/content/Yamaha-C5-Salamander-JNv5.1.sf2'\n",
        "SAMPLE_RATE = 16000\n",
        "\n",
        "def decode(ids):\n",
        "    ids = list(ids)\n",
        "    if text_encoder.EOS_ID in ids:\n",
        "        ids = ids[:ids.index(text_encoder.EOS_ID)]\n",
        "    return encoder.decode(ids)"
      ],
      "metadata": {
        "id": "yzmNqFkz3EL-",
        "colab": {
          "base_uri": "https://localhost:8080/"
        },
        "outputId": "bc392afb-d7a9-4d07-d82f-984d34046033"
      },
      "execution_count": null,
      "outputs": [
        {
          "output_type": "stream",
          "name": "stderr",
          "text": [
            "/usr/local/lib/python3.10/dist-packages/ipykernel/ipkernel.py:283: DeprecationWarning: `should_run_async` will not call `transform_cell` automatically in the future. Please pass the result to `transformed_cell` argument and any exception that happen during thetransform in `preprocessing_exc_tuple` in IPython 7.17 and above.\n",
            "  and should_run_async(code)\n"
          ]
        }
      ]
    },
    {
      "cell_type": "code",
      "source": [
        "def tokens_to_ns(token_ids):\n",
        "    return note_seq.midi_file_to_note_sequence(decode(token_ids))"
      ],
      "metadata": {
        "id": "yvRCi4pcLuwU"
      },
      "execution_count": null,
      "outputs": []
    },
    {
      "cell_type": "code",
      "source": [
        "def plot_and_play(ns):\n",
        "    note_seq.play_sequence(\n",
        "        ns,\n",
        "        synth=note_seq.fluidsynth, sample_rate=SAMPLE_RATE, sf2_path=SF2_PATH)\n",
        "    note_seq.plot_sequence(ns)"
      ],
      "metadata": {
        "id": "Ilx5R2US3a-H"
      },
      "execution_count": null,
      "outputs": []
    },
    {
      "cell_type": "code",
      "source": [
        "def delete_drums(ns):\n",
        "    if any(note.is_drum for note in ns.notes):\n",
        "        notes = [note for note in ns.notes if not note.is_drum]\n",
        "        del ns.notes[:]\n",
        "        ns.notes.extend(notes)"
      ],
      "metadata": {
        "id": "W0uPw-_JKxwQ"
      },
      "execution_count": null,
      "outputs": []
    },
    {
      "cell_type": "code",
      "source": [
        "def fix_ns(ns):\n",
        "    ns = note_seq.apply_sustain_control_changes(ns)\n",
        "    delete_drums(ns)\n",
        "    new_notes = sorted([note for note in ns.notes], key=(lambda note: (note.start_time, note.pitch)))\n",
        "    del ns.notes[:]\n",
        "    ns.notes.extend(new_notes)\n",
        "    last_note = {}\n",
        "    for note in ns.notes:\n",
        "        note.instrument = 1\n",
        "        note.program = 0\n",
        "        if note.pitch in last_note.keys() and last_note[note.pitch].end_time > note.start_time:\n",
        "            last_note[note.pitch].end_time = note.start_time\n",
        "        last_note[note.pitch] = note\n",
        "    return ns"
      ],
      "metadata": {
        "id": "sH_iwWT1JAKH"
      },
      "execution_count": null,
      "outputs": []
    },
    {
      "cell_type": "code",
      "source": [
        "def ns_prefix(ns, num_notes):\n",
        "    new_notes = [note for note in ns.notes[:num_notes]]\n",
        "    del ns.notes[:]\n",
        "    ns.notes.extend(new_notes)\n",
        "    ns.total_time = new_notes[-1].end_time"
      ],
      "metadata": {
        "id": "jTrdPVypJBmx"
      },
      "execution_count": null,
      "outputs": []
    },
    {
      "cell_type": "code",
      "source": [
        "def decode_to_events(ids):\n",
        "    ids = list(ids)\n",
        "    eos_id = text_encoder.EOS_ID\n",
        "    if eos_id in ids:\n",
        "        ids = ids[:ids.index(eos_id)]\n",
        "    performance = note_seq.Performance(\n",
        "        quantized_sequence=None,\n",
        "        steps_per_second=100,\n",
        "        num_velocity_bins=32\n",
        "    )\n",
        "    for id in ids:\n",
        "        performance.append(unconditional_encoders['targets']._encoding.decode_event(id - 2))\n",
        "    named_events = []\n",
        "    for event in performance:\n",
        "        if event.event_type == 1:\n",
        "            named_event = ('note_on', event.event_value)\n",
        "        elif event.event_type == 2:\n",
        "            named_event = ('note_off', event.event_value)\n",
        "        elif event.event_type == 3:\n",
        "            named_event = ('time_shift', event.event_value)\n",
        "        elif event.event_type == 4:\n",
        "            named_event = ('velocity', 1 + (event.event_value - 1) * 4)\n",
        "        else:\n",
        "            named_event = event\n",
        "        named_events.append(named_event)\n",
        "    return named_events"
      ],
      "metadata": {
        "id": "1I50qW6X0GeH"
      },
      "execution_count": null,
      "outputs": []
    },
    {
      "cell_type": "markdown",
      "source": [
        "# Загрузка модели"
      ],
      "metadata": {
        "id": "hm49qCPvH3kj"
      }
    },
    {
      "cell_type": "code",
      "source": [
        "model_name = 'transformer'\n",
        "hparams_set = 'transformer_tpu'\n",
        "ckpt_path = 'gs://magentadata/models/music_transformer/checkpoints/unconditional_model_16.ckpt'\n",
        "\n",
        "class PianoPerformanceLanguageModelProblem(Score2PerfProblem):\n",
        "    @property\n",
        "    def add_eos_symbol(self):\n",
        "        return True\n",
        "\n",
        "problem = PianoPerformanceLanguageModelProblem()\n",
        "unconditional_encoders = problem.get_feature_encoders()\n",
        "\n",
        "hparams = trainer_lib.create_hparams(hparams_set=hparams_set)\n",
        "trainer_lib.add_problem_hparams(hparams, problem)\n",
        "hparams.num_hidden_layers = 16\n",
        "hparams.sampling_method = 'random'\n",
        "\n",
        "decode_hparams = decoding.decode_hparams()\n",
        "decode_hparams.alpha = 0.0\n",
        "decode_hparams.beam_size = 1\n",
        "\n",
        "run_config = trainer_lib.create_run_config(hparams)\n",
        "estimator = trainer_lib.create_estimator(\n",
        "    model_name, hparams, run_config,\n",
        "    decode_hparams=decode_hparams\n",
        ")\n",
        "\n",
        "def input_generator():\n",
        "  global targets\n",
        "  global decode_length\n",
        "  while True:\n",
        "    yield {\n",
        "        'targets': np.array([targets], dtype=np.int32),\n",
        "        'decode_length': np.array(decode_length, dtype=np.int32)\n",
        "    }\n",
        "\n",
        "targets = []\n",
        "decode_length = 0\n",
        "\n",
        "input_fn = decoding.make_input_fn_from_generator(input_generator())\n",
        "unconditional_samples = estimator.predict(\n",
        "    input_fn, checkpoint_path=ckpt_path)\n",
        "\n",
        "_ = next(unconditional_samples)"
      ],
      "metadata": {
        "colab": {
          "base_uri": "https://localhost:8080/"
        },
        "id": "JZtLmA-tH5XZ",
        "outputId": "e90fe090-fb4e-4972-93ee-380f74b14460"
      },
      "execution_count": null,
      "outputs": [
        {
          "output_type": "stream",
          "name": "stderr",
          "text": [
            "WARNING:tensorflow:From /usr/local/lib/python3.10/dist-packages/tensor2tensor/utils/trainer_lib.py:248: RunConfig.__init__ (from tensorflow_estimator.python.estimator.run_config) is deprecated and will be removed in a future version.\n",
            "Instructions for updating:\n",
            "Use tf.keras instead.\n",
            "WARNING:tensorflow:Schedule=continuous_train_and_eval. Assuming that training is running on a single machine.\n",
            "WARNING:tensorflow:From /usr/local/lib/python3.10/dist-packages/tensor2tensor/utils/trainer_lib.py:387: Estimator.__init__ (from tensorflow_estimator.python.estimator.estimator) is deprecated and will be removed in a future version.\n",
            "Instructions for updating:\n",
            "Use tf.keras instead.\n",
            "WARNING:tensorflow:Using temporary folder as model directory: /tmp/tmpvfgzimy4\n",
            "WARNING:tensorflow:Estimator's model_fn (<function T2TModel.make_estimator_model_fn.<locals>.wrapping_model_fn at 0x7a96496f2e60>) includes params argument, but params are not passed to Estimator.\n",
            "WARNING:tensorflow:From /usr/local/lib/python3.10/dist-packages/tensor2tensor/utils/decoding.py:620: py_func (from tensorflow.python.ops.script_ops) is deprecated and will be removed in a future version.\n",
            "Instructions for updating:\n",
            "tf.py_func is deprecated in TF V2. Instead, there are two\n",
            "    options available in V2.\n",
            "    - tf.py_function takes a python function which manipulates tf eager\n",
            "    tensors instead of numpy arrays. It's easy to convert a tf eager tensor to\n",
            "    an ndarray (just call tensor.numpy()) but having access to eager tensors\n",
            "    means `tf.py_function`s can use accelerators such as GPUs as well as\n",
            "    being differentiable using a gradient tape.\n",
            "    - tf.numpy_function maintains the semantics of the deprecated tf.py_func\n",
            "    (it is not differentiable, and manipulates numpy arrays). It drops the\n",
            "    stateful argument making all functions stateful.\n",
            "    \n",
            "WARNING:tensorflow:Input graph does not use tf.data.Dataset or contain a QueueRunner. That means predict yields forever. This is probably a mistake.\n",
            "WARNING:tensorflow:From /usr/local/lib/python3.10/dist-packages/tensorflow/python/util/dispatch.py:1260: to_int64 (from tensorflow.python.ops.math_ops) is deprecated and will be removed in a future version.\n",
            "Instructions for updating:\n",
            "Use `tf.cast` instead.\n",
            "WARNING:tensorflow:From /usr/local/lib/python3.10/dist-packages/tensorflow/python/util/dispatch.py:1260: to_float (from tensorflow.python.ops.math_ops) is deprecated and will be removed in a future version.\n",
            "Instructions for updating:\n",
            "Use `tf.cast` instead.\n",
            "WARNING:tensorflow:From /usr/local/lib/python3.10/dist-packages/tensorflow/python/util/dispatch.py:1260: calling dropout (from tensorflow.python.ops.nn_ops) with keep_prob is deprecated and will be removed in a future version.\n",
            "Instructions for updating:\n",
            "Please use `rate` instead of `keep_prob`. Rate should be set to `rate = 1 - keep_prob`.\n",
            "ERROR:tensorflow:==================================\n",
            "Object was never used (type <class 'tensorflow.python.framework.ops.Operation'>):\n",
            "<tf.Operation 'transformer/while/assert_greater/Assert/AssertGuard/Merge' type=Merge>\n",
            "If you want to mark it as used call its \"mark_used()\" method.\n",
            "It was originally created here:\n",
            "  File \"/usr/local/lib/python3.10/dist-packages/tensorflow/python/ops/check_ops.py\", line 992, in assert_greater\n",
            "    return _binary_assert('>', 'assert_greater', math_ops.greater, np.greater, x,  File \"/usr/local/lib/python3.10/dist-packages/tensorflow/python/ops/check_ops.py\", line 463, in _binary_assert\n",
            "    with ops.name_scope(name, opname, [x, y, data]):  File \"/usr/local/lib/python3.10/dist-packages/tensorflow/python/util/traceback_utils.py\", line 155, in error_handler\n",
            "    del filtered_tb  File \"/usr/local/lib/python3.10/dist-packages/tensorflow/python/util/dispatch.py\", line 1260, in op_dispatch_handler\n",
            "    return dispatch_target(*args, **kwargs)  File \"/usr/local/lib/python3.10/dist-packages/tensorflow/python/util/tf_should_use.py\", line 288, in wrapped\n",
            "    return _add_should_use_warning(fn(*args, **kwargs),\n",
            "==================================\n",
            "WARNING:tensorflow:From /usr/local/lib/python3.10/dist-packages/tensorflow/python/util/dispatch.py:1260: multinomial (from tensorflow.python.ops.random_ops) is deprecated and will be removed in a future version.\n",
            "Instructions for updating:\n",
            "Use `tf.random.categorical` instead.\n",
            "WARNING:tensorflow:From /usr/local/lib/python3.10/dist-packages/tensor2tensor/utils/t2t_model.py:1758: PredictOutput.__init__ (from tensorflow.python.saved_model.model_utils.export_output) is deprecated and will be removed in a future version.\n",
            "Instructions for updating:\n",
            "Use tf.keras instead.\n",
            "WARNING:tensorflow:From /usr/local/lib/python3.10/dist-packages/tensor2tensor/utils/t2t_model.py:1775: EstimatorSpec.__new__ (from tensorflow_estimator.python.estimator.model_fn) is deprecated and will be removed in a future version.\n",
            "Instructions for updating:\n",
            "Use tf.keras instead.\n",
            "WARNING:tensorflow:From /usr/local/lib/python3.10/dist-packages/tensorflow/python/training/monitored_session.py:1455: SessionRunArgs.__new__ (from tensorflow.python.training.session_run_hook) is deprecated and will be removed in a future version.\n",
            "Instructions for updating:\n",
            "Use tf.keras instead.\n",
            "WARNING:tensorflow:From /usr/local/lib/python3.10/dist-packages/tensorflow/python/training/monitored_session.py:1454: SessionRunContext.__init__ (from tensorflow.python.training.session_run_hook) is deprecated and will be removed in a future version.\n",
            "Instructions for updating:\n",
            "Use tf.keras instead.\n"
          ]
        }
      ]
    },
    {
      "cell_type": "code",
      "source": [
        "encoder = unconditional_encoders['targets']"
      ],
      "metadata": {
        "id": "S5Ts6eTLNY7G"
      },
      "execution_count": null,
      "outputs": []
    },
    {
      "cell_type": "code",
      "source": [
        "def generate_unconditional(dl=None):\n",
        "    global targets\n",
        "    global decode_length\n",
        "    if dl:\n",
        "        decode_length = min(dl, 4096 - len(targets))\n",
        "    else:\n",
        "        decode_length = max(0, 4096 - len(targets))\n",
        "\n",
        "    sample_ids = next(unconditional_samples)['outputs']\n",
        "    return sample_ids"
      ],
      "metadata": {
        "id": "hh0QXRAkJZzg"
      },
      "execution_count": null,
      "outputs": []
    },
    {
      "cell_type": "markdown",
      "source": [
        "# Определение метрик стилевой разницы"
      ],
      "metadata": {
        "id": "pnQxmF-uX2qQ"
      }
    },
    {
      "cell_type": "code",
      "source": [
        "feature_names = ['note_density', 'pitch_range', 'mean_pitch', 'var_of_pitch',\n",
        "                'mean_velocity', 'var_of_velocity', 'mean_duration', 'var_of_duration',\n",
        "                'start_time_mean_diff', 'var_of_start_time_diff']"
      ],
      "metadata": {
        "id": "0o_GFbw_U_Tb"
      },
      "execution_count": null,
      "outputs": []
    },
    {
      "cell_type": "code",
      "source": [
        "def compute_performance_features(ns, start_time, end_time):\n",
        "    note_list = [note for note in ns.notes if start_time <= note.start_time < end_time]\n",
        "    note_list = sorted(note_list, key=(lambda note: note.start_time))\n",
        "    num_notes = len(note_list)\n",
        "    if num_notes == 0:\n",
        "        features = [0] * 10\n",
        "        features[2] = np.mean([note.pitch for note in ns.notes])\n",
        "        features[6] = 2\n",
        "        return features\n",
        "    note_density = num_notes / (end_time - start_time)\n",
        "\n",
        "    pitch_list = [note.pitch for note in note_list]\n",
        "    pitch_range = max(pitch_list) - min(pitch_list)\n",
        "\n",
        "    mean_pitch = np.mean(pitch_list)\n",
        "\n",
        "    var_of_pitch = np.var(pitch_list)\n",
        "\n",
        "    velocity_list = [note.velocity for note in note_list]\n",
        "    mean_velocity = np.mean(velocity_list)\n",
        "\n",
        "    var_of_velocity = np.var(velocity_list)\n",
        "\n",
        "    duration_list = [note.end_time - note.start_time for note in note_list]\n",
        "    mean_duration = np.mean(duration_list)\n",
        "\n",
        "    var_of_duration = np.var(duration_list)\n",
        "\n",
        "    start_time_diff = []\n",
        "    for i in range(1, len(note_list)):\n",
        "        start_time_diff.append(note_list[i].start_time - note_list[i - 1].start_time)\n",
        "\n",
        "    if len(start_time_diff) > 0:\n",
        "        start_time_mean_diff = np.mean(start_time_diff)\n",
        "        var_of_start_time_diff = np.var(start_time_diff)\n",
        "    else:\n",
        "        start_time_mean_diff, var_of_start_time_diff = 0, 0\n",
        "\n",
        "    features = [note_density, pitch_range, mean_pitch, var_of_pitch,\n",
        "                mean_velocity, var_of_velocity, mean_duration, var_of_duration,\n",
        "                start_time_mean_diff, var_of_start_time_diff]\n",
        "    return features"
      ],
      "metadata": {
        "id": "td5vhmb9RnWU"
      },
      "execution_count": null,
      "outputs": []
    },
    {
      "cell_type": "code",
      "source": [
        "def style_difference(ns_1, ns_2, window_size=2, functions={}, epsilons={}, weights=np.ones(10), plot=None):\n",
        "    if ns_1.total_time < ns_2.total_time:\n",
        "        max_time = ns_1.total_time\n",
        "        ns_2 = note_seq.extract_subsequence(ns_2, 0, max_time)\n",
        "    else:\n",
        "        max_time = ns_2.total_time\n",
        "        ns_1 = note_seq.extract_subsequence(ns_1, 0, max_time)\n",
        "    features_1, features_2 = [], []\n",
        "    for start_time in np.arange(0, max_time, window_size):\n",
        "        if start_time + window_size > max_time:\n",
        "            start_time = max_time - window_size\n",
        "        features_1.append(compute_performance_features(ns_1, start_time, start_time + window_size))\n",
        "        features_2.append(compute_performance_features(ns_2, start_time, start_time + window_size))\n",
        "    features_1 = np.array(features_1)\n",
        "    features_2 = np.array(features_2)\n",
        "    error_matrix = np.zeros(features_1.shape)\n",
        "    for i in range(len(feature_names)):\n",
        "        f = functions[feature_names[i]]\n",
        "        eps = epsilons[feature_names[i]]\n",
        "        error_matrix[:,i] = f(features_1[:,i], features_2[:,i], eps) / weights[i]\n",
        "    error_matrix[:,[2,4,5]] = 0\n",
        "    if plot:\n",
        "        time_axis = np.arange(0, max_time, window_size)\n",
        "        if plot == 'metric':\n",
        "            plt.plot(time_axis, error_matrix.mean(1), color='blue')\n",
        "        elif plot == 'all_features':\n",
        "            for i, name in enumerate(feature_names):\n",
        "                plt.plot(time_axis, error_matrix[:, i], label=name)\n",
        "            plt.legend()\n",
        "        else:\n",
        "            idx = feature_names.index(plot)\n",
        "            plt.plot(time_axis, features_1[:,idx], label='1')\n",
        "            plt.plot(time_axis, features_2[:,idx], label='2')\n",
        "            plt.legend()\n",
        "        plt.show()\n",
        "    return error_matrix.mean()"
      ],
      "metadata": {
        "id": "4DpNWNHaRxT5"
      },
      "execution_count": null,
      "outputs": []
    },
    {
      "cell_type": "code",
      "source": [
        "def abs_log_error(f1, f2, eps):\n",
        "    return np.abs(np.log(f1 + eps) - np.log(f2 + eps))\n",
        "\n",
        "def abs_error(f1, f2, eps=0):\n",
        "    return np.abs(f1 - f2)\n",
        "\n",
        "functions = {name: abs_log_error for name in feature_names}\n",
        "functions['mean_pitch'] = abs_error"
      ],
      "metadata": {
        "id": "g0OLYfL0WlF6"
      },
      "execution_count": null,
      "outputs": []
    },
    {
      "cell_type": "code",
      "source": [
        "feature_eps = {name: 1 for name in feature_names}\n",
        "feature_eps['mean_pitch'] = feature_eps['mean_duration'] = 0\n",
        "feature_eps['var_of_duration'] = feature_eps['start_time_mean_diff'] = \\\n",
        "        feature_eps['var_of_start_time_diff'] = 0.01"
      ],
      "metadata": {
        "id": "Pw-Wl7KpYAmY"
      },
      "execution_count": null,
      "outputs": []
    },
    {
      "cell_type": "code",
      "source": [
        "weights = np.array([0.72521614, 0.69565941, 9.66134072, 1.20305637, 0.42238247,\n",
        "       1.06960022, 1.05404574, 1.30573771, 0.68013447, 0.71436818])"
      ],
      "metadata": {
        "id": "pocB8LaWYLPm"
      },
      "execution_count": null,
      "outputs": []
    },
    {
      "cell_type": "code",
      "source": [
        "def levenshtein(str_1, str_2):\n",
        "    n, m = len(str_1), len(str_2)\n",
        "    if n > m:\n",
        "        str_1, str_2 = str_2, str_1\n",
        "        n, m = m, n\n",
        "\n",
        "    current_row = range(n + 1)\n",
        "    for i in range(1, m + 1):\n",
        "        previous_row, current_row = current_row, [i] + [0] * n\n",
        "        for j in range(1, n + 1):\n",
        "            add, delete, change = previous_row[j] + 1, current_row[j - 1] + 1, previous_row[j - 1]\n",
        "            if str_1[j - 1] != str_2[i - 1]:\n",
        "                change += 1\n",
        "            current_row[j] = min(add, delete, change)\n",
        "\n",
        "    return current_row[n]"
      ],
      "metadata": {
        "id": "KM_TeXNlBQZh"
      },
      "execution_count": null,
      "outputs": []
    },
    {
      "cell_type": "code",
      "source": [
        "def get_pitch_list(ns):\n",
        "    return [note.pitch for note in sorted(ns.notes, key=(lambda n: (n.start_time, n.pitch)))]"
      ],
      "metadata": {
        "id": "OwWLVkPwBsTp"
      },
      "execution_count": null,
      "outputs": []
    },
    {
      "cell_type": "code",
      "source": [
        "def music_levenshtein(ns_1, ns_2):\n",
        "    pitches_1 = get_pitch_list(ns_1)\n",
        "    pitches_2 = get_pitch_list(ns_2)\n",
        "    min_len = min(len(pitches_1), len(pitches_2))\n",
        "    pitches_1 = pitches_1[:min_len]\n",
        "    pitches_2 = pitches_2[:min_len]\n",
        "    return levenshtein(pitches_1, pitches_2) / min_len"
      ],
      "metadata": {
        "id": "ABtuSZF3BTCU"
      },
      "execution_count": null,
      "outputs": []
    },
    {
      "cell_type": "markdown",
      "source": [
        "# Основная система"
      ],
      "metadata": {
        "id": "u4jzHIS6H-gG"
      }
    },
    {
      "cell_type": "code",
      "source": [
        "import os\n",
        "import random\n",
        "from tqdm import tqdm"
      ],
      "metadata": {
        "id": "zkjwcAyR7eWM"
      },
      "execution_count": null,
      "outputs": []
    },
    {
      "cell_type": "code",
      "source": [
        "class GenerativeSystem:\n",
        "    def upload_track_files(self):\n",
        "        print('Загрузите файлы с расширением .mid')\n",
        "        uploaded_files = files.upload()\n",
        "        self.uploaded_nss = []\n",
        "        for file_name, file_content in uploaded_files.items():\n",
        "            if not file_name.endswith('.mid'):\n",
        "                print(f'Файл \"{file_name}\" не имеет расширения .mid, он не будет обработан.')\n",
        "            else:\n",
        "                ns = note_seq.midi_to_note_sequence(file_content)\n",
        "                fix_ns(ns)\n",
        "                self.uploaded_nss.append(ns)\n",
        "\n",
        "    def upload_track_nss(self, nss):\n",
        "        self.uploaded_nss = list(nss)\n",
        "\n",
        "    def generate_similar(self, desired_style_diff=0, continuation_block_1_size=100,\n",
        "                         continuation_block_2_size=100, block_1_num_samples=100,\n",
        "                         block_2_num_samples=2, final_num_samples=5):\n",
        "        global targets\n",
        "        final_num_samples = min(final_num_samples, block_1_num_samples)\n",
        "        for file_id, uploaded_ns in enumerate(self.uploaded_nss):\n",
        "            print(f'Обработка файла номер {file_id + 1}')\n",
        "            ns_perf_ids = encoder.encode_note_sequence(uploaded_ns)[:-1]\n",
        "            all_samples_ids = []\n",
        "            criterion_tuples = []\n",
        "            for i in tqdm(range(block_1_num_samples)):\n",
        "                primer_size = random.randint(1, continuation_block_1_size)\n",
        "                targets = ns_perf_ids[:primer_size]\n",
        "                sample_ids = generate_unconditional(continuation_block_1_size)\n",
        "                sample_ids = list(targets) + list(sample_ids)\n",
        "                all_samples_ids.append(sample_ids)\n",
        "                ns_generated = tokens_to_ns(sample_ids)\n",
        "                cur_style_difference = style_difference(\n",
        "                    uploaded_ns, ns_generated, 3, functions, feature_eps, weights\n",
        "                )\n",
        "                cur_levenshtein = music_levenshtein(uploaded_ns, ns_generated)\n",
        "                criterion_tuple = (cur_levenshtein < 0.5,\n",
        "                                   abs(cur_style_difference - desired_style_diff),\n",
        "                                   i)\n",
        "                criterion_tuples.append(criterion_tuple)\n",
        "            criterion_tuples.sort()\n",
        "            similar_samples_ids = []\n",
        "            for _, _, idx in criterion_tuples[:final_num_samples]:\n",
        "                similar_samples_ids.append(all_samples_ids[idx])\n",
        "            for sample_number, cur_sample_ids in enumerate(similar_samples_ids):\n",
        "                cur_sample_time = tokens_to_ns(cur_sample_ids).total_time\n",
        "                while cur_sample_ids[-1] != 1 and cur_sample_time < uploaded_ns.total_time:\n",
        "                    continuation_ids = []\n",
        "                    sd_error = 1000.0\n",
        "                    for i in range(block_2_num_samples):\n",
        "                        targets = cur_sample_ids\n",
        "                        new_sample_ids = generate_unconditional(continuation_block_2_size)\n",
        "                        all_sample_ids = list(targets) + list(new_sample_ids)\n",
        "                        new_ns = tokens_to_ns(all_sample_ids)\n",
        "                        cur_style_difference = style_difference(\n",
        "                            uploaded_ns, new_ns, 3, functions, feature_eps, weights\n",
        "                        )\n",
        "                        if abs(cur_style_difference - desired_style_diff) < sd_error:\n",
        "                            sd_error = abs(cur_style_difference - desired_style_diff)\n",
        "                            continuation_ids = list(new_sample_ids)\n",
        "                    cur_sample_ids.extend(continuation_ids)\n",
        "                    cur_sample_time = tokens_to_ns(cur_sample_ids).total_time\n",
        "                cur_ns = tokens_to_ns(cur_sample_ids)\n",
        "                plot_and_play(cur_ns)\n",
        "                file_name = f'sample_{file_id}_{sample_number}.mid'\n",
        "                note_seq.sequence_proto_to_midi_file(\n",
        "                    cur_ns, file_name\n",
        "                )\n",
        "                print(f'Сэмпл сохранён в файл \"{file_name}\"')"
      ],
      "metadata": {
        "id": "HqOYAQJd5ilC"
      },
      "execution_count": null,
      "outputs": []
    },
    {
      "cell_type": "code",
      "source": [
        "gen_system = GenerativeSystem()"
      ],
      "metadata": {
        "id": "w-f2uGDG6Klv"
      },
      "execution_count": null,
      "outputs": []
    },
    {
      "cell_type": "code",
      "source": [
        "gen_system.upload_track_files()"
      ],
      "metadata": {
        "colab": {
          "base_uri": "https://localhost:8080/",
          "height": 90
        },
        "id": "jXETG3nOjCRm",
        "outputId": "a2509ce4-c2a5-4d5c-9542-75cad58870bf"
      },
      "execution_count": null,
      "outputs": [
        {
          "output_type": "stream",
          "name": "stdout",
          "text": [
            "Загрузите файлы с расширением .mid\n"
          ]
        },
        {
          "output_type": "display_data",
          "data": {
            "text/plain": [
              "<IPython.core.display.HTML object>"
            ],
            "text/html": [
              "\n",
              "     <input type=\"file\" id=\"files-f0580b32-06df-4493-87b3-bf3c76a31f6a\" name=\"files[]\" multiple disabled\n",
              "        style=\"border:none\" />\n",
              "     <output id=\"result-f0580b32-06df-4493-87b3-bf3c76a31f6a\">\n",
              "      Upload widget is only available when the cell has been executed in the\n",
              "      current browser session. Please rerun this cell to enable.\n",
              "      </output>\n",
              "      <script>// Copyright 2017 Google LLC\n",
              "//\n",
              "// Licensed under the Apache License, Version 2.0 (the \"License\");\n",
              "// you may not use this file except in compliance with the License.\n",
              "// You may obtain a copy of the License at\n",
              "//\n",
              "//      http://www.apache.org/licenses/LICENSE-2.0\n",
              "//\n",
              "// Unless required by applicable law or agreed to in writing, software\n",
              "// distributed under the License is distributed on an \"AS IS\" BASIS,\n",
              "// WITHOUT WARRANTIES OR CONDITIONS OF ANY KIND, either express or implied.\n",
              "// See the License for the specific language governing permissions and\n",
              "// limitations under the License.\n",
              "\n",
              "/**\n",
              " * @fileoverview Helpers for google.colab Python module.\n",
              " */\n",
              "(function(scope) {\n",
              "function span(text, styleAttributes = {}) {\n",
              "  const element = document.createElement('span');\n",
              "  element.textContent = text;\n",
              "  for (const key of Object.keys(styleAttributes)) {\n",
              "    element.style[key] = styleAttributes[key];\n",
              "  }\n",
              "  return element;\n",
              "}\n",
              "\n",
              "// Max number of bytes which will be uploaded at a time.\n",
              "const MAX_PAYLOAD_SIZE = 100 * 1024;\n",
              "\n",
              "function _uploadFiles(inputId, outputId) {\n",
              "  const steps = uploadFilesStep(inputId, outputId);\n",
              "  const outputElement = document.getElementById(outputId);\n",
              "  // Cache steps on the outputElement to make it available for the next call\n",
              "  // to uploadFilesContinue from Python.\n",
              "  outputElement.steps = steps;\n",
              "\n",
              "  return _uploadFilesContinue(outputId);\n",
              "}\n",
              "\n",
              "// This is roughly an async generator (not supported in the browser yet),\n",
              "// where there are multiple asynchronous steps and the Python side is going\n",
              "// to poll for completion of each step.\n",
              "// This uses a Promise to block the python side on completion of each step,\n",
              "// then passes the result of the previous step as the input to the next step.\n",
              "function _uploadFilesContinue(outputId) {\n",
              "  const outputElement = document.getElementById(outputId);\n",
              "  const steps = outputElement.steps;\n",
              "\n",
              "  const next = steps.next(outputElement.lastPromiseValue);\n",
              "  return Promise.resolve(next.value.promise).then((value) => {\n",
              "    // Cache the last promise value to make it available to the next\n",
              "    // step of the generator.\n",
              "    outputElement.lastPromiseValue = value;\n",
              "    return next.value.response;\n",
              "  });\n",
              "}\n",
              "\n",
              "/**\n",
              " * Generator function which is called between each async step of the upload\n",
              " * process.\n",
              " * @param {string} inputId Element ID of the input file picker element.\n",
              " * @param {string} outputId Element ID of the output display.\n",
              " * @return {!Iterable<!Object>} Iterable of next steps.\n",
              " */\n",
              "function* uploadFilesStep(inputId, outputId) {\n",
              "  const inputElement = document.getElementById(inputId);\n",
              "  inputElement.disabled = false;\n",
              "\n",
              "  const outputElement = document.getElementById(outputId);\n",
              "  outputElement.innerHTML = '';\n",
              "\n",
              "  const pickedPromise = new Promise((resolve) => {\n",
              "    inputElement.addEventListener('change', (e) => {\n",
              "      resolve(e.target.files);\n",
              "    });\n",
              "  });\n",
              "\n",
              "  const cancel = document.createElement('button');\n",
              "  inputElement.parentElement.appendChild(cancel);\n",
              "  cancel.textContent = 'Cancel upload';\n",
              "  const cancelPromise = new Promise((resolve) => {\n",
              "    cancel.onclick = () => {\n",
              "      resolve(null);\n",
              "    };\n",
              "  });\n",
              "\n",
              "  // Wait for the user to pick the files.\n",
              "  const files = yield {\n",
              "    promise: Promise.race([pickedPromise, cancelPromise]),\n",
              "    response: {\n",
              "      action: 'starting',\n",
              "    }\n",
              "  };\n",
              "\n",
              "  cancel.remove();\n",
              "\n",
              "  // Disable the input element since further picks are not allowed.\n",
              "  inputElement.disabled = true;\n",
              "\n",
              "  if (!files) {\n",
              "    return {\n",
              "      response: {\n",
              "        action: 'complete',\n",
              "      }\n",
              "    };\n",
              "  }\n",
              "\n",
              "  for (const file of files) {\n",
              "    const li = document.createElement('li');\n",
              "    li.append(span(file.name, {fontWeight: 'bold'}));\n",
              "    li.append(span(\n",
              "        `(${file.type || 'n/a'}) - ${file.size} bytes, ` +\n",
              "        `last modified: ${\n",
              "            file.lastModifiedDate ? file.lastModifiedDate.toLocaleDateString() :\n",
              "                                    'n/a'} - `));\n",
              "    const percent = span('0% done');\n",
              "    li.appendChild(percent);\n",
              "\n",
              "    outputElement.appendChild(li);\n",
              "\n",
              "    const fileDataPromise = new Promise((resolve) => {\n",
              "      const reader = new FileReader();\n",
              "      reader.onload = (e) => {\n",
              "        resolve(e.target.result);\n",
              "      };\n",
              "      reader.readAsArrayBuffer(file);\n",
              "    });\n",
              "    // Wait for the data to be ready.\n",
              "    let fileData = yield {\n",
              "      promise: fileDataPromise,\n",
              "      response: {\n",
              "        action: 'continue',\n",
              "      }\n",
              "    };\n",
              "\n",
              "    // Use a chunked sending to avoid message size limits. See b/62115660.\n",
              "    let position = 0;\n",
              "    do {\n",
              "      const length = Math.min(fileData.byteLength - position, MAX_PAYLOAD_SIZE);\n",
              "      const chunk = new Uint8Array(fileData, position, length);\n",
              "      position += length;\n",
              "\n",
              "      const base64 = btoa(String.fromCharCode.apply(null, chunk));\n",
              "      yield {\n",
              "        response: {\n",
              "          action: 'append',\n",
              "          file: file.name,\n",
              "          data: base64,\n",
              "        },\n",
              "      };\n",
              "\n",
              "      let percentDone = fileData.byteLength === 0 ?\n",
              "          100 :\n",
              "          Math.round((position / fileData.byteLength) * 100);\n",
              "      percent.textContent = `${percentDone}% done`;\n",
              "\n",
              "    } while (position < fileData.byteLength);\n",
              "  }\n",
              "\n",
              "  // All done.\n",
              "  yield {\n",
              "    response: {\n",
              "      action: 'complete',\n",
              "    }\n",
              "  };\n",
              "}\n",
              "\n",
              "scope.google = scope.google || {};\n",
              "scope.google.colab = scope.google.colab || {};\n",
              "scope.google.colab._files = {\n",
              "  _uploadFiles,\n",
              "  _uploadFilesContinue,\n",
              "};\n",
              "})(self);\n",
              "</script> "
            ]
          },
          "metadata": {}
        },
        {
          "output_type": "stream",
          "name": "stdout",
          "text": [
            "Saving fur_elise.mid to fur_elise (4).mid\n"
          ]
        }
      ]
    },
    {
      "cell_type": "code",
      "source": [
        "gen_system.generate_similar()"
      ],
      "metadata": {
        "colab": {
          "base_uri": "https://localhost:8080/",
          "height": 1000
        },
        "id": "Cv5xdS6CjGGA",
        "outputId": "6d0fc596-8ceb-46a2-f6b9-60cd6bfebcd5"
      },
      "execution_count": null,
      "outputs": [
        {
          "output_type": "stream",
          "name": "stdout",
          "text": [
            "Обработка файла номер 1\n"
          ]
        },
        {
          "output_type": "stream",
          "name": "stderr",
          "text": [
            "100%|██████████| 100/100 [09:36<00:00,  5.76s/it]\n"
          ]
        },
        {
          "output_type": "display_data",
          "data": {
            "text/plain": [
              "<IPython.core.display.HTML object>"
            ],
            "text/html": [
              "<div id=\"id_1\"> </div>"
            ]
          },
          "metadata": {}
        },
        {
          "output_type": "display_data",
          "data": {
            "application/javascript": [
              "(function(root) {\n",
              "  function now() {\n",
              "    return new Date();\n",
              "  }\n",
              "\n",
              "  const force = true;\n",
              "\n",
              "  if (typeof root._bokeh_onload_callbacks === \"undefined\" || force === true) {\n",
              "    root._bokeh_onload_callbacks = [];\n",
              "    root._bokeh_is_loading = undefined;\n",
              "  }\n",
              "\n",
              "const JS_MIME_TYPE = 'application/javascript';\n",
              "  const HTML_MIME_TYPE = 'text/html';\n",
              "  const EXEC_MIME_TYPE = 'application/vnd.bokehjs_exec.v0+json';\n",
              "  const CLASS_NAME = 'output_bokeh rendered_html';\n",
              "\n",
              "  /**\n",
              "   * Render data to the DOM node\n",
              "   */\n",
              "  function render(props, node) {\n",
              "    const script = document.createElement(\"script\");\n",
              "    node.appendChild(script);\n",
              "  }\n",
              "\n",
              "  /**\n",
              "   * Handle when an output is cleared or removed\n",
              "   */\n",
              "  function handleClearOutput(event, handle) {\n",
              "    const cell = handle.cell;\n",
              "\n",
              "    const id = cell.output_area._bokeh_element_id;\n",
              "    const server_id = cell.output_area._bokeh_server_id;\n",
              "    // Clean up Bokeh references\n",
              "    if (id != null && id in Bokeh.index) {\n",
              "      Bokeh.index[id].model.document.clear();\n",
              "      delete Bokeh.index[id];\n",
              "    }\n",
              "\n",
              "    if (server_id !== undefined) {\n",
              "      // Clean up Bokeh references\n",
              "      const cmd_clean = \"from bokeh.io.state import curstate; print(curstate().uuid_to_server['\" + server_id + \"'].get_sessions()[0].document.roots[0]._id)\";\n",
              "      cell.notebook.kernel.execute(cmd_clean, {\n",
              "        iopub: {\n",
              "          output: function(msg) {\n",
              "            const id = msg.content.text.trim();\n",
              "            if (id in Bokeh.index) {\n",
              "              Bokeh.index[id].model.document.clear();\n",
              "              delete Bokeh.index[id];\n",
              "            }\n",
              "          }\n",
              "        }\n",
              "      });\n",
              "      // Destroy server and session\n",
              "      const cmd_destroy = \"import bokeh.io.notebook as ion; ion.destroy_server('\" + server_id + \"')\";\n",
              "      cell.notebook.kernel.execute(cmd_destroy);\n",
              "    }\n",
              "  }\n",
              "\n",
              "  /**\n",
              "   * Handle when a new output is added\n",
              "   */\n",
              "  function handleAddOutput(event, handle) {\n",
              "    const output_area = handle.output_area;\n",
              "    const output = handle.output;\n",
              "\n",
              "    // limit handleAddOutput to display_data with EXEC_MIME_TYPE content only\n",
              "    if ((output.output_type != \"display_data\") || (!Object.prototype.hasOwnProperty.call(output.data, EXEC_MIME_TYPE))) {\n",
              "      return\n",
              "    }\n",
              "\n",
              "    const toinsert = output_area.element.find(\".\" + CLASS_NAME.split(' ')[0]);\n",
              "\n",
              "    if (output.metadata[EXEC_MIME_TYPE][\"id\"] !== undefined) {\n",
              "      toinsert[toinsert.length - 1].firstChild.textContent = output.data[JS_MIME_TYPE];\n",
              "      // store reference to embed id on output_area\n",
              "      output_area._bokeh_element_id = output.metadata[EXEC_MIME_TYPE][\"id\"];\n",
              "    }\n",
              "    if (output.metadata[EXEC_MIME_TYPE][\"server_id\"] !== undefined) {\n",
              "      const bk_div = document.createElement(\"div\");\n",
              "      bk_div.innerHTML = output.data[HTML_MIME_TYPE];\n",
              "      const script_attrs = bk_div.children[0].attributes;\n",
              "      for (let i = 0; i < script_attrs.length; i++) {\n",
              "        toinsert[toinsert.length - 1].firstChild.setAttribute(script_attrs[i].name, script_attrs[i].value);\n",
              "        toinsert[toinsert.length - 1].firstChild.textContent = bk_div.children[0].textContent\n",
              "      }\n",
              "      // store reference to server id on output_area\n",
              "      output_area._bokeh_server_id = output.metadata[EXEC_MIME_TYPE][\"server_id\"];\n",
              "    }\n",
              "  }\n",
              "\n",
              "  function register_renderer(events, OutputArea) {\n",
              "\n",
              "    function append_mime(data, metadata, element) {\n",
              "      // create a DOM node to render to\n",
              "      const toinsert = this.create_output_subarea(\n",
              "        metadata,\n",
              "        CLASS_NAME,\n",
              "        EXEC_MIME_TYPE\n",
              "      );\n",
              "      this.keyboard_manager.register_events(toinsert);\n",
              "      // Render to node\n",
              "      const props = {data: data, metadata: metadata[EXEC_MIME_TYPE]};\n",
              "      render(props, toinsert[toinsert.length - 1]);\n",
              "      element.append(toinsert);\n",
              "      return toinsert\n",
              "    }\n",
              "\n",
              "    /* Handle when an output is cleared or removed */\n",
              "    events.on('clear_output.CodeCell', handleClearOutput);\n",
              "    events.on('delete.Cell', handleClearOutput);\n",
              "\n",
              "    /* Handle when a new output is added */\n",
              "    events.on('output_added.OutputArea', handleAddOutput);\n",
              "\n",
              "    /**\n",
              "     * Register the mime type and append_mime function with output_area\n",
              "     */\n",
              "    OutputArea.prototype.register_mime_type(EXEC_MIME_TYPE, append_mime, {\n",
              "      /* Is output safe? */\n",
              "      safe: true,\n",
              "      /* Index of renderer in `output_area.display_order` */\n",
              "      index: 0\n",
              "    });\n",
              "  }\n",
              "\n",
              "  // register the mime type if in Jupyter Notebook environment and previously unregistered\n",
              "  if (root.Jupyter !== undefined) {\n",
              "    const events = require('base/js/events');\n",
              "    const OutputArea = require('notebook/js/outputarea').OutputArea;\n",
              "\n",
              "    if (OutputArea.prototype.mime_types().indexOf(EXEC_MIME_TYPE) == -1) {\n",
              "      register_renderer(events, OutputArea);\n",
              "    }\n",
              "  }\n",
              "  if (typeof (root._bokeh_timeout) === \"undefined\" || force === true) {\n",
              "    root._bokeh_timeout = Date.now() + 5000;\n",
              "    root._bokeh_failed_load = false;\n",
              "  }\n",
              "\n",
              "  const NB_LOAD_WARNING = {'data': {'text/html':\n",
              "     \"<div style='background-color: #fdd'>\\n\"+\n",
              "     \"<p>\\n\"+\n",
              "     \"BokehJS does not appear to have successfully loaded. If loading BokehJS from CDN, this \\n\"+\n",
              "     \"may be due to a slow or bad network connection. Possible fixes:\\n\"+\n",
              "     \"</p>\\n\"+\n",
              "     \"<ul>\\n\"+\n",
              "     \"<li>re-rerun `output_notebook()` to attempt to load from CDN again, or</li>\\n\"+\n",
              "     \"<li>use INLINE resources instead, as so:</li>\\n\"+\n",
              "     \"</ul>\\n\"+\n",
              "     \"<code>\\n\"+\n",
              "     \"from bokeh.resources import INLINE\\n\"+\n",
              "     \"output_notebook(resources=INLINE)\\n\"+\n",
              "     \"</code>\\n\"+\n",
              "     \"</div>\"}};\n",
              "\n",
              "  function display_loaded() {\n",
              "    const el = document.getElementById(null);\n",
              "    if (el != null) {\n",
              "      el.textContent = \"BokehJS is loading...\";\n",
              "    }\n",
              "    if (root.Bokeh !== undefined) {\n",
              "      if (el != null) {\n",
              "        el.textContent = \"BokehJS \" + root.Bokeh.version + \" successfully loaded.\";\n",
              "      }\n",
              "    } else if (Date.now() < root._bokeh_timeout) {\n",
              "      setTimeout(display_loaded, 100)\n",
              "    }\n",
              "  }\n",
              "\n",
              "  function run_callbacks() {\n",
              "    try {\n",
              "      root._bokeh_onload_callbacks.forEach(function(callback) {\n",
              "        if (callback != null)\n",
              "          callback();\n",
              "      });\n",
              "    } finally {\n",
              "      delete root._bokeh_onload_callbacks\n",
              "    }\n",
              "    console.debug(\"Bokeh: all callbacks have finished\");\n",
              "  }\n",
              "\n",
              "  function load_libs(css_urls, js_urls, callback) {\n",
              "    if (css_urls == null) css_urls = [];\n",
              "    if (js_urls == null) js_urls = [];\n",
              "\n",
              "    root._bokeh_onload_callbacks.push(callback);\n",
              "    if (root._bokeh_is_loading > 0) {\n",
              "      console.debug(\"Bokeh: BokehJS is being loaded, scheduling callback at\", now());\n",
              "      return null;\n",
              "    }\n",
              "    if (js_urls == null || js_urls.length === 0) {\n",
              "      run_callbacks();\n",
              "      return null;\n",
              "    }\n",
              "    console.debug(\"Bokeh: BokehJS not loaded, scheduling load and callback at\", now());\n",
              "    root._bokeh_is_loading = css_urls.length + js_urls.length;\n",
              "\n",
              "    function on_load() {\n",
              "      root._bokeh_is_loading--;\n",
              "      if (root._bokeh_is_loading === 0) {\n",
              "        console.debug(\"Bokeh: all BokehJS libraries/stylesheets loaded\");\n",
              "        run_callbacks()\n",
              "      }\n",
              "    }\n",
              "\n",
              "    function on_error(url) {\n",
              "      console.error(\"failed to load \" + url);\n",
              "    }\n",
              "\n",
              "    for (let i = 0; i < css_urls.length; i++) {\n",
              "      const url = css_urls[i];\n",
              "      const element = document.createElement(\"link\");\n",
              "      element.onload = on_load;\n",
              "      element.onerror = on_error.bind(null, url);\n",
              "      element.rel = \"stylesheet\";\n",
              "      element.type = \"text/css\";\n",
              "      element.href = url;\n",
              "      console.debug(\"Bokeh: injecting link tag for BokehJS stylesheet: \", url);\n",
              "      document.body.appendChild(element);\n",
              "    }\n",
              "\n",
              "    for (let i = 0; i < js_urls.length; i++) {\n",
              "      const url = js_urls[i];\n",
              "      const element = document.createElement('script');\n",
              "      element.onload = on_load;\n",
              "      element.onerror = on_error.bind(null, url);\n",
              "      element.async = false;\n",
              "      element.src = url;\n",
              "      console.debug(\"Bokeh: injecting script tag for BokehJS library: \", url);\n",
              "      document.head.appendChild(element);\n",
              "    }\n",
              "  };\n",
              "\n",
              "  function inject_raw_css(css) {\n",
              "    const element = document.createElement(\"style\");\n",
              "    element.appendChild(document.createTextNode(css));\n",
              "    document.body.appendChild(element);\n",
              "  }\n",
              "\n",
              "  const js_urls = [\"https://cdn.bokeh.org/bokeh/release/bokeh-2.4.3.min.js\", \"https://cdn.bokeh.org/bokeh/release/bokeh-gl-2.4.3.min.js\", \"https://cdn.bokeh.org/bokeh/release/bokeh-widgets-2.4.3.min.js\", \"https://cdn.bokeh.org/bokeh/release/bokeh-tables-2.4.3.min.js\", \"https://cdn.bokeh.org/bokeh/release/bokeh-mathjax-2.4.3.min.js\"];\n",
              "  const css_urls = [];\n",
              "\n",
              "  const inline_js = [    function(Bokeh) {\n",
              "      Bokeh.set_log_level(\"info\");\n",
              "    },\n",
              "function(Bokeh) {\n",
              "    }\n",
              "  ];\n",
              "\n",
              "  function run_inline_js() {\n",
              "    if (root.Bokeh !== undefined || force === true) {\n",
              "          for (let i = 0; i < inline_js.length; i++) {\n",
              "      inline_js[i].call(root, root.Bokeh);\n",
              "    }\n",
              "} else if (Date.now() < root._bokeh_timeout) {\n",
              "      setTimeout(run_inline_js, 100);\n",
              "    } else if (!root._bokeh_failed_load) {\n",
              "      console.log(\"Bokeh: BokehJS failed to load within specified timeout.\");\n",
              "      root._bokeh_failed_load = true;\n",
              "    } else if (force !== true) {\n",
              "      const cell = $(document.getElementById(null)).parents('.cell').data().cell;\n",
              "      cell.output_area.append_execute_result(NB_LOAD_WARNING)\n",
              "    }\n",
              "  }\n",
              "\n",
              "  if (root._bokeh_is_loading === 0) {\n",
              "    console.debug(\"Bokeh: BokehJS loaded, going straight to plotting\");\n",
              "    run_inline_js();\n",
              "  } else {\n",
              "    load_libs(css_urls, js_urls, function() {\n",
              "      console.debug(\"Bokeh: BokehJS plotting callback run at\", now());\n",
              "      run_inline_js();\n",
              "    });\n",
              "  }\n",
              "}(window));"
            ],
            "application/vnd.bokehjs_load.v0+json": "(function(root) {\n  function now() {\n    return new Date();\n  }\n\n  const force = true;\n\n  if (typeof root._bokeh_onload_callbacks === \"undefined\" || force === true) {\n    root._bokeh_onload_callbacks = [];\n    root._bokeh_is_loading = undefined;\n  }\n\n\n  if (typeof (root._bokeh_timeout) === \"undefined\" || force === true) {\n    root._bokeh_timeout = Date.now() + 5000;\n    root._bokeh_failed_load = false;\n  }\n\n  const NB_LOAD_WARNING = {'data': {'text/html':\n     \"<div style='background-color: #fdd'>\\n\"+\n     \"<p>\\n\"+\n     \"BokehJS does not appear to have successfully loaded. If loading BokehJS from CDN, this \\n\"+\n     \"may be due to a slow or bad network connection. Possible fixes:\\n\"+\n     \"</p>\\n\"+\n     \"<ul>\\n\"+\n     \"<li>re-rerun `output_notebook()` to attempt to load from CDN again, or</li>\\n\"+\n     \"<li>use INLINE resources instead, as so:</li>\\n\"+\n     \"</ul>\\n\"+\n     \"<code>\\n\"+\n     \"from bokeh.resources import INLINE\\n\"+\n     \"output_notebook(resources=INLINE)\\n\"+\n     \"</code>\\n\"+\n     \"</div>\"}};\n\n  function display_loaded() {\n    const el = document.getElementById(null);\n    if (el != null) {\n      el.textContent = \"BokehJS is loading...\";\n    }\n    if (root.Bokeh !== undefined) {\n      if (el != null) {\n        el.textContent = \"BokehJS \" + root.Bokeh.version + \" successfully loaded.\";\n      }\n    } else if (Date.now() < root._bokeh_timeout) {\n      setTimeout(display_loaded, 100)\n    }\n  }\n\n  function run_callbacks() {\n    try {\n      root._bokeh_onload_callbacks.forEach(function(callback) {\n        if (callback != null)\n          callback();\n      });\n    } finally {\n      delete root._bokeh_onload_callbacks\n    }\n    console.debug(\"Bokeh: all callbacks have finished\");\n  }\n\n  function load_libs(css_urls, js_urls, callback) {\n    if (css_urls == null) css_urls = [];\n    if (js_urls == null) js_urls = [];\n\n    root._bokeh_onload_callbacks.push(callback);\n    if (root._bokeh_is_loading > 0) {\n      console.debug(\"Bokeh: BokehJS is being loaded, scheduling callback at\", now());\n      return null;\n    }\n    if (js_urls == null || js_urls.length === 0) {\n      run_callbacks();\n      return null;\n    }\n    console.debug(\"Bokeh: BokehJS not loaded, scheduling load and callback at\", now());\n    root._bokeh_is_loading = css_urls.length + js_urls.length;\n\n    function on_load() {\n      root._bokeh_is_loading--;\n      if (root._bokeh_is_loading === 0) {\n        console.debug(\"Bokeh: all BokehJS libraries/stylesheets loaded\");\n        run_callbacks()\n      }\n    }\n\n    function on_error(url) {\n      console.error(\"failed to load \" + url);\n    }\n\n    for (let i = 0; i < css_urls.length; i++) {\n      const url = css_urls[i];\n      const element = document.createElement(\"link\");\n      element.onload = on_load;\n      element.onerror = on_error.bind(null, url);\n      element.rel = \"stylesheet\";\n      element.type = \"text/css\";\n      element.href = url;\n      console.debug(\"Bokeh: injecting link tag for BokehJS stylesheet: \", url);\n      document.body.appendChild(element);\n    }\n\n    for (let i = 0; i < js_urls.length; i++) {\n      const url = js_urls[i];\n      const element = document.createElement('script');\n      element.onload = on_load;\n      element.onerror = on_error.bind(null, url);\n      element.async = false;\n      element.src = url;\n      console.debug(\"Bokeh: injecting script tag for BokehJS library: \", url);\n      document.head.appendChild(element);\n    }\n  };\n\n  function inject_raw_css(css) {\n    const element = document.createElement(\"style\");\n    element.appendChild(document.createTextNode(css));\n    document.body.appendChild(element);\n  }\n\n  const js_urls = [\"https://cdn.bokeh.org/bokeh/release/bokeh-2.4.3.min.js\", \"https://cdn.bokeh.org/bokeh/release/bokeh-gl-2.4.3.min.js\", \"https://cdn.bokeh.org/bokeh/release/bokeh-widgets-2.4.3.min.js\", \"https://cdn.bokeh.org/bokeh/release/bokeh-tables-2.4.3.min.js\", \"https://cdn.bokeh.org/bokeh/release/bokeh-mathjax-2.4.3.min.js\"];\n  const css_urls = [];\n\n  const inline_js = [    function(Bokeh) {\n      Bokeh.set_log_level(\"info\");\n    },\nfunction(Bokeh) {\n    }\n  ];\n\n  function run_inline_js() {\n    if (root.Bokeh !== undefined || force === true) {\n          for (let i = 0; i < inline_js.length; i++) {\n      inline_js[i].call(root, root.Bokeh);\n    }\n} else if (Date.now() < root._bokeh_timeout) {\n      setTimeout(run_inline_js, 100);\n    } else if (!root._bokeh_failed_load) {\n      console.log(\"Bokeh: BokehJS failed to load within specified timeout.\");\n      root._bokeh_failed_load = true;\n    } else if (force !== true) {\n      const cell = $(document.getElementById(null)).parents('.cell').data().cell;\n      cell.output_area.append_execute_result(NB_LOAD_WARNING)\n    }\n  }\n\n  if (root._bokeh_is_loading === 0) {\n    console.debug(\"Bokeh: BokehJS loaded, going straight to plotting\");\n    run_inline_js();\n  } else {\n    load_libs(css_urls, js_urls, function() {\n      console.debug(\"Bokeh: BokehJS plotting callback run at\", now());\n      run_inline_js();\n    });\n  }\n}(window));"
          },
          "metadata": {}
        },
        {
          "output_type": "display_data",
          "data": {
            "text/html": [
              "\n",
              "  <div class=\"bk-root\" id=\"f92730b1-1c81-4912-86e4-2e1f6cc29afe\" data-root-id=\"1002\"></div>\n"
            ]
          },
          "metadata": {}
        },
        {
          "output_type": "display_data",
          "data": {
            "application/javascript": [
              "(function(root) {\n",
              "  function embed_document(root) {\n",
              "  const docs_json = {\"52d9fb7c-aa82-4fe4-82df-42d816c673b2\":{\"defs\":[],\"roots\":{\"references\":[{\"attributes\":{\"below\":[{\"id\":\"1011\"}],\"center\":[{\"id\":\"1014\"},{\"id\":\"1018\"}],\"height\":200,\"left\":[{\"id\":\"1015\"}],\"renderers\":[{\"id\":\"1039\"}],\"title\":{\"id\":\"1041\"},\"toolbar\":{\"id\":\"1025\"},\"width\":500,\"x_range\":{\"id\":\"1003\"},\"x_scale\":{\"id\":\"1007\"},\"y_range\":{\"id\":\"1005\"},\"y_scale\":{\"id\":\"1009\"}},\"id\":\"1002\",\"subtype\":\"Figure\",\"type\":\"Plot\"},{\"attributes\":{\"bottom\":{\"field\":\"bottom\"},\"fill_alpha\":{\"field\":\"fill_alpha\"},\"fill_color\":{\"value\":\"#d53e4f\"},\"left\":{\"field\":\"start_time\"},\"right\":{\"field\":\"end_time\"},\"top\":{\"field\":\"top\"}},\"id\":\"1036\",\"type\":\"Quad\"},{\"attributes\":{\"axis_label\":\"pitch (MIDI)\",\"coordinates\":null,\"formatter\":{\"id\":\"1043\"},\"group\":null,\"major_label_policy\":{\"id\":\"1044\"},\"ticker\":{\"id\":\"1031\"}},\"id\":\"1015\",\"type\":\"LinearAxis\"},{\"attributes\":{},\"id\":\"1046\",\"type\":\"BasicTickFormatter\"},{\"attributes\":{},\"id\":\"1005\",\"type\":\"DataRange1d\"},{\"attributes\":{\"bottom_units\":\"screen\",\"coordinates\":null,\"fill_alpha\":0.5,\"fill_color\":\"lightgrey\",\"group\":null,\"left_units\":\"screen\",\"level\":\"overlay\",\"line_alpha\":1.0,\"line_color\":\"black\",\"line_dash\":[4,4],\"line_width\":2,\"right_units\":\"screen\",\"syncable\":false,\"top_units\":\"screen\"},\"id\":\"1024\",\"type\":\"BoxAnnotation\"},{\"attributes\":{},\"id\":\"1043\",\"type\":\"BasicTickFormatter\"},{\"attributes\":{},\"id\":\"1009\",\"type\":\"LinearScale\"},{\"attributes\":{},\"id\":\"1047\",\"type\":\"AllLabels\"},{\"attributes\":{\"callback\":null,\"tooltips\":[[\"pitch\",\"@pitch\"],[\"program\",\"@program\"],[\"velo\",\"@velocity\"],[\"duration\",\"@duration\"],[\"start_time\",\"@start_time\"],[\"end_time\",\"@end_time\"],[\"velocity\",\"@velocity\"],[\"fill_alpha\",\"@fill_alpha\"]]},\"id\":\"1019\",\"type\":\"HoverTool\"},{\"attributes\":{},\"id\":\"1022\",\"type\":\"ResetTool\"},{\"attributes\":{\"interval\":12},\"id\":\"1031\",\"type\":\"SingleIntervalTicker\"},{\"attributes\":{\"bottom\":{\"field\":\"bottom\"},\"fill_alpha\":{\"value\":0.1},\"fill_color\":{\"value\":\"#d53e4f\"},\"hatch_alpha\":{\"value\":0.1},\"left\":{\"field\":\"start_time\"},\"line_alpha\":{\"value\":0.1},\"right\":{\"field\":\"end_time\"},\"top\":{\"field\":\"top\"}},\"id\":\"1037\",\"type\":\"Quad\"},{\"attributes\":{\"tools\":[{\"id\":\"1019\"},{\"id\":\"1020\"},{\"id\":\"1021\"},{\"id\":\"1022\"},{\"id\":\"1023\"}]},\"id\":\"1025\",\"type\":\"Toolbar\"},{\"attributes\":{\"interval\":12},\"id\":\"1033\",\"type\":\"SingleIntervalTicker\"},{\"attributes\":{\"axis\":{\"id\":\"1015\"},\"coordinates\":null,\"dimension\":1,\"group\":null,\"ticker\":{\"id\":\"1033\"}},\"id\":\"1018\",\"type\":\"Grid\"},{\"attributes\":{\"source\":{\"id\":\"1034\"}},\"id\":\"1040\",\"type\":\"CDSView\"},{\"attributes\":{},\"id\":\"1012\",\"type\":\"BasicTicker\"},{\"attributes\":{\"overlay\":{\"id\":\"1024\"}},\"id\":\"1021\",\"type\":\"BoxZoomTool\"},{\"attributes\":{},\"id\":\"1020\",\"type\":\"PanTool\"},{\"attributes\":{\"coordinates\":null,\"data_source\":{\"id\":\"1034\"},\"glyph\":{\"id\":\"1036\"},\"group\":null,\"hover_glyph\":null,\"muted_glyph\":{\"id\":\"1038\"},\"nonselection_glyph\":{\"id\":\"1037\"},\"view\":{\"id\":\"1040\"}},\"id\":\"1039\",\"type\":\"GlyphRenderer\"},{\"attributes\":{\"axis\":{\"id\":\"1011\"},\"coordinates\":null,\"group\":null,\"ticker\":null},\"id\":\"1014\",\"type\":\"Grid\"},{\"attributes\":{},\"id\":\"1003\",\"type\":\"DataRange1d\"},{\"attributes\":{},\"id\":\"1007\",\"type\":\"LinearScale\"},{\"attributes\":{\"bottom\":{\"field\":\"bottom\"},\"fill_alpha\":{\"value\":0.2},\"fill_color\":{\"value\":\"#d53e4f\"},\"hatch_alpha\":{\"value\":0.2},\"left\":{\"field\":\"start_time\"},\"line_alpha\":{\"value\":0.2},\"right\":{\"field\":\"end_time\"},\"top\":{\"field\":\"top\"}},\"id\":\"1038\",\"type\":\"Quad\"},{\"attributes\":{},\"id\":\"1023\",\"type\":\"SaveTool\"},{\"attributes\":{},\"id\":\"1049\",\"type\":\"Selection\"},{\"attributes\":{},\"id\":\"1048\",\"type\":\"UnionRenderers\"},{\"attributes\":{\"coordinates\":null,\"group\":null},\"id\":\"1041\",\"type\":\"Title\"},{\"attributes\":{},\"id\":\"1044\",\"type\":\"AllLabels\"},{\"attributes\":{\"axis_label\":\"time (sec)\",\"coordinates\":null,\"formatter\":{\"id\":\"1046\"},\"group\":null,\"major_label_policy\":{\"id\":\"1047\"},\"ticker\":{\"id\":\"1012\"}},\"id\":\"1011\",\"type\":\"LinearAxis\"},{\"attributes\":{\"data\":{\"bottom\":{\"__ndarray__\":\"ZmZmZmbmUkBmZmZmZqZSQGZmZmZm5lJAZmZmZmamUkBmZmZmZuZSQGZmZmZmplFAZmZmZmZmUkBmZmZmZuZRQM3MzMzMTEZAzczMzMzMSUDNzMzMzExMQM3MzMzMzE1AZmZmZmYmUUDNzMzMzMxPQM3MzMzMTEZAZmZmZmbmUEDNzMzMzExGQM3MzMzMzElAzczMzMxMTEDNzMzMzMxPQGZmZmZmJlFAZmZmZmbmUEDNzMzMzExGQGZmZmZmJlFAzczMzMzMS0BmZmZmZqZRQM3MzMzMzElAZmZmZmbmUEDNzMzMzMxPQM3MzMzMzENAZmZmZmamUUDNzMzMzMxJQM3MzMzMTExAZmZmZmbmUUDNzMzMzMxPQGZmZmZm5lJAZmZmZmamUkBmZmZmZuZSQGZmZmZmplJAZmZmZmbmUkBmZmZmZqZRQGZmZmZmZlJAzczMzMxMRkBmZmZmZuZRQM3MzMzMzElAzczMzMxMTEDNzMzMzMxNQGZmZmZmJlFAzczMzMzMT0DNzMzMzExGQGZmZmZm5lBAzczMzMzMSUBmZmZmZiZRQM3MzMzMzE9AZmZmZmbmUUDNzMzMzExGQM3MzMzMTExAZmZmZmamUUDNzMzMzExGQM3MzMzMzElAzczMzMxMTEDNzMzMzMxOQGZmZmZmJlFAZmZmZmYmUEBmZmZmZiZRQM3MzMzMzElAzczMzMzMS0BmZmZmZqZRQM3MzMzMzE9AZmZmZmZmUkDNzMzMzMxDQGZmZmZm5lFAzczMzMzMSUBmZmZmZqZRQM3MzMzMTExAzczMzMzMT0BmZmZmZuZSQGZmZmZmplJAZmZmZmbmUkBmZmZmZqZSQGZmZmZm5lJAZmZmZmamUUBmZmZmZmZSQM3MzMzMTEZAZmZmZmbmUUDNzMzMzMxJQM3MzMzMTExAzczMzMzMTUBmZmZmZiZRQM3MzMzMzE9AzczMzMxMRkBmZmZmZuZQQM3MzMzMzElAzczMzMxMTEDNzMzMzMxPQGZmZmZmJlFAZmZmZmbmUEDNzMzMzExGQGZmZmZmJlFAzczMzMzMS0BmZmZmZqZRQM3MzMzMzElAzczMzMzMT0BmZmZmZuZQQM3MzMzMzENAZmZmZmamUUDNzMzMzMxJQM3MzMzMTExAZmZmZmbmUUDNzMzMzMxPQGZmZmZm5lJAZmZmZmamUkBmZmZmZuZSQGZmZmZmplJAZmZmZmbmUkBmZmZmZqZRQGZmZmZmZlJAzczMzMxMRkBmZmZmZuZRQM3MzMzMzElAzczMzMxMTEDNzMzMzMxNQGZmZmZmJlFAzczMzMzMT0DNzMzMzExGQGZmZmZm5lBAzczMzMxMRkDNzMzMzMxJQM3MzMzMzE9AZmZmZmYmUUBmZmZmZuZRQM3MzMzMTExAzczMzMxMRkBmZmZmZqZRQM3MzMzMTEZAzczMzMzMSUDNzMzMzExMQGZmZmZmJlFAzczMzMzMTkBmZmZmZiZQQGZmZmZmJlFAzczMzMzMSUDNzMzMzMxLQGZmZmZmplFAzczMzMzMT0BmZmZmZmZSQM3MzMzMzENAZmZmZmbmUUDNzMzMzMxJQGZmZmZmplFAzczMzMxMTEDNzMzMzMxPQGZmZmZm5lJAZmZmZmamUkBmZmZmZuZSQGZmZmZmplJAZmZmZmbmUkBmZmZmZqZRQGZmZmZmZlJAzczMzMxMRkBmZmZmZuZRQM3MzMzMTEZAzczMzMzMSUDNzMzMzExMQM3MzMzMzE1AzczMzMzMT0BmZmZmZiZRQM3MzMzMTEZAZmZmZmbmUEDNzMzMzExGQM3MzMzMzElAzczMzMxMTEDNzMzMzMxPQGZmZmZmJlFAZmZmZmbmUEDNzMzMzExGQGZmZmZmJlFAzczMzMzMSUDNzMzMzMxLQGZmZmZmplFAzczMzMzMT0BmZmZmZuZQQM3MzMzMzENAZmZmZmamUUDNzMzMzMxJQM3MzMzMTExAZmZmZmbmUUDNzMzMzMxPQGZmZmZm5lJAZmZmZmamUkBmZmZmZuZSQGZmZmZmplJAZmZmZmbmUkDNzMzMzExGQGZmZmZmplFAZmZmZmZmUkBmZmZmZuZRQM3MzMzMTEZAzczMzMzMSUDNzMzMzExMQM3MzMzMzE1AZmZmZmYmUUDNzMzMzMxPQM3MzMzMTEZAZmZmZmbmUEA=\",\"dtype\":\"float64\",\"order\":\"little\",\"shape\":[205]},\"duration\":{\"__ndarray__\":\"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\",\"dtype\":\"float64\",\"order\":\"little\",\"shape\":[205]},\"end_time\":{\"__ndarray__\":\"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\",\"dtype\":\"float64\",\"order\":\"little\",\"shape\":[205]},\"fill_alpha\":{\"__ndarray__\":\"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\",\"dtype\":\"float64\",\"order\":\"little\",\"shape\":[205]},\"index\":[0,1,2,3,4,5,6,7,8,9,10,11,12,13,14,15,16,17,18,19,20,21,22,23,24,25,26,27,28,29,30,31,32,33,34,35,36,37,38,39,40,41,42,43,44,45,46,47,48,49,50,51,52,53,54,55,56,57,58,59,60,61,62,63,64,65,66,67,68,69,70,71,72,73,74,75,76,77,78,79,80,81,82,83,84,85,86,87,88,89,90,91,92,93,94,95,96,97,98,99,100,101,102,103,104,105,106,107,108,109,110,111,112,113,114,115,116,117,118,119,120,121,122,123,124,125,126,127,128,129,130,131,132,133,134,135,136,137,138,139,140,141,142,143,144,145,146,147,148,149,150,151,152,153,154,155,156,157,158,159,160,161,162,163,164,165,166,167,168,169,170,171,172,173,174,175,176,177,178,179,180,181,182,183,184,185,186,187,188,189,190,191,192,193,194,195,196,197,198,199,200,201,202,203,204],\"instrument\":[0,0,0,0,0,0,0,0,0,0,0,0,0,0,0,0,0,0,0,0,0,0,0,0,0,0,0,0,0,0,0,0,0,0,0,0,0,0,0,0,0,0,0,0,0,0,0,0,0,0,0,0,0,0,0,0,0,0,0,0,0,0,0,0,0,0,0,0,0,0,0,0,0,0,0,0,0,0,0,0,0,0,0,0,0,0,0,0,0,0,0,0,0,0,0,0,0,0,0,0,0,0,0,0,0,0,0,0,0,0,0,0,0,0,0,0,0,0,0,0,0,0,0,0,0,0,0,0,0,0,0,0,0,0,0,0,0,0,0,0,0,0,0,0,0,0,0,0,0,0,0,0,0,0,0,0,0,0,0,0,0,0,0,0,0,0,0,0,0,0,0,0,0,0,0,0,0,0,0,0,0,0,0,0,0,0,0,0,0,0,0,0,0,0,0,0,0,0,0,0,0,0,0,0,0],\"pitch\":[76,75,76,75,76,71,74,72,45,52,57,60,69,64,45,68,45,52,57,64,69,68,45,69,56,71,52,68,64,40,71,52,57,72,64,76,75,76,75,76,71,74,45,72,52,57,60,69,64,45,68,52,69,64,72,45,57,71,45,52,57,62,69,65,69,52,56,71,64,74,40,72,52,71,57,64,76,75,76,75,76,71,74,45,72,52,57,60,69,64,45,68,52,57,64,69,68,45,69,56,71,52,64,68,40,71,52,57,72,64,76,75,76,75,76,71,74,45,72,52,57,60,69,64,45,68,45,52,64,69,72,57,45,71,45,52,57,69,62,65,69,52,56,71,64,74,40,72,52,71,57,64,76,75,76,75,76,71,74,45,72,45,52,57,60,64,69,45,68,45,52,57,64,69,68,45,69,52,56,71,64,68,40,71,52,57,72,64,76,75,76,75,76,45,71,74,72,45,52,57,60,69,64,45,68],\"program\":[0,0,0,0,0,0,0,0,0,0,0,0,0,0,0,0,0,0,0,0,0,0,0,0,0,0,0,0,0,0,0,0,0,0,0,0,0,0,0,0,0,0,0,0,0,0,0,0,0,0,0,0,0,0,0,0,0,0,0,0,0,0,0,0,0,0,0,0,0,0,0,0,0,0,0,0,0,0,0,0,0,0,0,0,0,0,0,0,0,0,0,0,0,0,0,0,0,0,0,0,0,0,0,0,0,0,0,0,0,0,0,0,0,0,0,0,0,0,0,0,0,0,0,0,0,0,0,0,0,0,0,0,0,0,0,0,0,0,0,0,0,0,0,0,0,0,0,0,0,0,0,0,0,0,0,0,0,0,0,0,0,0,0,0,0,0,0,0,0,0,0,0,0,0,0,0,0,0,0,0,0,0,0,0,0,0,0,0,0,0,0,0,0,0,0,0,0,0,0,0,0,0,0,0,0],\"start_time\":{\"__ndarray__\":\"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\",\"dtype\":\"float64\",\"order\":\"little\",\"shape\":[205]},\"top\":{\"__ndarray__\":\"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\",\"dtype\":\"float64\",\"order\":\"little\",\"shape\":[205]},\"velocity\":[117,117,117,117,117,117,97,97,85,85,93,105,89,101,85,105,93,85,93,101,101,97,85,101,93,93,81,97,101,93,97,85,97,93,101,97,105,101,101,97,101,97,89,97,85,97,105,89,101,89,105,85,97,101,101,93,97,101,93,85,97,97,101,101,101,81,93,93,101,97,93,97,81,97,93,101,101,105,97,101,97,97,97,93,97,85,93,105,101,101,89,105,85,97,101,101,97,93,101,93,93,85,101,97,93,97,85,97,93,101,97,101,97,101,97,97,97,89,97,85,93,105,101,101,89,97,89,85,101,101,101,97,89,101,93,85,97,97,101,101,101,81,93,97,101,97,93,97,81,97,93,101,97,101,97,101,97,97,97,93,97,89,85,97,105,97,89,85,97,89,85,97,101,97,97,89,101,81,93,93,101,97,93,97,85,93,97,101,97,101,97,101,97,89,101,97,101,89,85,93,105,101,101,85,101]},\"selected\":{\"id\":\"1049\"},\"selection_policy\":{\"id\":\"1048\"}},\"id\":\"1034\",\"type\":\"ColumnDataSource\"}],\"root_ids\":[\"1002\"]},\"title\":\"Bokeh Application\",\"version\":\"2.4.3\"}};\n",
              "  const render_items = [{\"docid\":\"52d9fb7c-aa82-4fe4-82df-42d816c673b2\",\"root_ids\":[\"1002\"],\"roots\":{\"1002\":\"f92730b1-1c81-4912-86e4-2e1f6cc29afe\"}}];\n",
              "  root.Bokeh.embed.embed_items_notebook(docs_json, render_items);\n",
              "  }\n",
              "  if (root.Bokeh !== undefined) {\n",
              "    embed_document(root);\n",
              "  } else {\n",
              "    let attempts = 0;\n",
              "    const timer = setInterval(function(root) {\n",
              "      if (root.Bokeh !== undefined) {\n",
              "        clearInterval(timer);\n",
              "        embed_document(root);\n",
              "      } else {\n",
              "        attempts++;\n",
              "        if (attempts > 100) {\n",
              "          clearInterval(timer);\n",
              "          console.log(\"Bokeh: ERROR: Unable to run BokehJS code because BokehJS library is missing\");\n",
              "        }\n",
              "      }\n",
              "    }, 10, root)\n",
              "  }\n",
              "})(window);"
            ],
            "application/vnd.bokehjs_exec.v0+json": ""
          },
          "metadata": {
            "application/vnd.bokehjs_exec.v0+json": {
              "id": "1002"
            }
          }
        },
        {
          "output_type": "stream",
          "name": "stdout",
          "text": [
            "Сэмпл сохранён в файл \"sample_0_0.mid\"\n"
          ]
        },
        {
          "output_type": "display_data",
          "data": {
            "text/plain": [
              "<IPython.core.display.HTML object>"
            ],
            "text/html": [
              "<div id=\"id_2\"> </div>"
            ]
          },
          "metadata": {}
        },
        {
          "output_type": "display_data",
          "data": {
            "text/html": [
              "\n",
              "  <div class=\"bk-root\" id=\"a145d032-497c-4ee0-bb97-784c15b0d929\" data-root-id=\"1111\"></div>\n"
            ]
          },
          "metadata": {}
        },
        {
          "output_type": "display_data",
          "data": {
            "application/javascript": [
              "(function(root) {\n",
              "  function embed_document(root) {\n",
              "  const docs_json = {\"bda53736-9e6c-4169-ac61-556ee080f0df\":{\"defs\":[],\"roots\":{\"references\":[{\"attributes\":{\"below\":[{\"id\":\"1120\"}],\"center\":[{\"id\":\"1123\"},{\"id\":\"1127\"}],\"height\":200,\"left\":[{\"id\":\"1124\"}],\"renderers\":[{\"id\":\"1148\"}],\"title\":{\"id\":\"1150\"},\"toolbar\":{\"id\":\"1134\"},\"width\":500,\"x_range\":{\"id\":\"1112\"},\"x_scale\":{\"id\":\"1116\"},\"y_range\":{\"id\":\"1114\"},\"y_scale\":{\"id\":\"1118\"}},\"id\":\"1111\",\"subtype\":\"Figure\",\"type\":\"Plot\"},{\"attributes\":{},\"id\":\"1114\",\"type\":\"DataRange1d\"},{\"attributes\":{\"coordinates\":null,\"group\":null},\"id\":\"1150\",\"type\":\"Title\"},{\"attributes\":{\"coordinates\":null,\"data_source\":{\"id\":\"1143\"},\"glyph\":{\"id\":\"1145\"},\"group\":null,\"hover_glyph\":null,\"muted_glyph\":{\"id\":\"1147\"},\"nonselection_glyph\":{\"id\":\"1146\"},\"view\":{\"id\":\"1149\"}},\"id\":\"1148\",\"type\":\"GlyphRenderer\"},{\"attributes\":{\"overlay\":{\"id\":\"1133\"}},\"id\":\"1130\",\"type\":\"BoxZoomTool\"},{\"attributes\":{\"bottom\":{\"field\":\"bottom\"},\"fill_alpha\":{\"value\":0.2},\"fill_color\":{\"value\":\"#d53e4f\"},\"hatch_alpha\":{\"value\":0.2},\"left\":{\"field\":\"start_time\"},\"line_alpha\":{\"value\":0.2},\"right\":{\"field\":\"end_time\"},\"top\":{\"field\":\"top\"}},\"id\":\"1147\",\"type\":\"Quad\"},{\"attributes\":{\"source\":{\"id\":\"1143\"}},\"id\":\"1149\",\"type\":\"CDSView\"},{\"attributes\":{},\"id\":\"1121\",\"type\":\"BasicTicker\"},{\"attributes\":{\"axis\":{\"id\":\"1124\"},\"coordinates\":null,\"dimension\":1,\"group\":null,\"ticker\":{\"id\":\"1142\"}},\"id\":\"1127\",\"type\":\"Grid\"},{\"attributes\":{\"bottom\":{\"field\":\"bottom\"},\"fill_alpha\":{\"value\":0.1},\"fill_color\":{\"value\":\"#d53e4f\"},\"hatch_alpha\":{\"value\":0.1},\"left\":{\"field\":\"start_time\"},\"line_alpha\":{\"value\":0.1},\"right\":{\"field\":\"end_time\"},\"top\":{\"field\":\"top\"}},\"id\":\"1146\",\"type\":\"Quad\"},{\"attributes\":{\"axis\":{\"id\":\"1120\"},\"coordinates\":null,\"group\":null,\"ticker\":null},\"id\":\"1123\",\"type\":\"Grid\"},{\"attributes\":{\"callback\":null,\"tooltips\":[[\"pitch\",\"@pitch\"],[\"program\",\"@program\"],[\"velo\",\"@velocity\"],[\"duration\",\"@duration\"],[\"start_time\",\"@start_time\"],[\"end_time\",\"@end_time\"],[\"velocity\",\"@velocity\"],[\"fill_alpha\",\"@fill_alpha\"]]},\"id\":\"1128\",\"type\":\"HoverTool\"},{\"attributes\":{\"interval\":12},\"id\":\"1140\",\"type\":\"SingleIntervalTicker\"},{\"attributes\":{\"interval\":12},\"id\":\"1142\",\"type\":\"SingleIntervalTicker\"},{\"attributes\":{},\"id\":\"1129\",\"type\":\"PanTool\"},{\"attributes\":{\"tools\":[{\"id\":\"1128\"},{\"id\":\"1129\"},{\"id\":\"1130\"},{\"id\":\"1131\"},{\"id\":\"1132\"}]},\"id\":\"1134\",\"type\":\"Toolbar\"},{\"attributes\":{},\"id\":\"1155\",\"type\":\"BasicTickFormatter\"},{\"attributes\":{},\"id\":\"1118\",\"type\":\"LinearScale\"},{\"attributes\":{\"data\":{\"bottom\":{\"__ndarray__\":\"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\",\"dtype\":\"float64\",\"order\":\"little\",\"shape\":[204]},\"duration\":{\"__ndarray__\":\"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\",\"dtype\":\"float64\",\"order\":\"little\",\"shape\":[204]},\"end_time\":{\"__ndarray__\":\"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\",\"dtype\":\"float64\",\"order\":\"little\",\"shape\":[204]},\"fill_alpha\":{\"__ndarray__\":\"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\",\"dtype\":\"float64\",\"order\":\"little\",\"shape\":[204]},\"index\":[0,1,2,3,4,5,6,7,8,9,10,11,12,13,14,15,16,17,18,19,20,21,22,23,24,25,26,27,28,29,30,31,32,33,34,35,36,37,38,39,40,41,42,43,44,45,46,47,48,49,50,51,52,53,54,55,56,57,58,59,60,61,62,63,64,65,66,67,68,69,70,71,72,73,74,75,76,77,78,79,80,81,82,83,84,85,86,87,88,89,90,91,92,93,94,95,96,97,98,99,100,101,102,103,104,105,106,107,108,109,110,111,112,113,114,115,116,117,118,119,120,121,122,123,124,125,126,127,128,129,130,131,132,133,134,135,136,137,138,139,140,141,142,143,144,145,146,147,148,149,150,151,152,153,154,155,156,157,158,159,160,161,162,163,164,165,166,167,168,169,170,171,172,173,174,175,176,177,178,179,180,181,182,183,184,185,186,187,188,189,190,191,192,193,194,195,196,197,198,199,200,201,202,203],\"instrument\":[0,0,0,0,0,0,0,0,0,0,0,0,0,0,0,0,0,0,0,0,0,0,0,0,0,0,0,0,0,0,0,0,0,0,0,0,0,0,0,0,0,0,0,0,0,0,0,0,0,0,0,0,0,0,0,0,0,0,0,0,0,0,0,0,0,0,0,0,0,0,0,0,0,0,0,0,0,0,0,0,0,0,0,0,0,0,0,0,0,0,0,0,0,0,0,0,0,0,0,0,0,0,0,0,0,0,0,0,0,0,0,0,0,0,0,0,0,0,0,0,0,0,0,0,0,0,0,0,0,0,0,0,0,0,0,0,0,0,0,0,0,0,0,0,0,0,0,0,0,0,0,0,0,0,0,0,0,0,0,0,0,0,0,0,0,0,0,0,0,0,0,0,0,0,0,0,0,0,0,0,0,0,0,0,0,0,0,0,0,0,0,0,0,0,0,0,0,0,0,0,0,0,0,0],\"pitch\":[76,75,76,75,76,71,74,72,41,48,57,69,60,64,38,69,48,54,57,60,43,48,55,59,69,62,36,67,48,55,64,60,64,41,48,57,67,60,65,38,48,54,57,62,69,48,55,43,60,64,72,36,48,67,72,48,55,60,76,75,76,75,76,75,76,75,76,75,76,75,76,71,74,72,41,48,57,69,60,64,38,48,54,69,57,60,43,48,55,69,59,62,67,36,55,64,48,60,64,41,48,57,67,60,65,38,48,54,57,69,62,43,48,55,60,64,72,67,72,36,48,67,55,60,69,71,69,57,41,48,57,64,60,38,72,48,54,57,64,69,43,60,72,55,59,64,48,69,62,36,48,60,64,67,55,57,64,72,67,57,57,60,41,48,74,69,38,72,48,54,60,69,64,57,60,72,43,48,55,60,64,69,64,67,36,60,72,69,48,55,67,60,64,69,71,69,57,57,60,41,48,64,38,72],\"program\":[0,0,0,0,0,0,0,0,0,0,0,0,0,0,0,0,0,0,0,0,0,0,0,0,0,0,0,0,0,0,0,0,0,0,0,0,0,0,0,0,0,0,0,0,0,0,0,0,0,0,0,0,0,0,0,0,0,0,0,0,0,0,0,0,0,0,0,0,0,0,0,0,0,0,0,0,0,0,0,0,0,0,0,0,0,0,0,0,0,0,0,0,0,0,0,0,0,0,0,0,0,0,0,0,0,0,0,0,0,0,0,0,0,0,0,0,0,0,0,0,0,0,0,0,0,0,0,0,0,0,0,0,0,0,0,0,0,0,0,0,0,0,0,0,0,0,0,0,0,0,0,0,0,0,0,0,0,0,0,0,0,0,0,0,0,0,0,0,0,0,0,0,0,0,0,0,0,0,0,0,0,0,0,0,0,0,0,0,0,0,0,0,0,0,0,0,0,0,0,0,0,0,0,0],\"start_time\":{\"__ndarray__\":\"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\",\"dtype\":\"float64\",\"order\":\"little\",\"shape\":[204]},\"top\":{\"__ndarray__\":\"mpmZmZkZU0CamZmZmdlSQJqZmZmZGVNAmpmZmZnZUkCamZmZmRlTQJqZmZmZ2VFAmpmZmZmZUkCamZmZmRlSQDMzMzMzs0RAMzMzMzMzSEAzMzMzM7NMQJqZmZmZWVFAMzMzMzMzTkCamZmZmRlQQDMzMzMzM0NAmpmZmZlZUUAzMzMzMzNIQDMzMzMzM0tAMzMzMzOzTEAzMzMzMzNOQDMzMzMzs0VAMzMzMzMzSEAzMzMzM7NLQDMzMzMzs01AmpmZmZlZUUAzMzMzMzNPQDMzMzMzM0JAmpmZmZnZUEAzMzMzMzNIQDMzMzMzs0tAmpmZmZkZUEAzMzMzMzNOQJqZmZmZGVBAMzMzMzOzREAzMzMzMzNIQDMzMzMzs0xAmpmZmZnZUEAzMzMzMzNOQJqZmZmZWVBAMzMzMzMzQ0AzMzMzMzNIQDMzMzMzM0tAMzMzMzOzTEAzMzMzMzNPQJqZmZmZWVFAMzMzMzMzSEAzMzMzM7NLQDMzMzMzs0VAMzMzMzMzTkCamZmZmRlQQJqZmZmZGVJAMzMzMzMzQkAzMzMzMzNIQJqZmZmZ2VBAmpmZmZkZUkAzMzMzMzNIQDMzMzMzs0tAMzMzMzMzTkCamZmZmRlTQJqZmZmZ2VJAmpmZmZkZU0CamZmZmdlSQJqZmZmZGVNAmpmZmZnZUkCamZmZmRlTQJqZmZmZ2VJAmpmZmZkZU0CamZmZmdlSQJqZmZmZGVNAmpmZmZnZUkCamZmZmRlTQJqZmZmZ2VFAmpmZmZmZUkCamZmZmRlSQDMzMzMzs0RAMzMzMzMzSEAzMzMzM7NMQJqZmZmZWVFAMzMzMzMzTkCamZmZmRlQQDMzMzMzM0NAMzMzMzMzSEAzMzMzMzNLQJqZmZmZWVFAMzMzMzOzTEAzMzMzMzNOQDMzMzMzs0VAMzMzMzMzSEAzMzMzM7NLQJqZmZmZWVFAMzMzMzOzTUAzMzMzMzNPQJqZmZmZ2VBAMzMzMzMzQkAzMzMzM7NLQJqZmZmZGVBAMzMzMzMzSEAzMzMzMzNOQJqZmZmZGVBAMzMzMzOzREAzMzMzMzNIQDMzMzMzs0xAmpmZmZnZUEAzMzMzMzNOQJqZmZmZWVBAMzMzMzMzQ0AzMzMzMzNIQDMzMzMzM0tAMzMzMzOzTECamZmZmVlRQDMzMzMzM09AMzMzMzOzRUAzMzMzMzNIQDMzMzMzs0tAMzMzMzMzTkCamZmZmRlQQJqZmZmZGVJAmpmZmZnZUECamZmZmRlSQDMzMzMzM0JAMzMzMzMzSECamZmZmdlQQDMzMzMzs0tAMzMzMzMzTkCamZmZmVlRQJqZmZmZ2VFAmpmZmZlZUUAzMzMzM7NMQDMzMzMzs0RAMzMzMzMzSEAzMzMzM7NMQJqZmZmZGVBAMzMzMzMzTkAzMzMzMzNDQJqZmZmZGVJAMzMzMzMzSEAzMzMzMzNLQDMzMzMzs0xAmpmZmZkZUECamZmZmVlRQDMzMzMzs0VAMzMzMzMzTkCamZmZmRlSQDMzMzMzs0tAMzMzMzOzTUCamZmZmRlQQDMzMzMzM0hAmpmZmZlZUUAzMzMzMzNPQDMzMzMzM0JAMzMzMzMzSEAzMzMzMzNOQJqZmZmZGVBAmpmZmZnZUEAzMzMzM7NLQDMzMzMzs0xAmpmZmZkZUECamZmZmRlSQJqZmZmZ2VBAMzMzMzOzTEAzMzMzM7NMQDMzMzMzM05AMzMzMzOzREAzMzMzMzNIQJqZmZmZmVJAmpmZmZlZUUAzMzMzMzNDQJqZmZmZGVJAMzMzMzMzSEAzMzMzMzNLQDMzMzMzM05AmpmZmZlZUUCamZmZmRlQQDMzMzMzs0xAMzMzMzMzTkCamZmZmRlSQDMzMzMzs0VAMzMzMzMzSEAzMzMzM7NLQDMzMzMzM05AmpmZmZkZUECamZmZmVlRQJqZmZmZGVBAmpmZmZnZUEAzMzMzMzNCQDMzMzMzM05AmpmZmZkZUkCamZmZmVlRQDMzMzMzM0hAMzMzMzOzS0CamZmZmdlQQDMzMzMzM05AmpmZmZkZUECamZmZmVlRQJqZmZmZ2VFAmpmZmZlZUUAzMzMzM7NMQDMzMzMzs0xAMzMzMzMzTkAzMzMzM7NEQDMzMzMzM0hAmpmZmZkZUEAzMzMzMzNDQJqZmZmZGVJA\",\"dtype\":\"float64\",\"order\":\"little\",\"shape\":[204]},\"velocity\":[117,117,117,117,117,117,97,93,89,97,97,101,101,97,93,101,97,97,97,101,93,93,97,101,101,101,89,93,101,93,101,97,101,93,97,97,101,97,97,89,101,97,97,97,101,97,93,97,101,101,101,93,89,93,97,101,97,97,101,101,101,101,97,101,101,97,97,97,93,97,97,93,101,93,89,97,97,97,97,101,89,93,97,101,97,97,93,97,93,101,97,97,93,93,89,97,97,97,97,93,97,93,101,97,97,89,93,97,97,101,97,97,89,93,97,97,101,97,97,97,101,101,97,101,97,101,97,101,97,93,93,101,97,93,101,97,97,97,97,101,97,97,101,93,97,97,97,97,97,93,101,97,97,93,93,93,97,101,97,97,101,101,93,97,101,97,93,105,97,97,89,97,97,97,97,97,93,97,93,93,97,101,97,97,97,101,101,101,93,97,101,101,93,101,97,97,97,97,97,97,93,101,93,97]},\"selected\":{\"id\":\"1158\"},\"selection_policy\":{\"id\":\"1157\"}},\"id\":\"1143\",\"type\":\"ColumnDataSource\"},{\"attributes\":{},\"id\":\"1132\",\"type\":\"SaveTool\"},{\"attributes\":{},\"id\":\"1116\",\"type\":\"LinearScale\"},{\"attributes\":{},\"id\":\"1156\",\"type\":\"AllLabels\"},{\"attributes\":{\"bottom_units\":\"screen\",\"coordinates\":null,\"fill_alpha\":0.5,\"fill_color\":\"lightgrey\",\"group\":null,\"left_units\":\"screen\",\"level\":\"overlay\",\"line_alpha\":1.0,\"line_color\":\"black\",\"line_dash\":[4,4],\"line_width\":2,\"right_units\":\"screen\",\"syncable\":false,\"top_units\":\"screen\"},\"id\":\"1133\",\"type\":\"BoxAnnotation\"},{\"attributes\":{},\"id\":\"1153\",\"type\":\"AllLabels\"},{\"attributes\":{\"bottom\":{\"field\":\"bottom\"},\"fill_alpha\":{\"field\":\"fill_alpha\"},\"fill_color\":{\"value\":\"#d53e4f\"},\"left\":{\"field\":\"start_time\"},\"right\":{\"field\":\"end_time\"},\"top\":{\"field\":\"top\"}},\"id\":\"1145\",\"type\":\"Quad\"},{\"attributes\":{\"axis_label\":\"time (sec)\",\"coordinates\":null,\"formatter\":{\"id\":\"1155\"},\"group\":null,\"major_label_policy\":{\"id\":\"1156\"},\"ticker\":{\"id\":\"1121\"}},\"id\":\"1120\",\"type\":\"LinearAxis\"},{\"attributes\":{},\"id\":\"1158\",\"type\":\"Selection\"},{\"attributes\":{},\"id\":\"1152\",\"type\":\"BasicTickFormatter\"},{\"attributes\":{},\"id\":\"1131\",\"type\":\"ResetTool\"},{\"attributes\":{\"axis_label\":\"pitch (MIDI)\",\"coordinates\":null,\"formatter\":{\"id\":\"1152\"},\"group\":null,\"major_label_policy\":{\"id\":\"1153\"},\"ticker\":{\"id\":\"1140\"}},\"id\":\"1124\",\"type\":\"LinearAxis\"},{\"attributes\":{},\"id\":\"1157\",\"type\":\"UnionRenderers\"},{\"attributes\":{},\"id\":\"1112\",\"type\":\"DataRange1d\"}],\"root_ids\":[\"1111\"]},\"title\":\"Bokeh Application\",\"version\":\"2.4.3\"}};\n",
              "  const render_items = [{\"docid\":\"bda53736-9e6c-4169-ac61-556ee080f0df\",\"root_ids\":[\"1111\"],\"roots\":{\"1111\":\"a145d032-497c-4ee0-bb97-784c15b0d929\"}}];\n",
              "  root.Bokeh.embed.embed_items_notebook(docs_json, render_items);\n",
              "  }\n",
              "  if (root.Bokeh !== undefined) {\n",
              "    embed_document(root);\n",
              "  } else {\n",
              "    let attempts = 0;\n",
              "    const timer = setInterval(function(root) {\n",
              "      if (root.Bokeh !== undefined) {\n",
              "        clearInterval(timer);\n",
              "        embed_document(root);\n",
              "      } else {\n",
              "        attempts++;\n",
              "        if (attempts > 100) {\n",
              "          clearInterval(timer);\n",
              "          console.log(\"Bokeh: ERROR: Unable to run BokehJS code because BokehJS library is missing\");\n",
              "        }\n",
              "      }\n",
              "    }, 10, root)\n",
              "  }\n",
              "})(window);"
            ],
            "application/vnd.bokehjs_exec.v0+json": ""
          },
          "metadata": {
            "application/vnd.bokehjs_exec.v0+json": {
              "id": "1111"
            }
          }
        },
        {
          "output_type": "stream",
          "name": "stdout",
          "text": [
            "Сэмпл сохранён в файл \"sample_0_1.mid\"\n"
          ]
        },
        {
          "output_type": "display_data",
          "data": {
            "text/plain": [
              "<IPython.core.display.HTML object>"
            ],
            "text/html": [
              "<div id=\"id_3\"> </div>"
            ]
          },
          "metadata": {}
        },
        {
          "output_type": "display_data",
          "data": {
            "text/html": [
              "\n",
              "  <div class=\"bk-root\" id=\"13c4911c-de28-4b3a-8c4f-1d1b20e5a3e1\" data-root-id=\"1230\"></div>\n"
            ]
          },
          "metadata": {}
        },
        {
          "output_type": "display_data",
          "data": {
            "application/javascript": [
              "(function(root) {\n",
              "  function embed_document(root) {\n",
              "  const docs_json = {\"3523814e-88d1-4679-aab6-14ad43df0803\":{\"defs\":[],\"roots\":{\"references\":[{\"attributes\":{\"below\":[{\"id\":\"1239\"}],\"center\":[{\"id\":\"1242\"},{\"id\":\"1246\"}],\"height\":200,\"left\":[{\"id\":\"1243\"}],\"renderers\":[{\"id\":\"1267\"}],\"title\":{\"id\":\"1269\"},\"toolbar\":{\"id\":\"1253\"},\"width\":500,\"x_range\":{\"id\":\"1231\"},\"x_scale\":{\"id\":\"1235\"},\"y_range\":{\"id\":\"1233\"},\"y_scale\":{\"id\":\"1237\"}},\"id\":\"1230\",\"subtype\":\"Figure\",\"type\":\"Plot\"},{\"attributes\":{},\"id\":\"1250\",\"type\":\"ResetTool\"},{\"attributes\":{},\"id\":\"1231\",\"type\":\"DataRange1d\"},{\"attributes\":{\"coordinates\":null,\"data_source\":{\"id\":\"1262\"},\"glyph\":{\"id\":\"1264\"},\"group\":null,\"hover_glyph\":null,\"muted_glyph\":{\"id\":\"1266\"},\"nonselection_glyph\":{\"id\":\"1265\"},\"view\":{\"id\":\"1268\"}},\"id\":\"1267\",\"type\":\"GlyphRenderer\"},{\"attributes\":{},\"id\":\"1237\",\"type\":\"LinearScale\"},{\"attributes\":{\"interval\":12},\"id\":\"1259\",\"type\":\"SingleIntervalTicker\"},{\"attributes\":{\"callback\":null,\"tooltips\":[[\"pitch\",\"@pitch\"],[\"program\",\"@program\"],[\"velo\",\"@velocity\"],[\"duration\",\"@duration\"],[\"start_time\",\"@start_time\"],[\"end_time\",\"@end_time\"],[\"velocity\",\"@velocity\"],[\"fill_alpha\",\"@fill_alpha\"]]},\"id\":\"1247\",\"type\":\"HoverTool\"},{\"attributes\":{},\"id\":\"1251\",\"type\":\"SaveTool\"},{\"attributes\":{\"axis_label\":\"time (sec)\",\"coordinates\":null,\"formatter\":{\"id\":\"1274\"},\"group\":null,\"major_label_policy\":{\"id\":\"1275\"},\"ticker\":{\"id\":\"1240\"}},\"id\":\"1239\",\"type\":\"LinearAxis\"},{\"attributes\":{\"source\":{\"id\":\"1262\"}},\"id\":\"1268\",\"type\":\"CDSView\"},{\"attributes\":{\"bottom\":{\"field\":\"bottom\"},\"fill_alpha\":{\"field\":\"fill_alpha\"},\"fill_color\":{\"value\":\"#d53e4f\"},\"left\":{\"field\":\"start_time\"},\"right\":{\"field\":\"end_time\"},\"top\":{\"field\":\"top\"}},\"id\":\"1264\",\"type\":\"Quad\"},{\"attributes\":{\"bottom\":{\"field\":\"bottom\"},\"fill_alpha\":{\"value\":0.1},\"fill_color\":{\"value\":\"#d53e4f\"},\"hatch_alpha\":{\"value\":0.1},\"left\":{\"field\":\"start_time\"},\"line_alpha\":{\"value\":0.1},\"right\":{\"field\":\"end_time\"},\"top\":{\"field\":\"top\"}},\"id\":\"1265\",\"type\":\"Quad\"},{\"attributes\":{\"axis\":{\"id\":\"1243\"},\"coordinates\":null,\"dimension\":1,\"group\":null,\"ticker\":{\"id\":\"1261\"}},\"id\":\"1246\",\"type\":\"Grid\"},{\"attributes\":{},\"id\":\"1272\",\"type\":\"AllLabels\"},{\"attributes\":{},\"id\":\"1271\",\"type\":\"BasicTickFormatter\"},{\"attributes\":{},\"id\":\"1276\",\"type\":\"UnionRenderers\"},{\"attributes\":{},\"id\":\"1233\",\"type\":\"DataRange1d\"},{\"attributes\":{\"bottom_units\":\"screen\",\"coordinates\":null,\"fill_alpha\":0.5,\"fill_color\":\"lightgrey\",\"group\":null,\"left_units\":\"screen\",\"level\":\"overlay\",\"line_alpha\":1.0,\"line_color\":\"black\",\"line_dash\":[4,4],\"line_width\":2,\"right_units\":\"screen\",\"syncable\":false,\"top_units\":\"screen\"},\"id\":\"1252\",\"type\":\"BoxAnnotation\"},{\"attributes\":{},\"id\":\"1277\",\"type\":\"Selection\"},{\"attributes\":{},\"id\":\"1235\",\"type\":\"LinearScale\"},{\"attributes\":{\"bottom\":{\"field\":\"bottom\"},\"fill_alpha\":{\"value\":0.2},\"fill_color\":{\"value\":\"#d53e4f\"},\"hatch_alpha\":{\"value\":0.2},\"left\":{\"field\":\"start_time\"},\"line_alpha\":{\"value\":0.2},\"right\":{\"field\":\"end_time\"},\"top\":{\"field\":\"top\"}},\"id\":\"1266\",\"type\":\"Quad\"},{\"attributes\":{},\"id\":\"1248\",\"type\":\"PanTool\"},{\"attributes\":{},\"id\":\"1274\",\"type\":\"BasicTickFormatter\"},{\"attributes\":{\"axis_label\":\"pitch (MIDI)\",\"coordinates\":null,\"formatter\":{\"id\":\"1271\"},\"group\":null,\"major_label_policy\":{\"id\":\"1272\"},\"ticker\":{\"id\":\"1259\"}},\"id\":\"1243\",\"type\":\"LinearAxis\"},{\"attributes\":{},\"id\":\"1275\",\"type\":\"AllLabels\"},{\"attributes\":{\"overlay\":{\"id\":\"1252\"}},\"id\":\"1249\",\"type\":\"BoxZoomTool\"},{\"attributes\":{\"data\":{\"bottom\":{\"__ndarray__\":\"ZmZmZmbmUkBmZmZmZqZSQGZmZmZm5lJAZmZmZmamUkBmZmZmZuZSQGZmZmZmplFAZmZmZmamUUBmZmZmZmZSQGZmZmZm5lJAZmZmZmZmUkDNzMzMzExGQGZmZmZmJlFAZmZmZmYmUUBmZmZmZiZRQM3MzMzMzElAZmZmZmYmUUDNzMzMzExMQGZmZmZmJlFAzczMzMzMSUDNzMzMzExHQGZmZmZmJlFAZmZmZmYmUUDNzMzMzExNQGZmZmZmJlFAzczMzMzMSkBmZmZmZiZRQM3MzMzMzEpAZmZmZmYmUUDNzMzMzMxDQGZmZmZmJlFAzczMzMxMR0BmZmZmZiZRQM3MzMzMzElAZmZmZmYmUUDNzMzMzExHQGZmZmZmJlFAzczMzMzMQ0DNzMzMzExHQM3MzMzMzElAZmZmZmbmUkBmZmZmZqZSQGZmZmZm5lJAZmZmZmamUkBmZmZmZuZSQGZmZmZmplFAZmZmZmamUUBmZmZmZmZSQGZmZmZm5lJAZmZmZmZmUkDNzMzMzExGQGZmZmZmJlFAZmZmZmYmUUBmZmZmZiZRQM3MzMzMzElAZmZmZmYmUUDNzMzMzExMQGZmZmZmJlFAzczMzMzMSUBmZmZmZiZRQM3MzMzMTEdAZmZmZmYmUUDNzMzMzExNQGZmZmZmJlFAzczMzMzMSkBmZmZmZiZRQM3MzMzMzEpAZmZmZmYmUUDNzMzMzMxDQGZmZmZmJlFAzczMzMxMR0BmZmZmZiZRQM3MzMzMzElAZmZmZmYmUUDNzMzMzExHQGZmZmZmJlFAzczMzMzMQ0DNzMzMzExHQM3MzMzMzElAZmZmZmbmUkBmZmZmZqZSQGZmZmZm5lJAZmZmZmamUkBmZmZmZqZRQGZmZmZm5lJAZmZmZmZmUkBmZmZmZuZSQGZmZmZmZlJAzczMzMxMRkBmZmZmZiZRQGZmZmZmJlFAZmZmZmYmUUDNzMzMzMxJQGZmZmZmJlFAzczMzMxMTEBmZmZmZiZRQM3MzMzMzElAZmZmZmYmUUDNzMzMzExHQGZmZmZmJlFAzczMzMxMTUBmZmZmZiZRQM3MzMzMzEpAzczMzMzMSkBmZmZmZiZRQGZmZmZm5lBAzczMzMzMQ0BmZmZmZuZQQGZmZmZm5lBAzczMzMxMR0DNzMzMzMxJQM3MzMzMTE1AZmZmZmbmUEDNzMzMzExHQGZmZmZm5lBAzczMzMzMQ0DNzMzMzExHQM3MzMzMzElA\",\"dtype\":\"float64\",\"order\":\"little\",\"shape\":[117]},\"duration\":{\"__ndarray__\":\"b1j7hrVvyD8kyFOCPCXIP5qZmZmZmck/mJmZmZmZyT90WPuGtW/IP3BY+4a1b8g/wFOCPCXIoz8gyFOCPCXIP2DtG9a+Yc0/qAR5SpCnxD+w9g1r37C2P1h00UUXXcQ/YO0b1r5hzT8g8pQgTwmyP9RFF1100eU/oCBPCfKUwD+cmZmZmZnhP6CZmZmZmbk/0MzMzMzM3D+QIE8J8pTQP7B9w9o3rM0/wJmZmZmZuT9g7RvWvmHNP6AgTwnylMA/rAR5SpCn6D8Av2HtG9a+P4CZmZmZmck/gNFFF110sT+QIE8J8pTQP2BY+4a1b8g/YO0b1r5hzT/A9g1r37C2PyBPCfKUINc/oJmZmZmZyT8gyFOCPCXIP6AEeUqQp8Q/ABzWvmHtyz/woosuuujaP2BmZmZmZtY/gDwlyFOC1D9AWPuGtW/IP6AgTwnylNA/AMhTgjwlyD/ABHlKkKfEP8AEeUqQp8Q/gJmZmZmZuT9AdNFFF13EP0B00UUXXcQ/oCBPCfKU0D8A8pQgTwmyP0DIU4I8Jcg/gJmZmZmZyT+AmZmZmZm5P8Bh7RvWvuU/gJmZmZmZyT+gmZmZmZnhP4CZmZmZmbk/4MzMzMzM3D/AmZmZmZnJP8DMzMzMzNw/AJqZmZmZuT+A7RvWvmHNP4AgTwnylMA/oAR5SpCn6D8ARhdddNHFP4DtG9a+Yc0/AAAAAAAA0D9A7RvWvmHNP8DooosuutA/oBLkKUGe0j8AeUqQpwTZPyBddNFFF9U/QMhTgjwlyD/A6KKLLrrQP4AXXXTRRbc/wAR5SpCnxD+gBHlKkKfgPwB5SpCnBNk/gH3D2jeszT+AmZmZmZnJP4BY+4a1b8g/gO0b1r5hzT8AF1100UW3P4D2DWvfsN4/ALH2DWvfwD+AIE8J8pTAP4DtG9a+Yc0/AJqZmZmZuT+AWPuGtW/IP4CZmZmZmck/ANJFF110sT9gWPuGtW/kPwDgsPYNa68/oJmZmZmZ4T+AIE8J8pTQP8DMzMzMzNw/gO0b1r5hzT9AF1100UXfPwDesPYNa68/gCBPCfKU0D8ABXlKkKfEPwAOa9+w9uk/gHTRRRddxD8AsfYNa9/YP8DooosuutA/AO0b1r5hzT8AsfYNa9/AP4CZmZmZmck/AKOLLrro2j9AZmZmZmbWPwCWIE8J8qQ/gJmZmZmZyT+A7RvWvmHNP8AS5ClBntI/gHTRRRddxD+A9g1r37DePwDRRRdddLE/\",\"dtype\":\"float64\",\"order\":\"little\",\"shape\":[117]},\"end_time\":{\"__ndarray__\":\"N6x9w9o3zD99w9o3rH3bPyXIU4I8JeQ/iy666KKL6j9UgjwlyFPwP4e1b1j7hvM/JchTgjwl9D++Ye0b1r75P1j7hrVvWPs/U4I8JchT/D/fsPYNa9/+PzwlyFOCPABAEuQpQZ4SAkAqQZ4S5CkEQIe1b1j7hgdAAAAAAAAACEDWvmHtG9YJQCBPCfKUIAtAZmZmZmZmDEA8JchTgjwOQIe1b1j7hg9AzczMzMzMEECVIE8J8hQSQPuGtW9YexJAOKx9w9q3EkBddNFFF10TQAR5SpCnhBNAo4suuuiiE0BvWPuGtW8VQPYNa9+w9hVAYe0b1r7hFkCeEuQpQR4XQPYNa9+w9hhAlSBPCfIUGUDWvmHtG9YZQPuGtW9YexpAo4suuuiiG0CeEuQpQR4eQAR5SpCnhB9AF1100UVXIEBKkKcEeYogQAAAAAAAACFA0UUXXXRRIUDkKUGeEqQhQPuGtW9YeyJALrrooouuIkDRRRdddFEjQAR5SpCnhCNAZmZmZmbmI0BKkKcEeQokQDisfcPaNyRAnhLkKUGeJEAzMzMzMzMlQEqQpwR5CiZAfcPaN6w9JkCeEuQpQZ4mQGHtG9a+4SZAMzMzMzMzJ0Br37D2DesnQEqQpwR5CihAAAAAAACAKEDkKUGeEiQpQBdddNFFVylAtW9Y+4Z1KUAc1r5h7dspQGvfsPYN6ylAHNa+Ye1bKkC1b1j7hvUqQBdddNFFVytAyFOCPCXIK0Bh7RvWvmEsQDMzMzMzsyxAgjwlyFPCLEDIU4I8JUgtQGZmZmZmZi1A+4a1b1j7LUBKkKcEeYovQBdddNFFFzBASpCnBHlKMEAzMzMzM3MwQOQpQZ4SpDBAv2HtG9beMECZmZmZmVkxQJmZmZmZWTFAF1100UXXMUAOa9+w9u0xQEGeEuQpITJA2zesfcM6MkDylCBPCVIyQCXIU4I8hTJATwnylCDPMkDooosuuigzQLH2DWvfMDNAJchTgjyFM0CnBHlKkMczQE8J8pQgzzNAMzMzMzMzNEDaN6x9wzo0QIsuuuiiazRATwnylCDPNECx9g1r3/A0QFj7hrVv+DRAQZ4S5CkhNUAc1r5h7Vs1QL9h7RvWnjVAmZmZmZnZNUCx9g1r3/A1QGZmZmZmZjZADmvfsPZtNkCnBHlKkMc2QPKUIE8J0jZA8pQgTwnSNkCCPCXIUwI3QCXIU4I8RTdADmvfsPZtN0CLLrroois4QLVvWPuGNThA\",\"dtype\":\"float64\",\"order\":\"little\",\"shape\":[117]},\"fill_alpha\":{\"__ndarray__\":\"AAAAAABA7T8AAAAAAEDtPwAAAAAAQO0/AAAAAABA7T8AAAAAAEDtPwAAAAAAQO0/AAAAAABA6D8AAAAAAEDpPwAAAAAAQOg/AAAAAABA6T8AAAAAAEDmPwAAAAAAQOg/AAAAAABA5z8AAAAAAEDoPwAAAAAAQOY/AAAAAABA6D8AAAAAAEDlPwAAAAAAQOc/AAAAAABA5T8AAAAAAEDmPwAAAAAAQOc/AAAAAABA6D8AAAAAAEDnPwAAAAAAQOc/AAAAAABA5T8AAAAAAEDnPwAAAAAAQOY/AAAAAABA5z8AAAAAAEDkPwAAAAAAQOc/AAAAAABA5T8AAAAAAEDoPwAAAAAAQOY/AAAAAABA6D8AAAAAAEDkPwAAAAAAQOY/AAAAAABA5T8AAAAAAEDjPwAAAAAAQOQ/AAAAAABA5j8AAAAAAEDmPwAAAAAAQOY/AAAAAABA5j8AAAAAAEDmPwAAAAAAQOU/AAAAAABA5j8AAAAAAEDmPwAAAAAAQOU/AAAAAABA5j8AAAAAAEDkPwAAAAAAQOY/AAAAAABA5z8AAAAAAEDnPwAAAAAAQOU/AAAAAABA5z8AAAAAAEDlPwAAAAAAQOc/AAAAAABA5T8AAAAAAEDmPwAAAAAAQOQ/AAAAAABA5z8AAAAAAEDmPwAAAAAAQOc/AAAAAABA5T8AAAAAAEDnPwAAAAAAQOU/AAAAAABA5j8AAAAAAEDjPwAAAAAAQOc/AAAAAABA5D8AAAAAAEDoPwAAAAAAQOY/AAAAAABA5z8AAAAAAEDkPwAAAAAAQOY/AAAAAABA4z8AAAAAAEDkPwAAAAAAQOU/AAAAAABA5j8AAAAAAEDoPwAAAAAAQOY/AAAAAABA5j8AAAAAAEDnPwAAAAAAQOY/AAAAAABA5z8AAAAAAEDmPwAAAAAAQOY/AAAAAABA4z8AAAAAAEDoPwAAAAAAQOc/AAAAAABA5z8AAAAAAEDlPwAAAAAAQOc/AAAAAABA5T8AAAAAAEDnPwAAAAAAQOU/AAAAAABA5j8AAAAAAEDkPwAAAAAAQOY/AAAAAABA5T8AAAAAAEDmPwAAAAAAQOU/AAAAAABA5D8AAAAAAEDlPwAAAAAAQOU/AAAAAABA4z8AAAAAAEDmPwAAAAAAQOU/AAAAAABA4z8AAAAAAEDlPwAAAAAAQOM/AAAAAABA5T8AAAAAAEDjPwAAAAAAQOU/AAAAAABA4j8AAAAAAEDjPwAAAAAAQOQ/\",\"dtype\":\"float64\",\"order\":\"little\",\"shape\":[117]},\"index\":[0,1,2,3,4,5,6,7,8,9,10,11,12,13,14,15,16,17,18,19,20,21,22,23,24,25,26,27,28,29,30,31,32,33,34,35,36,37,38,39,40,41,42,43,44,45,46,47,48,49,50,51,52,53,54,55,56,57,58,59,60,61,62,63,64,65,66,67,68,69,70,71,72,73,74,75,76,77,78,79,80,81,82,83,84,85,86,87,88,89,90,91,92,93,94,95,96,97,98,99,100,101,102,103,104,105,106,107,108,109,110,111,112,113,114,115,116],\"instrument\":[0,0,0,0,0,0,0,0,0,0,0,0,0,0,0,0,0,0,0,0,0,0,0,0,0,0,0,0,0,0,0,0,0,0,0,0,0,0,0,0,0,0,0,0,0,0,0,0,0,0,0,0,0,0,0,0,0,0,0,0,0,0,0,0,0,0,0,0,0,0,0,0,0,0,0,0,0,0,0,0,0,0,0,0,0,0,0,0,0,0,0,0,0,0,0,0,0,0,0,0,0,0,0,0,0,0,0,0,0,0,0,0,0,0,0,0,0],\"pitch\":[76,75,76,75,76,71,71,74,76,74,45,69,69,69,52,69,57,69,52,47,69,69,59,69,54,69,54,69,40,69,47,69,52,69,47,69,40,47,52,76,75,76,75,76,71,71,74,76,74,45,69,69,69,52,69,57,69,52,69,47,69,59,69,54,69,54,69,40,69,47,69,52,69,47,69,40,47,52,76,75,76,75,71,76,74,76,74,45,69,69,69,52,69,57,69,52,69,47,69,59,69,54,54,69,68,40,68,68,47,52,59,68,47,68,40,47,52],\"program\":[0,0,0,0,0,0,0,0,0,0,0,0,0,0,0,0,0,0,0,0,0,0,0,0,0,0,0,0,0,0,0,0,0,0,0,0,0,0,0,0,0,0,0,0,0,0,0,0,0,0,0,0,0,0,0,0,0,0,0,0,0,0,0,0,0,0,0,0,0,0,0,0,0,0,0,0,0,0,0,0,0,0,0,0,0,0,0,0,0,0,0,0,0,0,0,0,0,0,0,0,0,0,0,0,0,0,0,0,0,0,0,0,0,0,0,0,0],\"start_time\":{\"__ndarray__\":\"QZ4S5ClBnj/WvmHtG9bOP33D2jesfds/JchTgjwl5D+LLrrooovqP3lKkKcEefA/h7VvWPuG8z+66KKLLrr2P6x9w9o3rPc/vmHtG9a++T900UUXXXT9P+0b1r5h7f0/PCXIU4I8AECZmZmZmZkDQBLkKUGeEgJA9g1r37D2BkBvWPuGtW8FQFOCPCXIUwpAzMzMzMzMCEAqQZ4S5CkMQKx9w9o3rA1AZmZmZmZmEEAqQZ4S5CkRQPYNa9+w9hFARRdddNFFD0Bh7RvWvuESQDisfcPatxJAXXTRRRddE0BmZmZmZmYUQDMzMzMzMxVA9g1r37D2FUDD2jesfcMWQAR5SpCnhBdAyFOCPCVIGECVIE8J8hQZQNa+Ye0b1hlAw9o3rH3DGkBvWPuGtW8cQJ4S5ClBHh5AZmZmZmZmH0DpoosuuiggQPuGtW9YeyBAsfYNa9/wIEDRRRdddFEhQOiiiy66KCJA+4a1b1h7IkAAAAAAAAAjQDMzMzMzMyNAYe0b1r5hI0BmZmZmZuYjQBdddNFF1yNAOKx9w9o3JEAAAAAAAAAlQC666KKLriRAF1100UXXJUAEeUqQp4QlQC666KKLriZAzMzMzMxMJkAEeUqQp4QnQOQpQZ4SJCdAzMzMzMxMKEAuuuiii64oQJUgTwnyFClAa9+w9g3rJ0AEeUqQp4QpQLVvWPuGdSlAHNa+Ye3bKUAAAAAAAIAqQNFFF1100SpAMzMzMzMzK0CZmZmZmZkrQEqQpwR5CixAYe0b1r5hLECCPCXIU8IsQDesfcPaNy1A6KKLLrqoLUAAAAAAAIAuQGZmZmZmZi9ATwnylCAPMEAAAAAAAEAwQDMzMzMzczBA5ClBnhKkMECCPCXIU0IxQL9h7RvW3jBAtW9Y+4a1MUDNzMzMzMwxQGZmZmZm5jFAQZ4S5CkhMkBBnhLkKSEyQPKUIE8JUjJAfcPaN6y9MkAlyFOCPIUyQEGeEuQpITNAWPuGtW/4MkAlyFOCPIUzQBzWvmHtWzNAWPuGtW/4M0B9w9o3rL0zQBzWvmHtWzRAzczMzMyMNECnBHlKkMc0QOiiiy66KDRAWPuGtW/4NEBY+4a1b/g0QBzWvmHtWzVAv2HtG9aeNUBPCfKUIM81QDMzMzMzMzZAgjwlyFMCNkAOa9+w9m02QKcEeUqQxzZAv2HtG9aeNkCnBHlKkMc2QNo3rH3D+jZAJchTgjxFN0Cx9g1r37A3QOQpQZ4SJDhA\",\"dtype\":\"float64\",\"order\":\"little\",\"shape\":[117]},\"top\":{\"__ndarray__\":\"mpmZmZkZU0CamZmZmdlSQJqZmZmZGVNAmpmZmZnZUkCamZmZmRlTQJqZmZmZ2VFAmpmZmZnZUUCamZmZmZlSQJqZmZmZGVNAmpmZmZmZUkAzMzMzM7NGQJqZmZmZWVFAmpmZmZlZUUCamZmZmVlRQDMzMzMzM0pAmpmZmZlZUUAzMzMzM7NMQJqZmZmZWVFAMzMzMzMzSkAzMzMzM7NHQJqZmZmZWVFAmpmZmZlZUUAzMzMzM7NNQJqZmZmZWVFAMzMzMzMzS0CamZmZmVlRQDMzMzMzM0tAmpmZmZlZUUAzMzMzMzNEQJqZmZmZWVFAMzMzMzOzR0CamZmZmVlRQDMzMzMzM0pAmpmZmZlZUUAzMzMzM7NHQJqZmZmZWVFAMzMzMzMzREAzMzMzM7NHQDMzMzMzM0pAmpmZmZkZU0CamZmZmdlSQJqZmZmZGVNAmpmZmZnZUkCamZmZmRlTQJqZmZmZ2VFAmpmZmZnZUUCamZmZmZlSQJqZmZmZGVNAmpmZmZmZUkAzMzMzM7NGQJqZmZmZWVFAmpmZmZlZUUCamZmZmVlRQDMzMzMzM0pAmpmZmZlZUUAzMzMzM7NMQJqZmZmZWVFAMzMzMzMzSkCamZmZmVlRQDMzMzMzs0dAmpmZmZlZUUAzMzMzM7NNQJqZmZmZWVFAMzMzMzMzS0CamZmZmVlRQDMzMzMzM0tAmpmZmZlZUUAzMzMzMzNEQJqZmZmZWVFAMzMzMzOzR0CamZmZmVlRQDMzMzMzM0pAmpmZmZlZUUAzMzMzM7NHQJqZmZmZWVFAMzMzMzMzREAzMzMzM7NHQDMzMzMzM0pAmpmZmZkZU0CamZmZmdlSQJqZmZmZGVNAmpmZmZnZUkCamZmZmdlRQJqZmZmZGVNAmpmZmZmZUkCamZmZmRlTQJqZmZmZmVJAMzMzMzOzRkCamZmZmVlRQJqZmZmZWVFAmpmZmZlZUUAzMzMzMzNKQJqZmZmZWVFAMzMzMzOzTECamZmZmVlRQDMzMzMzM0pAmpmZmZlZUUAzMzMzM7NHQJqZmZmZWVFAMzMzMzOzTUCamZmZmVlRQDMzMzMzM0tAMzMzMzMzS0CamZmZmVlRQJqZmZmZGVFAMzMzMzMzRECamZmZmRlRQJqZmZmZGVFAMzMzMzOzR0AzMzMzMzNKQDMzMzMzs01AmpmZmZkZUUAzMzMzM7NHQJqZmZmZGVFAMzMzMzMzREAzMzMzM7NHQDMzMzMzM0pA\",\"dtype\":\"float64\",\"order\":\"little\",\"shape\":[117]},\"velocity\":[117,117,117,117,117,117,97,101,97,101,89,97,93,97,89,97,85,93,85,89,93,97,93,93,85,93,89,93,81,93,85,97,89,97,81,89,85,77,81,89,89,89,89,89,85,89,89,85,89,81,89,93,93,85,93,85,93,85,89,81,93,89,93,85,93,85,89,77,93,81,97,89,93,81,89,77,81,85,89,97,89,89,93,89,93,89,89,77,97,93,93,85,93,85,93,85,89,81,89,85,89,85,81,85,85,77,89,85,77,85,77,85,77,85,73,77,81]},\"selected\":{\"id\":\"1277\"},\"selection_policy\":{\"id\":\"1276\"}},\"id\":\"1262\",\"type\":\"ColumnDataSource\"},{\"attributes\":{\"coordinates\":null,\"group\":null},\"id\":\"1269\",\"type\":\"Title\"},{\"attributes\":{\"tools\":[{\"id\":\"1247\"},{\"id\":\"1248\"},{\"id\":\"1249\"},{\"id\":\"1250\"},{\"id\":\"1251\"}]},\"id\":\"1253\",\"type\":\"Toolbar\"},{\"attributes\":{\"interval\":12},\"id\":\"1261\",\"type\":\"SingleIntervalTicker\"},{\"attributes\":{\"axis\":{\"id\":\"1239\"},\"coordinates\":null,\"group\":null,\"ticker\":null},\"id\":\"1242\",\"type\":\"Grid\"},{\"attributes\":{},\"id\":\"1240\",\"type\":\"BasicTicker\"}],\"root_ids\":[\"1230\"]},\"title\":\"Bokeh Application\",\"version\":\"2.4.3\"}};\n",
              "  const render_items = [{\"docid\":\"3523814e-88d1-4679-aab6-14ad43df0803\",\"root_ids\":[\"1230\"],\"roots\":{\"1230\":\"13c4911c-de28-4b3a-8c4f-1d1b20e5a3e1\"}}];\n",
              "  root.Bokeh.embed.embed_items_notebook(docs_json, render_items);\n",
              "  }\n",
              "  if (root.Bokeh !== undefined) {\n",
              "    embed_document(root);\n",
              "  } else {\n",
              "    let attempts = 0;\n",
              "    const timer = setInterval(function(root) {\n",
              "      if (root.Bokeh !== undefined) {\n",
              "        clearInterval(timer);\n",
              "        embed_document(root);\n",
              "      } else {\n",
              "        attempts++;\n",
              "        if (attempts > 100) {\n",
              "          clearInterval(timer);\n",
              "          console.log(\"Bokeh: ERROR: Unable to run BokehJS code because BokehJS library is missing\");\n",
              "        }\n",
              "      }\n",
              "    }, 10, root)\n",
              "  }\n",
              "})(window);"
            ],
            "application/vnd.bokehjs_exec.v0+json": ""
          },
          "metadata": {
            "application/vnd.bokehjs_exec.v0+json": {
              "id": "1230"
            }
          }
        },
        {
          "output_type": "stream",
          "name": "stdout",
          "text": [
            "Сэмпл сохранён в файл \"sample_0_2.mid\"\n"
          ]
        },
        {
          "output_type": "display_data",
          "data": {
            "text/plain": [
              "<IPython.core.display.HTML object>"
            ],
            "text/html": [
              "<div id=\"id_4\"> </div>"
            ]
          },
          "metadata": {}
        },
        {
          "output_type": "display_data",
          "data": {
            "text/html": [
              "\n",
              "  <div class=\"bk-root\" id=\"21f3e5dd-4fe3-4c09-9cc8-40c8c227693d\" data-root-id=\"1359\"></div>\n"
            ]
          },
          "metadata": {}
        },
        {
          "output_type": "display_data",
          "data": {
            "application/javascript": [
              "(function(root) {\n",
              "  function embed_document(root) {\n",
              "  const docs_json = {\"c07d9991-2c81-493f-b3fc-aeac51b2d81a\":{\"defs\":[],\"roots\":{\"references\":[{\"attributes\":{\"below\":[{\"id\":\"1368\"}],\"center\":[{\"id\":\"1371\"},{\"id\":\"1375\"}],\"height\":200,\"left\":[{\"id\":\"1372\"}],\"renderers\":[{\"id\":\"1396\"}],\"title\":{\"id\":\"1398\"},\"toolbar\":{\"id\":\"1382\"},\"width\":500,\"x_range\":{\"id\":\"1360\"},\"x_scale\":{\"id\":\"1364\"},\"y_range\":{\"id\":\"1362\"},\"y_scale\":{\"id\":\"1366\"}},\"id\":\"1359\",\"subtype\":\"Figure\",\"type\":\"Plot\"},{\"attributes\":{},\"id\":\"1377\",\"type\":\"PanTool\"},{\"attributes\":{\"interval\":12},\"id\":\"1390\",\"type\":\"SingleIntervalTicker\"},{\"attributes\":{\"coordinates\":null,\"data_source\":{\"id\":\"1391\"},\"glyph\":{\"id\":\"1393\"},\"group\":null,\"hover_glyph\":null,\"muted_glyph\":{\"id\":\"1395\"},\"nonselection_glyph\":{\"id\":\"1394\"},\"view\":{\"id\":\"1397\"}},\"id\":\"1396\",\"type\":\"GlyphRenderer\"},{\"attributes\":{},\"id\":\"1360\",\"type\":\"DataRange1d\"},{\"attributes\":{\"bottom\":{\"field\":\"bottom\"},\"fill_alpha\":{\"value\":0.2},\"fill_color\":{\"value\":\"#d53e4f\"},\"hatch_alpha\":{\"value\":0.2},\"left\":{\"field\":\"start_time\"},\"line_alpha\":{\"value\":0.2},\"right\":{\"field\":\"end_time\"},\"top\":{\"field\":\"top\"}},\"id\":\"1395\",\"type\":\"Quad\"},{\"attributes\":{\"bottom_units\":\"screen\",\"coordinates\":null,\"fill_alpha\":0.5,\"fill_color\":\"lightgrey\",\"group\":null,\"left_units\":\"screen\",\"level\":\"overlay\",\"line_alpha\":1.0,\"line_color\":\"black\",\"line_dash\":[4,4],\"line_width\":2,\"right_units\":\"screen\",\"syncable\":false,\"top_units\":\"screen\"},\"id\":\"1381\",\"type\":\"BoxAnnotation\"},{\"attributes\":{\"tools\":[{\"id\":\"1376\"},{\"id\":\"1377\"},{\"id\":\"1378\"},{\"id\":\"1379\"},{\"id\":\"1380\"}]},\"id\":\"1382\",\"type\":\"Toolbar\"},{\"attributes\":{},\"id\":\"1400\",\"type\":\"BasicTickFormatter\"},{\"attributes\":{},\"id\":\"1404\",\"type\":\"AllLabels\"},{\"attributes\":{},\"id\":\"1406\",\"type\":\"Selection\"},{\"attributes\":{\"axis_label\":\"time (sec)\",\"coordinates\":null,\"formatter\":{\"id\":\"1403\"},\"group\":null,\"major_label_policy\":{\"id\":\"1404\"},\"ticker\":{\"id\":\"1369\"}},\"id\":\"1368\",\"type\":\"LinearAxis\"},{\"attributes\":{\"interval\":12},\"id\":\"1388\",\"type\":\"SingleIntervalTicker\"},{\"attributes\":{\"coordinates\":null,\"group\":null},\"id\":\"1398\",\"type\":\"Title\"},{\"attributes\":{},\"id\":\"1405\",\"type\":\"UnionRenderers\"},{\"attributes\":{},\"id\":\"1401\",\"type\":\"AllLabels\"},{\"attributes\":{},\"id\":\"1380\",\"type\":\"SaveTool\"},{\"attributes\":{\"callback\":null,\"tooltips\":[[\"pitch\",\"@pitch\"],[\"program\",\"@program\"],[\"velo\",\"@velocity\"],[\"duration\",\"@duration\"],[\"start_time\",\"@start_time\"],[\"end_time\",\"@end_time\"],[\"velocity\",\"@velocity\"],[\"fill_alpha\",\"@fill_alpha\"]]},\"id\":\"1376\",\"type\":\"HoverTool\"},{\"attributes\":{},\"id\":\"1366\",\"type\":\"LinearScale\"},{\"attributes\":{\"source\":{\"id\":\"1391\"}},\"id\":\"1397\",\"type\":\"CDSView\"},{\"attributes\":{\"bottom\":{\"field\":\"bottom\"},\"fill_alpha\":{\"field\":\"fill_alpha\"},\"fill_color\":{\"value\":\"#d53e4f\"},\"left\":{\"field\":\"start_time\"},\"right\":{\"field\":\"end_time\"},\"top\":{\"field\":\"top\"}},\"id\":\"1393\",\"type\":\"Quad\"},{\"attributes\":{\"overlay\":{\"id\":\"1381\"}},\"id\":\"1378\",\"type\":\"BoxZoomTool\"},{\"attributes\":{},\"id\":\"1379\",\"type\":\"ResetTool\"},{\"attributes\":{},\"id\":\"1364\",\"type\":\"LinearScale\"},{\"attributes\":{\"bottom\":{\"field\":\"bottom\"},\"fill_alpha\":{\"value\":0.1},\"fill_color\":{\"value\":\"#d53e4f\"},\"hatch_alpha\":{\"value\":0.1},\"left\":{\"field\":\"start_time\"},\"line_alpha\":{\"value\":0.1},\"right\":{\"field\":\"end_time\"},\"top\":{\"field\":\"top\"}},\"id\":\"1394\",\"type\":\"Quad\"},{\"attributes\":{\"axis\":{\"id\":\"1372\"},\"coordinates\":null,\"dimension\":1,\"group\":null,\"ticker\":{\"id\":\"1390\"}},\"id\":\"1375\",\"type\":\"Grid\"},{\"attributes\":{},\"id\":\"1403\",\"type\":\"BasicTickFormatter\"},{\"attributes\":{\"axis_label\":\"pitch (MIDI)\",\"coordinates\":null,\"formatter\":{\"id\":\"1400\"},\"group\":null,\"major_label_policy\":{\"id\":\"1401\"},\"ticker\":{\"id\":\"1388\"}},\"id\":\"1372\",\"type\":\"LinearAxis\"},{\"attributes\":{},\"id\":\"1362\",\"type\":\"DataRange1d\"},{\"attributes\":{\"axis\":{\"id\":\"1368\"},\"coordinates\":null,\"group\":null,\"ticker\":null},\"id\":\"1371\",\"type\":\"Grid\"},{\"attributes\":{},\"id\":\"1369\",\"type\":\"BasicTicker\"},{\"attributes\":{\"data\":{\"bottom\":{\"__ndarray__\":\"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\",\"dtype\":\"float64\",\"order\":\"little\",\"shape\":[222]},\"duration\":{\"__ndarray__\":\"at+w9g1r3z+/Ye0b1r7lP2vfsPYNa98/Yu0b1r5h3T9g7RvWvmHdP2zfsPYNa98/zMzMzMzM3D/MzMzMzMzcPwAAAAAAAPg/L7rooosu8D8kTwnylCDXP2DtG9a+Yd0/ZGZmZmZm7j+oBHlKkKfgP2jfsPYNa+8/aN+w9g1r3z9Y+4a1b1jvPwAAAAAAAABAIE8J8pQg+T9GF1100UXxPxhddNFFF9U/5ClBnhLk4T8gXXTRRRfVP+gpQZ4S5OE/WPuGtW9Y7z9wSpCnBHnSP9DMzMzMzOQ/gMPaN6x92z+ItW9Y+4b3P1j7hrVvWO8/AIe1b1j71j9UgjwlyFPwP5AgTwnylNA/KEGeEuQp7T9w37D2DWvfPzQzMzMzM/s/CPKUIE8J7j9g7RvWvmHdP4C1b1j7ht0/IE8J8pQg1z/YN6x9w9r/P3hKkKcEefg/RBdddNFF8T9EF1100UXxP1DtG9a+Yd0/aGZmZmZm7j9gZmZmZmbuP6AEeUqQp+A/AKOLLrro2j/A2jesfcPaP4DD2jesfds/gLVvWPuG3T8gTwnylCDXPyjIU4I8JfA/4KKLLrro2j8Qa9+w9g3nP2D7hrVvWO8/YO0b1r5h3T9gZmZmZmbuP6C1b1j7ht0/YO0b1r5h3T+gEuQpQZ74P+Cw9g1r39g/SBdddNFF8T/IU4I8JcjxP2DfsPYNa98/cGZmZmZm7j9w37D2DWvvP4A8JchTgtQ/oPYNa9+w3j/g2jesfcPaP6CLLrroots/AAAAAAAA+D+oBHlKkKfwPyBPCfKUINc/gMPaN6x92z8gyFOCPCXsP4DRRRdddO0/wMzMzMzM3D8wyFOCPCXsP4DD2jesfds/gDwlyFOC1D8Qa9+w9g33P1CCPCXIU/A/8A1r37D24T/QzMzMzMzwP8DMzMzMzNw/sAR5SpCn4D8gMzMzMzPTPxBddNFFF+U/gMPaN6x92z+oBHlKkKfwPyDIU4I8Jfw/AHlKkKcE2T/gN6x9w9rjP9DMzMzMzPA/AO0b1r5hzT8AmpmZmZnJP6AgTwnylPo/wMzMzMzM3D+AmZmZmZnJP4DtG9a+Yc0/0FOCPCXI/T8ga9+w9g3vP6AEeUqQp+A/AAAAAAAA6D8ga9+w9g3vP8DMzMzMzNw/QBdddNFF3z9g37D2DWvvP5CnBHlKkAJA4A1r37D24T9ACfKUIE/pP0AlyFOCPNU/gDwlyFOC1D8gXXTRRRftPyDWvmHtG+4/QDMzMzMz0z8wrH3D2jfyP6CZmZmZmeE/AA5r37D24T/QzMzMzMzwP8Bh7RvWvvE/wLD2DWvf2D/AsPYNa9/YP4A8JchTgtQ/oAR5SpCn4D8wrH3D2jfyPyDIU4I8Jfw/QO0b1r5h3T8ga9+w9g3nP0DfsPYNa98/4LD2DWvfDkDQvmHtG9YDQMBh7RvWvvE/8BvWvmHt9T+A7RvWvmHNP+CUIE8J8ug/QDMzMzMz0z8AAAAAAAD4P4BKkKcEedI/0MzMzMzM8D/QzMzMzMzwP8DMzMzMzNw/gMPaN6x92z9w0UUXXXT1P4AS5ClBntI/oAR5SpCn4D9AQZ4S5CntP6AgTwnylOA/gLVvWPuG3T9AF1100UX9P4DfsPYNa98/QBdddNFF3z9A+4a1b1jvP4AS5ClBntI/kKcEeUqQAkCAw9o3rH33P+ApQZ4S5OE/QO0b1r5h3T8gyFOCPCXwP4CZmZmZmeE/gEqQpwR50j+AEuQpQZ7SP+ANa9+w9uE/oJmZmZmZ4T8Ah7VvWPvWPwCVIE8J8uA/gO0b1r5hzT9A7RvWvmHdP6AEeUqQp+A/AHlKkKcE2T8gXXTRRRftP4BKkKcEedI/QBdddNFF3z9QCfKUIE/9P/Ab1r5h7fU/YN+w9g1r7z9AJchTgjzVP6AEeUqQp+A/gMPaN6x92z8gnhLkKUHqP0CsfcPaN/I/cN+w9g1r9T8Av2HtG9biP1D7hrVvWPM/wL5h7RvW4j8wMzMzMzP7P8AEeUqQp+A/wGHtG9a+8T/AKUGeEuThPwCx9g1r39g/gEqQpwR50j8A6aKLLrrQP4DtG9a+Yd0/gNFFF1109T/AYe0b1r79P+Cw9g1r3/Y/AJUgTwny6D+AmZmZmZnhPwCHtW9Y+9Y/QII8JchT8D+A9g1r37DmPwAAAAAAAOg/AO4b1r5hzT/ABHlKkKfgP0BmZmZmZu4/IE8J8pQg8T/AN6x9w9rjPwBFF1100cU/AAAAAAAA6D8AMzMzMzPTP6D2DWvfsP4/wClBnhLk4T8ACfKUIE/RP0C66KKLLvA/AJUgTwny4D8ADmvfsPbhP4DooosuutA/wAR5SpCn4D8AMzMzMzPTP8AEeUqQp+A/\",\"dtype\":\"float64\",\"order\":\"little\",\"shape\":[222]},\"end_time\":{\"__ndarray__\":\"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\",\"dtype\":\"float64\",\"order\":\"little\",\"shape\":[222]},\"fill_alpha\":{\"__ndarray__\":\"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\",\"dtype\":\"float64\",\"order\":\"little\",\"shape\":[222]},\"index\":[0,1,2,3,4,5,6,7,8,9,10,11,12,13,14,15,16,17,18,19,20,21,22,23,24,25,26,27,28,29,30,31,32,33,34,35,36,37,38,39,40,41,42,43,44,45,46,47,48,49,50,51,52,53,54,55,56,57,58,59,60,61,62,63,64,65,66,67,68,69,70,71,72,73,74,75,76,77,78,79,80,81,82,83,84,85,86,87,88,89,90,91,92,93,94,95,96,97,98,99,100,101,102,103,104,105,106,107,108,109,110,111,112,113,114,115,116,117,118,119,120,121,122,123,124,125,126,127,128,129,130,131,132,133,134,135,136,137,138,139,140,141,142,143,144,145,146,147,148,149,150,151,152,153,154,155,156,157,158,159,160,161,162,163,164,165,166,167,168,169,170,171,172,173,174,175,176,177,178,179,180,181,182,183,184,185,186,187,188,189,190,191,192,193,194,195,196,197,198,199,200,201,202,203,204,205,206,207,208,209,210,211,212,213,214,215,216,217,218,219,220,221],\"instrument\":[0,0,0,0,0,0,0,0,0,0,0,0,0,0,0,0,0,0,0,0,0,0,0,0,0,0,0,0,0,0,0,0,0,0,0,0,0,0,0,0,0,0,0,0,0,0,0,0,0,0,0,0,0,0,0,0,0,0,0,0,0,0,0,0,0,0,0,0,0,0,0,0,0,0,0,0,0,0,0,0,0,0,0,0,0,0,0,0,0,0,0,0,0,0,0,0,0,0,0,0,0,0,0,0,0,0,0,0,0,0,0,0,0,0,0,0,0,0,0,0,0,0,0,0,0,0,0,0,0,0,0,0,0,0,0,0,0,0,0,0,0,0,0,0,0,0,0,0,0,0,0,0,0,0,0,0,0,0,0,0,0,0,0,0,0,0,0,0,0,0,0,0,0,0,0,0,0,0,0,0,0,0,0,0,0,0,0,0,0,0,0,0,0,0,0,0,0,0,0,0,0,0,0,0,0,0,0,0,0,0,0,0,0,0,0,0,0,0,0,0,0,0],\"pitch\":[76,49,61,76,61,76,61,76,53,56,61,61,76,61,75,61,76,52,56,59,61,75,61,76,51,61,75,61,56,59,61,76,61,75,61,78,73,61,73,61,51,56,59,75,61,73,49,52,61,73,61,73,61,56,61,49,73,61,72,61,72,53,61,75,56,61,72,49,61,72,61,72,52,56,61,61,72,49,61,70,61,61,52,56,70,72,69,71,74,69,64,60,57,60,64,72,73,73,69,73,69,69,57,64,71,73,74,69,57,53,61,69,71,76,57,54,74,62,69,86,85,64,88,81,80,80,81,83,68,73,76,72,57,69,72,73,61,76,75,49,61,53,73,61,61,56,61,75,53,77,61,49,73,61,53,61,68,56,73,72,49,52,61,61,75,56,73,52,73,61,78,61,76,61,75,49,52,56,61,73,71,73,74,75,69,59,71,47,73,62,74,76,75,71,69,73,52,56,68,69,71,59,73,61,73,64,68,53,73,63,56,64,49,61,73,68,56,49,56,61,68,73],\"program\":[0,0,0,0,0,0,0,0,0,0,0,0,0,0,0,0,0,0,0,0,0,0,0,0,0,0,0,0,0,0,0,0,0,0,0,0,0,0,0,0,0,0,0,0,0,0,0,0,0,0,0,0,0,0,0,0,0,0,0,0,0,0,0,0,0,0,0,0,0,0,0,0,0,0,0,0,0,0,0,0,0,0,0,0,0,0,0,0,0,0,0,0,0,0,0,0,0,0,0,0,0,0,0,0,0,0,0,0,0,0,0,0,0,0,0,0,0,0,0,0,0,0,0,0,0,0,0,0,0,0,0,0,0,0,0,0,0,0,0,0,0,0,0,0,0,0,0,0,0,0,0,0,0,0,0,0,0,0,0,0,0,0,0,0,0,0,0,0,0,0,0,0,0,0,0,0,0,0,0,0,0,0,0,0,0,0,0,0,0,0,0,0,0,0,0,0,0,0,0,0,0,0,0,0,0,0,0,0,0,0,0,0,0,0,0,0,0,0,0,0,0,0],\"start_time\":{\"__ndarray__\":\"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\",\"dtype\":\"float64\",\"order\":\"little\",\"shape\":[222]},\"top\":{\"__ndarray__\":\"mpmZmZkZU0AzMzMzM7NIQDMzMzMzs05AmpmZmZkZU0AzMzMzM7NOQJqZmZmZGVNAMzMzMzOzTkCamZmZmRlTQDMzMzMzs0pAMzMzMzMzTEAzMzMzM7NOQDMzMzMzs05AmpmZmZkZU0AzMzMzM7NOQJqZmZmZ2VJAMzMzMzOzTkCamZmZmRlTQDMzMzMzM0pAMzMzMzMzTEAzMzMzM7NNQDMzMzMzs05AmpmZmZnZUkAzMzMzM7NOQJqZmZmZGVNAMzMzMzOzSUAzMzMzM7NOQJqZmZmZ2VJAMzMzMzOzTkAzMzMzMzNMQDMzMzMzs01AMzMzMzOzTkCamZmZmRlTQDMzMzMzs05AmpmZmZnZUkAzMzMzM7NOQJqZmZmZmVNAmpmZmZlZUkAzMzMzM7NOQJqZmZmZWVJAMzMzMzOzTkAzMzMzM7NJQDMzMzMzM0xAMzMzMzOzTUCamZmZmdlSQDMzMzMzs05AmpmZmZlZUkAzMzMzM7NIQDMzMzMzM0pAMzMzMzOzTkCamZmZmVlSQDMzMzMzs05AmpmZmZlZUkAzMzMzM7NOQDMzMzMzM0xAMzMzMzOzTkAzMzMzM7NIQJqZmZmZWVJAMzMzMzOzTkCamZmZmRlSQDMzMzMzs05AmpmZmZkZUkAzMzMzM7NKQDMzMzMzs05AmpmZmZnZUkAzMzMzMzNMQDMzMzMzs05AmpmZmZkZUkAzMzMzM7NIQDMzMzMzs05AmpmZmZkZUkAzMzMzM7NOQJqZmZmZGVJAMzMzMzMzSkAzMzMzMzNMQDMzMzMzs05AMzMzMzOzTkCamZmZmRlSQDMzMzMzs0hAMzMzMzOzTkCamZmZmZlRQDMzMzMzs05AMzMzMzOzTkAzMzMzMzNKQDMzMzMzM0xAmpmZmZmZUUCamZmZmRlSQJqZmZmZWVFAmpmZmZnZUUCamZmZmZlSQJqZmZmZWVFAmpmZmZkZUEAzMzMzMzNOQDMzMzMzs0xAMzMzMzMzTkCamZmZmRlQQJqZmZmZGVJAmpmZmZlZUkCamZmZmVlSQJqZmZmZWVFAmpmZmZlZUkCamZmZmVlRQJqZmZmZWVFAMzMzMzOzTECamZmZmRlQQJqZmZmZ2VFAmpmZmZlZUkCamZmZmZlSQJqZmZmZWVFAMzMzMzOzTEAzMzMzM7NKQDMzMzMzs05AmpmZmZlZUUCamZmZmdlRQJqZmZmZGVNAMzMzMzOzTEAzMzMzMzNLQJqZmZmZmVJAMzMzMzMzT0CamZmZmVlRQJqZmZmZmVVAmpmZmZlZVUCamZmZmRlQQJqZmZmZGVZAmpmZmZlZVECamZmZmRlUQJqZmZmZGVRAmpmZmZlZVECamZmZmdlUQJqZmZmZGVFAmpmZmZlZUkCamZmZmRlTQJqZmZmZGVJAMzMzMzOzTECamZmZmVlRQJqZmZmZGVJAmpmZmZlZUkAzMzMzM7NOQJqZmZmZGVNAmpmZmZnZUkAzMzMzM7NIQDMzMzMzs05AMzMzMzOzSkCamZmZmVlSQDMzMzMzs05AMzMzMzOzTkAzMzMzMzNMQDMzMzMzs05AmpmZmZnZUkAzMzMzM7NKQJqZmZmZWVNAMzMzMzOzTkAzMzMzM7NIQJqZmZmZWVJAMzMzMzOzTkAzMzMzM7NKQDMzMzMzs05AmpmZmZkZUUAzMzMzMzNMQJqZmZmZWVJAmpmZmZkZUkAzMzMzM7NIQDMzMzMzM0pAMzMzMzOzTkAzMzMzM7NOQJqZmZmZ2VJAMzMzMzMzTECamZmZmVlSQDMzMzMzM0pAmpmZmZlZUkAzMzMzM7NOQJqZmZmZmVNAMzMzMzOzTkCamZmZmRlTQDMzMzMzs05AmpmZmZnZUkAzMzMzM7NIQDMzMzMzM0pAMzMzMzMzTEAzMzMzM7NOQJqZmZmZWVJAmpmZmZnZUUCamZmZmVlSQJqZmZmZmVJAmpmZmZnZUkCamZmZmVlRQDMzMzMzs01AmpmZmZnZUUAzMzMzM7NHQJqZmZmZWVJAMzMzMzMzT0CamZmZmZlSQJqZmZmZGVNAmpmZmZnZUkCamZmZmdlRQJqZmZmZWVFAmpmZmZlZUkAzMzMzMzNKQDMzMzMzM0xAmpmZmZkZUUCamZmZmVlRQJqZmZmZ2VFAMzMzMzOzTUCamZmZmVlSQDMzMzMzs05AmpmZmZlZUkCamZmZmRlQQJqZmZmZGVFAMzMzMzOzSkCamZmZmVlSQDMzMzMzs09AMzMzMzMzTECamZmZmRlQQDMzMzMzs0hAMzMzMzOzTkCamZmZmVlSQJqZmZmZGVFAMzMzMzMzTEAzMzMzM7NIQDMzMzMzM0xAMzMzMzOzTkCamZmZmRlRQJqZmZmZWVJA\",\"dtype\":\"float64\",\"order\":\"little\",\"shape\":[222]},\"velocity\":[117,73,73,105,85,105,85,105,93,85,89,77,105,85,101,73,101,93,97,93,73,89,73,97,85,89,101,81,97,93,97,105,89,101,89,105,101,73,97,89,93,97,89,101,73,97,81,93,89,105,89,105,85,89,81,77,105,101,101,93,97,97,85,105,93,81,97,85,73,97,85,105,89,93,81,89,105,93,85,101,93,81,93,97,97,105,93,97,89,101,85,85,77,81,81,97,101,93,81,93,93,105,89,89,97,101,101,93,93,93,89,93,97,97,89,89,97,81,81,97,105,85,101,105,97,89,101,105,93,93,101,97,89,93,89,97,77,89,85,73,85,89,105,101,89,101,93,105,93,105,89,97,105,81,93,73,105,93,101,101,85,89,93,97,109,97,101,85,85,85,97,97,101,97,101,73,85,93,101,105,101,101,97,105,101,93,93,89,105,77,97,101,93,97,105,105,77,97,101,97,97,81,101,89,109,101,93,89,101,97,89,97,85,93,105,101,85,89,85,89,101,101]},\"selected\":{\"id\":\"1406\"},\"selection_policy\":{\"id\":\"1405\"}},\"id\":\"1391\",\"type\":\"ColumnDataSource\"}],\"root_ids\":[\"1359\"]},\"title\":\"Bokeh Application\",\"version\":\"2.4.3\"}};\n",
              "  const render_items = [{\"docid\":\"c07d9991-2c81-493f-b3fc-aeac51b2d81a\",\"root_ids\":[\"1359\"],\"roots\":{\"1359\":\"21f3e5dd-4fe3-4c09-9cc8-40c8c227693d\"}}];\n",
              "  root.Bokeh.embed.embed_items_notebook(docs_json, render_items);\n",
              "  }\n",
              "  if (root.Bokeh !== undefined) {\n",
              "    embed_document(root);\n",
              "  } else {\n",
              "    let attempts = 0;\n",
              "    const timer = setInterval(function(root) {\n",
              "      if (root.Bokeh !== undefined) {\n",
              "        clearInterval(timer);\n",
              "        embed_document(root);\n",
              "      } else {\n",
              "        attempts++;\n",
              "        if (attempts > 100) {\n",
              "          clearInterval(timer);\n",
              "          console.log(\"Bokeh: ERROR: Unable to run BokehJS code because BokehJS library is missing\");\n",
              "        }\n",
              "      }\n",
              "    }, 10, root)\n",
              "  }\n",
              "})(window);"
            ],
            "application/vnd.bokehjs_exec.v0+json": ""
          },
          "metadata": {
            "application/vnd.bokehjs_exec.v0+json": {
              "id": "1359"
            }
          }
        },
        {
          "output_type": "stream",
          "name": "stdout",
          "text": [
            "Сэмпл сохранён в файл \"sample_0_3.mid\"\n"
          ]
        },
        {
          "output_type": "display_data",
          "data": {
            "text/plain": [
              "<IPython.core.display.HTML object>"
            ],
            "text/html": [
              "<div id=\"id_5\"> </div>"
            ]
          },
          "metadata": {}
        },
        {
          "output_type": "display_data",
          "data": {
            "text/html": [
              "\n",
              "  <div class=\"bk-root\" id=\"bde6ad91-2509-4253-968a-eb8e612abe57\" data-root-id=\"1498\"></div>\n"
            ]
          },
          "metadata": {}
        },
        {
          "output_type": "display_data",
          "data": {
            "application/javascript": [
              "(function(root) {\n",
              "  function embed_document(root) {\n",
              "  const docs_json = {\"b6cd4f05-6c3e-446a-a638-8e86328618e4\":{\"defs\":[],\"roots\":{\"references\":[{\"attributes\":{\"below\":[{\"id\":\"1507\"}],\"center\":[{\"id\":\"1510\"},{\"id\":\"1514\"}],\"height\":200,\"left\":[{\"id\":\"1511\"}],\"renderers\":[{\"id\":\"1535\"}],\"title\":{\"id\":\"1537\"},\"toolbar\":{\"id\":\"1521\"},\"width\":500,\"x_range\":{\"id\":\"1499\"},\"x_scale\":{\"id\":\"1503\"},\"y_range\":{\"id\":\"1501\"},\"y_scale\":{\"id\":\"1505\"}},\"id\":\"1498\",\"subtype\":\"Figure\",\"type\":\"Plot\"},{\"attributes\":{},\"id\":\"1542\",\"type\":\"BasicTickFormatter\"},{\"attributes\":{},\"id\":\"1519\",\"type\":\"SaveTool\"},{\"attributes\":{\"bottom\":{\"field\":\"bottom\"},\"fill_alpha\":{\"value\":0.2},\"fill_color\":{\"value\":\"#d53e4f\"},\"hatch_alpha\":{\"value\":0.2},\"left\":{\"field\":\"start_time\"},\"line_alpha\":{\"value\":0.2},\"right\":{\"field\":\"end_time\"},\"top\":{\"field\":\"top\"}},\"id\":\"1534\",\"type\":\"Quad\"},{\"attributes\":{},\"id\":\"1540\",\"type\":\"AllLabels\"},{\"attributes\":{\"axis\":{\"id\":\"1511\"},\"coordinates\":null,\"dimension\":1,\"group\":null,\"ticker\":{\"id\":\"1529\"}},\"id\":\"1514\",\"type\":\"Grid\"},{\"attributes\":{\"coordinates\":null,\"data_source\":{\"id\":\"1530\"},\"glyph\":{\"id\":\"1532\"},\"group\":null,\"hover_glyph\":null,\"muted_glyph\":{\"id\":\"1534\"},\"nonselection_glyph\":{\"id\":\"1533\"},\"view\":{\"id\":\"1536\"}},\"id\":\"1535\",\"type\":\"GlyphRenderer\"},{\"attributes\":{\"callback\":null,\"tooltips\":[[\"pitch\",\"@pitch\"],[\"program\",\"@program\"],[\"velo\",\"@velocity\"],[\"duration\",\"@duration\"],[\"start_time\",\"@start_time\"],[\"end_time\",\"@end_time\"],[\"velocity\",\"@velocity\"],[\"fill_alpha\",\"@fill_alpha\"]]},\"id\":\"1515\",\"type\":\"HoverTool\"},{\"attributes\":{\"bottom\":{\"field\":\"bottom\"},\"fill_alpha\":{\"field\":\"fill_alpha\"},\"fill_color\":{\"value\":\"#d53e4f\"},\"left\":{\"field\":\"start_time\"},\"right\":{\"field\":\"end_time\"},\"top\":{\"field\":\"top\"}},\"id\":\"1532\",\"type\":\"Quad\"},{\"attributes\":{\"interval\":12},\"id\":\"1529\",\"type\":\"SingleIntervalTicker\"},{\"attributes\":{\"overlay\":{\"id\":\"1520\"}},\"id\":\"1517\",\"type\":\"BoxZoomTool\"},{\"attributes\":{\"axis_label\":\"time (sec)\",\"coordinates\":null,\"formatter\":{\"id\":\"1542\"},\"group\":null,\"major_label_policy\":{\"id\":\"1543\"},\"ticker\":{\"id\":\"1508\"}},\"id\":\"1507\",\"type\":\"LinearAxis\"},{\"attributes\":{},\"id\":\"1518\",\"type\":\"ResetTool\"},{\"attributes\":{},\"id\":\"1543\",\"type\":\"AllLabels\"},{\"attributes\":{\"axis\":{\"id\":\"1507\"},\"coordinates\":null,\"group\":null,\"ticker\":null},\"id\":\"1510\",\"type\":\"Grid\"},{\"attributes\":{},\"id\":\"1516\",\"type\":\"PanTool\"},{\"attributes\":{},\"id\":\"1501\",\"type\":\"DataRange1d\"},{\"attributes\":{},\"id\":\"1505\",\"type\":\"LinearScale\"},{\"attributes\":{},\"id\":\"1539\",\"type\":\"BasicTickFormatter\"},{\"attributes\":{\"bottom_units\":\"screen\",\"coordinates\":null,\"fill_alpha\":0.5,\"fill_color\":\"lightgrey\",\"group\":null,\"left_units\":\"screen\",\"level\":\"overlay\",\"line_alpha\":1.0,\"line_color\":\"black\",\"line_dash\":[4,4],\"line_width\":2,\"right_units\":\"screen\",\"syncable\":false,\"top_units\":\"screen\"},\"id\":\"1520\",\"type\":\"BoxAnnotation\"},{\"attributes\":{},\"id\":\"1499\",\"type\":\"DataRange1d\"},{\"attributes\":{\"source\":{\"id\":\"1530\"}},\"id\":\"1536\",\"type\":\"CDSView\"},{\"attributes\":{},\"id\":\"1503\",\"type\":\"LinearScale\"},{\"attributes\":{},\"id\":\"1508\",\"type\":\"BasicTicker\"},{\"attributes\":{\"tools\":[{\"id\":\"1515\"},{\"id\":\"1516\"},{\"id\":\"1517\"},{\"id\":\"1518\"},{\"id\":\"1519\"}]},\"id\":\"1521\",\"type\":\"Toolbar\"},{\"attributes\":{\"interval\":12},\"id\":\"1527\",\"type\":\"SingleIntervalTicker\"},{\"attributes\":{},\"id\":\"1545\",\"type\":\"Selection\"},{\"attributes\":{\"data\":{\"bottom\":{\"__ndarray__\":\"ZmZmZmbmUkBmZmZmZqZSQGZmZmZm5lJAZmZmZmamUkBmZmZmZuZSQGZmZmZmplFAZmZmZmZmUkBmZmZmZuZRQM3MzMzMTEZAzczMzMxMQEDNzMzMzExGQM3MzMzMzEdAZmZmZmYmUUDNzMzMzMxJQGZmZmZmJlFAzczMzMxMTEDNzMzMzMxPQM3MzMzMzEVAzczMzMzMSUDNzMzMzMxLQGZmZmZm5lBAzczMzMxMTUDNzMzMzMxPQGZmZmZm5lJAZmZmZmamUkBmZmZmZuZSQGZmZmZmplJAZmZmZmbmUkBmZmZmZqZSQGZmZmZm5lJAZmZmZmamUUBmZmZmZmZSQGZmZmZm5lFAzczMzMxMQEDNzMzMzExGQM3MzMzMTEZAzczMzMzMR0BmZmZmZiZRQM3MzMzMzElAzczMzMxMTECamZmZmZk+QM3MzMzMzE9AZmZmZmamUEDNzMzMzExFQM3MzMzMTEdAzczMzMzMSEDNzMzMzExLQGZmZmZmplFAZmZmZmamUEDNzMzMzMxCQM3MzMzMTEZAzczMzMzMSEBmZmZmZiZRQM3MzMzMzEpAzczMzMxMTEDNzMzMzExNQM3MzMzMzE9AZmZmZmZmUEDNzMzMzMxDQM3MzMzMzEVAzczMzMxMR0DNzMzMzMxJQM3MzMzMzEpAZmZmZmbmUEDNzMzMzExNQM3MzMzMzE9AzczMzMxMQUDNzMzMzExDQM3MzMzMzERAzczMzMxMQUDNzMzMzMxPQGZmZmZmZlBAzczMzMxMR0DNzMzMzExPQM3MzMzMzExAmpmZmZmZPkDNzMzMzExFQM3MzMzMzE9AZmZmZmamUEBmZmZmZmZQQGZmZmZmJlBAzczMzMzMT0BmZmZmZqZRQM3MzMzMTEVAZmZmZmYmUUBmZmZmZmZQQJqZmZmZmT5AzczMzMzMT0BmZmZmZqZQQGZmZmZmJlBAzczMzMzMT0DNzMzMzMxPQGZmZmZmZlBAzczMzMxMTUDNzMzMzMxDQM3MzMzMTEVAzczMzMxMR0DNzMzMzExLQGZmZmZmZlBAzczMzMxMTUDNzMzMzExLQM3MzMzMTEVAzczMzMxMTUDNzMzMzMxPQM3MzMzMzENAzczMzMxMRUDNzMzMzMxPQM3MzMzMTEZAzczMzMxMTEDNzMzMzExOQM3MzMzMzElAzczMzMzMT0DNzMzMzExMQM3MzMzMzE9AzczMzMzMSEDNzMzMzExOQM3MzMzMTEtAzczMzMzMTkBmZmZmZqZRQM3MzMzMTEtAZmZmZmamUEDNzMzMzExFQGZmZmZmplFAzczMzMzMTkBmZmZmZqZQQM3MzMzMTEtAzczMzMzMTkBmZmZmZqZRQGZmZmZmplBAzczMzMxMS0DNzMzMzMxHQGZmZmZmplBAZmZmZmZmUEDNzMzMzMxPQM3MzMzMzE1AzczMzMzMT0DNzMzMzMxNQM3MzMzMzE9AzczMzMxMS0DNzMzMzExNQGZmZmZmZlBAzczMzMzMQ0DNzMzMzExFQM3MzMzMzERAzczMzMxMR0DNzMzMzExHQGZmZmZmZlBAzczMzMxMRUDNzMzMzExNQM3MzMzMzE9AzczMzMzMQ0DNzMzMzExFQM3MzMzMTEZAzczMzMxMTEDNzMzMzExOQM3MzMzMzElAzczMzMzMT0DNzMzMzExOQM3MzMzMTExAzczMzMzMTkDNzMzMzExLQM3MzMzMzE5AzczMzMzMT0DNzMzMzMxPQGZmZmZmplFAzczMzMzMR0BmZmZmZiZRQGZmZmZmplBAzczMzMxMS0DNzMzMzMxNQGZmZmZm5lFAZmZmZmamUEBmZmZmZiZRQGZmZmZmplBAZmZmZmYmUUBmZmZmZmZSQGZmZmZm5lFAzczMzMzMRkBmZmZmZqZRQGZmZmZmJlFAZmZmZmamUEBmZmZmZiZQQM3MzMzMTEpAzczMzMzMT0DNzMzMzMxOQM3MzMzMzE9AzczMzMzMR0BmZmZmZqZQQM3MzMzMTEtAzczMzMzMTUDNzMzMzMxPQGZmZmZm5lFAzczMzMzMSEBmZmZmZqZRQM3MzMzMzEpAZmZmZmYmUUBmZmZmZqZQQGZmZmZmplBAzczMzMxMTEDNzMzMzMxNQM3MzMzMzElAZmZmZmamUEBmZmZmZiZRQM3MzMzMTEtAZmZmZmamUEDNzMzMzMxJQM3MzMzMzE9AzczMzMxMS0BmZmZmZqZRQGZmZmZmZlJAzczMzMzMSkBmZmZmZuZSQGZmZmZmZlNA\",\"dtype\":\"float64\",\"order\":\"little\",\"shape\":[213]},\"duration\":{\"__ndarray__\":\"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\",\"dtype\":\"float64\",\"order\":\"little\",\"shape\":[213]},\"end_time\":{\"__ndarray__\":\"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\",\"dtype\":\"float64\",\"order\":\"little\",\"shape\":[213]},\"fill_alpha\":{\"__ndarray__\":\"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\",\"dtype\":\"float64\",\"order\":\"little\",\"shape\":[213]},\"index\":[0,1,2,3,4,5,6,7,8,9,10,11,12,13,14,15,16,17,18,19,20,21,22,23,24,25,26,27,28,29,30,31,32,33,34,35,36,37,38,39,40,41,42,43,44,45,46,47,48,49,50,51,52,53,54,55,56,57,58,59,60,61,62,63,64,65,66,67,68,69,70,71,72,73,74,75,76,77,78,79,80,81,82,83,84,85,86,87,88,89,90,91,92,93,94,95,96,97,98,99,100,101,102,103,104,105,106,107,108,109,110,111,112,113,114,115,116,117,118,119,120,121,122,123,124,125,126,127,128,129,130,131,132,133,134,135,136,137,138,139,140,141,142,143,144,145,146,147,148,149,150,151,152,153,154,155,156,157,158,159,160,161,162,163,164,165,166,167,168,169,170,171,172,173,174,175,176,177,178,179,180,181,182,183,184,185,186,187,188,189,190,191,192,193,194,195,196,197,198,199,200,201,202,203,204,205,206,207,208,209,210,211,212],\"instrument\":[0,0,0,0,0,0,0,0,0,0,0,0,0,0,0,0,0,0,0,0,0,0,0,0,0,0,0,0,0,0,0,0,0,0,0,0,0,0,0,0,0,0,0,0,0,0,0,0,0,0,0,0,0,0,0,0,0,0,0,0,0,0,0,0,0,0,0,0,0,0,0,0,0,0,0,0,0,0,0,0,0,0,0,0,0,0,0,0,0,0,0,0,0,0,0,0,0,0,0,0,0,0,0,0,0,0,0,0,0,0,0,0,0,0,0,0,0,0,0,0,0,0,0,0,0,0,0,0,0,0,0,0,0,0,0,0,0,0,0,0,0,0,0,0,0,0,0,0,0,0,0,0,0,0,0,0,0,0,0,0,0,0,0,0,0,0,0,0,0,0,0,0,0,0,0,0,0,0,0,0,0,0,0,0,0,0,0,0,0,0,0,0,0,0,0,0,0,0,0,0,0,0,0,0,0,0,0,0,0,0,0,0,0],\"pitch\":[76,75,76,75,76,71,74,72,45,33,45,48,69,52,69,57,64,44,52,56,68,59,64,76,75,76,75,76,75,76,71,74,72,33,45,45,48,69,52,57,31,64,67,43,47,50,55,71,67,38,45,50,69,54,57,59,64,66,40,44,47,52,54,68,59,64,35,39,42,35,64,66,47,63,58,31,43,64,67,66,65,64,71,43,69,66,31,64,67,65,64,64,66,59,40,43,47,55,66,59,55,43,59,64,40,43,64,45,57,61,52,64,57,64,50,61,55,62,71,55,67,43,71,62,67,55,62,71,67,55,48,67,66,64,60,64,60,64,55,59,66,40,43,42,47,47,66,43,59,64,40,43,45,57,61,52,64,61,57,62,55,62,64,64,71,48,69,67,55,60,72,67,69,67,69,74,72,46,71,69,67,65,53,64,62,64,48,67,55,60,64,72,50,71,54,69,67,67,57,60,52,67,69,55,67,52,64,55,71,74,54,76,78],\"program\":[0,0,0,0,0,0,0,0,0,0,0,0,0,0,0,0,0,0,0,0,0,0,0,0,0,0,0,0,0,0,0,0,0,0,0,0,0,0,0,0,0,0,0,0,0,0,0,0,0,0,0,0,0,0,0,0,0,0,0,0,0,0,0,0,0,0,0,0,0,0,0,0,0,0,0,0,0,0,0,0,0,0,0,0,0,0,0,0,0,0,0,0,0,0,0,0,0,0,0,0,0,0,0,0,0,0,0,0,0,0,0,0,0,0,0,0,0,0,0,0,0,0,0,0,0,0,0,0,0,0,0,0,0,0,0,0,0,0,0,0,0,0,0,0,0,0,0,0,0,0,0,0,0,0,0,0,0,0,0,0,0,0,0,0,0,0,0,0,0,0,0,0,0,0,0,0,0,0,0,0,0,0,0,0,0,0,0,0,0,0,0,0,0,0,0,0,0,0,0,0,0,0,0,0,0,0,0,0,0,0,0,0,0],\"start_time\":{\"__ndarray__\":\"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\",\"dtype\":\"float64\",\"order\":\"little\",\"shape\":[213]},\"top\":{\"__ndarray__\":\"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\",\"dtype\":\"float64\",\"order\":\"little\",\"shape\":[213]},\"velocity\":[117,117,117,117,117,85,89,93,97,97,105,101,105,93,97,105,101,93,101,101,101,101,105,97,89,85,89,89,89,93,85,93,85,93,97,93,101,105,93,85,97,101,101,97,105,97,105,109,101,97,101,97,105,105,105,93,89,105,105,101,97,101,101,101,93,101,101,93,101,81,105,109,97,105,81,89,81,89,105,105,105,105,101,97,105,85,93,89,101,97,97,101,109,105,105,93,105,97,109,101,97,101,105,97,97,101,105,105,109,105,101,97,109,93,105,101,97,101,105,105,105,97,105,105,105,101,101,101,101,101,105,105,105,109,101,101,101,97,93,105,105,101,97,97,97,97,105,89,105,109,101,93,101,109,105,97,105,93,109,97,101,97,97,105,105,101,109,105,101,97,105,101,97,101,101,101,105,93,101,101,109,97,89,101,97,97,93,101,97,85,101,97,101,105,105,109,101,105,81,85,101,105,101,85,97,93,89,81,93,105,97,101,105]},\"selected\":{\"id\":\"1545\"},\"selection_policy\":{\"id\":\"1544\"}},\"id\":\"1530\",\"type\":\"ColumnDataSource\"},{\"attributes\":{},\"id\":\"1544\",\"type\":\"UnionRenderers\"},{\"attributes\":{\"coordinates\":null,\"group\":null},\"id\":\"1537\",\"type\":\"Title\"},{\"attributes\":{\"bottom\":{\"field\":\"bottom\"},\"fill_alpha\":{\"value\":0.1},\"fill_color\":{\"value\":\"#d53e4f\"},\"hatch_alpha\":{\"value\":0.1},\"left\":{\"field\":\"start_time\"},\"line_alpha\":{\"value\":0.1},\"right\":{\"field\":\"end_time\"},\"top\":{\"field\":\"top\"}},\"id\":\"1533\",\"type\":\"Quad\"},{\"attributes\":{\"axis_label\":\"pitch (MIDI)\",\"coordinates\":null,\"formatter\":{\"id\":\"1539\"},\"group\":null,\"major_label_policy\":{\"id\":\"1540\"},\"ticker\":{\"id\":\"1527\"}},\"id\":\"1511\",\"type\":\"LinearAxis\"}],\"root_ids\":[\"1498\"]},\"title\":\"Bokeh Application\",\"version\":\"2.4.3\"}};\n",
              "  const render_items = [{\"docid\":\"b6cd4f05-6c3e-446a-a638-8e86328618e4\",\"root_ids\":[\"1498\"],\"roots\":{\"1498\":\"bde6ad91-2509-4253-968a-eb8e612abe57\"}}];\n",
              "  root.Bokeh.embed.embed_items_notebook(docs_json, render_items);\n",
              "  }\n",
              "  if (root.Bokeh !== undefined) {\n",
              "    embed_document(root);\n",
              "  } else {\n",
              "    let attempts = 0;\n",
              "    const timer = setInterval(function(root) {\n",
              "      if (root.Bokeh !== undefined) {\n",
              "        clearInterval(timer);\n",
              "        embed_document(root);\n",
              "      } else {\n",
              "        attempts++;\n",
              "        if (attempts > 100) {\n",
              "          clearInterval(timer);\n",
              "          console.log(\"Bokeh: ERROR: Unable to run BokehJS code because BokehJS library is missing\");\n",
              "        }\n",
              "      }\n",
              "    }, 10, root)\n",
              "  }\n",
              "})(window);"
            ],
            "application/vnd.bokehjs_exec.v0+json": ""
          },
          "metadata": {
            "application/vnd.bokehjs_exec.v0+json": {
              "id": "1498"
            }
          }
        },
        {
          "output_type": "stream",
          "name": "stdout",
          "text": [
            "Сэмпл сохранён в файл \"sample_0_4.mid\"\n"
          ]
        }
      ]
    }
  ]
}