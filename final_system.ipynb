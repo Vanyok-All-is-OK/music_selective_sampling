{
  "nbformat": 4,
  "nbformat_minor": 0,
  "metadata": {
    "colab": {
      "provenance": [],
      "collapsed_sections": [
        "BW4AZwOzpYZU",
        "-90IeThWwOmU",
        "1QmnkAKtwgmD",
        "sh9mCUdy3A-B",
        "hm49qCPvH3kj",
        "pnQxmF-uX2qQ"
      ]
    },
    "kernelspec": {
      "name": "python3",
      "display_name": "Python 3"
    },
    "language_info": {
      "name": "python"
    }
  },
  "cells": [
    {
      "cell_type": "markdown",
      "source": [
        "# Отключение предупреждений tensorflow"
      ],
      "metadata": {
        "id": "BW4AZwOzpYZU"
      }
    },
    {
      "cell_type": "code",
      "source": [
        "import logging\n",
        "\n",
        "logging.getLogger('tensorflow').setLevel(logging.FATAL)"
      ],
      "metadata": {
        "id": "rysBM5_TeWbX"
      },
      "execution_count": 1,
      "outputs": []
    },
    {
      "cell_type": "markdown",
      "source": [
        "# Настройка среды"
      ],
      "metadata": {
        "id": "-90IeThWwOmU"
      }
    },
    {
      "cell_type": "code",
      "execution_count": 2,
      "metadata": {
        "colab": {
          "base_uri": "https://localhost:8080/"
        },
        "id": "oou5qJpVvr_V",
        "outputId": "a8a5e8e7-c95c-404b-a5a2-bb4f2d1a3adf"
      },
      "outputs": [
        {
          "output_type": "stream",
          "name": "stdout",
          "text": [
            "     ━━━━━━━━━━━━━━━━━━━━━━━━━━━━━━━━━━━━━━━━ 209.4/209.4 kB 2.1 MB/s eta 0:00:00\n",
            "     ━━━━━━━━━━━━━━━━━━━━━━━━━━━━━━━━━━━━━━━━ 1.4/1.4 MB 8.6 MB/s eta 0:00:00\n",
            "     ━━━━━━━━━━━━━━━━━━━━━━━━━━━━━━━━━━━━━━━━ 18.5/18.5 MB 14.1 MB/s eta 0:00:00\n",
            "     ━━━━━━━━━━━━━━━━━━━━━━━━━━━━━━━━━━━━━━━━ 5.6/5.6 MB 43.8 MB/s eta 0:00:00\n",
            "     ━━━━━━━━━━━━━━━━━━━━━━━━━━━━━━━━━━━━━━━━ 309.2/309.2 kB 33.8 MB/s eta 0:00:00\n",
            "     ━━━━━━━━━━━━━━━━━━━━━━━━━━━━━━━━━━━━━━━━ 6.5/6.5 MB 71.5 MB/s eta 0:00:00\n",
            "     ━━━━━━━━━━━━━━━━━━━━━━━━━━━━━━━━━━━━━━━━ 84.4/84.4 kB 8.8 MB/s eta 0:00:00\n",
            "     ━━━━━━━━━━━━━━━━━━━━━━━━━━━━━━━━━━━━━━━━ 193.4/193.4 kB 21.3 MB/s eta 0:00:00\n",
            "     ━━━━━━━━━━━━━━━━━━━━━━━━━━━━━━━━━━━━━━━━ 385.2/385.2 kB 35.9 MB/s eta 0:00:00\n",
            "     ━━━━━━━━━━━━━━━━━━━━━━━━━━━━━━━━━━━━━━━━ 58.1/58.1 kB 7.1 MB/s eta 0:00:00\n",
            "     ━━━━━━━━━━━━━━━━━━━━━━━━━━━━━━━━━━━━━━━━ 611.8/611.8 kB 44.3 MB/s eta 0:00:00\n",
            "     ━━━━━━━━━━━━━━━━━━━━━━━━━━━━━━━━━━━━━━━━ 367.1/367.1 kB 31.9 MB/s eta 0:00:00\n",
            "     ━━━━━━━━━━━━━━━━━━━━━━━━━━━━━━━━━━━━━━━━ 981.4/981.4 kB 50.1 MB/s eta 0:00:00\n",
            "     ━━━━━━━━━━━━━━━━━━━━━━━━━━━━━━━━━━━━━━━━ 54.6/54.6 kB 6.0 MB/s eta 0:00:00\n",
            "     ━━━━━━━━━━━━━━━━━━━━━━━━━━━━━━━━━━━━━━━━ 199.7/199.7 kB 23.0 MB/s eta 0:00:00\n",
            "     ━━━━━━━━━━━━━━━━━━━━━━━━━━━━━━━━━━━━━━━━ 199.7/199.7 kB 22.8 MB/s eta 0:00:00\n",
            "     ━━━━━━━━━━━━━━━━━━━━━━━━━━━━━━━━━━━━━━━━ 179.6/179.6 kB 18.7 MB/s eta 0:00:00\n",
            "     ━━━━━━━━━━━━━━━━━━━━━━━━━━━━━━━━━━━━━━━━ 174.8/174.8 kB 20.6 MB/s eta 0:00:00\n",
            "     ━━━━━━━━━━━━━━━━━━━━━━━━━━━━━━━━━━━━━━━━ 165.0/165.0 kB 17.6 MB/s eta 0:00:00\n",
            "     ━━━━━━━━━━━━━━━━━━━━━━━━━━━━━━━━━━━━━━━━ 151.2/151.2 kB 8.0 MB/s eta 0:00:00\n",
            "     ━━━━━━━━━━━━━━━━━━━━━━━━━━━━━━━━━━━━━━━━ 147.8/147.8 kB 18.3 MB/s eta 0:00:00\n",
            "     ━━━━━━━━━━━━━━━━━━━━━━━━━━━━━━━━━━━━━━━━ 127.9/127.9 kB 16.0 MB/s eta 0:00:00\n",
            "     ━━━━━━━━━━━━━━━━━━━━━━━━━━━━━━━━━━━━━━━━ 247.8/247.8 kB 17.7 MB/s eta 0:00:00\n",
            "     ━━━━━━━━━━━━━━━━━━━━━━━━━━━━━━━━━━━━━━━━ 1.6/1.6 MB 68.4 MB/s eta 0:00:00\n",
            "     ━━━━━━━━━━━━━━━━━━━━━━━━━━━━━━━━━━━━━━━━ 191.5/191.5 kB 19.6 MB/s eta 0:00:00\n",
            "     ━━━━━━━━━━━━━━━━━━━━━━━━━━━━━━━━━━━━━━━━ 191.4/191.4 kB 21.1 MB/s eta 0:00:00\n",
            "     ━━━━━━━━━━━━━━━━━━━━━━━━━━━━━━━━━━━━━━━━ 178.2/178.2 kB 20.6 MB/s eta 0:00:00\n",
            "     ━━━━━━━━━━━━━━━━━━━━━━━━━━━━━━━━━━━━━━━━ 294.6/294.6 kB 25.5 MB/s eta 0:00:00\n",
            "     ━━━━━━━━━━━━━━━━━━━━━━━━━━━━━━━━━━━━━━━━ 1.6/1.6 MB 53.0 MB/s eta 0:00:00\n",
            "     ━━━━━━━━━━━━━━━━━━━━━━━━━━━━━━━━━━━━━━━━ 53.0/53.0 kB 6.1 MB/s eta 0:00:00\n"
          ]
        },
        {
          "output_type": "stream",
          "name": "stderr",
          "text": [
            "ERROR: pip's dependency resolver does not currently take into account all the packages that are installed. This behaviour is the source of the following dependency conflicts.\n",
            "panel 1.3.8 requires bokeh<3.4.0,>=3.2.0, but you have bokeh 2.4.3 which is incompatible.\n",
            "Cloning into 'magenta'...\n"
          ]
        }
      ],
      "source": [
        "%%bash\n",
        "\n",
        "apt-get update -qq > /dev/null 2>&1 && apt-get install -qq fluidsynth > /dev/null 2>&1\n",
        "\n",
        "pip install -qU note-seq pygtrie tensor2tensor pyfluidsynth bokeh==2.4.3\n",
        "sed -i -e '46,49d' -e '64,67d' /usr/local/lib/python3.10/dist-packages/tensorflow_probability/python/internal/prefer_static.py\n",
        "sed -i 's/np.bool/bool/g' /usr/local/lib/python3.10/dist-packages/tensorflow_probability/python/mcmc/sample_halton_sequence.py\n",
        "sed -i 's/_kwargs = spec_.kwargs.copy()/_kwargs = spec_.kwargs.copy() if spec_.kwargs else {}/g' /usr/local/lib/python3.10/dist-packages/gym/envs/registration.py\n",
        "\n",
        "git clone --branch=main https://github.com/magenta/magenta\n",
        "mv magenta magenta_tmp; mv magenta_tmp/* .; rm -rf magenta_tmp\n",
        "rm ./magenta/__init__.py\n",
        "rm ./magenta/models/score2perf/__init__.py"
      ]
    },
    {
      "cell_type": "code",
      "source": [
        "!gsutil -q -m cp gs://magentadata/soundfonts/Yamaha-C5-Salamander-JNv5.1.sf2 /content/"
      ],
      "metadata": {
        "id": "mFk2s4iLwbqm"
      },
      "execution_count": 3,
      "outputs": []
    },
    {
      "cell_type": "markdown",
      "source": [
        "# Импортирование нужных библиотек"
      ],
      "metadata": {
        "id": "1QmnkAKtwgmD"
      }
    },
    {
      "cell_type": "code",
      "source": [
        "import numpy as np\n",
        "\n",
        "import tensorflow.compat.v1 as tf\n",
        "tf.disable_v2_behavior()\n",
        "\n",
        "from google.colab import files\n",
        "\n",
        "from tensor2tensor import models\n",
        "from tensor2tensor import problems\n",
        "from tensor2tensor.data_generators import text_encoder\n",
        "from tensor2tensor.utils import decoding\n",
        "from tensor2tensor.utils import trainer_lib\n",
        "\n",
        "import note_seq\n",
        "from magenta.models.score2perf.score2perf import Score2PerfProblem"
      ],
      "metadata": {
        "colab": {
          "base_uri": "https://localhost:8080/"
        },
        "id": "imKfDYWNweau",
        "outputId": "39329e9e-cd7a-4f0a-d7e8-24e70135170e"
      },
      "execution_count": 4,
      "outputs": [
        {
          "output_type": "stream",
          "name": "stderr",
          "text": [
            "/usr/local/lib/python3.10/dist-packages/tensorflow_addons/utils/tfa_eol_msg.py:23: UserWarning: \n",
            "\n",
            "TensorFlow Addons (TFA) has ended development and introduction of new features.\n",
            "TFA has entered a minimal maintenance and release mode until a planned end of life in May 2024.\n",
            "Please modify downstream libraries to take dependencies from other repositories in our TensorFlow community (e.g. Keras, Keras-CV, and Keras-NLP). \n",
            "\n",
            "For more information see: https://github.com/tensorflow/addons/issues/2807 \n",
            "\n",
            "  warnings.warn(\n",
            "/usr/local/lib/python3.10/dist-packages/gym/utils/passive_env_checker.py:31: UserWarning: \u001b[33mWARN: A Box observation space has an unconventional shape (neither an image, nor a 1D vector). We recommend flattening the observation to have only a 1D vector or use a custom policy to properly process the data. Actual observation shape: (3, 3)\u001b[0m\n",
            "  logger.warn(\n",
            "/usr/local/lib/python3.10/dist-packages/gym/core.py:317: DeprecationWarning: \u001b[33mWARN: Initializing wrapper in old step API which returns one bool instead of two. It is recommended to set `new_step_api=True` to use new step API. This will be the default behaviour in future.\u001b[0m\n",
            "  deprecation(\n",
            "/usr/local/lib/python3.10/dist-packages/gym/wrappers/step_api_compatibility.py:39: DeprecationWarning: \u001b[33mWARN: Initializing environment in old step API which returns one bool instead of two. It is recommended to set `new_step_api=True` to use new step API. This will be the default behaviour in future.\u001b[0m\n",
            "  deprecation(\n",
            "/usr/local/lib/python3.10/dist-packages/tensorflow_gan/__init__.py:60: DeprecationWarning: distutils Version classes are deprecated. Use packaging.version instead.\n",
            "  if (distutils.version.LooseVersion(tf.__version__) <\n",
            "/usr/local/lib/python3.10/dist-packages/bokeh/core/property/primitive.py:37: DeprecationWarning: `np.bool8` is a deprecated alias for `np.bool_`.  (Deprecated NumPy 1.24)\n",
            "  bokeh_bool_types += (np.bool8,)\n"
          ]
        }
      ]
    },
    {
      "cell_type": "code",
      "source": [
        "import matplotlib.pyplot as plt\n",
        "%matplotlib inline\n",
        "import seaborn as sns\n",
        "sns.set(style=\"darkgrid\")\n",
        "plt.rcParams[\"figure.figsize\"] = (10, 7)"
      ],
      "metadata": {
        "colab": {
          "base_uri": "https://localhost:8080/"
        },
        "id": "IzU4cdUuYgBc",
        "outputId": "51de1f8e-9ea2-4957-d333-64f821cc78bd"
      },
      "execution_count": 5,
      "outputs": [
        {
          "output_type": "stream",
          "name": "stderr",
          "text": [
            "/usr/local/lib/python3.10/dist-packages/ipykernel/ipkernel.py:283: DeprecationWarning: `should_run_async` will not call `transform_cell` automatically in the future. Please pass the result to `transformed_cell` argument and any exception that happen during thetransform in `preprocessing_exc_tuple` in IPython 7.17 and above.\n",
            "  and should_run_async(code)\n"
          ]
        }
      ]
    },
    {
      "cell_type": "markdown",
      "source": [
        "# Вспомогательные константы и функции"
      ],
      "metadata": {
        "id": "sh9mCUdy3A-B"
      }
    },
    {
      "cell_type": "code",
      "source": [
        "SF2_PATH = '/content/Yamaha-C5-Salamander-JNv5.1.sf2'\n",
        "SAMPLE_RATE = 16000\n",
        "\n",
        "def upload_midi():\n",
        "    print('Загрузите файл с расширением .mid')\n",
        "    data = list(files.upload().values())\n",
        "    if len(data) > 1:\n",
        "        print('Multiple files uploaded; using only one.')\n",
        "    return note_seq.midi_to_note_sequence(data[0])\n",
        "\n",
        "def decode(ids):\n",
        "    ids = list(ids)\n",
        "    if text_encoder.EOS_ID in ids:\n",
        "        ids = ids[:ids.index(text_encoder.EOS_ID)]\n",
        "    return encoder.decode_to_note_sequence(ids)"
      ],
      "metadata": {
        "id": "yzmNqFkz3EL-",
        "colab": {
          "base_uri": "https://localhost:8080/"
        },
        "outputId": "ab1226cb-6cae-4f5c-eefa-bc4830096689"
      },
      "execution_count": 6,
      "outputs": [
        {
          "output_type": "stream",
          "name": "stderr",
          "text": [
            "/usr/local/lib/python3.10/dist-packages/ipykernel/ipkernel.py:283: DeprecationWarning: `should_run_async` will not call `transform_cell` automatically in the future. Please pass the result to `transformed_cell` argument and any exception that happen during thetransform in `preprocessing_exc_tuple` in IPython 7.17 and above.\n",
            "  and should_run_async(code)\n"
          ]
        }
      ]
    },
    {
      "cell_type": "code",
      "source": [
        "def plot_and_play(ns):\n",
        "    note_seq.play_sequence(\n",
        "        ns,\n",
        "        synth=note_seq.fluidsynth, sample_rate=SAMPLE_RATE, sf2_path=SF2_PATH)\n",
        "    note_seq.plot_sequence(ns)"
      ],
      "metadata": {
        "id": "Ilx5R2US3a-H"
      },
      "execution_count": 7,
      "outputs": []
    },
    {
      "cell_type": "code",
      "source": [
        "def delete_drums(ns):\n",
        "    if any(note.is_drum for note in ns.notes):\n",
        "        notes = [note for note in ns.notes if not note.is_drum]\n",
        "        del ns.notes[:]\n",
        "        ns.notes.extend(notes)"
      ],
      "metadata": {
        "id": "W0uPw-_JKxwQ"
      },
      "execution_count": 8,
      "outputs": []
    },
    {
      "cell_type": "code",
      "source": [
        "def fix_ns(ns):\n",
        "    ns = note_seq.apply_sustain_control_changes(ns)\n",
        "    delete_drums(ns)\n",
        "    new_notes = sorted([note for note in ns.notes], key=(lambda note: (note.start_time, note.pitch)))\n",
        "    del ns.notes[:]\n",
        "    ns.notes.extend(new_notes)\n",
        "    last_note = {}\n",
        "    for note in ns.notes:\n",
        "        note.instrument = 1\n",
        "        note.program = 0\n",
        "        if note.pitch in last_note.keys() and last_note[note.pitch].end_time > note.start_time:\n",
        "            last_note[note.pitch].end_time = note.start_time\n",
        "        last_note[note.pitch] = note\n",
        "    return ns"
      ],
      "metadata": {
        "id": "sH_iwWT1JAKH"
      },
      "execution_count": 9,
      "outputs": []
    },
    {
      "cell_type": "code",
      "source": [
        "def ns_prefix(ns, num_notes):\n",
        "    new_notes = [note for note in sorted(ns.notes[:num_notes], key=(lambda nt: (nt.start_time, nt.pitch)))]\n",
        "    del ns.notes[:]\n",
        "    ns.notes.extend(new_notes)\n",
        "    ns.total_time = new_notes[-1].end_time"
      ],
      "metadata": {
        "id": "jTrdPVypJBmx"
      },
      "execution_count": 10,
      "outputs": []
    },
    {
      "cell_type": "code",
      "source": [
        "def ns_slice(ns, start, end):\n",
        "    new_notes = [note for note in sorted(ns.notes, key=(lambda nt: (nt.start_time, nt.pitch)))][start:end]\n",
        "    min_time = new_notes[0].start_time\n",
        "    for note in new_notes:\n",
        "        note.start_time -= min_time\n",
        "        note.end_time -= min_time\n",
        "    del ns.notes[:]\n",
        "    ns.notes.extend(new_notes)\n",
        "    ns.total_time = new_notes[-1].end_time"
      ],
      "metadata": {
        "id": "9mrPoeBu1yc7"
      },
      "execution_count": 11,
      "outputs": []
    },
    {
      "cell_type": "code",
      "source": [
        "def decode_to_events(ids):\n",
        "    ids = list(ids)\n",
        "    eos_id = text_encoder.EOS_ID\n",
        "    if eos_id in ids:\n",
        "        ids = ids[:ids.index(eos_id)]\n",
        "    performance = note_seq.Performance(\n",
        "        quantized_sequence=None,\n",
        "        steps_per_second=100,\n",
        "        num_velocity_bins=32\n",
        "    )\n",
        "    for id in ids:\n",
        "        performance.append(unconditional_encoders['targets']._encoding.decode_event(id - 2))\n",
        "    named_events = []\n",
        "    for event in performance:\n",
        "        if event.event_type == 1:\n",
        "            named_event = ('note_on', event.event_value)\n",
        "        elif event.event_type == 2:\n",
        "            named_event = ('note_off', event.event_value)\n",
        "        elif event.event_type == 3:\n",
        "            named_event = ('time_shift', event.event_value)\n",
        "        elif event.event_type == 4:\n",
        "            named_event = ('velocity', 1 + (event.event_value - 1) * 4)\n",
        "        else:\n",
        "            named_event = event\n",
        "        named_events.append(named_event)\n",
        "    return named_events"
      ],
      "metadata": {
        "id": "1I50qW6X0GeH"
      },
      "execution_count": 12,
      "outputs": []
    },
    {
      "cell_type": "markdown",
      "source": [
        "# Загрузка модели"
      ],
      "metadata": {
        "id": "hm49qCPvH3kj"
      }
    },
    {
      "cell_type": "code",
      "source": [
        "import warnings\n",
        "\n",
        "warnings.filterwarnings(\"ignore\")"
      ],
      "metadata": {
        "id": "iQywFSddiSyJ"
      },
      "execution_count": 13,
      "outputs": []
    },
    {
      "cell_type": "code",
      "source": [
        "model_name = 'transformer'\n",
        "hparams_set = 'transformer_tpu'\n",
        "ckpt_path = 'gs://magentadata/models/music_transformer/checkpoints/unconditional_model_16.ckpt'\n",
        "\n",
        "class PianoPerformanceLanguageModelProblem(Score2PerfProblem):\n",
        "    @property\n",
        "    def add_eos_symbol(self):\n",
        "        return True\n",
        "\n",
        "problem = PianoPerformanceLanguageModelProblem()\n",
        "unconditional_encoders = problem.get_feature_encoders()\n",
        "\n",
        "hparams = trainer_lib.create_hparams(hparams_set=hparams_set)\n",
        "trainer_lib.add_problem_hparams(hparams, problem)\n",
        "hparams.num_hidden_layers = 16\n",
        "hparams.sampling_method = 'random'\n",
        "\n",
        "decode_hparams = decoding.decode_hparams()\n",
        "decode_hparams.alpha = 0.0\n",
        "decode_hparams.beam_size = 1\n",
        "\n",
        "run_config = trainer_lib.create_run_config(hparams)\n",
        "estimator = trainer_lib.create_estimator(\n",
        "    model_name, hparams, run_config,\n",
        "    decode_hparams=decode_hparams\n",
        ")\n",
        "\n",
        "def input_generator():\n",
        "  global targets\n",
        "  global decode_length\n",
        "  while True:\n",
        "    yield {\n",
        "        'targets': np.array([targets], dtype=np.int32),\n",
        "        'decode_length': np.array(decode_length, dtype=np.int32)\n",
        "    }\n",
        "\n",
        "targets = []\n",
        "decode_length = 0\n",
        "\n",
        "input_fn = decoding.make_input_fn_from_generator(input_generator())\n",
        "unconditional_samples = estimator.predict(\n",
        "    input_fn, checkpoint_path=ckpt_path)\n",
        "\n",
        "_ = next(unconditional_samples)"
      ],
      "metadata": {
        "id": "JZtLmA-tH5XZ"
      },
      "execution_count": 14,
      "outputs": []
    },
    {
      "cell_type": "code",
      "source": [
        "encoder = unconditional_encoders['targets']"
      ],
      "metadata": {
        "id": "S5Ts6eTLNY7G"
      },
      "execution_count": 15,
      "outputs": []
    },
    {
      "cell_type": "code",
      "source": [
        "def generate_unconditional(dl=None):\n",
        "    global targets\n",
        "    global decode_length\n",
        "    if dl:\n",
        "        decode_length = min(dl, 4096 - len(targets))\n",
        "    else:\n",
        "        decode_length = max(0, 4096 - len(targets))\n",
        "\n",
        "    sample_ids = next(unconditional_samples)['outputs']\n",
        "    return sample_ids"
      ],
      "metadata": {
        "id": "hh0QXRAkJZzg"
      },
      "execution_count": 16,
      "outputs": []
    },
    {
      "cell_type": "markdown",
      "source": [
        "# Определение метрик стилевой разницы"
      ],
      "metadata": {
        "id": "pnQxmF-uX2qQ"
      }
    },
    {
      "cell_type": "code",
      "source": [
        "feature_names = ['note_density', 'pitch_range', 'mean_pitch', 'var_of_pitch',\n",
        "                'mean_velocity', 'var_of_velocity', 'mean_duration', 'var_of_duration',\n",
        "                'start_time_mean_diff', 'var_of_start_time_diff']"
      ],
      "metadata": {
        "id": "0o_GFbw_U_Tb"
      },
      "execution_count": 17,
      "outputs": []
    },
    {
      "cell_type": "code",
      "source": [
        "def compute_performance_features(ns, start_time, end_time):\n",
        "    note_list = [note for note in ns.notes if start_time <= note.start_time < end_time]\n",
        "    note_list = sorted(note_list, key=(lambda note: note.start_time))\n",
        "    num_notes = len(note_list)\n",
        "    if num_notes == 0:\n",
        "        features = [0] * 10\n",
        "        features[2] = np.mean([note.pitch for note in ns.notes])\n",
        "        features[6] = 2\n",
        "        return features\n",
        "    note_density = num_notes / (end_time - start_time)\n",
        "\n",
        "    pitch_list = [note.pitch for note in note_list]\n",
        "    pitch_range = max(pitch_list) - min(pitch_list)\n",
        "\n",
        "    mean_pitch = np.mean(pitch_list)\n",
        "\n",
        "    var_of_pitch = np.var(pitch_list)\n",
        "\n",
        "    velocity_list = [note.velocity for note in note_list]\n",
        "    mean_velocity = np.mean(velocity_list)\n",
        "\n",
        "    var_of_velocity = np.var(velocity_list)\n",
        "\n",
        "    duration_list = [note.end_time - note.start_time for note in note_list]\n",
        "    mean_duration = np.mean(duration_list)\n",
        "\n",
        "    var_of_duration = np.var(duration_list)\n",
        "\n",
        "    start_time_diff = []\n",
        "    for i in range(1, len(note_list)):\n",
        "        start_time_diff.append(note_list[i].start_time - note_list[i - 1].start_time)\n",
        "\n",
        "    if len(start_time_diff) > 0:\n",
        "        start_time_mean_diff = np.mean(start_time_diff)\n",
        "        var_of_start_time_diff = np.var(start_time_diff)\n",
        "    else:\n",
        "        start_time_mean_diff, var_of_start_time_diff = 0, 0\n",
        "\n",
        "    features = [note_density, pitch_range, mean_pitch, var_of_pitch,\n",
        "                mean_velocity, var_of_velocity, mean_duration, var_of_duration,\n",
        "                start_time_mean_diff, var_of_start_time_diff]\n",
        "    return features"
      ],
      "metadata": {
        "id": "td5vhmb9RnWU"
      },
      "execution_count": 18,
      "outputs": []
    },
    {
      "cell_type": "code",
      "source": [
        "def style_difference(ns_1, ns_2, window_size=2, functions={}, epsilons={}, weights=np.ones(10), plot=None):\n",
        "    if ns_1.total_time < ns_2.total_time:\n",
        "        max_time = ns_1.total_time\n",
        "        ns_2 = note_seq.extract_subsequence(ns_2, 0, max_time)\n",
        "    else:\n",
        "        max_time = ns_2.total_time\n",
        "        ns_1 = note_seq.extract_subsequence(ns_1, 0, max_time)\n",
        "    features_1, features_2 = [], []\n",
        "    for start_time in np.arange(0, max_time, window_size):\n",
        "        if start_time + window_size > max_time:\n",
        "            start_time = max_time - window_size\n",
        "        features_1.append(compute_performance_features(ns_1, start_time, start_time + window_size))\n",
        "        features_2.append(compute_performance_features(ns_2, start_time, start_time + window_size))\n",
        "    features_1 = np.array(features_1)\n",
        "    features_2 = np.array(features_2)\n",
        "    error_matrix = np.zeros(features_1.shape)\n",
        "    for i in range(len(feature_names)):\n",
        "        f = functions[feature_names[i]]\n",
        "        eps = epsilons[feature_names[i]]\n",
        "        error_matrix[:,i] = f(features_1[:,i], features_2[:,i], eps) / weights[i]\n",
        "    error_matrix[:,[2,4,5]] = 0\n",
        "    if plot:\n",
        "        time_axis = np.arange(0, max_time, window_size)\n",
        "        if plot == 'metric':\n",
        "            plt.plot(time_axis, error_matrix.mean(1), color='blue')\n",
        "            plt.ylabel('Значение метрики')\n",
        "        elif plot == 'all_features':\n",
        "            for i, name in enumerate(feature_names):\n",
        "                plt.plot(time_axis, error_matrix[:, i], label=name)\n",
        "            plt.ylabel('Значение функций потерь')\n",
        "            plt.legend()\n",
        "        else:\n",
        "            idx = feature_names.index(plot)\n",
        "            plt.plot(time_axis, features_1[:,idx], label='Трек 1')\n",
        "            plt.plot(time_axis, features_2[:,idx], label='Трек 2')\n",
        "            plt.ylabel(f'Значение признака {plot}')\n",
        "            plt.legend()\n",
        "        plt.xlabel('Время, с')\n",
        "        plt.show()\n",
        "    return error_matrix.mean()"
      ],
      "metadata": {
        "id": "4DpNWNHaRxT5"
      },
      "execution_count": 19,
      "outputs": []
    },
    {
      "cell_type": "code",
      "source": [
        "def abs_log_error(f1, f2, eps):\n",
        "    return np.abs(np.log(f1 + eps) - np.log(f2 + eps))\n",
        "\n",
        "def abs_error(f1, f2, eps=0):\n",
        "    return np.abs(f1 - f2)\n",
        "\n",
        "functions = {name: abs_log_error for name in feature_names}\n",
        "functions['mean_pitch'] = abs_error"
      ],
      "metadata": {
        "id": "g0OLYfL0WlF6"
      },
      "execution_count": 20,
      "outputs": []
    },
    {
      "cell_type": "code",
      "source": [
        "feature_eps = {name: 1 for name in feature_names}\n",
        "feature_eps['mean_pitch'] = feature_eps['mean_duration'] = 0\n",
        "feature_eps['var_of_duration'] = feature_eps['start_time_mean_diff'] = \\\n",
        "        feature_eps['var_of_start_time_diff'] = 0.01"
      ],
      "metadata": {
        "id": "Pw-Wl7KpYAmY"
      },
      "execution_count": 21,
      "outputs": []
    },
    {
      "cell_type": "code",
      "source": [
        "weights = np.array([0.72521614, 0.69565941, 9.66134072, 1.20305637, 0.42238247,\n",
        "       1.06960022, 1.05404574, 1.30573771, 0.73167481, 0.69097877])"
      ],
      "metadata": {
        "id": "pocB8LaWYLPm"
      },
      "execution_count": 22,
      "outputs": []
    },
    {
      "cell_type": "code",
      "source": [
        "def levenshtein(str_1, str_2):\n",
        "    n, m = len(str_1), len(str_2)\n",
        "    if n > m:\n",
        "        str_1, str_2 = str_2, str_1\n",
        "        n, m = m, n\n",
        "\n",
        "    current_row = range(n + 1)\n",
        "    for i in range(1, m + 1):\n",
        "        previous_row, current_row = current_row, [i] + [0] * n\n",
        "        for j in range(1, n + 1):\n",
        "            add, delete, change = previous_row[j] + 1, current_row[j - 1] + 1, previous_row[j - 1]\n",
        "            if str_1[j - 1] != str_2[i - 1]:\n",
        "                change += 1\n",
        "            current_row[j] = min(add, delete, change)\n",
        "\n",
        "    return current_row[n]"
      ],
      "metadata": {
        "id": "KM_TeXNlBQZh"
      },
      "execution_count": 23,
      "outputs": []
    },
    {
      "cell_type": "code",
      "source": [
        "def get_pitch_list(ns):\n",
        "    return [note.pitch for note in sorted(ns.notes, key=(lambda n: (n.start_time, n.pitch)))]"
      ],
      "metadata": {
        "id": "OwWLVkPwBsTp"
      },
      "execution_count": 24,
      "outputs": []
    },
    {
      "cell_type": "code",
      "source": [
        "def music_levenshtein(ns_1, ns_2):\n",
        "    pitches_1 = get_pitch_list(ns_1)\n",
        "    pitches_2 = get_pitch_list(ns_2)\n",
        "    min_len = min(len(pitches_1), len(pitches_2))\n",
        "    pitches_1 = pitches_1[:min_len]\n",
        "    pitches_2 = pitches_2[:min_len]\n",
        "    return levenshtein(pitches_1, pitches_2) / min_len"
      ],
      "metadata": {
        "id": "ABtuSZF3BTCU"
      },
      "execution_count": 25,
      "outputs": []
    },
    {
      "cell_type": "markdown",
      "source": [
        "# Основная система"
      ],
      "metadata": {
        "id": "u4jzHIS6H-gG"
      }
    },
    {
      "cell_type": "code",
      "source": [
        "import os\n",
        "import random\n",
        "from tqdm import tqdm"
      ],
      "metadata": {
        "id": "zkjwcAyR7eWM"
      },
      "execution_count": 26,
      "outputs": []
    },
    {
      "cell_type": "code",
      "source": [
        "class GenerativeSystem:\n",
        "    def upload_track_files(self):\n",
        "        print('Загрузите файлы с расширением .mid')\n",
        "        uploaded_files = files.upload()\n",
        "        self.uploaded_nss = []\n",
        "        for file_name, file_content in uploaded_files.items():\n",
        "            if not file_name.endswith('.mid'):\n",
        "                print(f'Файл \"{file_name}\" не имеет расширения .mid, он не будет обработан.')\n",
        "            else:\n",
        "                ns = note_seq.midi_to_note_sequence(file_content)\n",
        "                ns = fix_ns(ns)\n",
        "                self.uploaded_nss.append(ns)\n",
        "\n",
        "    def upload_track_nss(self, nss):\n",
        "        self.uploaded_nss = list(nss)\n",
        "\n",
        "    def generate_similar(self, desired_style_diff=0, continuation_block_1_size=100,\n",
        "                         continuation_block_2_size=None, block_1_num_samples=300,\n",
        "                         block_2_num_samples=10, final_num_samples=5):\n",
        "        global targets\n",
        "        final_num_samples = min(final_num_samples, block_1_num_samples)\n",
        "        for file_id, uploaded_ns in enumerate(self.uploaded_nss):\n",
        "            print(f'Обработка файла номер {file_id + 1}')\n",
        "            print('Генерация начальных блоков')\n",
        "            ns_perf_ids = encoder.encode_note_sequence(uploaded_ns)[:-1]\n",
        "            all_samples_ids = []\n",
        "            criterion_tuples = []\n",
        "            for i in tqdm(range(block_1_num_samples)):\n",
        "                primer_size = random.randint(1, continuation_block_1_size)\n",
        "                targets = ns_perf_ids[:primer_size]\n",
        "                sample_ids = generate_unconditional(continuation_block_1_size)\n",
        "                sample_ids = list(targets) + list(sample_ids)\n",
        "                all_samples_ids.append(sample_ids)\n",
        "                ns_generated = decode(sample_ids)\n",
        "                cur_style_difference = style_difference(\n",
        "                    uploaded_ns, ns_generated, 3, functions, feature_eps, weights\n",
        "                )\n",
        "                cur_levenshtein = music_levenshtein(uploaded_ns, ns_generated)\n",
        "                criterion_tuple = (cur_levenshtein <= 0.5,\n",
        "                                   abs(cur_style_difference - desired_style_diff),\n",
        "                                   i)\n",
        "                criterion_tuples.append(criterion_tuple)\n",
        "            criterion_tuples.sort()\n",
        "            similar_samples_ids = []\n",
        "            for _, _, idx in criterion_tuples[:final_num_samples]:\n",
        "                similar_samples_ids.append(all_samples_ids[idx])\n",
        "            print('Генерация продолжений для релевантных начальных блоков.')\n",
        "            for sample_number, cur_sample_ids in enumerate(similar_samples_ids):\n",
        "                cur_sample_time = decode(cur_sample_ids).total_time\n",
        "                while (cur_sample_ids[-1] != 1 and len(cur_sample_ids) < 4096 and\n",
        "                       cur_sample_time < uploaded_ns.total_time):\n",
        "                    continuation_ids = []\n",
        "                    sd_error = 1000\n",
        "                    for i in tqdm(range(block_2_num_samples)):\n",
        "                        targets = cur_sample_ids\n",
        "                        new_sample_ids = generate_unconditional(continuation_block_2_size)\n",
        "                        all_sample_ids = list(targets) + list(new_sample_ids)\n",
        "                        new_ns = decode(all_sample_ids)\n",
        "                        cur_style_difference = style_difference(\n",
        "                            uploaded_ns, new_ns, 3, functions, feature_eps, weights\n",
        "                        )\n",
        "                        cur_levenshtein = music_levenshtein(uploaded_ns, new_ns)\n",
        "                        if (sd_error == 1000 or\n",
        "                                cur_levenshtein > 0.5 and abs(cur_style_difference - desired_style_diff) < sd_error):\n",
        "                            sd_error = abs(cur_style_difference - desired_style_diff)\n",
        "                            continuation_ids = list(new_sample_ids)\n",
        "                    cur_sample_ids.extend(continuation_ids)\n",
        "                    cur_sample_time = decode(cur_sample_ids).total_time\n",
        "                cur_ns = decode(cur_sample_ids)\n",
        "                plot_and_play(cur_ns)\n",
        "                file_name = f'sample_{file_id}_{sample_number}.mid'\n",
        "                note_seq.sequence_proto_to_midi_file(\n",
        "                    cur_ns, file_name\n",
        "                )\n",
        "                print(f'Сэмпл сохранён в файл \"{file_name}\"')\n",
        "                print('---------------------------------------')"
      ],
      "metadata": {
        "id": "HqOYAQJd5ilC"
      },
      "execution_count": 27,
      "outputs": []
    },
    {
      "cell_type": "code",
      "source": [
        "gen_system = GenerativeSystem()"
      ],
      "metadata": {
        "id": "w-f2uGDG6Klv"
      },
      "execution_count": 28,
      "outputs": []
    },
    {
      "cell_type": "markdown",
      "source": [
        "Загрузка MIDI-файла с треком."
      ],
      "metadata": {
        "id": "_YeyfNEZ4ocL"
      }
    },
    {
      "cell_type": "code",
      "source": [
        "original_ns = upload_midi()\n",
        "original_ns = fix_ns(original_ns)\n",
        "original_ns = note_seq.extract_subsequence(original_ns, 0, 60)\n",
        "gen_system.upload_track_nss([original_ns])\n",
        "plot_and_play(original_ns)"
      ],
      "metadata": {
        "colab": {
          "base_uri": "https://localhost:8080/",
          "height": 349
        },
        "id": "7GGKWFEVrQ0W",
        "outputId": "81e8edfe-0498-4bb6-95ce-0075a6687281"
      },
      "execution_count": 29,
      "outputs": [
        {
          "output_type": "stream",
          "name": "stdout",
          "text": [
            "Загрузите файл с расширением .mid\n"
          ]
        },
        {
          "output_type": "display_data",
          "data": {
            "text/plain": [
              "<IPython.core.display.HTML object>"
            ],
            "text/html": [
              "\n",
              "     <input type=\"file\" id=\"files-26314839-12f5-473f-8311-8066569ac077\" name=\"files[]\" multiple disabled\n",
              "        style=\"border:none\" />\n",
              "     <output id=\"result-26314839-12f5-473f-8311-8066569ac077\">\n",
              "      Upload widget is only available when the cell has been executed in the\n",
              "      current browser session. Please rerun this cell to enable.\n",
              "      </output>\n",
              "      <script>// Copyright 2017 Google LLC\n",
              "//\n",
              "// Licensed under the Apache License, Version 2.0 (the \"License\");\n",
              "// you may not use this file except in compliance with the License.\n",
              "// You may obtain a copy of the License at\n",
              "//\n",
              "//      http://www.apache.org/licenses/LICENSE-2.0\n",
              "//\n",
              "// Unless required by applicable law or agreed to in writing, software\n",
              "// distributed under the License is distributed on an \"AS IS\" BASIS,\n",
              "// WITHOUT WARRANTIES OR CONDITIONS OF ANY KIND, either express or implied.\n",
              "// See the License for the specific language governing permissions and\n",
              "// limitations under the License.\n",
              "\n",
              "/**\n",
              " * @fileoverview Helpers for google.colab Python module.\n",
              " */\n",
              "(function(scope) {\n",
              "function span(text, styleAttributes = {}) {\n",
              "  const element = document.createElement('span');\n",
              "  element.textContent = text;\n",
              "  for (const key of Object.keys(styleAttributes)) {\n",
              "    element.style[key] = styleAttributes[key];\n",
              "  }\n",
              "  return element;\n",
              "}\n",
              "\n",
              "// Max number of bytes which will be uploaded at a time.\n",
              "const MAX_PAYLOAD_SIZE = 100 * 1024;\n",
              "\n",
              "function _uploadFiles(inputId, outputId) {\n",
              "  const steps = uploadFilesStep(inputId, outputId);\n",
              "  const outputElement = document.getElementById(outputId);\n",
              "  // Cache steps on the outputElement to make it available for the next call\n",
              "  // to uploadFilesContinue from Python.\n",
              "  outputElement.steps = steps;\n",
              "\n",
              "  return _uploadFilesContinue(outputId);\n",
              "}\n",
              "\n",
              "// This is roughly an async generator (not supported in the browser yet),\n",
              "// where there are multiple asynchronous steps and the Python side is going\n",
              "// to poll for completion of each step.\n",
              "// This uses a Promise to block the python side on completion of each step,\n",
              "// then passes the result of the previous step as the input to the next step.\n",
              "function _uploadFilesContinue(outputId) {\n",
              "  const outputElement = document.getElementById(outputId);\n",
              "  const steps = outputElement.steps;\n",
              "\n",
              "  const next = steps.next(outputElement.lastPromiseValue);\n",
              "  return Promise.resolve(next.value.promise).then((value) => {\n",
              "    // Cache the last promise value to make it available to the next\n",
              "    // step of the generator.\n",
              "    outputElement.lastPromiseValue = value;\n",
              "    return next.value.response;\n",
              "  });\n",
              "}\n",
              "\n",
              "/**\n",
              " * Generator function which is called between each async step of the upload\n",
              " * process.\n",
              " * @param {string} inputId Element ID of the input file picker element.\n",
              " * @param {string} outputId Element ID of the output display.\n",
              " * @return {!Iterable<!Object>} Iterable of next steps.\n",
              " */\n",
              "function* uploadFilesStep(inputId, outputId) {\n",
              "  const inputElement = document.getElementById(inputId);\n",
              "  inputElement.disabled = false;\n",
              "\n",
              "  const outputElement = document.getElementById(outputId);\n",
              "  outputElement.innerHTML = '';\n",
              "\n",
              "  const pickedPromise = new Promise((resolve) => {\n",
              "    inputElement.addEventListener('change', (e) => {\n",
              "      resolve(e.target.files);\n",
              "    });\n",
              "  });\n",
              "\n",
              "  const cancel = document.createElement('button');\n",
              "  inputElement.parentElement.appendChild(cancel);\n",
              "  cancel.textContent = 'Cancel upload';\n",
              "  const cancelPromise = new Promise((resolve) => {\n",
              "    cancel.onclick = () => {\n",
              "      resolve(null);\n",
              "    };\n",
              "  });\n",
              "\n",
              "  // Wait for the user to pick the files.\n",
              "  const files = yield {\n",
              "    promise: Promise.race([pickedPromise, cancelPromise]),\n",
              "    response: {\n",
              "      action: 'starting',\n",
              "    }\n",
              "  };\n",
              "\n",
              "  cancel.remove();\n",
              "\n",
              "  // Disable the input element since further picks are not allowed.\n",
              "  inputElement.disabled = true;\n",
              "\n",
              "  if (!files) {\n",
              "    return {\n",
              "      response: {\n",
              "        action: 'complete',\n",
              "      }\n",
              "    };\n",
              "  }\n",
              "\n",
              "  for (const file of files) {\n",
              "    const li = document.createElement('li');\n",
              "    li.append(span(file.name, {fontWeight: 'bold'}));\n",
              "    li.append(span(\n",
              "        `(${file.type || 'n/a'}) - ${file.size} bytes, ` +\n",
              "        `last modified: ${\n",
              "            file.lastModifiedDate ? file.lastModifiedDate.toLocaleDateString() :\n",
              "                                    'n/a'} - `));\n",
              "    const percent = span('0% done');\n",
              "    li.appendChild(percent);\n",
              "\n",
              "    outputElement.appendChild(li);\n",
              "\n",
              "    const fileDataPromise = new Promise((resolve) => {\n",
              "      const reader = new FileReader();\n",
              "      reader.onload = (e) => {\n",
              "        resolve(e.target.result);\n",
              "      };\n",
              "      reader.readAsArrayBuffer(file);\n",
              "    });\n",
              "    // Wait for the data to be ready.\n",
              "    let fileData = yield {\n",
              "      promise: fileDataPromise,\n",
              "      response: {\n",
              "        action: 'continue',\n",
              "      }\n",
              "    };\n",
              "\n",
              "    // Use a chunked sending to avoid message size limits. See b/62115660.\n",
              "    let position = 0;\n",
              "    do {\n",
              "      const length = Math.min(fileData.byteLength - position, MAX_PAYLOAD_SIZE);\n",
              "      const chunk = new Uint8Array(fileData, position, length);\n",
              "      position += length;\n",
              "\n",
              "      const base64 = btoa(String.fromCharCode.apply(null, chunk));\n",
              "      yield {\n",
              "        response: {\n",
              "          action: 'append',\n",
              "          file: file.name,\n",
              "          data: base64,\n",
              "        },\n",
              "      };\n",
              "\n",
              "      let percentDone = fileData.byteLength === 0 ?\n",
              "          100 :\n",
              "          Math.round((position / fileData.byteLength) * 100);\n",
              "      percent.textContent = `${percentDone}% done`;\n",
              "\n",
              "    } while (position < fileData.byteLength);\n",
              "  }\n",
              "\n",
              "  // All done.\n",
              "  yield {\n",
              "    response: {\n",
              "      action: 'complete',\n",
              "    }\n",
              "  };\n",
              "}\n",
              "\n",
              "scope.google = scope.google || {};\n",
              "scope.google.colab = scope.google.colab || {};\n",
              "scope.google.colab._files = {\n",
              "  _uploadFiles,\n",
              "  _uploadFilesContinue,\n",
              "};\n",
              "})(self);\n",
              "</script> "
            ]
          },
          "metadata": {}
        },
        {
          "output_type": "stream",
          "name": "stdout",
          "text": [
            "Saving fur_elise.mid to fur_elise.mid\n"
          ]
        },
        {
          "output_type": "display_data",
          "data": {
            "text/plain": [
              "<IPython.core.display.HTML object>"
            ],
            "text/html": [
              "<div id=\"id_1\"> </div>"
            ]
          },
          "metadata": {}
        },
        {
          "output_type": "display_data",
          "data": {
            "application/javascript": [
              "(function(root) {\n",
              "  function now() {\n",
              "    return new Date();\n",
              "  }\n",
              "\n",
              "  const force = true;\n",
              "\n",
              "  if (typeof root._bokeh_onload_callbacks === \"undefined\" || force === true) {\n",
              "    root._bokeh_onload_callbacks = [];\n",
              "    root._bokeh_is_loading = undefined;\n",
              "  }\n",
              "\n",
              "const JS_MIME_TYPE = 'application/javascript';\n",
              "  const HTML_MIME_TYPE = 'text/html';\n",
              "  const EXEC_MIME_TYPE = 'application/vnd.bokehjs_exec.v0+json';\n",
              "  const CLASS_NAME = 'output_bokeh rendered_html';\n",
              "\n",
              "  /**\n",
              "   * Render data to the DOM node\n",
              "   */\n",
              "  function render(props, node) {\n",
              "    const script = document.createElement(\"script\");\n",
              "    node.appendChild(script);\n",
              "  }\n",
              "\n",
              "  /**\n",
              "   * Handle when an output is cleared or removed\n",
              "   */\n",
              "  function handleClearOutput(event, handle) {\n",
              "    const cell = handle.cell;\n",
              "\n",
              "    const id = cell.output_area._bokeh_element_id;\n",
              "    const server_id = cell.output_area._bokeh_server_id;\n",
              "    // Clean up Bokeh references\n",
              "    if (id != null && id in Bokeh.index) {\n",
              "      Bokeh.index[id].model.document.clear();\n",
              "      delete Bokeh.index[id];\n",
              "    }\n",
              "\n",
              "    if (server_id !== undefined) {\n",
              "      // Clean up Bokeh references\n",
              "      const cmd_clean = \"from bokeh.io.state import curstate; print(curstate().uuid_to_server['\" + server_id + \"'].get_sessions()[0].document.roots[0]._id)\";\n",
              "      cell.notebook.kernel.execute(cmd_clean, {\n",
              "        iopub: {\n",
              "          output: function(msg) {\n",
              "            const id = msg.content.text.trim();\n",
              "            if (id in Bokeh.index) {\n",
              "              Bokeh.index[id].model.document.clear();\n",
              "              delete Bokeh.index[id];\n",
              "            }\n",
              "          }\n",
              "        }\n",
              "      });\n",
              "      // Destroy server and session\n",
              "      const cmd_destroy = \"import bokeh.io.notebook as ion; ion.destroy_server('\" + server_id + \"')\";\n",
              "      cell.notebook.kernel.execute(cmd_destroy);\n",
              "    }\n",
              "  }\n",
              "\n",
              "  /**\n",
              "   * Handle when a new output is added\n",
              "   */\n",
              "  function handleAddOutput(event, handle) {\n",
              "    const output_area = handle.output_area;\n",
              "    const output = handle.output;\n",
              "\n",
              "    // limit handleAddOutput to display_data with EXEC_MIME_TYPE content only\n",
              "    if ((output.output_type != \"display_data\") || (!Object.prototype.hasOwnProperty.call(output.data, EXEC_MIME_TYPE))) {\n",
              "      return\n",
              "    }\n",
              "\n",
              "    const toinsert = output_area.element.find(\".\" + CLASS_NAME.split(' ')[0]);\n",
              "\n",
              "    if (output.metadata[EXEC_MIME_TYPE][\"id\"] !== undefined) {\n",
              "      toinsert[toinsert.length - 1].firstChild.textContent = output.data[JS_MIME_TYPE];\n",
              "      // store reference to embed id on output_area\n",
              "      output_area._bokeh_element_id = output.metadata[EXEC_MIME_TYPE][\"id\"];\n",
              "    }\n",
              "    if (output.metadata[EXEC_MIME_TYPE][\"server_id\"] !== undefined) {\n",
              "      const bk_div = document.createElement(\"div\");\n",
              "      bk_div.innerHTML = output.data[HTML_MIME_TYPE];\n",
              "      const script_attrs = bk_div.children[0].attributes;\n",
              "      for (let i = 0; i < script_attrs.length; i++) {\n",
              "        toinsert[toinsert.length - 1].firstChild.setAttribute(script_attrs[i].name, script_attrs[i].value);\n",
              "        toinsert[toinsert.length - 1].firstChild.textContent = bk_div.children[0].textContent\n",
              "      }\n",
              "      // store reference to server id on output_area\n",
              "      output_area._bokeh_server_id = output.metadata[EXEC_MIME_TYPE][\"server_id\"];\n",
              "    }\n",
              "  }\n",
              "\n",
              "  function register_renderer(events, OutputArea) {\n",
              "\n",
              "    function append_mime(data, metadata, element) {\n",
              "      // create a DOM node to render to\n",
              "      const toinsert = this.create_output_subarea(\n",
              "        metadata,\n",
              "        CLASS_NAME,\n",
              "        EXEC_MIME_TYPE\n",
              "      );\n",
              "      this.keyboard_manager.register_events(toinsert);\n",
              "      // Render to node\n",
              "      const props = {data: data, metadata: metadata[EXEC_MIME_TYPE]};\n",
              "      render(props, toinsert[toinsert.length - 1]);\n",
              "      element.append(toinsert);\n",
              "      return toinsert\n",
              "    }\n",
              "\n",
              "    /* Handle when an output is cleared or removed */\n",
              "    events.on('clear_output.CodeCell', handleClearOutput);\n",
              "    events.on('delete.Cell', handleClearOutput);\n",
              "\n",
              "    /* Handle when a new output is added */\n",
              "    events.on('output_added.OutputArea', handleAddOutput);\n",
              "\n",
              "    /**\n",
              "     * Register the mime type and append_mime function with output_area\n",
              "     */\n",
              "    OutputArea.prototype.register_mime_type(EXEC_MIME_TYPE, append_mime, {\n",
              "      /* Is output safe? */\n",
              "      safe: true,\n",
              "      /* Index of renderer in `output_area.display_order` */\n",
              "      index: 0\n",
              "    });\n",
              "  }\n",
              "\n",
              "  // register the mime type if in Jupyter Notebook environment and previously unregistered\n",
              "  if (root.Jupyter !== undefined) {\n",
              "    const events = require('base/js/events');\n",
              "    const OutputArea = require('notebook/js/outputarea').OutputArea;\n",
              "\n",
              "    if (OutputArea.prototype.mime_types().indexOf(EXEC_MIME_TYPE) == -1) {\n",
              "      register_renderer(events, OutputArea);\n",
              "    }\n",
              "  }\n",
              "  if (typeof (root._bokeh_timeout) === \"undefined\" || force === true) {\n",
              "    root._bokeh_timeout = Date.now() + 5000;\n",
              "    root._bokeh_failed_load = false;\n",
              "  }\n",
              "\n",
              "  const NB_LOAD_WARNING = {'data': {'text/html':\n",
              "     \"<div style='background-color: #fdd'>\\n\"+\n",
              "     \"<p>\\n\"+\n",
              "     \"BokehJS does not appear to have successfully loaded. If loading BokehJS from CDN, this \\n\"+\n",
              "     \"may be due to a slow or bad network connection. Possible fixes:\\n\"+\n",
              "     \"</p>\\n\"+\n",
              "     \"<ul>\\n\"+\n",
              "     \"<li>re-rerun `output_notebook()` to attempt to load from CDN again, or</li>\\n\"+\n",
              "     \"<li>use INLINE resources instead, as so:</li>\\n\"+\n",
              "     \"</ul>\\n\"+\n",
              "     \"<code>\\n\"+\n",
              "     \"from bokeh.resources import INLINE\\n\"+\n",
              "     \"output_notebook(resources=INLINE)\\n\"+\n",
              "     \"</code>\\n\"+\n",
              "     \"</div>\"}};\n",
              "\n",
              "  function display_loaded() {\n",
              "    const el = document.getElementById(null);\n",
              "    if (el != null) {\n",
              "      el.textContent = \"BokehJS is loading...\";\n",
              "    }\n",
              "    if (root.Bokeh !== undefined) {\n",
              "      if (el != null) {\n",
              "        el.textContent = \"BokehJS \" + root.Bokeh.version + \" successfully loaded.\";\n",
              "      }\n",
              "    } else if (Date.now() < root._bokeh_timeout) {\n",
              "      setTimeout(display_loaded, 100)\n",
              "    }\n",
              "  }\n",
              "\n",
              "  function run_callbacks() {\n",
              "    try {\n",
              "      root._bokeh_onload_callbacks.forEach(function(callback) {\n",
              "        if (callback != null)\n",
              "          callback();\n",
              "      });\n",
              "    } finally {\n",
              "      delete root._bokeh_onload_callbacks\n",
              "    }\n",
              "    console.debug(\"Bokeh: all callbacks have finished\");\n",
              "  }\n",
              "\n",
              "  function load_libs(css_urls, js_urls, callback) {\n",
              "    if (css_urls == null) css_urls = [];\n",
              "    if (js_urls == null) js_urls = [];\n",
              "\n",
              "    root._bokeh_onload_callbacks.push(callback);\n",
              "    if (root._bokeh_is_loading > 0) {\n",
              "      console.debug(\"Bokeh: BokehJS is being loaded, scheduling callback at\", now());\n",
              "      return null;\n",
              "    }\n",
              "    if (js_urls == null || js_urls.length === 0) {\n",
              "      run_callbacks();\n",
              "      return null;\n",
              "    }\n",
              "    console.debug(\"Bokeh: BokehJS not loaded, scheduling load and callback at\", now());\n",
              "    root._bokeh_is_loading = css_urls.length + js_urls.length;\n",
              "\n",
              "    function on_load() {\n",
              "      root._bokeh_is_loading--;\n",
              "      if (root._bokeh_is_loading === 0) {\n",
              "        console.debug(\"Bokeh: all BokehJS libraries/stylesheets loaded\");\n",
              "        run_callbacks()\n",
              "      }\n",
              "    }\n",
              "\n",
              "    function on_error(url) {\n",
              "      console.error(\"failed to load \" + url);\n",
              "    }\n",
              "\n",
              "    for (let i = 0; i < css_urls.length; i++) {\n",
              "      const url = css_urls[i];\n",
              "      const element = document.createElement(\"link\");\n",
              "      element.onload = on_load;\n",
              "      element.onerror = on_error.bind(null, url);\n",
              "      element.rel = \"stylesheet\";\n",
              "      element.type = \"text/css\";\n",
              "      element.href = url;\n",
              "      console.debug(\"Bokeh: injecting link tag for BokehJS stylesheet: \", url);\n",
              "      document.body.appendChild(element);\n",
              "    }\n",
              "\n",
              "    for (let i = 0; i < js_urls.length; i++) {\n",
              "      const url = js_urls[i];\n",
              "      const element = document.createElement('script');\n",
              "      element.onload = on_load;\n",
              "      element.onerror = on_error.bind(null, url);\n",
              "      element.async = false;\n",
              "      element.src = url;\n",
              "      console.debug(\"Bokeh: injecting script tag for BokehJS library: \", url);\n",
              "      document.head.appendChild(element);\n",
              "    }\n",
              "  };\n",
              "\n",
              "  function inject_raw_css(css) {\n",
              "    const element = document.createElement(\"style\");\n",
              "    element.appendChild(document.createTextNode(css));\n",
              "    document.body.appendChild(element);\n",
              "  }\n",
              "\n",
              "  const js_urls = [\"https://cdn.bokeh.org/bokeh/release/bokeh-2.4.3.min.js\", \"https://cdn.bokeh.org/bokeh/release/bokeh-gl-2.4.3.min.js\", \"https://cdn.bokeh.org/bokeh/release/bokeh-widgets-2.4.3.min.js\", \"https://cdn.bokeh.org/bokeh/release/bokeh-tables-2.4.3.min.js\", \"https://cdn.bokeh.org/bokeh/release/bokeh-mathjax-2.4.3.min.js\"];\n",
              "  const css_urls = [];\n",
              "\n",
              "  const inline_js = [    function(Bokeh) {\n",
              "      Bokeh.set_log_level(\"info\");\n",
              "    },\n",
              "function(Bokeh) {\n",
              "    }\n",
              "  ];\n",
              "\n",
              "  function run_inline_js() {\n",
              "    if (root.Bokeh !== undefined || force === true) {\n",
              "          for (let i = 0; i < inline_js.length; i++) {\n",
              "      inline_js[i].call(root, root.Bokeh);\n",
              "    }\n",
              "} else if (Date.now() < root._bokeh_timeout) {\n",
              "      setTimeout(run_inline_js, 100);\n",
              "    } else if (!root._bokeh_failed_load) {\n",
              "      console.log(\"Bokeh: BokehJS failed to load within specified timeout.\");\n",
              "      root._bokeh_failed_load = true;\n",
              "    } else if (force !== true) {\n",
              "      const cell = $(document.getElementById(null)).parents('.cell').data().cell;\n",
              "      cell.output_area.append_execute_result(NB_LOAD_WARNING)\n",
              "    }\n",
              "  }\n",
              "\n",
              "  if (root._bokeh_is_loading === 0) {\n",
              "    console.debug(\"Bokeh: BokehJS loaded, going straight to plotting\");\n",
              "    run_inline_js();\n",
              "  } else {\n",
              "    load_libs(css_urls, js_urls, function() {\n",
              "      console.debug(\"Bokeh: BokehJS plotting callback run at\", now());\n",
              "      run_inline_js();\n",
              "    });\n",
              "  }\n",
              "}(window));"
            ],
            "application/vnd.bokehjs_load.v0+json": "(function(root) {\n  function now() {\n    return new Date();\n  }\n\n  const force = true;\n\n  if (typeof root._bokeh_onload_callbacks === \"undefined\" || force === true) {\n    root._bokeh_onload_callbacks = [];\n    root._bokeh_is_loading = undefined;\n  }\n\n\n  if (typeof (root._bokeh_timeout) === \"undefined\" || force === true) {\n    root._bokeh_timeout = Date.now() + 5000;\n    root._bokeh_failed_load = false;\n  }\n\n  const NB_LOAD_WARNING = {'data': {'text/html':\n     \"<div style='background-color: #fdd'>\\n\"+\n     \"<p>\\n\"+\n     \"BokehJS does not appear to have successfully loaded. If loading BokehJS from CDN, this \\n\"+\n     \"may be due to a slow or bad network connection. Possible fixes:\\n\"+\n     \"</p>\\n\"+\n     \"<ul>\\n\"+\n     \"<li>re-rerun `output_notebook()` to attempt to load from CDN again, or</li>\\n\"+\n     \"<li>use INLINE resources instead, as so:</li>\\n\"+\n     \"</ul>\\n\"+\n     \"<code>\\n\"+\n     \"from bokeh.resources import INLINE\\n\"+\n     \"output_notebook(resources=INLINE)\\n\"+\n     \"</code>\\n\"+\n     \"</div>\"}};\n\n  function display_loaded() {\n    const el = document.getElementById(null);\n    if (el != null) {\n      el.textContent = \"BokehJS is loading...\";\n    }\n    if (root.Bokeh !== undefined) {\n      if (el != null) {\n        el.textContent = \"BokehJS \" + root.Bokeh.version + \" successfully loaded.\";\n      }\n    } else if (Date.now() < root._bokeh_timeout) {\n      setTimeout(display_loaded, 100)\n    }\n  }\n\n  function run_callbacks() {\n    try {\n      root._bokeh_onload_callbacks.forEach(function(callback) {\n        if (callback != null)\n          callback();\n      });\n    } finally {\n      delete root._bokeh_onload_callbacks\n    }\n    console.debug(\"Bokeh: all callbacks have finished\");\n  }\n\n  function load_libs(css_urls, js_urls, callback) {\n    if (css_urls == null) css_urls = [];\n    if (js_urls == null) js_urls = [];\n\n    root._bokeh_onload_callbacks.push(callback);\n    if (root._bokeh_is_loading > 0) {\n      console.debug(\"Bokeh: BokehJS is being loaded, scheduling callback at\", now());\n      return null;\n    }\n    if (js_urls == null || js_urls.length === 0) {\n      run_callbacks();\n      return null;\n    }\n    console.debug(\"Bokeh: BokehJS not loaded, scheduling load and callback at\", now());\n    root._bokeh_is_loading = css_urls.length + js_urls.length;\n\n    function on_load() {\n      root._bokeh_is_loading--;\n      if (root._bokeh_is_loading === 0) {\n        console.debug(\"Bokeh: all BokehJS libraries/stylesheets loaded\");\n        run_callbacks()\n      }\n    }\n\n    function on_error(url) {\n      console.error(\"failed to load \" + url);\n    }\n\n    for (let i = 0; i < css_urls.length; i++) {\n      const url = css_urls[i];\n      const element = document.createElement(\"link\");\n      element.onload = on_load;\n      element.onerror = on_error.bind(null, url);\n      element.rel = \"stylesheet\";\n      element.type = \"text/css\";\n      element.href = url;\n      console.debug(\"Bokeh: injecting link tag for BokehJS stylesheet: \", url);\n      document.body.appendChild(element);\n    }\n\n    for (let i = 0; i < js_urls.length; i++) {\n      const url = js_urls[i];\n      const element = document.createElement('script');\n      element.onload = on_load;\n      element.onerror = on_error.bind(null, url);\n      element.async = false;\n      element.src = url;\n      console.debug(\"Bokeh: injecting script tag for BokehJS library: \", url);\n      document.head.appendChild(element);\n    }\n  };\n\n  function inject_raw_css(css) {\n    const element = document.createElement(\"style\");\n    element.appendChild(document.createTextNode(css));\n    document.body.appendChild(element);\n  }\n\n  const js_urls = [\"https://cdn.bokeh.org/bokeh/release/bokeh-2.4.3.min.js\", \"https://cdn.bokeh.org/bokeh/release/bokeh-gl-2.4.3.min.js\", \"https://cdn.bokeh.org/bokeh/release/bokeh-widgets-2.4.3.min.js\", \"https://cdn.bokeh.org/bokeh/release/bokeh-tables-2.4.3.min.js\", \"https://cdn.bokeh.org/bokeh/release/bokeh-mathjax-2.4.3.min.js\"];\n  const css_urls = [];\n\n  const inline_js = [    function(Bokeh) {\n      Bokeh.set_log_level(\"info\");\n    },\nfunction(Bokeh) {\n    }\n  ];\n\n  function run_inline_js() {\n    if (root.Bokeh !== undefined || force === true) {\n          for (let i = 0; i < inline_js.length; i++) {\n      inline_js[i].call(root, root.Bokeh);\n    }\n} else if (Date.now() < root._bokeh_timeout) {\n      setTimeout(run_inline_js, 100);\n    } else if (!root._bokeh_failed_load) {\n      console.log(\"Bokeh: BokehJS failed to load within specified timeout.\");\n      root._bokeh_failed_load = true;\n    } else if (force !== true) {\n      const cell = $(document.getElementById(null)).parents('.cell').data().cell;\n      cell.output_area.append_execute_result(NB_LOAD_WARNING)\n    }\n  }\n\n  if (root._bokeh_is_loading === 0) {\n    console.debug(\"Bokeh: BokehJS loaded, going straight to plotting\");\n    run_inline_js();\n  } else {\n    load_libs(css_urls, js_urls, function() {\n      console.debug(\"Bokeh: BokehJS plotting callback run at\", now());\n      run_inline_js();\n    });\n  }\n}(window));"
          },
          "metadata": {}
        },
        {
          "output_type": "display_data",
          "data": {
            "text/html": [
              "\n",
              "  <div class=\"bk-root\" id=\"ff793cea-65da-449c-b082-b7383139b47c\" data-root-id=\"1002\"></div>\n"
            ]
          },
          "metadata": {}
        },
        {
          "output_type": "display_data",
          "data": {
            "application/javascript": [
              "(function(root) {\n",
              "  function embed_document(root) {\n",
              "  const docs_json = {\"2f5cdd57-b215-481b-b6f9-eee2a7663858\":{\"defs\":[],\"roots\":{\"references\":[{\"attributes\":{\"below\":[{\"id\":\"1011\"}],\"center\":[{\"id\":\"1014\"},{\"id\":\"1018\"}],\"height\":200,\"left\":[{\"id\":\"1015\"}],\"renderers\":[{\"id\":\"1039\"}],\"title\":{\"id\":\"1041\"},\"toolbar\":{\"id\":\"1025\"},\"width\":500,\"x_range\":{\"id\":\"1003\"},\"x_scale\":{\"id\":\"1007\"},\"y_range\":{\"id\":\"1005\"},\"y_scale\":{\"id\":\"1009\"}},\"id\":\"1002\",\"subtype\":\"Figure\",\"type\":\"Plot\"},{\"attributes\":{},\"id\":\"1043\",\"type\":\"BasicTickFormatter\"},{\"attributes\":{\"tools\":[{\"id\":\"1019\"},{\"id\":\"1020\"},{\"id\":\"1021\"},{\"id\":\"1022\"},{\"id\":\"1023\"}]},\"id\":\"1025\",\"type\":\"Toolbar\"},{\"attributes\":{\"coordinates\":null,\"data_source\":{\"id\":\"1034\"},\"glyph\":{\"id\":\"1036\"},\"group\":null,\"hover_glyph\":null,\"muted_glyph\":{\"id\":\"1038\"},\"nonselection_glyph\":{\"id\":\"1037\"},\"view\":{\"id\":\"1040\"}},\"id\":\"1039\",\"type\":\"GlyphRenderer\"},{\"attributes\":{\"source\":{\"id\":\"1034\"}},\"id\":\"1040\",\"type\":\"CDSView\"},{\"attributes\":{\"bottom\":{\"field\":\"bottom\"},\"fill_alpha\":{\"value\":0.1},\"fill_color\":{\"value\":\"#d53e4f\"},\"hatch_alpha\":{\"value\":0.1},\"left\":{\"field\":\"start_time\"},\"line_alpha\":{\"value\":0.1},\"right\":{\"field\":\"end_time\"},\"top\":{\"field\":\"top\"}},\"id\":\"1037\",\"type\":\"Quad\"},{\"attributes\":{\"axis_label\":\"time (sec)\",\"coordinates\":null,\"formatter\":{\"id\":\"1046\"},\"group\":null,\"major_label_policy\":{\"id\":\"1047\"},\"ticker\":{\"id\":\"1012\"}},\"id\":\"1011\",\"type\":\"LinearAxis\"},{\"attributes\":{\"bottom_units\":\"screen\",\"coordinates\":null,\"fill_alpha\":0.5,\"fill_color\":\"lightgrey\",\"group\":null,\"left_units\":\"screen\",\"level\":\"overlay\",\"line_alpha\":1.0,\"line_color\":\"black\",\"line_dash\":[4,4],\"line_width\":2,\"right_units\":\"screen\",\"syncable\":false,\"top_units\":\"screen\"},\"id\":\"1024\",\"type\":\"BoxAnnotation\"},{\"attributes\":{\"interval\":12},\"id\":\"1031\",\"type\":\"SingleIntervalTicker\"},{\"attributes\":{\"coordinates\":null,\"group\":null},\"id\":\"1041\",\"type\":\"Title\"},{\"attributes\":{},\"id\":\"1044\",\"type\":\"AllLabels\"},{\"attributes\":{\"interval\":12},\"id\":\"1033\",\"type\":\"SingleIntervalTicker\"},{\"attributes\":{},\"id\":\"1009\",\"type\":\"LinearScale\"},{\"attributes\":{\"axis\":{\"id\":\"1015\"},\"coordinates\":null,\"dimension\":1,\"group\":null,\"ticker\":{\"id\":\"1033\"}},\"id\":\"1018\",\"type\":\"Grid\"},{\"attributes\":{},\"id\":\"1012\",\"type\":\"BasicTicker\"},{\"attributes\":{\"data\":{\"bottom\":{\"__ndarray__\":\"ZmZmZmbmUkBmZmZmZqZSQGZmZmZm5lJAZmZmZmamUkBmZmZmZuZSQGZmZmZmplFAZmZmZmZmUkBmZmZmZuZRQM3MzMzMTEZAZmZmZmYmUUDNzMzMzMxJQM3MzMzMTExAzczMzMzMTUDNzMzMzMxPQGZmZmZmJlFAzczMzMzMQ0BmZmZmZqZRQM3MzMzMzElAzczMzMzMS0DNzMzMzMxPQGZmZmZm5lBAZmZmZmamUUDNzMzMzExGQGZmZmZm5lFAzczMzMzMSUDNzMzMzExMQM3MzMzMzE9AZmZmZmbmUkBmZmZmZqZSQGZmZmZm5lJAZmZmZmamUkBmZmZmZuZSQGZmZmZmplFAZmZmZmZmUkBmZmZmZuZRQM3MzMzMTEZAZmZmZmYmUUDNzMzMzMxJQM3MzMzMTExAzczMzMzMTUDNzMzMzMxPQGZmZmZmJlFAzczMzMzMQ0BmZmZmZqZRQM3MzMzMzElAzczMzMzMS0DNzMzMzMxPQGZmZmZm5lFAZmZmZmamUUDNzMzMzExGQGZmZmZmJlFAzczMzMzMSUDNzMzMzExMQGZmZmZmplFAZmZmZmbmUUBmZmZmZmZSQM3MzMzMzEdAZmZmZmbmUkDNzMzMzExLQM3MzMzMzE1AZmZmZmamUEBmZmZmZiZTQGZmZmZm5lJAzczMzMxMRUBmZmZmZmZSQM3MzMzMTEtAzczMzMxMTUBmZmZmZiZQQGZmZmZm5lJAZmZmZmZmUkDNzMzMzExGQGZmZmZm5lFAzczMzMzMSUDNzMzMzExMQM3MzMzMzE9AZmZmZmZmUkBmZmZmZuZRQM3MzMzMzENAZmZmZmamUUDNzMzMzMxJQM3MzMzMzE9AzczMzMzMT0BmZmZmZuZSQM3MzMzMzE9AZmZmZmbmUkDNzMzMzMxPQGZmZmZm5lJAZmZmZmbmUkBmZmZmZuZVQGZmZmZmplJAZmZmZmbmUkBmZmZmZqZSQGZmZmZm5lJAZmZmZmamUkBmZmZmZuZSQGZmZmZmplJAZmZmZmbmUkBmZmZmZqZSQGZmZmZm5lJAZmZmZmamUkBmZmZmZuZSQGZmZmZmplJAZmZmZmbmUkBmZmZmZqZSQGZmZmZm5lJAZmZmZmamUUBmZmZmZmZSQGZmZmZm5lFAzczMzMxMRkBmZmZmZiZRQM3MzMzMzElAzczMzMxMTEDNzMzMzMxNQM3MzMzMzE9AZmZmZmYmUUDNzMzMzMxDQGZmZmZmplFAzczMzMzMSUDNzMzMzMxLQM3MzMzMzE9AZmZmZmbmUEBmZmZmZqZRQM3MzMzMTEZAZmZmZmbmUUDNzMzMzMxJQM3MzMzMTExAzczMzMzMT0BmZmZmZuZSQGZmZmZmplJAZmZmZmbmUkBmZmZmZqZSQGZmZmZm5lJAZmZmZmamUUBmZmZmZmZSQGZmZmZm5lFAzczMzMxMRkBmZmZmZiZRQM3MzMzMzElAzczMzMxMTEDNzMzMzMxNQM3MzMzMzE9AZmZmZmYmUUDNzMzMzMxDQGZmZmZmplFAzczMzMzMSUDNzMzMzMxLQM3MzMzMzE9AZmZmZmbmUUBmZmZmZqZRQM3MzMzMTEZAZmZmZmYmUUDNzMzMzMxJQM3MzMzMTExAzczMzMzMTUDNzMzMzMxPQGZmZmZm5lFAZmZmZmbmUkBmZmZmZiZUQM3MzMzMTEZAzczMzMzMSUDNzMzMzExMQM3MzMzMzE1AzczMzMzMT0BmZmZmZiZRQGZmZmZm5lJAZmZmZmYmVEA=\",\"dtype\":\"float64\",\"order\":\"little\",\"shape\":[166]},\"duration\":{\"__ndarray__\":\"b1j7hrVvyD9PCfKUIE/JP3BY+4a1b8g/cFj7hrVvyD9sWPuGtW/IP3BY+4a1b8g/mJmZmZmZyT9wWPuGtW/IPxhddNFFF/E//Ia1b1j77j8myFOCPCXsP8Bh7RvWvuU/lCBPCfKU4D94SpCnBHnSP6AS5ClBntI/YO0b1r5hzT/kKUGeEuTpP4wuuuiii+I/mCBPCfKU4D/wG9a+Ye3LP3BY+4a1b8g/oJmZmZmZyT+YmZmZmZnpP5iZmZmZmek/kKcEeUqQ4z/goosuuujaP0CsfcPaN8w/gNFFF110sT8gyFOCPCXIP2BY+4a1b8g/oJmZmZmZyT8gyFOCPCXIP4BY+4a1b8g/gJmZmZmZyT9ArH3D2jfMPxhddNFFF/E/+Ia1b1j77j/IzMzMzMzsP8DaN6x9w+Y/qAR5SpCn4D+APCXIU4LUP6AS5ClBntI/QKx9w9o3zD/A2jesfcPuP9A3rH3D2us/uGHtG9a+5T+g9g1r37DeP4AS5ClBntI/gO0b1r5hzT+YmZmZmZnxP5iZmZmZmfE/MEGeEuQp7T/A2jesfcPmP7AEeUqQp+A/IF100UUX1T+ASpCnBHnSP3hKkKcEefA/EGvfsPYN7z/QvmHtG9bqP3BY+4a1b+Q/wMzMzMzM3D8AAAAAAADQP0DtG9a+Yc0/GF100UUX8T/whrVvWPvuP9BTgjwlyOs/wGHtG9a+5T/A9g1r37DeP4BKkKcEedI/wH3D2jeszT+APCXIU4LwPxBr37D2De8/8KKLLrro6j/QzMzMzMzkP8DaN6x9w9o/wOiiiy660D8AAAAAAADQP6AgTwnylNA/IE8J8pQg9T+YmZmZmZnxP4BY+4a1b8g/AHlKkKcE2T/gsPYNa9/YP2BmZmZmZtY/gAR5SpCnxD8Av2HtG9a+P4CZmZmZmbk/wCBPCfKUwD+AIE8J8pTAP4CZmZmZmck/QKx9w9o3zD9AWPuGtW/IPwCamZmZmck/gO0b1r5hzT+A7RvWvmHNPwCsfcPaN8w/gJmZmZmZyT+A7RvWvmHNP4DtG9a+Yc0/ABzWvmHtyz8A7RvWvmHNP4DtG9a+Yc0/gH3D2jeszT+ArH3D2jfMP4DtG9a+Yc0/gCBPCfKU0D8AyFOCPCXIP4DtG9a+Yc0/8Ia1b1j78D8Aa9+w9g3vP8A3rH3D2us/wEUXXXTR5T/AvmHtG9beP4AS5ClBntI/wBLkKUGe0j+A7RvWvmHNPwCHtW9Y++4/INa+Ye0b7j/Ab1j7hrXnP6CZmZmZmeE/QGZmZmZm1j8AsfYNa9/AP+Ciiy666Oo/4KKLLrro6j+APCXIU4LkP8DMzMzMzNw/gO0b1r5hzT+AWPuGtW/IP4CZmZmZmck/gMhTgjwlyD8AWPuGtW/IPwCamZmZmck/gFj7hrVvyD+AmZmZmZnJPwAc1r5h7cs/IE8J8pQg8T8Aa9+w9g3vPyDIU4I8Jew/wGHtG9a+5T+A37D2DWvfP0AzMzMzM9M/wBLkKUGe0j/AIE8J8pTQPwCHtW9Y++4/wL5h7RvW6j/AzMzMzMzkP0DtG9a+Yd0/gCBPCfKU0D8AfsPaN6zNP+A3rH3D2us/0MzMzMzMAkDQzMzMzMz4P9DMzMzMzPg/0MzMzMzM+D8A8pQgTwmyP1SCPCXIUxpA0MzMzMzM+D/QzMzMzMz4PyBPCfKUIBRAIE8J8pQgFEAgTwnylCAUQCBPCfKUIBRAwOiiiy660D8gTwnylCAUQCBPCfKUIBRAIE8J8pQgFEA=\",\"dtype\":\"float64\",\"order\":\"little\",\"shape\":[166]},\"end_time\":{\"__ndarray__\":\"zMzMzMzMzD/IU4I8JcjbPwAAAAAAAOQ/ZmZmZmZm6j9mZmZmZmbwP5mZmZmZmfM/zMzMzMzM9j/aN6x9w9r5P3lKkKcEeQVArH3D2jesBEB5SpCnBHkFQHlKkKcEeQVAeUqQpwR5BUB5SpCnBHkFQAAAAAAAAAdACfKUIE8JCECsfcPaN6wMQG9Y+4a1bwxAeUqQpwR5DUCsfcPaN6wMQPYNa9+w9g1AkKcEeUqQD0D7hrVvWPsSQPuGtW9Y+xJA+4a1b1j7EkD7hrVvWPsSQPuGtW9Y+xJAo4suuugiE0Br37D2DWsUQC666KKLLhVA+4a1b1j7FUA8JchTgrwWQAAAAAAAgBdAzMzMzMxMGEAuuuiiiy4ZQNa+Ye0bVh1Ab1j7hrXvHED2DWvfsHYdQPYNa9+wdh1A9g1r37B2HUD2DWvfsHYdQJmZmZmZGR5AnhLkKUGeHkBKkKcEecogQH3D2jes/SBAfcPaN6z9IEB9w9o3rP0gQH3D2jes/SBAAAAAAABAIUDkKUGeEmQjQOQpQZ4SZCNA5ClBnhJkI0DkKUGeEmQjQOQpQZ4SZCNA5ClBnhJkI0C1b1j7hrUjQNFFF110kSVAMzMzMzNzJUDRRRdddJElQNFFF110kSVA0UUXXXSRJUDRRRdddJElQOiiiy666CVAOKx9w9r3J0AEeUqQp8QnQDisfcPa9ydAOKx9w9r3J0A4rH3D2vcnQDisfcPa9ydA+4a1b1g7KED7hrVvWDsqQBzWvmHtGypA+4a1b1g7KkD7hrVvWDsqQGvfsPYNKypA+4a1b1g7KkAc1r5h7ZsqQII8JchTAitAYe0b1r4hLUDRRRdddBEtQGZmZmZmpitALrroootuLEBPCfKUIM8sQGHtG9a+IS1AYe0b1r4hLUAzMzMzM3MtQEqQpwR5yi1Aa9+w9g0rLkDMzMzMzIwuQDesfcPady9A6KKLLrroL0B9w9o3rB0wQLH2DWvfUDBAHNa+Ye27MEDNzMzMzOwwQH3D2jesHTFA6KKLLrpIMUB00UUXXbQxQCXIU4I85TFAtW9Y+4YVMkDooosuukgyQM3MzMzMrDJAfcPaN6zdMkAOa9+w9g0zQEGeEuQpQTNAmZmZmZl5M0DaN6x9w5ozQLVvWPuG1TNAfcPaN6zdNEBmZmZmZsY0QH3D2jes3TRAfcPaN6zdNEB9w9o3rN00QH3D2jes3TRAsfYNa98QNUDylCBPCTI1QE8J8pQg7zVAWPuGtW8YNkBY+4a1bxg2QFj7hrVvGDZAWPuGtW8YNkCx9g1r3xA2QBdddNFF9zZAF1100UX3NkAXXXTRRfc2QBdddNFF9zZATwnylCDvNkBY+4a1bxg3QIsuuuiiSzdAHNa+Ye17N0DMzMzMzKw3QAAAAAAA4DdAsfYNa98QOEDkKUGeEkQ4QBzWvmHtezhAZmZmZmaGOUDMzMzMzGw5QGZmZmZmhjlAZmZmZmaGOUBmZmZmZoY5QGZmZmZmhjlAF1100UW3OUAAAAAAAOA5QLVvWPuGlTpApwR5SpCnOkCnBHlKkKc6QKcEeUqQpzpApwR5SpCnOkCx9g1r39A6QKcEeUqQpztAgjwlyFMiPUCCPCXIUyI9QII8JchTIj1AgjwlyFMiPUCnBHlKkKc7QCXIU4I8FUFAgjwlyFMiPUCCPCXIUyI9QCXIU4I8FUFAJchTgjwVQUAlyFOCPBVBQCXIU4I8FUFAJchTgjxlPUAlyFOCPBVBQCXIU4I8FUFAJchTgjwVQUA=\",\"dtype\":\"float64\",\"order\":\"little\",\"shape\":[166]},\"fill_alpha\":{\"__ndarray__\":\"AAAAAAAA7j8AAAAAAADuPwAAAAAAAO4/AAAAAAAA7j8AAAAAAADuPwAAAAAAAO4/AAAAAAAA6T8AAAAAAADpPwAAAAAAQOU/AAAAAABA5j8AAAAAAEDlPwAAAAAAQOY/AAAAAABA5j8AAAAAAEDnPwAAAAAAQOY/AAAAAABA5T8AAAAAAEDmPwAAAAAAQOU/AAAAAABA5j8AAAAAAEDmPwAAAAAAQOU/AAAAAABA5D8AAAAAAEDlPwAAAAAAQOU/AAAAAABA5T8AAAAAAEDmPwAAAAAAQOY/AAAAAABA5D8AAAAAAEDlPwAAAAAAQOU/AAAAAABA5T8AAAAAAEDkPwAAAAAAQOQ/AAAAAABA5T8AAAAAAEDlPwAAAAAAQOY/AAAAAABA5T8AAAAAAEDkPwAAAAAAQOY/AAAAAABA5j8AAAAAAEDmPwAAAAAAQOY/AAAAAABA5T8AAAAAAEDlPwAAAAAAQOU/AAAAAABA5j8AAAAAAEDlPwAAAAAAQOY/AAAAAABA5T8AAAAAAEDlPwAAAAAAQOQ/AAAAAABA5T8AAAAAAEDmPwAAAAAAQOU/AAAAAABA5T8AAAAAAEDlPwAAAAAAQOY/AAAAAABA5z8AAAAAAEDnPwAAAAAAQOY/AAAAAABA5z8AAAAAAEDmPwAAAAAAQOc/AAAAAABA5j8AAAAAAEDmPwAAAAAAQOY/AAAAAABA5z8AAAAAAEDmPwAAAAAAQOc/AAAAAABA5z8AAAAAAEDmPwAAAAAAQOc/AAAAAABA5j8AAAAAAEDnPwAAAAAAQOY/AAAAAABA5j8AAAAAAEDlPwAAAAAAQOU/AAAAAABA5T8AAAAAAEDlPwAAAAAAQOU/AAAAAABA5T8AAAAAAEDlPwAAAAAAQOU/AAAAAABA5D8AAAAAAEDjPwAAAAAAQOI/AAAAAABA5T8AAAAAAEDnPwAAAAAAQOU/AAAAAABA5T8AAAAAAEDmPwAAAAAAQOU/AAAAAABA5T8AAAAAAEDlPwAAAAAAQOY/AAAAAABA5T8AAAAAAEDlPwAAAAAAQOU/AAAAAABA5T8AAAAAAEDlPwAAAAAAQOU/AAAAAABA5D8AAAAAAEDlPwAAAAAAQOU/AAAAAABA5D8AAAAAAEDlPwAAAAAAQOU/AAAAAABA5T8AAAAAAEDmPwAAAAAAQOQ/AAAAAABA5j8AAAAAAEDmPwAAAAAAQOY/AAAAAABA5T8AAAAAAEDlPwAAAAAAQOU/AAAAAABA5T8AAAAAAEDmPwAAAAAAQOY/AAAAAABA5T8AAAAAAEDlPwAAAAAAQOU/AAAAAABA5T8AAAAAAEDkPwAAAAAAQOY/AAAAAABA5j8AAAAAAEDlPwAAAAAAQOU/AAAAAABA5T8AAAAAAEDlPwAAAAAAQOQ/AAAAAABA5D8AAAAAAEDlPwAAAAAAQOU/AAAAAABA5j8AAAAAAEDlPwAAAAAAQOQ/AAAAAABA5j8AAAAAAEDmPwAAAAAAQOY/AAAAAABA5j8AAAAAAEDlPwAAAAAAQOU/AAAAAABA5T8AAAAAAEDmPwAAAAAAQOY/AAAAAABA5j8AAAAAAEDlPwAAAAAAQOU/AAAAAABA5j8AAAAAAEDjPwAAAAAAQOU/AAAAAABA5T8AAAAAAEDkPwAAAAAAQOY/AAAAAABA5j8AAAAAAEDmPwAAAAAAQOU/AAAAAABA5T8AAAAAAEDlPwAAAAAAQOU/AAAAAABA5T8AAAAAAEDlPwAAAAAAQOY/AAAAAABA5j8=\",\"dtype\":\"float64\",\"order\":\"little\",\"shape\":[166]},\"index\":[0,1,2,3,4,5,6,7,8,9,10,11,12,13,14,15,16,17,18,19,20,21,22,23,24,25,26,27,28,29,30,31,32,33,34,35,36,37,38,39,40,41,42,43,44,45,46,47,48,49,50,51,52,53,54,55,56,57,58,59,60,61,62,63,64,65,66,67,68,69,70,71,72,73,74,75,76,77,78,79,80,81,82,83,84,85,86,87,88,89,90,91,92,93,94,95,96,97,98,99,100,101,102,103,104,105,106,107,108,109,110,111,112,113,114,115,116,117,118,119,120,121,122,123,124,125,126,127,128,129,130,131,132,133,134,135,136,137,138,139,140,141,142,143,144,145,146,147,148,149,150,151,152,153,154,155,156,157,158,159,160,161,162,163,164,165],\"instrument\":[1,1,1,1,1,1,1,1,1,1,1,1,1,1,1,1,1,1,1,1,1,1,1,1,1,1,1,1,1,1,1,1,1,1,1,1,1,1,1,1,1,1,1,1,1,1,1,1,1,1,1,1,1,1,1,1,1,1,1,1,1,1,1,1,1,1,1,1,1,1,1,1,1,1,1,1,1,1,1,1,1,1,1,1,1,1,1,1,1,1,1,1,1,1,1,1,1,1,1,1,1,1,1,1,1,1,1,1,1,1,1,1,1,1,1,1,1,1,1,1,1,1,1,1,1,1,1,1,1,1,1,1,1,1,1,1,1,1,1,1,1,1,1,1,1,1,1,1,1,1,1,1,1,1,1,1,1,1,1,1,1,1,1,1,1,1],\"pitch\":[76,75,76,75,76,71,74,72,45,69,52,57,60,64,69,40,71,52,56,64,68,71,45,72,52,57,64,76,75,76,75,76,71,74,72,45,69,52,57,60,64,69,40,71,52,56,64,72,71,45,69,52,57,71,72,74,48,76,55,60,67,77,76,43,74,55,59,65,76,74,45,72,52,57,64,74,72,40,71,52,64,64,76,64,76,64,76,76,88,75,76,75,76,75,76,75,76,75,76,75,76,75,76,75,76,71,74,72,45,69,52,57,60,64,69,40,71,52,56,64,68,71,45,72,52,57,64,76,75,76,75,76,71,74,72,45,69,52,57,60,64,69,40,71,52,56,64,72,71,45,69,52,57,60,64,72,76,81,45,52,57,60,64,69,76,81],\"program\":[0,0,0,0,0,0,0,0,0,0,0,0,0,0,0,0,0,0,0,0,0,0,0,0,0,0,0,0,0,0,0,0,0,0,0,0,0,0,0,0,0,0,0,0,0,0,0,0,0,0,0,0,0,0,0,0,0,0,0,0,0,0,0,0,0,0,0,0,0,0,0,0,0,0,0,0,0,0,0,0,0,0,0,0,0,0,0,0,0,0,0,0,0,0,0,0,0,0,0,0,0,0,0,0,0,0,0,0,0,0,0,0,0,0,0,0,0,0,0,0,0,0,0,0,0,0,0,0,0,0,0,0,0,0,0,0,0,0,0,0,0,0,0,0,0,0,0,0,0,0,0,0,0,0,0,0,0,0,0,0,0,0,0,0,0,0],\"start_time\":{\"__ndarray__\":\"dNFFF110oT9BnhLkKUHOP8hTgjwlyNs/SpCnBHlK5D+x9g1r37DqP4suuuiii/A/mZmZmZmZ8z/MzMzMzMz2P9o3rH3D2vk/2jesfcPa+T/fsPYNa9/8PwnylCBPCQBAVII8JchTAUAqQZ4S5CkDQKx9w9o3rARAMzMzMzMzBkAzMzMzMzMGQMzMzMzMzAdAU4I8JchTCUDtG9a+Ye0KQG9Y+4a1bwxA9g1r37D2DUCQpwR5SpAPQJCnBHlKkA9ACfKUIE+JEEDNzMzMzEwRQJmZmZmZGRJAXXTRRRfdEkAqQZ4S5KkTQGvfsPYNaxRALrrooosuFUD7hrVvWPsVQDwlyFOCvBZAAAAAAACAF0DMzMzMzEwYQJCnBHlKEBlAkKcEeUoQGUBddNFFF90ZQJ4S5ClBnhpAYe0b1r5hG0Auuuiiiy4cQG9Y+4a17xxAPCXIU4K8HUA8JchTgrwdQAAAAAAAgB5Aw9o3rH1DH0DIU4I8JQggQOmiiy66aCBASpCnBHnKIECx9g1r3zAhQLH2DWvfMCFA0UUXXXSRIUA4rH3D2vchQJmZmZmZWSJA+4a1b1i7IkBh7RvWviEjQII8JchTgiNAgjwlyFOCI0DkKUGeEuQjQEqQpwR5SiRAa9+w9g2rJEDRRRdddBElQDMzMzMzcyVAlSBPCfLUJUCVIE8J8tQlQPuGtW9YOyZAHNa+Ye2bJkCCPCXIUwInQOQpQZ4SZCdABHlKkKfEJ0Br37D2DSsoQGvfsPYNKyhAzMzMzMyMKEAuuuiii+4oQJUgTwnyVClAtW9Y+4a1KUAc1r5h7RsqQH3D2jesfSpAfcPaN6x9KkCeEuQpQd4qQAR5SpCnRCtAZmZmZmamK0DIU4I8JQgsQC666KKLbixATwnylCDPLEC1b1j7hjUtQBdddNFFly1A6KKLLrroLUBKkKcEeUouQNFFF110ES9AN6x9w9p3L0CZmZmZmdkvQH3D2jesHTBAQZ4S5CmBMEDylCBPCbIwQCXIU4I85TBAtW9Y+4YVMUCZmZmZmXkxQEqQpwR5qjFAfcPaN6zdMUAOa9+w9g0yQPKUIE8JcjJAgjwlyFOiMkC1b1j7htUyQGZmZmZmBjNAF1100UU3M0BKkKcEeWozQNo3rH3DmjNADmvfsPbNM0AOa9+w9s0zQL9h7RvW/jNATwnylCAvNECCPCXIU2I0QDMzMzMzkzRAZmZmZmbGNEAXXXTRRfc0QBdddNFF9zRApwR5SpAnNUDaN6x9w1o1QIsuuuiiizVAv2HtG9a+NUBPCfKUIO81QAAAAAAAIDZAAAAAAAAgNkAzMzMzM1M2QOQpQZ4ShDZAdNFFF120NkCnBHlKkOc2QFj7hrVvGDdAiy666KJLN0Ac1r5h7Xs3QMzMzMzMrDdAAAAAAADgN0Cx9g1r3xA4QOQpQZ4SRDhAdNFFF110OEB00UUXXXQ4QCXIU4I8pThAWPuGtW/YOEDooosuugg5QJmZmZmZOTlAzMzMzMxsOUB9w9o3rJ05QH3D2jesnTlAsfYNa9/QOUBBnhLkKQE6QPKUIE8JMjpAJchTgjxlOkC1b1j7hpU6QOiiiy66yDpA6KKLLrrIOkC1b1j7hpU7QLVvWPuGlTtAtW9Y+4aVO0C1b1j7hpU7QLVvWPuGlTtAtW9Y+4aVO0C1b1j7hpU7QII8JchTIj1AgjwlyFMiPUCCPCXIUyI9QII8JchTIj1AgjwlyFMiPUCCPCXIUyI9QII8JchTIj1AgjwlyFMiPUA=\",\"dtype\":\"float64\",\"order\":\"little\",\"shape\":[166]},\"top\":{\"__ndarray__\":\"mpmZmZkZU0CamZmZmdlSQJqZmZmZGVNAmpmZmZnZUkCamZmZmRlTQJqZmZmZ2VFAmpmZmZmZUkCamZmZmRlSQDMzMzMzs0ZAmpmZmZlZUUAzMzMzMzNKQDMzMzMzs0xAMzMzMzMzTkCamZmZmRlQQJqZmZmZWVFAMzMzMzMzRECamZmZmdlRQDMzMzMzM0pAMzMzMzMzTECamZmZmRlQQJqZmZmZGVFAmpmZmZnZUUAzMzMzM7NGQJqZmZmZGVJAMzMzMzMzSkAzMzMzM7NMQJqZmZmZGVBAmpmZmZkZU0CamZmZmdlSQJqZmZmZGVNAmpmZmZnZUkCamZmZmRlTQJqZmZmZ2VFAmpmZmZmZUkCamZmZmRlSQDMzMzMzs0ZAmpmZmZlZUUAzMzMzMzNKQDMzMzMzs0xAMzMzMzMzTkCamZmZmRlQQJqZmZmZWVFAMzMzMzMzRECamZmZmdlRQDMzMzMzM0pAMzMzMzMzTECamZmZmRlQQJqZmZmZGVJAmpmZmZnZUUAzMzMzM7NGQJqZmZmZWVFAMzMzMzMzSkAzMzMzM7NMQJqZmZmZ2VFAmpmZmZkZUkCamZmZmZlSQDMzMzMzM0hAmpmZmZkZU0AzMzMzM7NLQDMzMzMzM05AmpmZmZnZUECamZmZmVlTQJqZmZmZGVNAMzMzMzOzRUCamZmZmZlSQDMzMzMzs0tAMzMzMzOzTUCamZmZmVlQQJqZmZmZGVNAmpmZmZmZUkAzMzMzM7NGQJqZmZmZGVJAMzMzMzMzSkAzMzMzM7NMQJqZmZmZGVBAmpmZmZmZUkCamZmZmRlSQDMzMzMzM0RAmpmZmZnZUUAzMzMzMzNKQJqZmZmZGVBAmpmZmZkZUECamZmZmRlTQJqZmZmZGVBAmpmZmZkZU0CamZmZmRlQQJqZmZmZGVNAmpmZmZkZU0CamZmZmRlWQJqZmZmZ2VJAmpmZmZkZU0CamZmZmdlSQJqZmZmZGVNAmpmZmZnZUkCamZmZmRlTQJqZmZmZ2VJAmpmZmZkZU0CamZmZmdlSQJqZmZmZGVNAmpmZmZnZUkCamZmZmRlTQJqZmZmZ2VJAmpmZmZkZU0CamZmZmdlSQJqZmZmZGVNAmpmZmZnZUUCamZmZmZlSQJqZmZmZGVJAMzMzMzOzRkCamZmZmVlRQDMzMzMzM0pAMzMzMzOzTEAzMzMzMzNOQJqZmZmZGVBAmpmZmZlZUUAzMzMzMzNEQJqZmZmZ2VFAMzMzMzMzSkAzMzMzMzNMQJqZmZmZGVBAmpmZmZkZUUCamZmZmdlRQDMzMzMzs0ZAmpmZmZkZUkAzMzMzMzNKQDMzMzMzs0xAmpmZmZkZUECamZmZmRlTQJqZmZmZ2VJAmpmZmZkZU0CamZmZmdlSQJqZmZmZGVNAmpmZmZnZUUCamZmZmZlSQJqZmZmZGVJAMzMzMzOzRkCamZmZmVlRQDMzMzMzM0pAMzMzMzOzTEAzMzMzMzNOQJqZmZmZGVBAmpmZmZlZUUAzMzMzMzNEQJqZmZmZ2VFAMzMzMzMzSkAzMzMzMzNMQJqZmZmZGVBAmpmZmZkZUkCamZmZmdlRQDMzMzMzs0ZAmpmZmZlZUUAzMzMzMzNKQDMzMzMzs0xAMzMzMzMzTkCamZmZmRlQQJqZmZmZGVJAmpmZmZkZU0CamZmZmVlUQDMzMzMzs0ZAMzMzMzMzSkAzMzMzM7NMQDMzMzMzM05AmpmZmZkZUECamZmZmVlRQJqZmZmZGVNAmpmZmZlZVEA=\",\"dtype\":\"float64\",\"order\":\"little\",\"shape\":[166]},\"velocity\":[120,120,120,120,120,120,100,100,85,89,85,89,89,93,89,85,89,85,89,89,85,81,85,85,85,89,89,81,85,85,85,81,81,85,85,89,85,81,89,89,89,89,85,85,85,89,85,89,85,85,81,85,89,85,85,85,89,93,93,89,93,89,93,89,89,89,93,89,93,93,89,93,89,93,89,89,85,85,85,85,85,85,85,85,81,77,73,85,93,85,85,89,85,85,85,89,85,85,85,85,85,85,81,85,85,81,85,85,85,89,81,89,89,89,85,85,85,85,89,89,85,85,85,85,81,89,89,85,85,85,85,81,81,85,85,89,85,81,89,89,89,89,85,85,85,89,89,89,85,85,89,77,85,85,81,89,89,89,85,85,85,85,85,85,89,89]},\"selected\":{\"id\":\"1049\"},\"selection_policy\":{\"id\":\"1048\"}},\"id\":\"1034\",\"type\":\"ColumnDataSource\"},{\"attributes\":{},\"id\":\"1049\",\"type\":\"Selection\"},{\"attributes\":{},\"id\":\"1005\",\"type\":\"DataRange1d\"},{\"attributes\":{},\"id\":\"1047\",\"type\":\"AllLabels\"},{\"attributes\":{\"overlay\":{\"id\":\"1024\"}},\"id\":\"1021\",\"type\":\"BoxZoomTool\"},{\"attributes\":{},\"id\":\"1048\",\"type\":\"UnionRenderers\"},{\"attributes\":{},\"id\":\"1022\",\"type\":\"ResetTool\"},{\"attributes\":{\"bottom\":{\"field\":\"bottom\"},\"fill_alpha\":{\"field\":\"fill_alpha\"},\"fill_color\":{\"value\":\"#d53e4f\"},\"left\":{\"field\":\"start_time\"},\"right\":{\"field\":\"end_time\"},\"top\":{\"field\":\"top\"}},\"id\":\"1036\",\"type\":\"Quad\"},{\"attributes\":{},\"id\":\"1020\",\"type\":\"PanTool\"},{\"attributes\":{},\"id\":\"1003\",\"type\":\"DataRange1d\"},{\"attributes\":{},\"id\":\"1046\",\"type\":\"BasicTickFormatter\"},{\"attributes\":{\"bottom\":{\"field\":\"bottom\"},\"fill_alpha\":{\"value\":0.2},\"fill_color\":{\"value\":\"#d53e4f\"},\"hatch_alpha\":{\"value\":0.2},\"left\":{\"field\":\"start_time\"},\"line_alpha\":{\"value\":0.2},\"right\":{\"field\":\"end_time\"},\"top\":{\"field\":\"top\"}},\"id\":\"1038\",\"type\":\"Quad\"},{\"attributes\":{},\"id\":\"1023\",\"type\":\"SaveTool\"},{\"attributes\":{},\"id\":\"1007\",\"type\":\"LinearScale\"},{\"attributes\":{\"axis_label\":\"pitch (MIDI)\",\"coordinates\":null,\"formatter\":{\"id\":\"1043\"},\"group\":null,\"major_label_policy\":{\"id\":\"1044\"},\"ticker\":{\"id\":\"1031\"}},\"id\":\"1015\",\"type\":\"LinearAxis\"},{\"attributes\":{\"callback\":null,\"tooltips\":[[\"pitch\",\"@pitch\"],[\"program\",\"@program\"],[\"velo\",\"@velocity\"],[\"duration\",\"@duration\"],[\"start_time\",\"@start_time\"],[\"end_time\",\"@end_time\"],[\"velocity\",\"@velocity\"],[\"fill_alpha\",\"@fill_alpha\"]]},\"id\":\"1019\",\"type\":\"HoverTool\"},{\"attributes\":{\"axis\":{\"id\":\"1011\"},\"coordinates\":null,\"group\":null,\"ticker\":null},\"id\":\"1014\",\"type\":\"Grid\"}],\"root_ids\":[\"1002\"]},\"title\":\"Bokeh Application\",\"version\":\"2.4.3\"}};\n",
              "  const render_items = [{\"docid\":\"2f5cdd57-b215-481b-b6f9-eee2a7663858\",\"root_ids\":[\"1002\"],\"roots\":{\"1002\":\"ff793cea-65da-449c-b082-b7383139b47c\"}}];\n",
              "  root.Bokeh.embed.embed_items_notebook(docs_json, render_items);\n",
              "  }\n",
              "  if (root.Bokeh !== undefined) {\n",
              "    embed_document(root);\n",
              "  } else {\n",
              "    let attempts = 0;\n",
              "    const timer = setInterval(function(root) {\n",
              "      if (root.Bokeh !== undefined) {\n",
              "        clearInterval(timer);\n",
              "        embed_document(root);\n",
              "      } else {\n",
              "        attempts++;\n",
              "        if (attempts > 100) {\n",
              "          clearInterval(timer);\n",
              "          console.log(\"Bokeh: ERROR: Unable to run BokehJS code because BokehJS library is missing\");\n",
              "        }\n",
              "      }\n",
              "    }, 10, root)\n",
              "  }\n",
              "})(window);"
            ],
            "application/vnd.bokehjs_exec.v0+json": ""
          },
          "metadata": {
            "application/vnd.bokehjs_exec.v0+json": {
              "id": "1002"
            }
          }
        }
      ]
    },
    {
      "cell_type": "code",
      "source": [
        "len(encoder.encode_note_sequence(original_ns))"
      ],
      "metadata": {
        "colab": {
          "base_uri": "https://localhost:8080/"
        },
        "id": "Q4ps8yuKzu3k",
        "outputId": "142cc096-dce6-4a99-9090-c9f4c9ab8d6f"
      },
      "execution_count": 30,
      "outputs": [
        {
          "output_type": "execute_result",
          "data": {
            "text/plain": [
              "627"
            ]
          },
          "metadata": {},
          "execution_count": 30
        }
      ]
    },
    {
      "cell_type": "code",
      "source": [
        "gen_system.generate_similar(\n",
        "    block_1_num_samples=100, block_2_num_samples=3, final_num_samples=5\n",
        ")\n",
        "# Чтобы ускорить генерацию с потерей качества, можно уменьшить параметры block_1_num_samples и block_2_num_samples\n",
        "# Чтобы повысить качество генерации, увеличив время работы, можно увеличить параметры\n",
        "# Например, можно запустить generate_similar() с параметрами по умолчанию"
      ],
      "metadata": {
        "colab": {
          "base_uri": "https://localhost:8080/",
          "height": 1000
        },
        "id": "nxGjhsqe3f6X",
        "outputId": "f1d44467-4aa3-4606-f4e6-c36871f0b71c"
      },
      "execution_count": 31,
      "outputs": [
        {
          "metadata": {
            "tags": null
          },
          "name": "stdout",
          "output_type": "stream",
          "text": [
            "Обработка файла номер 1\n",
            "Генерация начальных блоков\n"
          ]
        },
        {
          "output_type": "stream",
          "name": "stderr",
          "text": [
            "100%|██████████| 100/100 [09:23<00:00,  5.63s/it]\n"
          ]
        },
        {
          "output_type": "stream",
          "name": "stdout",
          "text": [
            "Генерация продолжений для релевантных начальных блоков.\n"
          ]
        },
        {
          "output_type": "stream",
          "name": "stderr",
          "text": [
            "100%|██████████| 3/3 [02:49<00:00, 56.53s/it]\n"
          ]
        },
        {
          "output_type": "display_data",
          "data": {
            "text/plain": [
              "<IPython.core.display.HTML object>"
            ],
            "text/html": [
              "<div id=\"id_2\"> </div>"
            ]
          },
          "metadata": {}
        },
        {
          "output_type": "display_data",
          "data": {
            "application/javascript": [
              "(function(root) {\n",
              "  function now() {\n",
              "    return new Date();\n",
              "  }\n",
              "\n",
              "  const force = true;\n",
              "\n",
              "  if (typeof root._bokeh_onload_callbacks === \"undefined\" || force === true) {\n",
              "    root._bokeh_onload_callbacks = [];\n",
              "    root._bokeh_is_loading = undefined;\n",
              "  }\n",
              "\n",
              "const JS_MIME_TYPE = 'application/javascript';\n",
              "  const HTML_MIME_TYPE = 'text/html';\n",
              "  const EXEC_MIME_TYPE = 'application/vnd.bokehjs_exec.v0+json';\n",
              "  const CLASS_NAME = 'output_bokeh rendered_html';\n",
              "\n",
              "  /**\n",
              "   * Render data to the DOM node\n",
              "   */\n",
              "  function render(props, node) {\n",
              "    const script = document.createElement(\"script\");\n",
              "    node.appendChild(script);\n",
              "  }\n",
              "\n",
              "  /**\n",
              "   * Handle when an output is cleared or removed\n",
              "   */\n",
              "  function handleClearOutput(event, handle) {\n",
              "    const cell = handle.cell;\n",
              "\n",
              "    const id = cell.output_area._bokeh_element_id;\n",
              "    const server_id = cell.output_area._bokeh_server_id;\n",
              "    // Clean up Bokeh references\n",
              "    if (id != null && id in Bokeh.index) {\n",
              "      Bokeh.index[id].model.document.clear();\n",
              "      delete Bokeh.index[id];\n",
              "    }\n",
              "\n",
              "    if (server_id !== undefined) {\n",
              "      // Clean up Bokeh references\n",
              "      const cmd_clean = \"from bokeh.io.state import curstate; print(curstate().uuid_to_server['\" + server_id + \"'].get_sessions()[0].document.roots[0]._id)\";\n",
              "      cell.notebook.kernel.execute(cmd_clean, {\n",
              "        iopub: {\n",
              "          output: function(msg) {\n",
              "            const id = msg.content.text.trim();\n",
              "            if (id in Bokeh.index) {\n",
              "              Bokeh.index[id].model.document.clear();\n",
              "              delete Bokeh.index[id];\n",
              "            }\n",
              "          }\n",
              "        }\n",
              "      });\n",
              "      // Destroy server and session\n",
              "      const cmd_destroy = \"import bokeh.io.notebook as ion; ion.destroy_server('\" + server_id + \"')\";\n",
              "      cell.notebook.kernel.execute(cmd_destroy);\n",
              "    }\n",
              "  }\n",
              "\n",
              "  /**\n",
              "   * Handle when a new output is added\n",
              "   */\n",
              "  function handleAddOutput(event, handle) {\n",
              "    const output_area = handle.output_area;\n",
              "    const output = handle.output;\n",
              "\n",
              "    // limit handleAddOutput to display_data with EXEC_MIME_TYPE content only\n",
              "    if ((output.output_type != \"display_data\") || (!Object.prototype.hasOwnProperty.call(output.data, EXEC_MIME_TYPE))) {\n",
              "      return\n",
              "    }\n",
              "\n",
              "    const toinsert = output_area.element.find(\".\" + CLASS_NAME.split(' ')[0]);\n",
              "\n",
              "    if (output.metadata[EXEC_MIME_TYPE][\"id\"] !== undefined) {\n",
              "      toinsert[toinsert.length - 1].firstChild.textContent = output.data[JS_MIME_TYPE];\n",
              "      // store reference to embed id on output_area\n",
              "      output_area._bokeh_element_id = output.metadata[EXEC_MIME_TYPE][\"id\"];\n",
              "    }\n",
              "    if (output.metadata[EXEC_MIME_TYPE][\"server_id\"] !== undefined) {\n",
              "      const bk_div = document.createElement(\"div\");\n",
              "      bk_div.innerHTML = output.data[HTML_MIME_TYPE];\n",
              "      const script_attrs = bk_div.children[0].attributes;\n",
              "      for (let i = 0; i < script_attrs.length; i++) {\n",
              "        toinsert[toinsert.length - 1].firstChild.setAttribute(script_attrs[i].name, script_attrs[i].value);\n",
              "        toinsert[toinsert.length - 1].firstChild.textContent = bk_div.children[0].textContent\n",
              "      }\n",
              "      // store reference to server id on output_area\n",
              "      output_area._bokeh_server_id = output.metadata[EXEC_MIME_TYPE][\"server_id\"];\n",
              "    }\n",
              "  }\n",
              "\n",
              "  function register_renderer(events, OutputArea) {\n",
              "\n",
              "    function append_mime(data, metadata, element) {\n",
              "      // create a DOM node to render to\n",
              "      const toinsert = this.create_output_subarea(\n",
              "        metadata,\n",
              "        CLASS_NAME,\n",
              "        EXEC_MIME_TYPE\n",
              "      );\n",
              "      this.keyboard_manager.register_events(toinsert);\n",
              "      // Render to node\n",
              "      const props = {data: data, metadata: metadata[EXEC_MIME_TYPE]};\n",
              "      render(props, toinsert[toinsert.length - 1]);\n",
              "      element.append(toinsert);\n",
              "      return toinsert\n",
              "    }\n",
              "\n",
              "    /* Handle when an output is cleared or removed */\n",
              "    events.on('clear_output.CodeCell', handleClearOutput);\n",
              "    events.on('delete.Cell', handleClearOutput);\n",
              "\n",
              "    /* Handle when a new output is added */\n",
              "    events.on('output_added.OutputArea', handleAddOutput);\n",
              "\n",
              "    /**\n",
              "     * Register the mime type and append_mime function with output_area\n",
              "     */\n",
              "    OutputArea.prototype.register_mime_type(EXEC_MIME_TYPE, append_mime, {\n",
              "      /* Is output safe? */\n",
              "      safe: true,\n",
              "      /* Index of renderer in `output_area.display_order` */\n",
              "      index: 0\n",
              "    });\n",
              "  }\n",
              "\n",
              "  // register the mime type if in Jupyter Notebook environment and previously unregistered\n",
              "  if (root.Jupyter !== undefined) {\n",
              "    const events = require('base/js/events');\n",
              "    const OutputArea = require('notebook/js/outputarea').OutputArea;\n",
              "\n",
              "    if (OutputArea.prototype.mime_types().indexOf(EXEC_MIME_TYPE) == -1) {\n",
              "      register_renderer(events, OutputArea);\n",
              "    }\n",
              "  }\n",
              "  if (typeof (root._bokeh_timeout) === \"undefined\" || force === true) {\n",
              "    root._bokeh_timeout = Date.now() + 5000;\n",
              "    root._bokeh_failed_load = false;\n",
              "  }\n",
              "\n",
              "  const NB_LOAD_WARNING = {'data': {'text/html':\n",
              "     \"<div style='background-color: #fdd'>\\n\"+\n",
              "     \"<p>\\n\"+\n",
              "     \"BokehJS does not appear to have successfully loaded. If loading BokehJS from CDN, this \\n\"+\n",
              "     \"may be due to a slow or bad network connection. Possible fixes:\\n\"+\n",
              "     \"</p>\\n\"+\n",
              "     \"<ul>\\n\"+\n",
              "     \"<li>re-rerun `output_notebook()` to attempt to load from CDN again, or</li>\\n\"+\n",
              "     \"<li>use INLINE resources instead, as so:</li>\\n\"+\n",
              "     \"</ul>\\n\"+\n",
              "     \"<code>\\n\"+\n",
              "     \"from bokeh.resources import INLINE\\n\"+\n",
              "     \"output_notebook(resources=INLINE)\\n\"+\n",
              "     \"</code>\\n\"+\n",
              "     \"</div>\"}};\n",
              "\n",
              "  function display_loaded() {\n",
              "    const el = document.getElementById(null);\n",
              "    if (el != null) {\n",
              "      el.textContent = \"BokehJS is loading...\";\n",
              "    }\n",
              "    if (root.Bokeh !== undefined) {\n",
              "      if (el != null) {\n",
              "        el.textContent = \"BokehJS \" + root.Bokeh.version + \" successfully loaded.\";\n",
              "      }\n",
              "    } else if (Date.now() < root._bokeh_timeout) {\n",
              "      setTimeout(display_loaded, 100)\n",
              "    }\n",
              "  }\n",
              "\n",
              "  function run_callbacks() {\n",
              "    try {\n",
              "      root._bokeh_onload_callbacks.forEach(function(callback) {\n",
              "        if (callback != null)\n",
              "          callback();\n",
              "      });\n",
              "    } finally {\n",
              "      delete root._bokeh_onload_callbacks\n",
              "    }\n",
              "    console.debug(\"Bokeh: all callbacks have finished\");\n",
              "  }\n",
              "\n",
              "  function load_libs(css_urls, js_urls, callback) {\n",
              "    if (css_urls == null) css_urls = [];\n",
              "    if (js_urls == null) js_urls = [];\n",
              "\n",
              "    root._bokeh_onload_callbacks.push(callback);\n",
              "    if (root._bokeh_is_loading > 0) {\n",
              "      console.debug(\"Bokeh: BokehJS is being loaded, scheduling callback at\", now());\n",
              "      return null;\n",
              "    }\n",
              "    if (js_urls == null || js_urls.length === 0) {\n",
              "      run_callbacks();\n",
              "      return null;\n",
              "    }\n",
              "    console.debug(\"Bokeh: BokehJS not loaded, scheduling load and callback at\", now());\n",
              "    root._bokeh_is_loading = css_urls.length + js_urls.length;\n",
              "\n",
              "    function on_load() {\n",
              "      root._bokeh_is_loading--;\n",
              "      if (root._bokeh_is_loading === 0) {\n",
              "        console.debug(\"Bokeh: all BokehJS libraries/stylesheets loaded\");\n",
              "        run_callbacks()\n",
              "      }\n",
              "    }\n",
              "\n",
              "    function on_error(url) {\n",
              "      console.error(\"failed to load \" + url);\n",
              "    }\n",
              "\n",
              "    for (let i = 0; i < css_urls.length; i++) {\n",
              "      const url = css_urls[i];\n",
              "      const element = document.createElement(\"link\");\n",
              "      element.onload = on_load;\n",
              "      element.onerror = on_error.bind(null, url);\n",
              "      element.rel = \"stylesheet\";\n",
              "      element.type = \"text/css\";\n",
              "      element.href = url;\n",
              "      console.debug(\"Bokeh: injecting link tag for BokehJS stylesheet: \", url);\n",
              "      document.body.appendChild(element);\n",
              "    }\n",
              "\n",
              "    for (let i = 0; i < js_urls.length; i++) {\n",
              "      const url = js_urls[i];\n",
              "      const element = document.createElement('script');\n",
              "      element.onload = on_load;\n",
              "      element.onerror = on_error.bind(null, url);\n",
              "      element.async = false;\n",
              "      element.src = url;\n",
              "      console.debug(\"Bokeh: injecting script tag for BokehJS library: \", url);\n",
              "      document.head.appendChild(element);\n",
              "    }\n",
              "  };\n",
              "\n",
              "  function inject_raw_css(css) {\n",
              "    const element = document.createElement(\"style\");\n",
              "    element.appendChild(document.createTextNode(css));\n",
              "    document.body.appendChild(element);\n",
              "  }\n",
              "\n",
              "  const js_urls = [\"https://cdn.bokeh.org/bokeh/release/bokeh-2.4.3.min.js\", \"https://cdn.bokeh.org/bokeh/release/bokeh-gl-2.4.3.min.js\", \"https://cdn.bokeh.org/bokeh/release/bokeh-widgets-2.4.3.min.js\", \"https://cdn.bokeh.org/bokeh/release/bokeh-tables-2.4.3.min.js\", \"https://cdn.bokeh.org/bokeh/release/bokeh-mathjax-2.4.3.min.js\"];\n",
              "  const css_urls = [];\n",
              "\n",
              "  const inline_js = [    function(Bokeh) {\n",
              "      Bokeh.set_log_level(\"info\");\n",
              "    },\n",
              "function(Bokeh) {\n",
              "    }\n",
              "  ];\n",
              "\n",
              "  function run_inline_js() {\n",
              "    if (root.Bokeh !== undefined || force === true) {\n",
              "          for (let i = 0; i < inline_js.length; i++) {\n",
              "      inline_js[i].call(root, root.Bokeh);\n",
              "    }\n",
              "} else if (Date.now() < root._bokeh_timeout) {\n",
              "      setTimeout(run_inline_js, 100);\n",
              "    } else if (!root._bokeh_failed_load) {\n",
              "      console.log(\"Bokeh: BokehJS failed to load within specified timeout.\");\n",
              "      root._bokeh_failed_load = true;\n",
              "    } else if (force !== true) {\n",
              "      const cell = $(document.getElementById(null)).parents('.cell').data().cell;\n",
              "      cell.output_area.append_execute_result(NB_LOAD_WARNING)\n",
              "    }\n",
              "  }\n",
              "\n",
              "  if (root._bokeh_is_loading === 0) {\n",
              "    console.debug(\"Bokeh: BokehJS loaded, going straight to plotting\");\n",
              "    run_inline_js();\n",
              "  } else {\n",
              "    load_libs(css_urls, js_urls, function() {\n",
              "      console.debug(\"Bokeh: BokehJS plotting callback run at\", now());\n",
              "      run_inline_js();\n",
              "    });\n",
              "  }\n",
              "}(window));"
            ],
            "application/vnd.bokehjs_load.v0+json": "(function(root) {\n  function now() {\n    return new Date();\n  }\n\n  const force = true;\n\n  if (typeof root._bokeh_onload_callbacks === \"undefined\" || force === true) {\n    root._bokeh_onload_callbacks = [];\n    root._bokeh_is_loading = undefined;\n  }\n\n\n  if (typeof (root._bokeh_timeout) === \"undefined\" || force === true) {\n    root._bokeh_timeout = Date.now() + 5000;\n    root._bokeh_failed_load = false;\n  }\n\n  const NB_LOAD_WARNING = {'data': {'text/html':\n     \"<div style='background-color: #fdd'>\\n\"+\n     \"<p>\\n\"+\n     \"BokehJS does not appear to have successfully loaded. If loading BokehJS from CDN, this \\n\"+\n     \"may be due to a slow or bad network connection. Possible fixes:\\n\"+\n     \"</p>\\n\"+\n     \"<ul>\\n\"+\n     \"<li>re-rerun `output_notebook()` to attempt to load from CDN again, or</li>\\n\"+\n     \"<li>use INLINE resources instead, as so:</li>\\n\"+\n     \"</ul>\\n\"+\n     \"<code>\\n\"+\n     \"from bokeh.resources import INLINE\\n\"+\n     \"output_notebook(resources=INLINE)\\n\"+\n     \"</code>\\n\"+\n     \"</div>\"}};\n\n  function display_loaded() {\n    const el = document.getElementById(null);\n    if (el != null) {\n      el.textContent = \"BokehJS is loading...\";\n    }\n    if (root.Bokeh !== undefined) {\n      if (el != null) {\n        el.textContent = \"BokehJS \" + root.Bokeh.version + \" successfully loaded.\";\n      }\n    } else if (Date.now() < root._bokeh_timeout) {\n      setTimeout(display_loaded, 100)\n    }\n  }\n\n  function run_callbacks() {\n    try {\n      root._bokeh_onload_callbacks.forEach(function(callback) {\n        if (callback != null)\n          callback();\n      });\n    } finally {\n      delete root._bokeh_onload_callbacks\n    }\n    console.debug(\"Bokeh: all callbacks have finished\");\n  }\n\n  function load_libs(css_urls, js_urls, callback) {\n    if (css_urls == null) css_urls = [];\n    if (js_urls == null) js_urls = [];\n\n    root._bokeh_onload_callbacks.push(callback);\n    if (root._bokeh_is_loading > 0) {\n      console.debug(\"Bokeh: BokehJS is being loaded, scheduling callback at\", now());\n      return null;\n    }\n    if (js_urls == null || js_urls.length === 0) {\n      run_callbacks();\n      return null;\n    }\n    console.debug(\"Bokeh: BokehJS not loaded, scheduling load and callback at\", now());\n    root._bokeh_is_loading = css_urls.length + js_urls.length;\n\n    function on_load() {\n      root._bokeh_is_loading--;\n      if (root._bokeh_is_loading === 0) {\n        console.debug(\"Bokeh: all BokehJS libraries/stylesheets loaded\");\n        run_callbacks()\n      }\n    }\n\n    function on_error(url) {\n      console.error(\"failed to load \" + url);\n    }\n\n    for (let i = 0; i < css_urls.length; i++) {\n      const url = css_urls[i];\n      const element = document.createElement(\"link\");\n      element.onload = on_load;\n      element.onerror = on_error.bind(null, url);\n      element.rel = \"stylesheet\";\n      element.type = \"text/css\";\n      element.href = url;\n      console.debug(\"Bokeh: injecting link tag for BokehJS stylesheet: \", url);\n      document.body.appendChild(element);\n    }\n\n    for (let i = 0; i < js_urls.length; i++) {\n      const url = js_urls[i];\n      const element = document.createElement('script');\n      element.onload = on_load;\n      element.onerror = on_error.bind(null, url);\n      element.async = false;\n      element.src = url;\n      console.debug(\"Bokeh: injecting script tag for BokehJS library: \", url);\n      document.head.appendChild(element);\n    }\n  };\n\n  function inject_raw_css(css) {\n    const element = document.createElement(\"style\");\n    element.appendChild(document.createTextNode(css));\n    document.body.appendChild(element);\n  }\n\n  const js_urls = [\"https://cdn.bokeh.org/bokeh/release/bokeh-2.4.3.min.js\", \"https://cdn.bokeh.org/bokeh/release/bokeh-gl-2.4.3.min.js\", \"https://cdn.bokeh.org/bokeh/release/bokeh-widgets-2.4.3.min.js\", \"https://cdn.bokeh.org/bokeh/release/bokeh-tables-2.4.3.min.js\", \"https://cdn.bokeh.org/bokeh/release/bokeh-mathjax-2.4.3.min.js\"];\n  const css_urls = [];\n\n  const inline_js = [    function(Bokeh) {\n      Bokeh.set_log_level(\"info\");\n    },\nfunction(Bokeh) {\n    }\n  ];\n\n  function run_inline_js() {\n    if (root.Bokeh !== undefined || force === true) {\n          for (let i = 0; i < inline_js.length; i++) {\n      inline_js[i].call(root, root.Bokeh);\n    }\n} else if (Date.now() < root._bokeh_timeout) {\n      setTimeout(run_inline_js, 100);\n    } else if (!root._bokeh_failed_load) {\n      console.log(\"Bokeh: BokehJS failed to load within specified timeout.\");\n      root._bokeh_failed_load = true;\n    } else if (force !== true) {\n      const cell = $(document.getElementById(null)).parents('.cell').data().cell;\n      cell.output_area.append_execute_result(NB_LOAD_WARNING)\n    }\n  }\n\n  if (root._bokeh_is_loading === 0) {\n    console.debug(\"Bokeh: BokehJS loaded, going straight to plotting\");\n    run_inline_js();\n  } else {\n    load_libs(css_urls, js_urls, function() {\n      console.debug(\"Bokeh: BokehJS plotting callback run at\", now());\n      run_inline_js();\n    });\n  }\n}(window));"
          },
          "metadata": {}
        },
        {
          "output_type": "display_data",
          "data": {
            "text/html": [
              "\n",
              "  <div class=\"bk-root\" id=\"4528074c-147d-4dc6-a33c-edf5cc3e388d\" data-root-id=\"1111\"></div>\n"
            ]
          },
          "metadata": {}
        },
        {
          "output_type": "display_data",
          "data": {
            "application/javascript": [
              "(function(root) {\n",
              "  function embed_document(root) {\n",
              "  const docs_json = {\"b9be4b02-94a7-4e40-a383-bdab30b813c8\":{\"defs\":[],\"roots\":{\"references\":[{\"attributes\":{\"below\":[{\"id\":\"1120\"}],\"center\":[{\"id\":\"1123\"},{\"id\":\"1127\"}],\"height\":200,\"left\":[{\"id\":\"1124\"}],\"renderers\":[{\"id\":\"1148\"}],\"title\":{\"id\":\"1150\"},\"toolbar\":{\"id\":\"1134\"},\"width\":500,\"x_range\":{\"id\":\"1112\"},\"x_scale\":{\"id\":\"1116\"},\"y_range\":{\"id\":\"1114\"},\"y_scale\":{\"id\":\"1118\"}},\"id\":\"1111\",\"subtype\":\"Figure\",\"type\":\"Plot\"},{\"attributes\":{},\"id\":\"1158\",\"type\":\"Selection\"},{\"attributes\":{},\"id\":\"1118\",\"type\":\"LinearScale\"},{\"attributes\":{},\"id\":\"1132\",\"type\":\"SaveTool\"},{\"attributes\":{\"callback\":null,\"tooltips\":[[\"pitch\",\"@pitch\"],[\"program\",\"@program\"],[\"velo\",\"@velocity\"],[\"duration\",\"@duration\"],[\"start_time\",\"@start_time\"],[\"end_time\",\"@end_time\"],[\"velocity\",\"@velocity\"],[\"fill_alpha\",\"@fill_alpha\"]]},\"id\":\"1128\",\"type\":\"HoverTool\"},{\"attributes\":{},\"id\":\"1112\",\"type\":\"DataRange1d\"},{\"attributes\":{},\"id\":\"1155\",\"type\":\"BasicTickFormatter\"},{\"attributes\":{\"axis_label\":\"time (sec)\",\"coordinates\":null,\"formatter\":{\"id\":\"1155\"},\"group\":null,\"major_label_policy\":{\"id\":\"1156\"},\"ticker\":{\"id\":\"1121\"}},\"id\":\"1120\",\"type\":\"LinearAxis\"},{\"attributes\":{},\"id\":\"1121\",\"type\":\"BasicTicker\"},{\"attributes\":{},\"id\":\"1157\",\"type\":\"UnionRenderers\"},{\"attributes\":{\"overlay\":{\"id\":\"1133\"}},\"id\":\"1130\",\"type\":\"BoxZoomTool\"},{\"attributes\":{\"axis\":{\"id\":\"1120\"},\"coordinates\":null,\"group\":null,\"ticker\":null},\"id\":\"1123\",\"type\":\"Grid\"},{\"attributes\":{},\"id\":\"1114\",\"type\":\"DataRange1d\"},{\"attributes\":{\"bottom\":{\"field\":\"bottom\"},\"fill_alpha\":{\"field\":\"fill_alpha\"},\"fill_color\":{\"value\":\"#d53e4f\"},\"left\":{\"field\":\"start_time\"},\"right\":{\"field\":\"end_time\"},\"top\":{\"field\":\"top\"}},\"id\":\"1145\",\"type\":\"Quad\"},{\"attributes\":{\"interval\":12},\"id\":\"1140\",\"type\":\"SingleIntervalTicker\"},{\"attributes\":{\"bottom\":{\"field\":\"bottom\"},\"fill_alpha\":{\"value\":0.2},\"fill_color\":{\"value\":\"#d53e4f\"},\"hatch_alpha\":{\"value\":0.2},\"left\":{\"field\":\"start_time\"},\"line_alpha\":{\"value\":0.2},\"right\":{\"field\":\"end_time\"},\"top\":{\"field\":\"top\"}},\"id\":\"1147\",\"type\":\"Quad\"},{\"attributes\":{\"data\":{\"bottom\":{\"__ndarray__\":\"ZmZmZmbmUkBmZmZmZqZSQGZmZmZm5lJAZmZmZmamUkBmZmZmZuZSQGZmZmZmplFAZmZmZmZmUkBmZmZmZuZRQGZmZmZmJlFAZmZmZmYmUUDNzMzMzExGQM3MzMzMzElAzczMzMxMTEDNzMzMzMxNQGZmZmZmplFAZmZmZmbmUUDNzMzMzMxPQGZmZmZmJlFAZmZmZmamUUDNzMzMzMxDQM3MzMzMTEdAzczMzMzMSUDNzMzMzMxLQM3MzMzMTE1AZmZmZmYmUUBmZmZmZuZQQM3MzMzMzEdAzczMzMxMREBmZmZmZiZRQM3MzMzMTEpAzczMzMxMTEDNzMzMzMxNQM3MzMzMzE9AZmZmZmYmUEDNzMzMzMxGQM3MzMzMTEpAzczMzMzMTEDNzMzMzExOQGZmZmZmJlBAZmZmZmamUEBmZmZmZiZRQM3MzMzMTERAZmZmZmZmUUDNzMzMzMxHQM3MzMzMTEpAzczMzMxMTEDNzMzMzMxNQGZmZmZmJlFAZmZmZmamUEBmZmZmZmZSQM3MzMzMzEZAzczMzMxMSkDNzMzMzMxMQM3MzMzMzE5AZmZmZmYmUEDNzMzMzMxDQM3MzMzMTEdAzczMzMzMSUDNzMzMzMxLQM3MzMzMTE1AZmZmZmZmUkBmZmZmZiZSQM3MzMzMTEZAZmZmZmYmUUBmZmZmZiZRQM3MzMzMzE1AZmZmZmamUUDNzMzMzExMQM3MzMzMzElAZmZmZmYmUUDNzMzMzMxPQM3MzMzMzENAzczMzMxMR0DNzMzMzMxJQGZmZmZm5lBAzczMzMzMS0DNzMzMzExNQGZmZmZmJlFAZmZmZmamUUDNzMzMzExGQM3MzMzMzElAzczMzMxMTEBmZmZmZuZRQA==\",\"dtype\":\"float64\",\"order\":\"little\",\"shape\":[83]},\"duration\":{\"__ndarray__\":\"UrgehetRyD9SuB6F61HIP5qZmZmZmck/nJmZmZmZyT9QuB6F61HIP1C4HoXrUcg/mJmZmZmZyT+gmZmZmZnJPzwK16NwPeI/qHA9Ctej0D/MzMzMzMzsPwrXo3A9Cuc/pHA9Ctej4D8ghetRuB7VP6BwPQrXo8A/oHA9Ctej0D/Yo3A9CtfjP1C4HoXrUcg/MDMzMzMz6z8oXI/C9SjwPzwK16NwPeo/2KNwPQrX4z/gehSuR+HaP3A9CtejcM0/cD0K16NwzT+ocD0K16PQP+B6FK5H4eI/QArXo3A96j9ACtejcD3qPwApXI/C9dg/oJmZmZmZyT9gPQrXo3DNPwBSuB6F68E/2KNwPQrX4z/4KFyPwvXoP9ijcD0K1+M/AClcj8L12D9guB6F61HIP4A9CtejcM0/oJmZmZmZyT9gPQrXo3DNPyxcj8L1KPA/LFyPwvUo8D9ACtejcD3qP9ijcD0K1+M/kOtRuB6F2z+APQrXo3DNP4A9CtejcM0/gJmZmZmZyT9ACtejcD3qPyhcj8L1KPA/6FG4HoXr6T/Qo3A9CtfjP+B6FK5H4do/QD0K16NwzT+ocD0K16PwPzAzMzMzM+s/4KNwPQrX4z+A61G4HoXbP6BwPQrXo9A/ANejcD0Ktz+AUbgeheuxP6CZmZmZmeE/8HoUrkfh4j+gcD0K16PQP+AoXI/C9dg/gD0K16NwzT/wKFyPwvXoP+hRuB6F6/U/UOF6FK5H6T+QwvUoXI/2P1i4HoXrUfA/QArXo3A96j/go3A9CtfjP+CjcD0K1+M/gOtRuB6F2z+APQrXo3DNP4A9CtejcM0/oHA9Ctej0D9gPQrXo3DdP0DhehSuR9E/AFK4HoXrsT+gcD0K16PgPw==\",\"dtype\":\"float64\",\"order\":\"little\",\"shape\":[83]},\"end_time\":{\"__ndarray__\":\"KVyPwvUozD+F61G4HoXbPylcj8L1KOQ/kML1KFyP6j9SuB6F61HwP4XrUbgehfM/uB6F61G49j/sUbgehev5P4XrUbgehQFAmpmZmZmZA0ApXI/C9SgEQClcj8L1KARAKVyPwvUoBEApXI/C9SgEQClcj8L1KARAuB6F61G4BkAVrkfhehQIQHsUrkfhegxACtejcD0KDUBSuB6F61EOQFK4HoXrUQ5AUrgehetRDkBSuB6F61EOQFK4HoXrUQ5AUrgehetRDkAVrkfhehQQQPYoXI/C9RJAFa5H4XoUE0AVrkfhehQTQBWuR+F6FBNAFa5H4XoUE0AAAAAAAAAUQGdmZmZmZhRAAAAAAAAAF0DD9Shcj8IXQMP1KFyPwhdAw/UoXI/CF0DD9Shcj8IXQOxRuB6F6xdAkML1KFyPGEB7FK5H4XoZQGdmZmZmZh1AZ2ZmZmZmHUBnZmZmZmYdQGdmZmZmZh1AZ2ZmZmZmHUBnZmZmZmYdQGdmZmZmZh1ACtejcD0KHkApXI/C9aggQArXo3A9CiFACtejcD0KIUAK16NwPQohQArXo3A9CiFACtejcD0KIUD2KFyPwnUjQPYoXI/CdSNA9ihcj8J1I0D2KFyPwnUjQPYoXI/CdSNAFa5H4XqUI0C4HoXrUbgjQFK4HoXr0SRAZ2ZmZmbmJEDsUbgehWslQK5H4XoUriVAPgrXo3C9JUCPwvUoXA8mQFyPwvUo3CZApHA9CtejJ0CamZmZmRkoQJqZmZmZGShAmpmZmZkZKECamZmZmRkoQJqZmZmZGShAmpmZmZkZKECamZmZmRkoQJqZmZmZGShACtejcD2KKEDXo3A9ClcpQNejcD0KVylA16NwPQpXKUD2KFyPwnUpQA==\",\"dtype\":\"float64\",\"order\":\"little\",\"shape\":[83]},\"fill_alpha\":{\"__ndarray__\":\"AAAAAABA7T8AAAAAAEDtPwAAAAAAQO0/AAAAAABA7T8AAAAAAEDtPwAAAAAAQO0/AAAAAABA6D8AAAAAAEDoPwAAAAAAQOY/AAAAAABA6D8AAAAAAEDlPwAAAAAAQOY/AAAAAABA5T8AAAAAAEDoPwAAAAAAQOg/AAAAAABA6D8AAAAAAEDnPwAAAAAAQOc/AAAAAABA5z8AAAAAAEDlPwAAAAAAQOU/AAAAAABA5j8AAAAAAEDmPwAAAAAAQOg/AAAAAABA5z8AAAAAAEDmPwAAAAAAQOQ/AAAAAABA5T8AAAAAAEDnPwAAAAAAQOY/AAAAAABA5j8AAAAAAEDnPwAAAAAAQOc/AAAAAABA5T8AAAAAAEDlPwAAAAAAQOY/AAAAAABA5j8AAAAAAEDnPwAAAAAAQOY/AAAAAABA5z8AAAAAAEDmPwAAAAAAQOQ/AAAAAABA5j8AAAAAAEDkPwAAAAAAQOY/AAAAAABA5j8AAAAAAEDoPwAAAAAAQOc/AAAAAABA5j8AAAAAAEDkPwAAAAAAQOc/AAAAAABA5T8AAAAAAEDmPwAAAAAAQOc/AAAAAABA5j8AAAAAAEDlPwAAAAAAQOY/AAAAAABA5j8AAAAAAEDmPwAAAAAAQOc/AAAAAABA5D8AAAAAAEDkPwAAAAAAQOU/AAAAAABA5T8AAAAAAEDoPwAAAAAAQOg/AAAAAABA5z8AAAAAAEDlPwAAAAAAQOc/AAAAAABA5z8AAAAAAEDnPwAAAAAAQOU/AAAAAABA5T8AAAAAAEDmPwAAAAAAQOc/AAAAAABA5j8AAAAAAEDnPwAAAAAAQOg/AAAAAABA6D8AAAAAAEDmPwAAAAAAQOU/AAAAAACA2j8AAAAAAEDoPw==\",\"dtype\":\"float64\",\"order\":\"little\",\"shape\":[83]},\"index\":[0,1,2,3,4,5,6,7,8,9,10,11,12,13,14,15,16,17,18,19,20,21,22,23,24,25,26,27,28,29,30,31,32,33,34,35,36,37,38,39,40,41,42,43,44,45,46,47,48,49,50,51,52,53,54,55,56,57,58,59,60,61,62,63,64,65,66,67,68,69,70,71,72,73,74,75,76,77,78,79,80,81,82],\"instrument\":[0,0,0,0,0,0,0,0,0,0,0,0,0,0,0,0,0,0,0,0,0,0,0,0,0,0,0,0,0,0,0,0,0,0,0,0,0,0,0,0,0,0,0,0,0,0,0,0,0,0,0,0,0,0,0,0,0,0,0,0,0,0,0,0,0,0,0,0,0,0,0,0,0,0,0,0,0,0,0,0,0,0,0],\"pitch\":[76,75,76,75,76,71,74,72,69,69,45,52,57,60,71,72,64,69,71,40,47,52,56,59,69,68,48,41,69,53,57,60,64,65,46,53,58,61,65,67,69,41,70,48,53,57,60,69,67,74,46,53,58,62,65,40,47,52,56,59,74,73,45,69,69,60,71,57,52,69,64,40,47,52,68,56,59,69,71,45,52,57,72],\"program\":[0,0,0,0,0,0,0,0,0,0,0,0,0,0,0,0,0,0,0,0,0,0,0,0,0,0,0,0,0,0,0,0,0,0,0,0,0,0,0,0,0,0,0,0,0,0,0,0,0,0,0,0,0,0,0,0,0,0,0,0,0,0,0,0,0,0,0,0,0,0,0,0,0,0,0,0,0,0,0,0,0,0,0],\"start_time\":{\"__ndarray__\":\"uB6F61G4nj+4HoXrUbjOP4XrUbgehds/KVyPwvUo5D+QwvUoXI/qP3sUrkfhevA/hetRuB6F8z+4HoXrUbj2P+xRuB6F6/k/hetRuB6FAUDsUbgehev5P83MzMzMzPw/AAAAAAAAAECF61G4HoUBQB+F61G4HgNApHA9CtejBEAfhetRuB4DQPYoXI/C9QpAPgrXo3A9BkA+CtejcD0GQMP1KFyPwgdAXI/C9ShcCUD2KFyPwvUKQHsUrkfhegxAexSuR+F6DEAVrkfhehQOQJqZmZmZmRBAmpmZmZmZD0CamZmZmZkPQIXrUbgehRFASOF6FK5HEkAVrkfhehQTQNejcD0K1xNAhetRuB6FFECkcD0K16MUQEjhehSuRxVAMzMzMzMzFkAAAAAAAAAXQAAAAAAAABdAw/UoXI/CF0CQwvUoXI8YQFyPwvUoXBlAXI/C9ShcGUAfhetRuB4aQOxRuB6F6xpArkfhehSuG0B7FK5H4XocQHsUrkfhehxAPgrXo3A9HUAK16NwPQoeQArXo3A9Ch5A16NwPQrXHkCamZmZmZkfQDMzMzMzMyBAFa5H4XqUIEDhehSuR2EhQMP1KFyPwiFAuB6F61E4IkCamZmZmZkiQHE9Ctej8CJAZ2ZmZmZmI0AVrkfhepQjQLgehetRuCNAuB6F61G4I0BnZmZmZuYkQGdmZmZm5iRASOF6FK5HJUAAAAAAAIAkQB+F61G4HiRAj8L1KFwPJkBI4XoUrkclQI/C9ShcDyZA9ihcj8J1JkBcj8L1KNwmQFyPwvUo3CZAPgrXo3A9J0CkcD0K16MnQKRwPQrXoydAhetRuB4FKEDsUbgehWsoQM3MzMzMzChAMzMzMzMzKUDsUbgehWsoQA==\",\"dtype\":\"float64\",\"order\":\"little\",\"shape\":[83]},\"top\":{\"__ndarray__\":\"mpmZmZkZU0CamZmZmdlSQJqZmZmZGVNAmpmZmZnZUkCamZmZmRlTQJqZmZmZ2VFAmpmZmZmZUkCamZmZmRlSQJqZmZmZWVFAmpmZmZlZUUAzMzMzM7NGQDMzMzMzM0pAMzMzMzOzTEAzMzMzMzNOQJqZmZmZ2VFAmpmZmZkZUkCamZmZmRlQQJqZmZmZWVFAmpmZmZnZUUAzMzMzMzNEQDMzMzMzs0dAMzMzMzMzSkAzMzMzMzNMQDMzMzMzs01AmpmZmZlZUUCamZmZmRlRQDMzMzMzM0hAMzMzMzOzRECamZmZmVlRQDMzMzMzs0pAMzMzMzOzTEAzMzMzMzNOQJqZmZmZGVBAmpmZmZlZUEAzMzMzMzNHQDMzMzMzs0pAMzMzMzMzTUAzMzMzM7NOQJqZmZmZWVBAmpmZmZnZUECamZmZmVlRQDMzMzMzs0RAmpmZmZmZUUAzMzMzMzNIQDMzMzMzs0pAMzMzMzOzTEAzMzMzMzNOQJqZmZmZWVFAmpmZmZnZUECamZmZmZlSQDMzMzMzM0dAMzMzMzOzSkAzMzMzMzNNQDMzMzMzM09AmpmZmZlZUEAzMzMzMzNEQDMzMzMzs0dAMzMzMzMzSkAzMzMzMzNMQDMzMzMzs01AmpmZmZmZUkCamZmZmVlSQDMzMzMzs0ZAmpmZmZlZUUCamZmZmVlRQDMzMzMzM05AmpmZmZnZUUAzMzMzM7NMQDMzMzMzM0pAmpmZmZlZUUCamZmZmRlQQDMzMzMzM0RAMzMzMzOzR0AzMzMzMzNKQJqZmZmZGVFAMzMzMzMzTEAzMzMzM7NNQJqZmZmZWVFAmpmZmZnZUUAzMzMzM7NGQDMzMzMzM0pAMzMzMzOzTECamZmZmRlSQA==\",\"dtype\":\"float64\",\"order\":\"little\",\"shape\":[83]},\"velocity\":[117,117,117,117,117,117,97,97,89,97,85,89,85,97,97,97,93,93,93,85,85,89,89,97,93,89,81,85,93,89,89,93,93,85,85,89,89,93,89,93,89,81,89,81,89,89,97,93,89,81,93,85,89,93,89,85,89,89,89,93,81,81,85,85,97,97,93,85,93,93,93,85,85,89,93,89,93,97,97,89,85,53,97]},\"selected\":{\"id\":\"1158\"},\"selection_policy\":{\"id\":\"1157\"}},\"id\":\"1143\",\"type\":\"ColumnDataSource\"},{\"attributes\":{\"bottom\":{\"field\":\"bottom\"},\"fill_alpha\":{\"value\":0.1},\"fill_color\":{\"value\":\"#d53e4f\"},\"hatch_alpha\":{\"value\":0.1},\"left\":{\"field\":\"start_time\"},\"line_alpha\":{\"value\":0.1},\"right\":{\"field\":\"end_time\"},\"top\":{\"field\":\"top\"}},\"id\":\"1146\",\"type\":\"Quad\"},{\"attributes\":{},\"id\":\"1152\",\"type\":\"BasicTickFormatter\"},{\"attributes\":{\"interval\":12},\"id\":\"1142\",\"type\":\"SingleIntervalTicker\"},{\"attributes\":{},\"id\":\"1116\",\"type\":\"LinearScale\"},{\"attributes\":{\"tools\":[{\"id\":\"1128\"},{\"id\":\"1129\"},{\"id\":\"1130\"},{\"id\":\"1131\"},{\"id\":\"1132\"}]},\"id\":\"1134\",\"type\":\"Toolbar\"},{\"attributes\":{},\"id\":\"1131\",\"type\":\"ResetTool\"},{\"attributes\":{\"coordinates\":null,\"data_source\":{\"id\":\"1143\"},\"glyph\":{\"id\":\"1145\"},\"group\":null,\"hover_glyph\":null,\"muted_glyph\":{\"id\":\"1147\"},\"nonselection_glyph\":{\"id\":\"1146\"},\"view\":{\"id\":\"1149\"}},\"id\":\"1148\",\"type\":\"GlyphRenderer\"},{\"attributes\":{\"axis\":{\"id\":\"1124\"},\"coordinates\":null,\"dimension\":1,\"group\":null,\"ticker\":{\"id\":\"1142\"}},\"id\":\"1127\",\"type\":\"Grid\"},{\"attributes\":{\"source\":{\"id\":\"1143\"}},\"id\":\"1149\",\"type\":\"CDSView\"},{\"attributes\":{},\"id\":\"1153\",\"type\":\"AllLabels\"},{\"attributes\":{},\"id\":\"1156\",\"type\":\"AllLabels\"},{\"attributes\":{\"axis_label\":\"pitch (MIDI)\",\"coordinates\":null,\"formatter\":{\"id\":\"1152\"},\"group\":null,\"major_label_policy\":{\"id\":\"1153\"},\"ticker\":{\"id\":\"1140\"}},\"id\":\"1124\",\"type\":\"LinearAxis\"},{\"attributes\":{\"bottom_units\":\"screen\",\"coordinates\":null,\"fill_alpha\":0.5,\"fill_color\":\"lightgrey\",\"group\":null,\"left_units\":\"screen\",\"level\":\"overlay\",\"line_alpha\":1.0,\"line_color\":\"black\",\"line_dash\":[4,4],\"line_width\":2,\"right_units\":\"screen\",\"syncable\":false,\"top_units\":\"screen\"},\"id\":\"1133\",\"type\":\"BoxAnnotation\"},{\"attributes\":{\"coordinates\":null,\"group\":null},\"id\":\"1150\",\"type\":\"Title\"},{\"attributes\":{},\"id\":\"1129\",\"type\":\"PanTool\"}],\"root_ids\":[\"1111\"]},\"title\":\"Bokeh Application\",\"version\":\"2.4.3\"}};\n",
              "  const render_items = [{\"docid\":\"b9be4b02-94a7-4e40-a383-bdab30b813c8\",\"root_ids\":[\"1111\"],\"roots\":{\"1111\":\"4528074c-147d-4dc6-a33c-edf5cc3e388d\"}}];\n",
              "  root.Bokeh.embed.embed_items_notebook(docs_json, render_items);\n",
              "  }\n",
              "  if (root.Bokeh !== undefined) {\n",
              "    embed_document(root);\n",
              "  } else {\n",
              "    let attempts = 0;\n",
              "    const timer = setInterval(function(root) {\n",
              "      if (root.Bokeh !== undefined) {\n",
              "        clearInterval(timer);\n",
              "        embed_document(root);\n",
              "      } else {\n",
              "        attempts++;\n",
              "        if (attempts > 100) {\n",
              "          clearInterval(timer);\n",
              "          console.log(\"Bokeh: ERROR: Unable to run BokehJS code because BokehJS library is missing\");\n",
              "        }\n",
              "      }\n",
              "    }, 10, root)\n",
              "  }\n",
              "})(window);"
            ],
            "application/vnd.bokehjs_exec.v0+json": ""
          },
          "metadata": {
            "application/vnd.bokehjs_exec.v0+json": {
              "id": "1111"
            }
          }
        },
        {
          "output_type": "stream",
          "name": "stdout",
          "text": [
            "Сэмпл сохранён в файл \"sample_0_0.mid\"\n",
            "---------------------------------------\n"
          ]
        },
        {
          "output_type": "stream",
          "name": "stderr",
          "text": [
            "100%|██████████| 3/3 [05:04<00:00, 101.53s/it]\n"
          ]
        },
        {
          "output_type": "display_data",
          "data": {
            "text/plain": [
              "<IPython.core.display.HTML object>"
            ],
            "text/html": [
              "<div id=\"id_3\"> </div>"
            ]
          },
          "metadata": {}
        },
        {
          "output_type": "display_data",
          "data": {
            "text/html": [
              "\n",
              "  <div class=\"bk-root\" id=\"629289f2-9347-43cf-9c9c-877f69578514\" data-root-id=\"1230\"></div>\n"
            ]
          },
          "metadata": {}
        },
        {
          "output_type": "display_data",
          "data": {
            "application/javascript": [
              "(function(root) {\n",
              "  function embed_document(root) {\n",
              "  const docs_json = {\"352ec6ca-3fa2-4bc0-9332-d70297aeb76c\":{\"defs\":[],\"roots\":{\"references\":[{\"attributes\":{\"below\":[{\"id\":\"1239\"}],\"center\":[{\"id\":\"1242\"},{\"id\":\"1246\"}],\"height\":200,\"left\":[{\"id\":\"1243\"}],\"renderers\":[{\"id\":\"1267\"}],\"title\":{\"id\":\"1269\"},\"toolbar\":{\"id\":\"1253\"},\"width\":500,\"x_range\":{\"id\":\"1231\"},\"x_scale\":{\"id\":\"1235\"},\"y_range\":{\"id\":\"1233\"},\"y_scale\":{\"id\":\"1237\"}},\"id\":\"1230\",\"subtype\":\"Figure\",\"type\":\"Plot\"},{\"attributes\":{\"bottom_units\":\"screen\",\"coordinates\":null,\"fill_alpha\":0.5,\"fill_color\":\"lightgrey\",\"group\":null,\"left_units\":\"screen\",\"level\":\"overlay\",\"line_alpha\":1.0,\"line_color\":\"black\",\"line_dash\":[4,4],\"line_width\":2,\"right_units\":\"screen\",\"syncable\":false,\"top_units\":\"screen\"},\"id\":\"1252\",\"type\":\"BoxAnnotation\"},{\"attributes\":{},\"id\":\"1272\",\"type\":\"AllLabels\"},{\"attributes\":{\"axis\":{\"id\":\"1243\"},\"coordinates\":null,\"dimension\":1,\"group\":null,\"ticker\":{\"id\":\"1261\"}},\"id\":\"1246\",\"type\":\"Grid\"},{\"attributes\":{\"interval\":12},\"id\":\"1259\",\"type\":\"SingleIntervalTicker\"},{\"attributes\":{},\"id\":\"1231\",\"type\":\"DataRange1d\"},{\"attributes\":{\"source\":{\"id\":\"1262\"}},\"id\":\"1268\",\"type\":\"CDSView\"},{\"attributes\":{\"callback\":null,\"tooltips\":[[\"pitch\",\"@pitch\"],[\"program\",\"@program\"],[\"velo\",\"@velocity\"],[\"duration\",\"@duration\"],[\"start_time\",\"@start_time\"],[\"end_time\",\"@end_time\"],[\"velocity\",\"@velocity\"],[\"fill_alpha\",\"@fill_alpha\"]]},\"id\":\"1247\",\"type\":\"HoverTool\"},{\"attributes\":{},\"id\":\"1233\",\"type\":\"DataRange1d\"},{\"attributes\":{},\"id\":\"1277\",\"type\":\"Selection\"},{\"attributes\":{},\"id\":\"1237\",\"type\":\"LinearScale\"},{\"attributes\":{\"interval\":12},\"id\":\"1261\",\"type\":\"SingleIntervalTicker\"},{\"attributes\":{\"bottom\":{\"field\":\"bottom\"},\"fill_alpha\":{\"field\":\"fill_alpha\"},\"fill_color\":{\"value\":\"#d53e4f\"},\"left\":{\"field\":\"start_time\"},\"right\":{\"field\":\"end_time\"},\"top\":{\"field\":\"top\"}},\"id\":\"1264\",\"type\":\"Quad\"},{\"attributes\":{},\"id\":\"1276\",\"type\":\"UnionRenderers\"},{\"attributes\":{\"axis\":{\"id\":\"1239\"},\"coordinates\":null,\"group\":null,\"ticker\":null},\"id\":\"1242\",\"type\":\"Grid\"},{\"attributes\":{},\"id\":\"1250\",\"type\":\"ResetTool\"},{\"attributes\":{\"coordinates\":null,\"data_source\":{\"id\":\"1262\"},\"glyph\":{\"id\":\"1264\"},\"group\":null,\"hover_glyph\":null,\"muted_glyph\":{\"id\":\"1266\"},\"nonselection_glyph\":{\"id\":\"1265\"},\"view\":{\"id\":\"1268\"}},\"id\":\"1267\",\"type\":\"GlyphRenderer\"},{\"attributes\":{\"coordinates\":null,\"group\":null},\"id\":\"1269\",\"type\":\"Title\"},{\"attributes\":{\"bottom\":{\"field\":\"bottom\"},\"fill_alpha\":{\"value\":0.2},\"fill_color\":{\"value\":\"#d53e4f\"},\"hatch_alpha\":{\"value\":0.2},\"left\":{\"field\":\"start_time\"},\"line_alpha\":{\"value\":0.2},\"right\":{\"field\":\"end_time\"},\"top\":{\"field\":\"top\"}},\"id\":\"1266\",\"type\":\"Quad\"},{\"attributes\":{},\"id\":\"1275\",\"type\":\"AllLabels\"},{\"attributes\":{},\"id\":\"1248\",\"type\":\"PanTool\"},{\"attributes\":{},\"id\":\"1235\",\"type\":\"LinearScale\"},{\"attributes\":{\"overlay\":{\"id\":\"1252\"}},\"id\":\"1249\",\"type\":\"BoxZoomTool\"},{\"attributes\":{},\"id\":\"1274\",\"type\":\"BasicTickFormatter\"},{\"attributes\":{},\"id\":\"1271\",\"type\":\"BasicTickFormatter\"},{\"attributes\":{},\"id\":\"1251\",\"type\":\"SaveTool\"},{\"attributes\":{},\"id\":\"1240\",\"type\":\"BasicTicker\"},{\"attributes\":{\"data\":{\"bottom\":{\"__ndarray__\":\"ZmZmZmbmUkBmZmZmZqZSQGZmZmZm5lJAZmZmZmamUkBmZmZmZuZSQGZmZmZmplFAZmZmZmZmUkBmZmZmZuZRQM3MzMzMTEZAZmZmZmYmUUDNzMzMzMxNQM3MzMzMzElAzczMzMxMTEDNzMzMzMxNQM3MzMzMzE9AZmZmZmYmUUBmZmZmZqZRQGZmZmZm5lFAzczMzMzMSUDNzMzMzExMQM3MzMzMzE1AzczMzMzMT0DNzMzMzMxPQGZmZmZmJlBAZmZmZmbmUEDNzMzMzMxCQGZmZmZmJlFAzczMzMzMTUDNzMzMzMxOQM3MzMzMzE5AzczMzMzMTkBmZmZmZqZRQGZmZmZmJlFAzczMzMzMTkDNzMzMzExKQM3MzMzMTExAZmZmZmbmUUDNzMzMzMxOQGZmZmZmJlBAZmZmZmYmUUBmZmZmZqZRQGZmZmZmJlBAzczMzMxMRUDNzMzMzMxIQM3MzMzMzE5AzczMzMxMSkBmZmZmZuZRQGZmZmZmZlJAZmZmZmamUEBmZmZmZuZSQM3MzMzMzE5AmpmZmZmZPkBmZmZmZiZTQM3MzMzMzEFAZmZmZmamU0BmZmZmZqZQQM3MzMzMzElAzczMzMzMTUDNzMzMzMxPQGZmZmZm5lFAzczMzMxMS0DNzMzMzMxNQM3MzMzMzElAzczMzMzMT0BmZmZmZiZTQGZmZmZmplNAzczMzMxMSUDNzMzMzMxKQGZmZmZm5lRAzczMzMzMSUBmZmZmZiZRQGZmZmZmplFAZmZmZmYmVEBmZmZmZuZUQM3MzMzMzElAZmZmZmbmUUBmZmZmZiZRQGZmZmZm5lBAzczMzMxMSEBmZmZmZiZUQGZmZmZmJlFAZmZmZmamVkBmZmZmZqZQQGZmZmZmplBAzczMzMxMSEBmZmZmZmZRQGZmZmZmZlRAZmZmZmamU0BmZmZmZmZQQGZmZmZmplBAZmZmZmYmUEBmZmZmZqZTQGZmZmZmplBAzczMzMxMSEBmZmZmZmZQQM3MzMzMzE9AZmZmZmamUEDNzMzMzMxHQM3MzMzMzEtAzczMzMxMT0DNzMzMzMxPQM3MzMzMzEtAzczMzMxMS0DNzMzMzMxMQGZmZmZmZlFAzczMzMzMTUDNzMzMzExOQGZmZmZm5lFAZmZmZmbmVUDNzMzMzExMQGZmZmZm5lJAZmZmZmamUUA=\",\"dtype\":\"float64\",\"order\":\"little\",\"shape\":[112]},\"duration\":{\"__ndarray__\":\"UrgehetRyD9SuB6F61HIP5qZmZmZmck/nJmZmZmZyT9QuB6F61HIP1C4HoXrUcg/mJmZmZmZyT+kcD0K16PQP1C4HoXrUcg/+Chcj8L12D9wPQrXo3DNP1yPwvUoXO8/9Chcj8L16D8AAAAAAADoP+hRuB6F6+k/6FG4HoXr6T9gj8L1KFzfPwDXo3A9Crc/wB6F61G4rj/AHoXrUbiuP8AehetRuK4/AB+F61G4nj9QuB6F61HIP4AUrkfhesQ/oHA9CtejwD+QwvUoXI/SP3gUrkfhetQ/kJmZmZmZyT9wPQrXo3DNP6CZmZmZmck/gBSuR+F61D9gZmZmZmbWPzwK16NwPeo/gOtRuB6F2z/Wo3A9CtfzP1CPwvUoXN8/UI/C9Shc3z8A16NwPQq3PwBSuB6F67E/wHA9CtejwD9wPQrXo3DdP4CZmZmZmbk/mJmZmZmZ4T/wUbgehevhP6hwPQrXo+A/IIXrUbge1T8AKVyPwvXYP6BwPQrXo+A/0KNwPQrX4z/AHoXrUbjeP9DMzMzMzNw/KFyPwvUo7D9AuB6F61HIP3A9CtejcN0/cD0K16Nw3T+AFK5H4XrEP2CPwvUoXN8/8Chcj8L12D8A16NwPQrXPwDXo3A9Ctc/4HoUrkfh2j+AmZmZmZm5PwAfhetRuK4/AB+F61G4rj8AIIXrUbieP4BRuB6F67E/gHA9CtejwD8AFK5H4XqkP4A9CtejcM0/QFyPwvUozD+gcD0K16PQPypcj8L1KBBAAB6F61G4nj/wUbgehevpP8jMzMzMzPA/IFyPwvUo7D9gPQrXo3DdP4A9CtejcM0/wHA9CtejwD8A16NwPQq3P/BRuB6F6+E/IIXrUbge7T/gehSuR+HqPwDXo3A9Ctc/cD0K16Nw9T8wMzMzMzPrPzAzMzMzM+s/gD0K16Nw3T+A61G4HoXbP4DrUbgehds/ABSuR+F6pD8ghetRuB7VPwApXI/C9dg/KFyPwvUo8D/wUbgehevpP6BwPQrXo+A/IIXrUbge1T+gwvUoXI/SPwAehetRuK4/AB+F61G4rj+AmZmZmZm5P4CZmZmZmbk/ABSuR+F6pD8AFa5H4XqkPwAVrkfheqQ/ACCF61G4nj8AIIXrUbiePwAUrkfheqQ/AFK4HoXrsT8AmpmZmZm5PwCamZmZmbk/9ihcj8L1E0A=\",\"dtype\":\"float64\",\"order\":\"little\",\"shape\":[112]},\"end_time\":{\"__ndarray__\":\"KVyPwvUozD+F61G4HoXbPylcj8L1KOQ/kML1KFyP6j9SuB6F61HwP4XrUbgehfM/uB6F61G49j/hehSuR+H6P/YoXI/C9fw/Fa5H4XoUAEBSuB6F61EAQFK4HoXrUQZAUrgehetRBkBSuB6F61EGQI/C9ShcjwZAj8L1KFyPBkDNzMzMzMwGQM3MzMzMzAZAzczMzMzMBkDNzMzMzMwGQM3MzMzMzAZAzczMzMzMBkC4HoXrUbgKQPYoXI/C9QpAhetRuB6FC0CamZmZmZkNQNejcD0K1w1AKVyPwvUoDkCuR+F6FK4PQKRwPQrXoxBA7FG4HoXrEUAK16NwPQoSQDMzMzMzMxJApHA9CtejE0DhehSuR+ETQOF6FK5H4RNA4XoUrkfhE0AAAAAAAAAUQClcj8L1KBRAZ2ZmZmZmFEA+CtejcD0WQFyPwvUoXBZAmpmZmZmZFkBI4XoUrkcXQEjhehSuRxdASOF6FK5HF0BnZmZmZmYXQFyPwvUoXBlA4XoUrkfhGUCkcD0K16MaQKRwPQrXoxpAzczMzMzMGkAK16NwPQobQGdmZmZmZh1AZ2ZmZmZmHUDsUbgehesdQNejcD0K1x5A16NwPQrXHkDXo3A9CtceQNejcD0K1x5A9ihcj8L1HkD2KFyPwnUgQIXrUbgehSBAhetRuB6FIEAVrkfhepQgQLgehetRuCBA16NwPQrXIECuR+F6FC4hQM3MzMzMTCFAFa5H4XoUIkApXI/C9SgiQJqZmZmZmSJAUrgehetRI0CamZmZmRkkQK5H4XoULiRArkfhehQuJECuR+F6FC4kQAAAAAAAgCRAw/UoXI/CJECamZmZmZklQPYoXI/CdSZAhetRuB6FJkAVrkfhepQmQM3MzMzMTCdAcT0K16NwJ0BxPQrXo3AnQHE9CtejcCdAcT0K16NwJ0ApXI/C9SgoQClcj8L1KChAKVyPwvUoKEAAAAAAAAApQB+F61G4HilASOF6FK7HKUBI4XoUrscpQEjhehSuxylASOF6FK7HKUBI4XoUrscpQArXo3A9CipAmpmZmZkZKkAAAAAAAIAqQDMzMzMzsypAMzMzMzOzKkBnZmZmZuYqQGdmZmZm5ipAFa5H4XoUK0AVrkfhehQrQClcj8L1KCtAAAAAAAAALECQwvUoXA8sQJDC9ShcDyxAkML1KFwPLEA=\",\"dtype\":\"float64\",\"order\":\"little\",\"shape\":[112]},\"fill_alpha\":{\"__ndarray__\":\"AAAAAABA7T8AAAAAAEDtPwAAAAAAQO0/AAAAAABA7T8AAAAAAEDtPwAAAAAAQO0/AAAAAABA6D8AAAAAAEDoPwAAAAAAQOg/AAAAAABA6T8AAAAAAEDnPwAAAAAAQOY/AAAAAABA6D8AAAAAAEDoPwAAAAAAQOk/AAAAAABA6T8AAAAAAEDpPwAAAAAAQOk/AAAAAABA5z8AAAAAAEDnPwAAAAAAQOg/AAAAAABA6D8AAAAAAEDoPwAAAAAAQOY/AAAAAABA5z8AAAAAAEDoPwAAAAAAQOk/AAAAAABA5T8AAAAAAEDnPwAAAAAAQOQ/AAAAAABA4z8AAAAAAEDoPwAAAAAAQOk/AAAAAABA5z8AAAAAAEDnPwAAAAAAQOY/AAAAAABA6T8AAAAAAEDlPwAAAAAAQOU/AAAAAABA6T8AAAAAAEDqPwAAAAAAQOc/AAAAAABA6D8AAAAAAEDmPwAAAAAAQOY/AAAAAABA5z8AAAAAAEDoPwAAAAAAQOk/AAAAAABA5z8AAAAAAEDqPwAAAAAAQOU/AAAAAABA6D8AAAAAAEDpPwAAAAAAQOg/AAAAAABA6T8AAAAAAEDpPwAAAAAAQOc/AAAAAABA5z8AAAAAAEDoPwAAAAAAQOg/AAAAAABA6D8AAAAAAEDoPwAAAAAAQOQ/AAAAAABA5D8AAAAAAEDnPwAAAAAAQOc/AAAAAABA5j8AAAAAAEDkPwAAAAAAQOc/AAAAAABA5j8AAAAAAEDpPwAAAAAAQOc/AAAAAABA6D8AAAAAAEDpPwAAAAAAQOE/AAAAAABA6D8AAAAAAEDnPwAAAAAAQOg/AAAAAABA5T8AAAAAAEDnPwAAAAAAQOc/AAAAAABA5j8AAAAAAEDpPwAAAAAAQOg/AAAAAABA5j8AAAAAAEDpPwAAAAAAQOg/AAAAAABA6T8AAAAAAEDoPwAAAAAAQOU/AAAAAABA5T8AAAAAAEDmPwAAAAAAQOQ/AAAAAABA5T8AAAAAAEDmPwAAAAAAQOk/AAAAAABA4z8AAAAAAEDlPwAAAAAAQOM/AAAAAABA5T8AAAAAAEDlPwAAAAAAQOU/AAAAAABA5T8AAAAAAEDlPwAAAAAAQOU/AAAAAABA5j8AAAAAAEDmPwAAAAAAQOc/AAAAAABA5j8AAAAAAEDkPwAAAAAAQOY/AAAAAABA5z8=\",\"dtype\":\"float64\",\"order\":\"little\",\"shape\":[112]},\"index\":[0,1,2,3,4,5,6,7,8,9,10,11,12,13,14,15,16,17,18,19,20,21,22,23,24,25,26,27,28,29,30,31,32,33,34,35,36,37,38,39,40,41,42,43,44,45,46,47,48,49,50,51,52,53,54,55,56,57,58,59,60,61,62,63,64,65,66,67,68,69,70,71,72,73,74,75,76,77,78,79,80,81,82,83,84,85,86,87,88,89,90,91,92,93,94,95,96,97,98,99,100,101,102,103,104,105,106,107,108,109,110,111],\"instrument\":[0,0,0,0,0,0,0,0,0,0,0,0,0,0,0,0,0,0,0,0,0,0,0,0,0,0,0,0,0,0,0,0,0,0,0,0,0,0,0,0,0,0,0,0,0,0,0,0,0,0,0,0,0,0,0,0,0,0,0,0,0,0,0,0,0,0,0,0,0,0,0,0,0,0,0,0,0,0,0,0,0,0,0,0,0,0,0,0,0,0,0,0,0,0,0,0,0,0,0,0,0,0,0,0,0,0,0,0,0,0,0,0],\"pitch\":[76,75,76,75,76,71,74,72,45,69,60,52,57,60,64,69,71,72,52,57,60,64,64,65,68,38,69,60,62,62,62,71,69,62,53,57,72,62,65,69,71,65,43,50,62,53,72,74,67,76,62,31,77,36,79,67,52,60,64,72,55,60,52,64,77,79,51,54,84,52,69,71,81,84,52,72,69,68,49,81,69,91,67,67,49,70,82,79,66,67,65,79,67,49,66,64,67,48,56,63,64,56,55,58,70,60,61,72,88,57,76,71],\"program\":[0,0,0,0,0,0,0,0,0,0,0,0,0,0,0,0,0,0,0,0,0,0,0,0,0,0,0,0,0,0,0,0,0,0,0,0,0,0,0,0,0,0,0,0,0,0,0,0,0,0,0,0,0,0,0,0,0,0,0,0,0,0,0,0,0,0,0,0,0,0,0,0,0,0,0,0,0,0,0,0,0,0,0,0,0,0,0,0,0,0,0,0,0,0,0,0,0,0,0,0,0,0,0,0,0,0,0,0,0,0,0,0],\"start_time\":{\"__ndarray__\":\"uB6F61G4nj+4HoXrUbjOP4XrUbgehds/KVyPwvUo5D+QwvUoXI/qP3sUrkfhevA/hetRuB6F8z+4HoXrUbj2P+xRuB6F6/k/7FG4HoXr+T/2KFyPwvX8P/YoXI/C9fw/Fa5H4XoUAEBSuB6F61EAQBWuR+F6FABAFa5H4XoUAEDhehSuR+ECQBWuR+F6FAZAUrgehetRBkBSuB6F61EGQFK4HoXrUQZAj8L1KFyPBkAzMzMzMzMJQK5H4XoUrglAexSuR+F6CkBI4XoUrkcLQEjhehSuRwtAkML1KFyPDEDXo3A9CtcNQK5H4XoUrg9ApHA9CtejEECkcD0K16MQQNejcD0K1w1A7FG4HoXrEUDXo3A9CtcNQOxRuB6F6xFA7FG4HoXrEUCkcD0K16MTQOF6FK5H4RNA4XoUrkfhE0BnZmZmZmYUQPYoXI/C9RVAZ2ZmZmZmFEAK16NwPQoVQDMzMzMzMxVA9ihcj8L1FUDXo3A9CtcVQEjhehSuRxdAZ2ZmZmZmF0C4HoXrUbgYQNejcD0K1xhASOF6FK5HF0BI4XoUrkcaQJDC9ShcjxtAkML1KFyPG0BI4XoUrkcdQOF6FK5H4RxASOF6FK5HHUBnZmZmZmYdQGdmZmZmZh1ASOF6FK5HHUDD9Shcj0IgQGZmZmZmZiBAZmZmZmZmIECF61G4HoUgQBWuR+F6lCBAFa5H4XqUIECamZmZmRkhQNejcD0K1yBApHA9CtejIUCkcD0K16MhQArXo3A9ChVAw/UoXI9CI0B7FK5H4XoiQBWuR+F6FCJA7FG4HoVrIkDD9Shcj0IjQArXo3A9CiRAAAAAAACAJEDsUbgehWslQNejcD0KVyVAMzMzMzOzJEBnZmZmZuYkQBWuR+F6lCZAw/UoXI/CJEA+CtejcL0lQD4K16NwvSVAhetRuB6FJkDNzMzMzEwnQM3MzMzMTCdAFa5H4XoUKEDXo3A9ClcoQNejcD0KVyhAw/UoXI/CJ0ApXI/C9SgoQD4K16NwvShAH4XrUbgeKUAzMzMzMzMpQOxRuB6F6ylAexSuR+H6KUDNzMzMzEwqQAAAAAAAgCpAH4XrUbieKkBSuB6F69EqQFK4HoXr0SpAhetRuB4FK0CF61G4HgUrQBWuR+F6FCtAXI/C9SjcK0Bcj8L1KNwrQFyPwvUo3CtAFa5H4XoUIkA=\",\"dtype\":\"float64\",\"order\":\"little\",\"shape\":[112]},\"top\":{\"__ndarray__\":\"mpmZmZkZU0CamZmZmdlSQJqZmZmZGVNAmpmZmZnZUkCamZmZmRlTQJqZmZmZ2VFAmpmZmZmZUkCamZmZmRlSQDMzMzMzs0ZAmpmZmZlZUUAzMzMzMzNOQDMzMzMzM0pAMzMzMzOzTEAzMzMzMzNOQJqZmZmZGVBAmpmZmZlZUUCamZmZmdlRQJqZmZmZGVJAMzMzMzMzSkAzMzMzM7NMQDMzMzMzM05AmpmZmZkZUECamZmZmRlQQJqZmZmZWVBAmpmZmZkZUUAzMzMzMzNDQJqZmZmZWVFAMzMzMzMzTkAzMzMzMzNPQDMzMzMzM09AMzMzMzMzT0CamZmZmdlRQJqZmZmZWVFAMzMzMzMzT0AzMzMzM7NKQDMzMzMzs0xAmpmZmZkZUkAzMzMzMzNPQJqZmZmZWVBAmpmZmZlZUUCamZmZmdlRQJqZmZmZWVBAMzMzMzOzRUAzMzMzMzNJQDMzMzMzM09AMzMzMzOzSkCamZmZmRlSQJqZmZmZmVJAmpmZmZnZUECamZmZmRlTQDMzMzMzM09AZmZmZmZmP0CamZmZmVlTQDMzMzMzM0JAmpmZmZnZU0CamZmZmdlQQDMzMzMzM0pAMzMzMzMzTkCamZmZmRlQQJqZmZmZGVJAMzMzMzOzS0AzMzMzMzNOQDMzMzMzM0pAmpmZmZkZUECamZmZmVlTQJqZmZmZ2VNAMzMzMzOzSUAzMzMzMzNLQJqZmZmZGVVAMzMzMzMzSkCamZmZmVlRQJqZmZmZ2VFAmpmZmZlZVECamZmZmRlVQDMzMzMzM0pAmpmZmZkZUkCamZmZmVlRQJqZmZmZGVFAMzMzMzOzSECamZmZmVlUQJqZmZmZWVFAmpmZmZnZVkCamZmZmdlQQJqZmZmZ2VBAMzMzMzOzSECamZmZmZlRQJqZmZmZmVRAmpmZmZnZU0CamZmZmZlQQJqZmZmZ2VBAmpmZmZlZUECamZmZmdlTQJqZmZmZ2VBAMzMzMzOzSECamZmZmZlQQJqZmZmZGVBAmpmZmZnZUEAzMzMzMzNIQDMzMzMzM0xAMzMzMzOzT0CamZmZmRlQQDMzMzMzM0xAMzMzMzOzS0AzMzMzMzNNQJqZmZmZmVFAMzMzMzMzTkAzMzMzM7NOQJqZmZmZGVJAmpmZmZkZVkAzMzMzM7NMQJqZmZmZGVNAmpmZmZnZUUA=\",\"dtype\":\"float64\",\"order\":\"little\",\"shape\":[112]},\"velocity\":[117,117,117,117,117,117,97,97,97,101,93,89,97,97,101,101,101,101,93,93,97,97,97,89,93,97,101,85,93,81,77,97,101,93,93,89,101,85,85,101,105,93,97,89,89,93,97,101,93,105,85,97,101,97,101,101,93,93,97,97,97,97,81,81,93,93,89,81,93,89,101,93,97,101,69,97,93,97,85,93,93,89,101,97,89,101,97,101,97,85,85,89,81,85,89,101,77,85,77,85,85,85,85,85,85,89,89,93,89,81,89,93]},\"selected\":{\"id\":\"1277\"},\"selection_policy\":{\"id\":\"1276\"}},\"id\":\"1262\",\"type\":\"ColumnDataSource\"},{\"attributes\":{\"axis_label\":\"time (sec)\",\"coordinates\":null,\"formatter\":{\"id\":\"1274\"},\"group\":null,\"major_label_policy\":{\"id\":\"1275\"},\"ticker\":{\"id\":\"1240\"}},\"id\":\"1239\",\"type\":\"LinearAxis\"},{\"attributes\":{\"tools\":[{\"id\":\"1247\"},{\"id\":\"1248\"},{\"id\":\"1249\"},{\"id\":\"1250\"},{\"id\":\"1251\"}]},\"id\":\"1253\",\"type\":\"Toolbar\"},{\"attributes\":{\"axis_label\":\"pitch (MIDI)\",\"coordinates\":null,\"formatter\":{\"id\":\"1271\"},\"group\":null,\"major_label_policy\":{\"id\":\"1272\"},\"ticker\":{\"id\":\"1259\"}},\"id\":\"1243\",\"type\":\"LinearAxis\"},{\"attributes\":{\"bottom\":{\"field\":\"bottom\"},\"fill_alpha\":{\"value\":0.1},\"fill_color\":{\"value\":\"#d53e4f\"},\"hatch_alpha\":{\"value\":0.1},\"left\":{\"field\":\"start_time\"},\"line_alpha\":{\"value\":0.1},\"right\":{\"field\":\"end_time\"},\"top\":{\"field\":\"top\"}},\"id\":\"1265\",\"type\":\"Quad\"}],\"root_ids\":[\"1230\"]},\"title\":\"Bokeh Application\",\"version\":\"2.4.3\"}};\n",
              "  const render_items = [{\"docid\":\"352ec6ca-3fa2-4bc0-9332-d70297aeb76c\",\"root_ids\":[\"1230\"],\"roots\":{\"1230\":\"629289f2-9347-43cf-9c9c-877f69578514\"}}];\n",
              "  root.Bokeh.embed.embed_items_notebook(docs_json, render_items);\n",
              "  }\n",
              "  if (root.Bokeh !== undefined) {\n",
              "    embed_document(root);\n",
              "  } else {\n",
              "    let attempts = 0;\n",
              "    const timer = setInterval(function(root) {\n",
              "      if (root.Bokeh !== undefined) {\n",
              "        clearInterval(timer);\n",
              "        embed_document(root);\n",
              "      } else {\n",
              "        attempts++;\n",
              "        if (attempts > 100) {\n",
              "          clearInterval(timer);\n",
              "          console.log(\"Bokeh: ERROR: Unable to run BokehJS code because BokehJS library is missing\");\n",
              "        }\n",
              "      }\n",
              "    }, 10, root)\n",
              "  }\n",
              "})(window);"
            ],
            "application/vnd.bokehjs_exec.v0+json": ""
          },
          "metadata": {
            "application/vnd.bokehjs_exec.v0+json": {
              "id": "1230"
            }
          }
        },
        {
          "output_type": "stream",
          "name": "stdout",
          "text": [
            "Сэмпл сохранён в файл \"sample_0_1.mid\"\n",
            "---------------------------------------\n"
          ]
        },
        {
          "output_type": "stream",
          "name": "stderr",
          "text": [
            "100%|██████████| 3/3 [06:35<00:00, 131.74s/it]\n"
          ]
        },
        {
          "output_type": "display_data",
          "data": {
            "text/plain": [
              "<IPython.core.display.HTML object>"
            ],
            "text/html": [
              "<div id=\"id_4\"> </div>"
            ]
          },
          "metadata": {}
        },
        {
          "output_type": "display_data",
          "data": {
            "text/html": [
              "\n",
              "  <div class=\"bk-root\" id=\"09e905b1-ac0e-4145-a0ce-4b59441de596\" data-root-id=\"1359\"></div>\n"
            ]
          },
          "metadata": {}
        },
        {
          "output_type": "display_data",
          "data": {
            "application/javascript": [
              "(function(root) {\n",
              "  function embed_document(root) {\n",
              "  const docs_json = {\"657acc0b-177c-4d24-a3cd-2d2484bc70f4\":{\"defs\":[],\"roots\":{\"references\":[{\"attributes\":{\"below\":[{\"id\":\"1368\"}],\"center\":[{\"id\":\"1371\"},{\"id\":\"1375\"}],\"height\":200,\"left\":[{\"id\":\"1372\"}],\"renderers\":[{\"id\":\"1396\"}],\"title\":{\"id\":\"1398\"},\"toolbar\":{\"id\":\"1382\"},\"width\":500,\"x_range\":{\"id\":\"1360\"},\"x_scale\":{\"id\":\"1364\"},\"y_range\":{\"id\":\"1362\"},\"y_scale\":{\"id\":\"1366\"}},\"id\":\"1359\",\"subtype\":\"Figure\",\"type\":\"Plot\"},{\"attributes\":{\"interval\":12},\"id\":\"1388\",\"type\":\"SingleIntervalTicker\"},{\"attributes\":{\"source\":{\"id\":\"1391\"}},\"id\":\"1397\",\"type\":\"CDSView\"},{\"attributes\":{\"axis_label\":\"pitch (MIDI)\",\"coordinates\":null,\"formatter\":{\"id\":\"1400\"},\"group\":null,\"major_label_policy\":{\"id\":\"1401\"},\"ticker\":{\"id\":\"1388\"}},\"id\":\"1372\",\"type\":\"LinearAxis\"},{\"attributes\":{},\"id\":\"1366\",\"type\":\"LinearScale\"},{\"attributes\":{\"coordinates\":null,\"group\":null},\"id\":\"1398\",\"type\":\"Title\"},{\"attributes\":{},\"id\":\"1379\",\"type\":\"ResetTool\"},{\"attributes\":{\"bottom\":{\"field\":\"bottom\"},\"fill_alpha\":{\"field\":\"fill_alpha\"},\"fill_color\":{\"value\":\"#d53e4f\"},\"left\":{\"field\":\"start_time\"},\"right\":{\"field\":\"end_time\"},\"top\":{\"field\":\"top\"}},\"id\":\"1393\",\"type\":\"Quad\"},{\"attributes\":{},\"id\":\"1369\",\"type\":\"BasicTicker\"},{\"attributes\":{},\"id\":\"1401\",\"type\":\"AllLabels\"},{\"attributes\":{},\"id\":\"1362\",\"type\":\"DataRange1d\"},{\"attributes\":{},\"id\":\"1377\",\"type\":\"PanTool\"},{\"attributes\":{},\"id\":\"1404\",\"type\":\"AllLabels\"},{\"attributes\":{\"axis_label\":\"time (sec)\",\"coordinates\":null,\"formatter\":{\"id\":\"1403\"},\"group\":null,\"major_label_policy\":{\"id\":\"1404\"},\"ticker\":{\"id\":\"1369\"}},\"id\":\"1368\",\"type\":\"LinearAxis\"},{\"attributes\":{\"overlay\":{\"id\":\"1381\"}},\"id\":\"1378\",\"type\":\"BoxZoomTool\"},{\"attributes\":{},\"id\":\"1405\",\"type\":\"UnionRenderers\"},{\"attributes\":{\"axis\":{\"id\":\"1372\"},\"coordinates\":null,\"dimension\":1,\"group\":null,\"ticker\":{\"id\":\"1390\"}},\"id\":\"1375\",\"type\":\"Grid\"},{\"attributes\":{\"bottom_units\":\"screen\",\"coordinates\":null,\"fill_alpha\":0.5,\"fill_color\":\"lightgrey\",\"group\":null,\"left_units\":\"screen\",\"level\":\"overlay\",\"line_alpha\":1.0,\"line_color\":\"black\",\"line_dash\":[4,4],\"line_width\":2,\"right_units\":\"screen\",\"syncable\":false,\"top_units\":\"screen\"},\"id\":\"1381\",\"type\":\"BoxAnnotation\"},{\"attributes\":{},\"id\":\"1364\",\"type\":\"LinearScale\"},{\"attributes\":{},\"id\":\"1380\",\"type\":\"SaveTool\"},{\"attributes\":{},\"id\":\"1403\",\"type\":\"BasicTickFormatter\"},{\"attributes\":{\"bottom\":{\"field\":\"bottom\"},\"fill_alpha\":{\"value\":0.2},\"fill_color\":{\"value\":\"#d53e4f\"},\"hatch_alpha\":{\"value\":0.2},\"left\":{\"field\":\"start_time\"},\"line_alpha\":{\"value\":0.2},\"right\":{\"field\":\"end_time\"},\"top\":{\"field\":\"top\"}},\"id\":\"1395\",\"type\":\"Quad\"},{\"attributes\":{\"callback\":null,\"tooltips\":[[\"pitch\",\"@pitch\"],[\"program\",\"@program\"],[\"velo\",\"@velocity\"],[\"duration\",\"@duration\"],[\"start_time\",\"@start_time\"],[\"end_time\",\"@end_time\"],[\"velocity\",\"@velocity\"],[\"fill_alpha\",\"@fill_alpha\"]]},\"id\":\"1376\",\"type\":\"HoverTool\"},{\"attributes\":{},\"id\":\"1400\",\"type\":\"BasicTickFormatter\"},{\"attributes\":{\"axis\":{\"id\":\"1368\"},\"coordinates\":null,\"group\":null,\"ticker\":null},\"id\":\"1371\",\"type\":\"Grid\"},{\"attributes\":{\"interval\":12},\"id\":\"1390\",\"type\":\"SingleIntervalTicker\"},{\"attributes\":{},\"id\":\"1360\",\"type\":\"DataRange1d\"},{\"attributes\":{\"data\":{\"bottom\":{\"__ndarray__\":\"ZmZmZmbmUkBmZmZmZqZSQGZmZmZm5lJAZmZmZmamUkBmZmZmZuZSQGZmZmZmplFAZmZmZmZmUkBmZmZmZuZRQM3MzMzMTExAZmZmZmYmUUDNzMzMzMxJQM3MzMzMzEdAzczMzMxMTEBmZmZmZiZRQM3MzMzMTEZAzczMzMzMR0DNzMzMzMxJQM3MzMzMTExAzczMzMzMT0BmZmZmZiZQQM3MzMzMzE5AZmZmZmbmUEDNzMzMzMxLQM3MzMzMTE1AzczMzMzMSEDNzMzMzMxLQM3MzMzMTEdAZmZmZmbmUEDNzMzMzExHQM3MzMzMTE1AzczMzMzMSEDNzMzMzMxLQGZmZmZm5lBAZmZmZmamUUBmZmZmZuZRQM3MzMzMTExAzczMzMzMTUDNzMzMzMxJQM3MzMzMzEdAzczMzMzMSUDNzMzMzExMQGZmZmZmJlFAzczMzMzMR0DNzMzMzExGQM3MzMzMzElAzczMzMxMTEDNzMzMzMxPQGZmZmZmJlBAzczMzMxMTUDNzMzMzMxOQGZmZmZm5lBAzczMzMzMS0DNzMzMzExNQM3MzMzMzEhAZmZmZmbmUEDNzMzMzMxLQM3MzMzMTEdAzczMzMxMR0DNzMzMzMxIQM3MzMzMzEtAZmZmZmbmUEBmZmZmZqZRQGZmZmZm5lFAzczMzMxMTEDNzMzMzMxJQM3MzMzMzEdAzczMzMxMTEBmZmZmZiZRQM3MzMzMTEZAzczMzMzMSUDNzMzMzMxHQM3MzMzMTExAzczMzMzMT0BmZmZmZiZQQM3MzMzMTE1AzczMzMzMTkBmZmZmZuZQQM3MzMzMzEtAzczMzMxMTUDNzMzMzMxIQGZmZmZm5lBAzczMzMzMS0DNzMzMzExHQM3MzMzMTEdAzczMzMzMSEDNzMzMzMxLQGZmZmZm5lBAZmZmZmamUUBmZmZmZuZRQM3MzMzMzElAzczMzMxMTEDNzMzMzMxJQM3MzMzMzEdAZmZmZmYmUUDNzMzMzMxJQM3MzMzMTExAzczMzMzMR0DNzMzMzExGQM3MzMzMzE9AzczMzMzMSUDNzMzMzMxLQM3MzMzMTE1AzczMzMzMT0DNzMzMzMxJQM3MzMzMzEtAzczMzMxMTUDNzMzMzMxPQGZmZmZmZlBAZmZmZmbmUEDNzMzMzMxPQM3MzMzMzE9AzczMzMzMSUDNzMzMzMxLQM3MzMzMTE1AzczMzMzMT0DNzMzMzMxJQM3MzMzMzEtAzczMzMxMTUDNzMzMzMxPQGZmZmZm5lJAZmZmZmZmUkBmZmZmZuZRQM3MzMzMzE1AzczMzMxMTEDNzMzMzMxJQM3MzMzMzEdAzczMzMxMTEBmZmZmZiZRQGZmZmZmJlFAzczMzMxMRkDNzMzMzMxHQM3MzMzMzElAzczMzMxMTEDNzMzMzMxPQGZmZmZmJlBAZmZmZmbmUEDNzMzMzMxLQM3MzMzMzEhAZmZmZmbmUEDNzMzMzMxLQM3MzMzMTE1AzczMzMxMR0DNzMzMzExHQM3MzMzMzEhAzczMzMzMS0BmZmZmZuZQQM3MzMzMTE1AZmZmZmamUUBmZmZmZuZRQM3MzMzMzE1AzczMzMxMTEDNzMzMzMxJQM3MzMzMzEdAzczMzMxMTEDNzMzMzMxJQGZmZmZmJlFAzczMzMzMR0DNzMzMzMxJQM3MzMzMTExAzczMzMxMRkDNzMzMzMxPQGZmZmZmJlBAzczMzMxMTUDNzMzMzMxOQGZmZmZm5lBAzczMzMzMS0DNzMzMzExNQM3MzMzMzEhAZmZmZmbmUEDNzMzMzMxLQM3MzMzMTEdAzczMzMxMR0DNzMzMzMxIQM3MzMzMzEtAZmZmZmbmUEBmZmZmZqZRQGZmZmZm5lFAzczMzMzMSUDNzMzMzMxHQM3MzMzMTExAZmZmZmYmUUDNzMzMzMxJQM3MzMzMzEdAzczMzMzMSUDNzMzMzExMQGZmZmZmJlFAzczMzMxMRkA=\",\"dtype\":\"float64\",\"order\":\"little\",\"shape\":[187]},\"duration\":{\"__ndarray__\":\"UrgehetRyD9SuB6F61HIP5qZmZmZmck/nJmZmZmZyT9QuB6F61HIP1C4HoXrUcg/mJmZmZmZyT94PQrXo3DNP6AehetRuK4/ANejcD0Ktz+sR+F6FK7nP/QoXI/C9eg/8Chcj8L12D/IzMzMzMzcP9ijcD0K1+s/INejcD0Ktz+gmZmZmZnJP4AUrkfhesQ/oJmZmZmZyT9QuB6F61HIPwBSuB6F67E/CNejcD0K1z/gehSuR+HaP+BRuB6F67E/AAAAAAAA6D8ghetRuB7VP/QoXI/C9eg/8Chcj8L12D8AUrgeheuxPwBSuB6F67E/sHA9CtejwD+wcD0K16PAP6BwPQrXo8A/QLgehetRyD+APQrXo3DNPwAfhetRuJ4/AB+F61G4nj/gehSuR+HaPwAAAAAAAOg/IIXrUbge1T/wKFyPwvXYP1CPwvUoXN8/oHA9CtejwD8ghetRuB7tP4AUrkfhesQ/oHA9CtejwD9AuB6F61HIP6CZmZmZmck/AB6F61G4nj8AHoXrUbieP2C4HoXrUcg/8Chcj8L12D8AH4XrUbiuP7BH4XoUruc/AClcj8L12D9wZmZmZmbWP/goXI/C9eg/gB6F61G4rj+gcD0K16PAP6BwPQrXo8A/wPUoXI/CxT/A9Shcj8LFP2C4HoXrUcg/AB+F61G4nj/4///////nPwgAAAAAAOg/AClcj8L12D9gj8L1KFzfPxiF61G4Hu0/gBSuR+F6xD+AcD0K16PAP4BwPQrXo8A/QLgehetRyD/AmZmZmZnJPwAehetRuJ4/AB6F61G4nj9gZmZmZmbWP+AoXI/C9dg/AB+F61G4rj+wR+F6FK7nPwApXI/C9dg/gGZmZmZm1j/wKFyPwvXoPwAfhetRuK4/gHA9CtejwD+AcD0K16PAP8D1KFyPwsU/wPUoXI/CxT9AuB6F61HIPwApXI/C9dg/INejcD0K1z8ghetRuB7VPwAAAAAAAOg/YI/C9Shc3z+AcD0K16PAP4BwPQrXo8A/gJmZmZmZuT8wXI/C9SjsP4C4HoXrUcg/AAAAAAAA6D8AAAAAAADoPwAAAAAAAOg/gJmZmZmZyT/AcD0K16PAP8BwPQrXo8A/wHA9CtejwD/gehSuR+HaP0C4HoXrUcg/kJmZmZmZ4T+AZmZmZmbWP4CZmZmZmck/8Chcj8L16D+wR+F6FK7nP7BH4XoUruc/QLgehetRyD/AcD0K16PAP8BwPQrXo8A/wPUoXI/CxT/A9Shcj8LFP8D1KFyPwsU/gJmZmZmZyT+APQrXo3DNPwAehetRuJ4/ANejcD0K1z/wKFyPwvXoP/D//////+c/4Chcj8L12D/gKFyPwvXYPwBxPQrXo8A/EIXrUbge7T+AFK5H4XrEP4AUrkfhesQ/gBSuR+F6xD+AuB6F61HIP4C4HoXrUcg/AB6F61G4rj+A61G4HoXbP6BH4XoUruc/wChcj8L12D9AZmZmZmbWP0BmZmZmZtY/AClcj8L16D8AHoXrUbiuPwBxPQrXo8A/AHE9CtejwD8AcT0K16PAPwD2KFyPwsU/AJqZmZmZyT8AXI/C9SjMPwAghetRuJ4/ANejcD0K1z8AexSuR+HaPwAAAAAAAOg/ANejcD0K1z8AhetRuB7VP6BwPQrXo+A/gBSuR+F6xD+AFK5H4XrEP4AUrkfhesQ/IK5H4XoU7j+AuB6F61HIP4CZmZmZmck/ACCF61G4nj8AIIXrUbieP4BmZmZmZtY/AClcj8L12D8AIIXrUbieP8BH4XoUruc/AClcj8L12D+AZmZmZmbWPwApXI/C9eg/AB6F61G4rj+AcD0K16PAP4BwPQrXo8A/gPUoXI/CxT8AmpmZmZnJPwC4HoXrUcg/wHoUrkfh2j/gKFyPwvXoPwApXI/C9dg/AClcj8L12D8A16NwPQrXPwBxPQrXo8A/AHE9CtejwD8AcT0K16PAPwBxPQrXo8A/AK5H4XoU7j8=\",\"dtype\":\"float64\",\"order\":\"little\",\"shape\":[187]},\"end_time\":{\"__ndarray__\":\"KVyPwvUozD+F61G4HoXbPylcj8L1KOQ/kML1KFyP6j9SuB6F61HwP4XrUbgehfM/uB6F61G49j9nZmZmZmb6P+F6FK5H4fo/XI/C9Shc+z/hehSuR+ECQDMzMzMzMwNAMzMzMzMzA0CuR+F6FK4DQOxRuB6F6wNA7FG4HoXrA0B7FK5H4XoEQHsUrkfhegRAmpmZmZmZB0AfhetRuB4JQOxRuB6F6wlAAAAAAAAADEB7FK5H4XoMQM3MzMzMzAxAH4XrUbgeD0AfhetRuB4PQFyPwvUoXA9AXI/C9ShcD0DsUbgehesPQOxRuB6F6w9AFa5H4XoUEEAVrkfhehQQQDMzMzMzMxBA4XoUrkfhEUDNzMzMzMwSQM3MzMzMzBJA7FG4HoXrEkBcj8L1KFwUQK5H4XoUrhVArkfhehSuFUDNzMzMzMwVQDMzMzMzMxZAMzMzMzMzFkBSuB6F61EWQFK4HoXrURZAUrgehetRFkAAAAAAAAAYQM3MzMzMzBhACtejcD0KGUAK16NwPQoZQJDC9ShcjxlAXI/C9ShcGkCamZmZmZkaQMP1KFyPwhtAw/UoXI/CG0DD9Shcj8IbQOxRuB6F6xtAKVyPwvUoHEBI4XoUrkccQEjhehSuRxxAcT0K16NwHEAAAAAAAAAeQMP1KFyPwh5AAAAAAAAAH0DhehSuR+EgQHE9Ctej8CBAcT0K16PwIECkcD0K1yMhQDMzMzMzMyFAMzMzMzMzIUAzMzMzMzMhQDMzMzMzMyFACtejcD0KIkBxPQrXo3AiQI/C9ShcjyJAj8L1KFyPIkCkcD0K1yMjQLgehetROCNA16NwPQpXI0DsUbgehesjQOxRuB6F6yNA7FG4HoXrI0AAAAAAAAAkQB+F61G4HiRArkfhehQuJECuR+F6FC4kQMP1KFyPQiRACtejcD0KJUB7FK5H4XolQMP1KFyPQiZA7FG4HoXrJkDsUbgehesmQHsUrkfh+iZArkfhehQuJ0CuR+F6FC4nQK5H4XoULidArkfhehQuJ0A+CtejcD0nQBWuR+F6lClAexSuR+H6KUB7FK5H4fopQHsUrkfh+ilAexSuR+H6KUA+CtejcD0qQD4K16NwPSpAPgrXo3A9KkBSuB6F69EqQKRwPQrXIytArkfhehQuLEA+CtejcD0sQKRwPQrXoyxAhetRuB4FLUCF61G4HgUtQIXrUbgeBS1AhetRuB4FLUBI4XoUrkctQEjhehSuRy1AXI/C9ShcLUBcj8L1KFwtQFyPwvUoXC1AMzMzMzMzLkAVrkfhepQuQKRwPQrXoy5AzczMzMxML0AK16NwPQowQArXo3A9CjBACtejcD0KMEAK16NwPQowQOxRuB6FKzBAMzMzMzMzMEAzMzMzMzMwQDMzMzMzMzBAMzMzMzMzMEAfhetRuJ4wQEjhehSuxzBA4XoUrkfhMED2KFyPwjUxQI/C9ShcjzFAj8L1KFyPMUCPwvUoXI8xQI/C9ShcjzFAmpmZmZmZMUApXI/C9agxQHE9CtejsDFAcT0K16OwMUBxPQrXo7AxQHsUrkfhujFAZ2ZmZmYmMkDXo3A9ClcyQB+F61G4XjJAMzMzMzOzMkB7FK5H4boyQI/C9ShcDzNAj8L1KFwPM0CPwvUoXA8zQLgehetRODNAuB6F61E4M0C4HoXrUTgzQLgehetRODNAAAAAAABAM0CkcD0K16MzQNejcD0K1zNAZ2ZmZmbmM0BnZmZmZuYzQHE9CtejMDRAexSuR+E6NEDD9Shcj0I0QBWuR+F6lDRAFa5H4XqUNEAVrkfhepQ0QB+F61G4njRArkfhehSuNED2KFyPwrU0QPYoXI/CtTRAAAAAAADANEDsUbgehSs1QFyPwvUoXDVAAAAAAADANUBcj8L1KBw2QFyPwvUoHDZAXI/C9SgcNkBcj8L1KBw2QD4K16NwPTZAPgrXo3A9NkA+CtejcD02QD4K16NwPTZAhetRuB5FNkA=\",\"dtype\":\"float64\",\"order\":\"little\",\"shape\":[187]},\"fill_alpha\":{\"__ndarray__\":\"AAAAAABA7T8AAAAAAEDtPwAAAAAAQO0/AAAAAABA7T8AAAAAAEDtPwAAAAAAQO0/AAAAAABA6D8AAAAAAEDoPwAAAAAAQOg/AAAAAABA6T8AAAAAAEDpPwAAAAAAQOc/AAAAAABA6z8AAAAAAEDrPwAAAAAAQOk/AAAAAABA6D8AAAAAAEDrPwAAAAAAQOo/AAAAAABA6j8AAAAAAEDpPwAAAAAAQOc/AAAAAABA6T8AAAAAAEDpPwAAAAAAQOc/AAAAAABA6T8AAAAAAEDlPwAAAAAAQOc/AAAAAABA6T8AAAAAAEDnPwAAAAAAQOk/AAAAAABA6T8AAAAAAEDqPwAAAAAAQOo/AAAAAABA6j8AAAAAAEDpPwAAAAAAQOg/AAAAAABA5j8AAAAAAEDpPwAAAAAAQOg/AAAAAABA5j8AAAAAAEDqPwAAAAAAQOo/AAAAAABA6D8AAAAAAEDoPwAAAAAAQOk/AAAAAABA6T8AAAAAAEDqPwAAAAAAQOk/AAAAAABA5j8AAAAAAEDnPwAAAAAAQOk/AAAAAABA6T8AAAAAAEDnPwAAAAAAQOg/AAAAAABA6T8AAAAAAEDlPwAAAAAAQOc/AAAAAABA5z8AAAAAAEDoPwAAAAAAQOo/AAAAAABA6j8AAAAAAEDqPwAAAAAAQOk/AAAAAABA6D8AAAAAAEDpPwAAAAAAQOg/AAAAAABA6z8AAAAAAEDrPwAAAAAAQOg/AAAAAABA6z8AAAAAAEDoPwAAAAAAQOk/AAAAAABA6z8AAAAAAEDpPwAAAAAAQOY/AAAAAABA5z8AAAAAAEDpPwAAAAAAQOk/AAAAAABA5j8AAAAAAEDoPwAAAAAAQOk/AAAAAABA5T8AAAAAAEDnPwAAAAAAQOc/AAAAAABA6T8AAAAAAEDqPwAAAAAAQOk/AAAAAABA6j8AAAAAAEDpPwAAAAAAQOk/AAAAAABA6z8AAAAAAEDnPwAAAAAAQOg/AAAAAABA6z8AAAAAAEDpPwAAAAAAQOo/AAAAAABA6T8AAAAAAEDoPwAAAAAAQOo/AAAAAABA6T8AAAAAAEDpPwAAAAAAQOk/AAAAAABA6j8AAAAAAEDpPwAAAAAAQOk/AAAAAABA6D8AAAAAAEDpPwAAAAAAQOk/AAAAAABA6j8AAAAAAEDnPwAAAAAAQOo/AAAAAABA6D8AAAAAAEDnPwAAAAAAQOg/AAAAAABA6j8AAAAAAEDpPwAAAAAAQOk/AAAAAABA6T8AAAAAAEDpPwAAAAAAQOo/AAAAAABA6T8AAAAAAEDoPwAAAAAAQOY/AAAAAABA6D8AAAAAAEDoPwAAAAAAQOg/AAAAAABA6z8AAAAAAEDqPwAAAAAAQOo/AAAAAABA5z8AAAAAAEDoPwAAAAAAQOk/AAAAAABA6j8AAAAAAEDqPwAAAAAAQOk/AAAAAABA6T8AAAAAAEDqPwAAAAAAQOk/AAAAAABA6T8AAAAAAEDmPwAAAAAAQOc/AAAAAABA5z8AAAAAAEDnPwAAAAAAQOk/AAAAAABA6j8AAAAAAEDqPwAAAAAAQOk/AAAAAABA6j8AAAAAAEDpPwAAAAAAQOY/AAAAAABA6D8AAAAAAEDpPwAAAAAAQOg/AAAAAABA6T8AAAAAAEDlPwAAAAAAQOo/AAAAAABA6D8AAAAAAEDpPwAAAAAAQOk/AAAAAABA6D8AAAAAAEDqPwAAAAAAQOk/AAAAAABA5j8AAAAAAEDmPwAAAAAAQOk/AAAAAABA6T8AAAAAAEDnPwAAAAAAQOg/AAAAAABA6T8AAAAAAEDmPwAAAAAAQOc/AAAAAABA5z8AAAAAAEDpPwAAAAAAQOo/AAAAAABA6T8AAAAAAEDqPwAAAAAAQOk/AAAAAABA6T8AAAAAAEDoPwAAAAAAQOo/AAAAAABA6z8AAAAAAEDmPwAAAAAAQOg/AAAAAABA6T8AAAAAAEDpPwAAAAAAQOo/AAAAAABA6D8=\",\"dtype\":\"float64\",\"order\":\"little\",\"shape\":[187]},\"index\":[0,1,2,3,4,5,6,7,8,9,10,11,12,13,14,15,16,17,18,19,20,21,22,23,24,25,26,27,28,29,30,31,32,33,34,35,36,37,38,39,40,41,42,43,44,45,46,47,48,49,50,51,52,53,54,55,56,57,58,59,60,61,62,63,64,65,66,67,68,69,70,71,72,73,74,75,76,77,78,79,80,81,82,83,84,85,86,87,88,89,90,91,92,93,94,95,96,97,98,99,100,101,102,103,104,105,106,107,108,109,110,111,112,113,114,115,116,117,118,119,120,121,122,123,124,125,126,127,128,129,130,131,132,133,134,135,136,137,138,139,140,141,142,143,144,145,146,147,148,149,150,151,152,153,154,155,156,157,158,159,160,161,162,163,164,165,166,167,168,169,170,171,172,173,174,175,176,177,178,179,180,181,182,183,184,185,186],\"instrument\":[0,0,0,0,0,0,0,0,0,0,0,0,0,0,0,0,0,0,0,0,0,0,0,0,0,0,0,0,0,0,0,0,0,0,0,0,0,0,0,0,0,0,0,0,0,0,0,0,0,0,0,0,0,0,0,0,0,0,0,0,0,0,0,0,0,0,0,0,0,0,0,0,0,0,0,0,0,0,0,0,0,0,0,0,0,0,0,0,0,0,0,0,0,0,0,0,0,0,0,0,0,0,0,0,0,0,0,0,0,0,0,0,0,0,0,0,0,0,0,0,0,0,0,0,0,0,0,0,0,0,0,0,0,0,0,0,0,0,0,0,0,0,0,0,0,0,0,0,0,0,0,0,0,0,0,0,0,0,0,0,0,0,0,0,0,0,0,0,0,0,0,0,0,0,0,0,0,0,0,0,0,0,0,0,0,0,0],\"pitch\":[76,75,76,75,76,71,74,72,57,69,52,48,57,69,45,48,52,57,64,65,62,68,56,59,50,56,47,68,47,59,50,56,68,71,72,57,60,52,48,52,57,69,48,45,52,57,64,65,59,62,68,56,59,50,68,56,47,47,50,56,68,71,72,57,52,48,57,69,45,52,48,57,64,65,59,62,68,56,59,50,68,56,47,47,50,56,68,71,72,52,57,52,48,69,52,57,48,45,64,52,56,59,64,52,56,59,64,66,68,64,64,52,56,59,64,52,56,59,64,76,74,72,60,57,52,48,57,69,69,45,48,52,57,64,65,68,56,50,68,56,59,47,47,50,56,68,59,71,72,60,57,52,48,57,52,69,48,52,57,45,64,65,59,62,68,56,59,50,68,56,47,47,50,56,68,71,72,52,48,57,69,52,48,52,57,69,45],\"program\":[0,0,0,0,0,0,0,0,0,0,0,0,0,0,0,0,0,0,0,0,0,0,0,0,0,0,0,0,0,0,0,0,0,0,0,0,0,0,0,0,0,0,0,0,0,0,0,0,0,0,0,0,0,0,0,0,0,0,0,0,0,0,0,0,0,0,0,0,0,0,0,0,0,0,0,0,0,0,0,0,0,0,0,0,0,0,0,0,0,0,0,0,0,0,0,0,0,0,0,0,0,0,0,0,0,0,0,0,0,0,0,0,0,0,0,0,0,0,0,0,0,0,0,0,0,0,0,0,0,0,0,0,0,0,0,0,0,0,0,0,0,0,0,0,0,0,0,0,0,0,0,0,0,0,0,0,0,0,0,0,0,0,0,0,0,0,0,0,0,0,0,0,0,0,0,0,0,0,0,0,0,0,0,0,0,0,0],\"start_time\":{\"__ndarray__\":\"uB6F61G4nj+4HoXrUbjOP4XrUbgehds/KVyPwvUo5D+QwvUoXI/qP3sUrkfhevA/hetRuB6F8z+4HoXrUbj2P+xRuB6F6/k/7FG4HoXr+T/sUbgehev5P+xRuB6F6/k/Fa5H4XoUAEAVrkfhehQAQOxRuB6F6/k/MzMzMzMzA0DhehSuR+ECQDMzMzMzMwNAAAAAAAAABkCamZmZmZkHQFyPwvUoXAlAH4XrUbgeCUAfhetRuB4JQD4K16NwPQxAH4XrUbgeCUB7FK5H4XoMQB+F61G4HglAPgrXo3A9DEBcj8L1KFwPQFyPwvUoXA9AH4XrUbgeD0AfhetRuB4PQFyPwvUoXA9AH4XrUbgeEUDhehSuR+ERQK5H4XoUrhJAzczMzMzMEkCuR+F6FK4SQK5H4XoUrhJAXI/C9ShcFEA+CtejcD0UQD4K16NwPRRArkfhehSuFUCuR+F6FK4SQK5H4XoUrhVAzczMzMzMFUA+CtejcD0XQAAAAAAAABhA7FG4HoXrGEDsUbgehesYQM3MzMzMzBhAzczMzMzMGEBcj8L1KFwaQM3MzMzMzBhAMzMzMzMzGkBcj8L1KFwaQM3MzMzMzBhA7FG4HoXrG0DD9Shcj8IbQMP1KFyPwhtAw/UoXI/CG0BSuB6F61EdQAAAAAAAAB5A4XoUrkfhHkDD9Shcj8IeQOF6FK5H4R5AKVyPwvUoIEApXI/C9SggQMP1KFyPwh5A4XoUrkfhIEBxPQrXo/AgQHE9Ctej8CBAKVyPwvWoIUAK16NwPQoiQAAAAAAAgCJAAAAAAACAIkBxPQrXo3AiQHE9CtejcCJAuB6F61E4I0BxPQrXo3AiQKRwPQrXIyNAuB6F61E4I0BxPQrXo3AiQAAAAAAAACRA7FG4HoXrI0DsUbgehesjQOxRuB6F6yNAMzMzMzOzJECamZmZmRklQHsUrkfheiVAMzMzMzMzJkDD9Shcj0ImQHsUrkfheiVAMzMzMzMzJkDsUbgehesmQOxRuB6F6yZAexSuR+H6JkB7FK5H4XolQDMzMzMzMylAexSuR+F6KEB7FK5H4XooQHsUrkfheihAFa5H4XqUKUB7FK5H4fopQHsUrkfh+ilAexSuR+H6KUB7FK5H4fopQMP1KFyPwipAFa5H4XoUK0AK16NwPYorQD4K16NwPSxA9ihcj8J1K0AK16NwPYorQArXo3A9iitApHA9CtejLECF61G4HgUtQIXrUbgeBS1AhetRuB4FLUCF61G4HgUtQIXrUbgeBS1AzczMzMzMLUAfhetRuB4uQBWuR+F6lC5AFa5H4XqULkCF61G4HoUuQBWuR+F6lC5AzczMzMxML0DNzMzMzEwvQArXo3A9CjBAFa5H4XqULkAK16NwPQowQArXo3A9CjBACtejcD0KMECuR+F6FG4wQNejcD0KlzBAUrgehevRMEBI4XoUrscwQFK4HoXr0TBA7FG4HoUrMUD2KFyPwjUxQPYoXI/CNTFAUrgehevRMECamZmZmZkxQI/C9ShcjzFAj8L1KFyPMUCPwvUoXI8xQI/C9ShcjzFAMzMzMzPzMUAfhetRuB4yQNejcD0KVzJA16NwPQpXMkCPwvUoXE8yQI/C9ShcTzJAMzMzMzOzMkB7FK5H4boyQDMzMzMzszJAj8L1KFwPM0CPwvUoXA8zQI/C9ShcDzNAj8L1KFxPMkAzMzMzM3MzQKRwPQrXozNAH4XrUbjeM0AfhetRuN4zQNejcD0K1zNA16NwPQrXM0B7FK5H4To0QNejcD0K1zNAcT0K16MwNEB7FK5H4To0QNejcD0K1zNAH4XrUbieNEAVrkfhepQ0QBWuR+F6lDRAFa5H4XqUNEC4HoXrUfg0QOxRuB6FKzVAFa5H4XpUNUAVrkfhelQ1QLgehetRuDVAuB6F61G4NUAAAAAAAMA1QFyPwvUoHDZAXI/C9SgcNkBcj8L1KBw2QFyPwvUoHDZAFa5H4XpUNUA=\",\"dtype\":\"float64\",\"order\":\"little\",\"shape\":[187]},\"top\":{\"__ndarray__\":\"mpmZmZkZU0CamZmZmdlSQJqZmZmZGVNAmpmZmZnZUkCamZmZmRlTQJqZmZmZ2VFAmpmZmZmZUkCamZmZmRlSQDMzMzMzs0xAmpmZmZlZUUAzMzMzMzNKQDMzMzMzM0hAMzMzMzOzTECamZmZmVlRQDMzMzMzs0ZAMzMzMzMzSEAzMzMzMzNKQDMzMzMzs0xAmpmZmZkZUECamZmZmVlQQDMzMzMzM09AmpmZmZkZUUAzMzMzMzNMQDMzMzMzs01AMzMzMzMzSUAzMzMzMzNMQDMzMzMzs0dAmpmZmZkZUUAzMzMzM7NHQDMzMzMzs01AMzMzMzMzSUAzMzMzMzNMQJqZmZmZGVFAmpmZmZnZUUCamZmZmRlSQDMzMzMzs0xAMzMzMzMzTkAzMzMzMzNKQDMzMzMzM0hAMzMzMzMzSkAzMzMzM7NMQJqZmZmZWVFAMzMzMzMzSEAzMzMzM7NGQDMzMzMzM0pAMzMzMzOzTECamZmZmRlQQJqZmZmZWVBAMzMzMzOzTUAzMzMzMzNPQJqZmZmZGVFAMzMzMzMzTEAzMzMzM7NNQDMzMzMzM0lAmpmZmZkZUUAzMzMzMzNMQDMzMzMzs0dAMzMzMzOzR0AzMzMzMzNJQDMzMzMzM0xAmpmZmZkZUUCamZmZmdlRQJqZmZmZGVJAMzMzMzOzTEAzMzMzMzNKQDMzMzMzM0hAMzMzMzOzTECamZmZmVlRQDMzMzMzs0ZAMzMzMzMzSkAzMzMzMzNIQDMzMzMzs0xAmpmZmZkZUECamZmZmVlQQDMzMzMzs01AMzMzMzMzT0CamZmZmRlRQDMzMzMzM0xAMzMzMzOzTUAzMzMzMzNJQJqZmZmZGVFAMzMzMzMzTEAzMzMzM7NHQDMzMzMzs0dAMzMzMzMzSUAzMzMzMzNMQJqZmZmZGVFAmpmZmZnZUUCamZmZmRlSQDMzMzMzM0pAMzMzMzOzTEAzMzMzMzNKQDMzMzMzM0hAmpmZmZlZUUAzMzMzMzNKQDMzMzMzs0xAMzMzMzMzSEAzMzMzM7NGQJqZmZmZGVBAMzMzMzMzSkAzMzMzMzNMQDMzMzMzs01AmpmZmZkZUEAzMzMzMzNKQDMzMzMzM0xAMzMzMzOzTUCamZmZmRlQQJqZmZmZmVBAmpmZmZkZUUCamZmZmRlQQJqZmZmZGVBAMzMzMzMzSkAzMzMzMzNMQDMzMzMzs01AmpmZmZkZUEAzMzMzMzNKQDMzMzMzM0xAMzMzMzOzTUCamZmZmRlQQJqZmZmZGVNAmpmZmZmZUkCamZmZmRlSQDMzMzMzM05AMzMzMzOzTEAzMzMzMzNKQDMzMzMzM0hAMzMzMzOzTECamZmZmVlRQJqZmZmZWVFAMzMzMzOzRkAzMzMzMzNIQDMzMzMzM0pAMzMzMzOzTECamZmZmRlQQJqZmZmZWVBAmpmZmZkZUUAzMzMzMzNMQDMzMzMzM0lAmpmZmZkZUUAzMzMzMzNMQDMzMzMzs01AMzMzMzOzR0AzMzMzM7NHQDMzMzMzM0lAMzMzMzMzTECamZmZmRlRQDMzMzMzs01AmpmZmZnZUUCamZmZmRlSQDMzMzMzM05AMzMzMzOzTEAzMzMzMzNKQDMzMzMzM0hAMzMzMzOzTEAzMzMzMzNKQJqZmZmZWVFAMzMzMzMzSEAzMzMzMzNKQDMzMzMzs0xAMzMzMzOzRkCamZmZmRlQQJqZmZmZWVBAMzMzMzOzTUAzMzMzMzNPQJqZmZmZGVFAMzMzMzMzTEAzMzMzM7NNQDMzMzMzM0lAmpmZmZkZUUAzMzMzMzNMQDMzMzMzs0dAMzMzMzOzR0AzMzMzMzNJQDMzMzMzM0xAmpmZmZkZUUCamZmZmdlRQJqZmZmZGVJAMzMzMzMzSkAzMzMzMzNIQDMzMzMzs0xAmpmZmZlZUUAzMzMzMzNKQDMzMzMzM0hAMzMzMzMzSkAzMzMzM7NMQJqZmZmZWVFAMzMzMzOzRkA=\",\"dtype\":\"float64\",\"order\":\"little\",\"shape\":[187]},\"velocity\":[117,117,117,117,117,117,97,97,97,101,101,93,109,109,101,97,109,105,105,101,93,101,101,93,101,85,93,101,93,101,101,105,105,105,101,97,89,101,97,89,105,105,97,97,101,101,105,101,89,93,101,101,93,97,101,85,93,93,97,105,105,105,101,97,101,97,109,109,97,109,97,101,109,101,89,93,101,101,89,97,101,85,93,93,101,105,101,105,101,101,109,93,97,109,101,105,101,97,105,101,101,101,105,101,101,97,101,101,105,93,105,97,93,97,105,101,101,101,101,105,101,97,89,97,97,97,109,105,105,93,97,101,105,105,101,101,105,101,101,89,93,93,93,101,105,105,101,105,101,89,97,101,97,101,85,105,97,101,101,97,105,101,89,89,101,101,93,97,101,89,93,93,101,105,101,105,101,101,97,105,109,89,97,101,101,105,97]},\"selected\":{\"id\":\"1406\"},\"selection_policy\":{\"id\":\"1405\"}},\"id\":\"1391\",\"type\":\"ColumnDataSource\"},{\"attributes\":{\"tools\":[{\"id\":\"1376\"},{\"id\":\"1377\"},{\"id\":\"1378\"},{\"id\":\"1379\"},{\"id\":\"1380\"}]},\"id\":\"1382\",\"type\":\"Toolbar\"},{\"attributes\":{\"bottom\":{\"field\":\"bottom\"},\"fill_alpha\":{\"value\":0.1},\"fill_color\":{\"value\":\"#d53e4f\"},\"hatch_alpha\":{\"value\":0.1},\"left\":{\"field\":\"start_time\"},\"line_alpha\":{\"value\":0.1},\"right\":{\"field\":\"end_time\"},\"top\":{\"field\":\"top\"}},\"id\":\"1394\",\"type\":\"Quad\"},{\"attributes\":{\"coordinates\":null,\"data_source\":{\"id\":\"1391\"},\"glyph\":{\"id\":\"1393\"},\"group\":null,\"hover_glyph\":null,\"muted_glyph\":{\"id\":\"1395\"},\"nonselection_glyph\":{\"id\":\"1394\"},\"view\":{\"id\":\"1397\"}},\"id\":\"1396\",\"type\":\"GlyphRenderer\"},{\"attributes\":{},\"id\":\"1406\",\"type\":\"Selection\"}],\"root_ids\":[\"1359\"]},\"title\":\"Bokeh Application\",\"version\":\"2.4.3\"}};\n",
              "  const render_items = [{\"docid\":\"657acc0b-177c-4d24-a3cd-2d2484bc70f4\",\"root_ids\":[\"1359\"],\"roots\":{\"1359\":\"09e905b1-ac0e-4145-a0ce-4b59441de596\"}}];\n",
              "  root.Bokeh.embed.embed_items_notebook(docs_json, render_items);\n",
              "  }\n",
              "  if (root.Bokeh !== undefined) {\n",
              "    embed_document(root);\n",
              "  } else {\n",
              "    let attempts = 0;\n",
              "    const timer = setInterval(function(root) {\n",
              "      if (root.Bokeh !== undefined) {\n",
              "        clearInterval(timer);\n",
              "        embed_document(root);\n",
              "      } else {\n",
              "        attempts++;\n",
              "        if (attempts > 100) {\n",
              "          clearInterval(timer);\n",
              "          console.log(\"Bokeh: ERROR: Unable to run BokehJS code because BokehJS library is missing\");\n",
              "        }\n",
              "      }\n",
              "    }, 10, root)\n",
              "  }\n",
              "})(window);"
            ],
            "application/vnd.bokehjs_exec.v0+json": ""
          },
          "metadata": {
            "application/vnd.bokehjs_exec.v0+json": {
              "id": "1359"
            }
          }
        },
        {
          "output_type": "stream",
          "name": "stdout",
          "text": [
            "Сэмпл сохранён в файл \"sample_0_2.mid\"\n",
            "---------------------------------------\n"
          ]
        },
        {
          "output_type": "stream",
          "name": "stderr",
          "text": [
            "100%|██████████| 3/3 [02:14<00:00, 44.96s/it]\n"
          ]
        },
        {
          "output_type": "display_data",
          "data": {
            "text/plain": [
              "<IPython.core.display.HTML object>"
            ],
            "text/html": [
              "<div id=\"id_5\"> </div>"
            ]
          },
          "metadata": {}
        },
        {
          "output_type": "display_data",
          "data": {
            "text/html": [
              "\n",
              "  <div class=\"bk-root\" id=\"76c59b3b-1cd1-4590-b63a-037c0a562fe5\" data-root-id=\"1498\"></div>\n"
            ]
          },
          "metadata": {}
        },
        {
          "output_type": "display_data",
          "data": {
            "application/javascript": [
              "(function(root) {\n",
              "  function embed_document(root) {\n",
              "  const docs_json = {\"95a97cd8-ec92-47c8-998e-f64ebde046e7\":{\"defs\":[],\"roots\":{\"references\":[{\"attributes\":{\"below\":[{\"id\":\"1507\"}],\"center\":[{\"id\":\"1510\"},{\"id\":\"1514\"}],\"height\":200,\"left\":[{\"id\":\"1511\"}],\"renderers\":[{\"id\":\"1535\"}],\"title\":{\"id\":\"1537\"},\"toolbar\":{\"id\":\"1521\"},\"width\":500,\"x_range\":{\"id\":\"1499\"},\"x_scale\":{\"id\":\"1503\"},\"y_range\":{\"id\":\"1501\"},\"y_scale\":{\"id\":\"1505\"}},\"id\":\"1498\",\"subtype\":\"Figure\",\"type\":\"Plot\"},{\"attributes\":{\"axis_label\":\"time (sec)\",\"coordinates\":null,\"formatter\":{\"id\":\"1542\"},\"group\":null,\"major_label_policy\":{\"id\":\"1543\"},\"ticker\":{\"id\":\"1508\"}},\"id\":\"1507\",\"type\":\"LinearAxis\"},{\"attributes\":{},\"id\":\"1544\",\"type\":\"UnionRenderers\"},{\"attributes\":{\"axis\":{\"id\":\"1507\"},\"coordinates\":null,\"group\":null,\"ticker\":null},\"id\":\"1510\",\"type\":\"Grid\"},{\"attributes\":{},\"id\":\"1516\",\"type\":\"PanTool\"},{\"attributes\":{},\"id\":\"1539\",\"type\":\"BasicTickFormatter\"},{\"attributes\":{\"overlay\":{\"id\":\"1520\"}},\"id\":\"1517\",\"type\":\"BoxZoomTool\"},{\"attributes\":{\"interval\":12},\"id\":\"1529\",\"type\":\"SingleIntervalTicker\"},{\"attributes\":{\"axis\":{\"id\":\"1511\"},\"coordinates\":null,\"dimension\":1,\"group\":null,\"ticker\":{\"id\":\"1529\"}},\"id\":\"1514\",\"type\":\"Grid\"},{\"attributes\":{\"bottom\":{\"field\":\"bottom\"},\"fill_alpha\":{\"field\":\"fill_alpha\"},\"fill_color\":{\"value\":\"#d53e4f\"},\"left\":{\"field\":\"start_time\"},\"right\":{\"field\":\"end_time\"},\"top\":{\"field\":\"top\"}},\"id\":\"1532\",\"type\":\"Quad\"},{\"attributes\":{},\"id\":\"1503\",\"type\":\"LinearScale\"},{\"attributes\":{},\"id\":\"1499\",\"type\":\"DataRange1d\"},{\"attributes\":{},\"id\":\"1545\",\"type\":\"Selection\"},{\"attributes\":{\"bottom\":{\"field\":\"bottom\"},\"fill_alpha\":{\"value\":0.2},\"fill_color\":{\"value\":\"#d53e4f\"},\"hatch_alpha\":{\"value\":0.2},\"left\":{\"field\":\"start_time\"},\"line_alpha\":{\"value\":0.2},\"right\":{\"field\":\"end_time\"},\"top\":{\"field\":\"top\"}},\"id\":\"1534\",\"type\":\"Quad\"},{\"attributes\":{\"coordinates\":null,\"data_source\":{\"id\":\"1530\"},\"glyph\":{\"id\":\"1532\"},\"group\":null,\"hover_glyph\":null,\"muted_glyph\":{\"id\":\"1534\"},\"nonselection_glyph\":{\"id\":\"1533\"},\"view\":{\"id\":\"1536\"}},\"id\":\"1535\",\"type\":\"GlyphRenderer\"},{\"attributes\":{\"data\":{\"bottom\":{\"__ndarray__\":\"ZmZmZmbmUkBmZmZmZqZSQGZmZmZm5lJAZmZmZmamUkBmZmZmZuZSQGZmZmZmplFAZmZmZmZmUkBmZmZmZuZRQM3MzMzMTExAzczMzMxMRkDNzMzMzMxJQM3MzMzMzE1AzczMzMxMTEBmZmZmZiZRQM3MzMzMTExAzczMzMzMT0DNzMzMzExHQM3MzMzMzElAzczMzMzMTkBmZmZmZuZQQM3MzMzMzElAzczMzMzMSUDNzMzMzMxJQM3MzMzMzE5AzczMzMxMRkDNzMzMzMxJQM3MzMzMTExAzczMzMzMTUDNzMzMzExMQGZmZmZmJlFAzczMzMxMTEDNzMzMzMxPQM3MzMzMTEdAzczMzMzMSUDNzMzMzMxOQGZmZmZm5lBAzczMzMzMSUDNzMzMzMxJQM3MzMzMzElAzczMzMzMT0DNzMzMzExGQM3MzMzMzElAzczMzMxMTEDNzMzMzMxNQM3MzMzMTExAZmZmZmYmUUDNzMzMzExMQM3MzMzMzE9AzczMzMxMRUDNzMzMzExLQM3MzMzMzE9AzczMzMzMSUDNzMzMzMxJQM3MzMzMzElAzczMzMzMT0DNzMzMzExNQM3MzMzMTE1AzczMzMzMTkDNzMzMzMxOQM3MzMzMzE5AzczMzMxMSkDNzMzMzExMQM3MzMzMzE9AzczMzMxMTUDNzMzMzMxJQM3MzMzMTE1AZmZmZmbmUEDNzMzMzMxPQM3MzMzMzEtAzczMzMzMS0DNzMzMzMxLQM3MzMzMzE9AzczMzMzMT0DNzMzMzExGQM3MzMzMzElAzczMzMzMTUDNzMzMzExMQGZmZmZmJlFAzczMzMxMTEDNzMzMzExMQM3MzMzMzE9AzczMzMxMRUDNzMzMzExLQM3MzMzMzE9AzczMzMzMSUDNzMzMzMxJQM3MzMzMzElAzczMzMzMT0DNzMzMzExNQM3MzMzMTE1AzczMzMzMTkDNzMzMzMxOQM3MzMzMTEpAzczMzMzMTkDNzMzMzExMQM3MzMzMzE9AzczMzMxMTUDNzMzMzMxJQM3MzMzMTE1AZmZmZmbmUEDNzMzMzMxLQM3MzMzMzEtAzczMzMzMT0DNzMzMzMxLQM3MzMzMzE9AzczMzMxMRkDNzMzMzMxJQM3MzMzMzE1AzczMzMxMTEBmZmZmZiZRQM3MzMzMTExAzczMzMxMTEDNzMzMzMxPQM3MzMzMzE9AzczMzMxMRUDNzMzMzMxOQM3MzMzMTERAzczMzMxMSkDNzMzMzMxPQM3MzMzMzE5AzczMzMzMT0DNzMzMzMxOQM3MzMzMTEpAzczMzMxMTEDNzMzMzMxJQM3MzMzMzENAzczMzMzMS0DNzMzMzExNQM3MzMzMzE9AzczMzMzMSUDNzMzMzMxLQM3MzMzMTE1AzczMzMzMT0DNzMzMzExGQM3MzMzMzElAzczMzMzMTUBmZmZmZiZRQA==\",\"dtype\":\"float64\",\"order\":\"little\",\"shape\":[137]},\"duration\":{\"__ndarray__\":\"UrgehetRyD9SuB6F61HIP5qZmZmZmck/nJmZmZmZyT9QuB6F61HIP1C4HoXrUcg/mJmZmZmZyT+gmZmZmZnJP6CZmZmZmck/zMzMzMzM5D/MzMzMzMzkP8zMzMzMzOQ/ULgehetRyD8oXI/C9SjsPyCF61G4HtU/oJmZmZmZyT/gehSuR+HaP+B6FK5H4do/4HoUrkfh2j9gj8L1KFzfP6CZmZmZmck/YLgehetRyD/wKFyPwvXYP6CZmZmZmck/cD0K16Nw3T9wPQrXo3DdP6CZmZmZmck/wPUoXI/C5T9guB6F61HIPyhcj8L1KOw/ANejcD0K1z+AFK5H4XrUP+B6FK5H4do/4HoUrkfh2j9wPQrXo3DdP3A9CtejcN0/oJmZmZmZyT+gmZmZmZnJPxDXo3A9Ctc/YLgehetRyD+APQrXo3DdP4DrUbgehds/gD0K16NwzT8grkfhehTmP8CZmZmZmck/cGZmZmZm7j8A16NwPQrXP4A9CtejcM0/gD0K16Nw3T+APQrXo3DdP+B6FK5H4eI/QLgehetRyD/AmZmZmZnJP+B6FK5H4do/IIXrUbge5T+AmZmZmZnJP4C4HoXrUcg/gJmZmZmZ2T+AuB6F61HIP4CZmZmZmck/MArXo3A96j8wCtejcD3qPwApXI/C9dg/IIXrUbge1T9gPQrXo3DdP2A9CtejcN0/YD0K16Nw3T/Qo3A9CtfjP0C4HoXrUcg/wJmZmZmZyT/gKFyPwvXYP8CZmZmZmck/QD0K16NwzT8AexSuR+HaPwB7FK5H4do/AHsUrkfh2j9AuB6F61HIP+CjcD0K1+M/wJmZmZmZyT8AKVyPwvXYP4CZmZmZmck/gD0K16Nw3T+APQrXo3DdP+CjcD0K1+M/gLgehetRyD8A9ihcj8LFP8B6FK5H4do/IFyPwvUo5D+AmZmZmZnJP4C4HoXrUcg/gJmZmZmZ2T+AXI/C9SjMPwAAAAAAAOg/gPUoXI/CxT9ACtejcD3qP8B6FK5H4do/gOtRuB6F2z/AehSuR+HaP8B6FK5H4do/wHoUrkfh2j8AuB6F61HIP4CZmZmZmck/4HoUrkfh6j8AKVyPwvXYP4A9CtejcM0/AHsUrkfh2j8AexSuR+HaPwB7FK5H4do/gLgehetRyD/go3A9CtfjP4CZmZmZmck/AClcj8L12D+AmZmZmZnJP4CZmZmZmck/gD0K16Nw3T+APQrXo3DNP+BRuB6F6+k/4FG4HoXr6T/gUbgehevpPwBcj8L1KMw/gBSuR+F6xD+APQrXo3DNP0AK16NwPeo/QArXo3A96j/AcD0K16PQPwB7FK5H4do/AHsUrkfh2j8AexSuR+HaPyCF61G4HuU/gD0K16NwzT+APQrXo3DNP4DrUbgehds/oHA9Ctej8D9ACtejcD3yP0AK16NwPfI/QArXo3A98j9ACtejcD3yPw==\",\"dtype\":\"float64\",\"order\":\"little\",\"shape\":[137]},\"end_time\":{\"__ndarray__\":\"KVyPwvUozD+F61G4HoXbPylcj8L1KOQ/kML1KFyP6j9SuB6F61HwP4XrUbgehfM/uB6F61G49j/sUbgehev5P+xRuB6F6wFAKVyPwvUoAkApXI/C9SgCQClcj8L1KAJAcT0K16NwA0AAAAAAAAAEQBWuR+F6FAZAKVyPwvUoCEBcj8L1KFwNQFyPwvUoXA1AXI/C9ShcDUCamZmZmZkNQPYoXI/C9Q5APgrXo3A9EEDNzMzMzMwRQJqZmZmZmRJAXI/C9ShcFUBcj8L1KFwVQAAAAAAAABZAH4XrUbgeFkDD9Shcj8IWQArXo3A9ChdAMzMzMzMzGECkcD0K16MZQLgehetRuBtAuB6F61G4G0DhehSuR+EbQOF6FK5H4RtAhetRuB6FHEBSuB6F61EdQMP1KFyPwh5ApHA9CtejH0CkcD0K1yMhQKRwPQrXIyFAhetRuB6FIUCamZmZmZkhQOxRuB6F6yFAH4XrUbgeIkCkcD0K16MiQClcj8L1KCNA9ihcj8J1JED2KFyPwnUkQLgehetRuCRAuB6F61G4JEAfhetRuB4lQPYoXI/C9SVACtejcD0KJkBcj8L1KFwmQD4K16NwvSZACtejcD2KJ0DsUbgehesnQFK4HoXrUShA4XoUrkdhKEDhehSuR2EoQClcj8L1KClAUrgehevRKUBcj8L1KNwqQFyPwvUo3CpAXI/C9SjcKkCuR+F6FC4rQK5H4XoULitAFa5H4XqUK0Bcj8L1KFwsQMP1KFyPwixAuB6F61E4LUCQwvUoXA8uQJDC9ShcDy5AkML1KFwPLkDhehSuR2EuQPYoXI/CdS5ASOF6FK7HLkCQwvUoXI8vQPYoXI/C9S9AKVyPwvWoMEApXI/C9agwQFK4HoXr0TBAUrgehevRMEA+CtejcP0wQClcj8L1aDFAMzMzMzNzMUBcj8L1KJwxQM3MzMzMzDFAMzMzMzMzMkDsUbgehWsyQNejcD0KlzJA16NwPQqXMkAfhetRuJ4yQArXo3A9CjNAcT0K16NwM0Bcj8L1KNwzQFyPwvUo3DNAXI/C9SjcM0CF61G4HgU0QLgehetRODRASOF6FK5HNEBcj8L1KJw0QNejcD0K1zRA9ihcj8J1NUD2KFyPwnU1QPYoXI/CdTVAH4XrUbieNUApXI/C9ag1QFK4HoXr0TVA9ihcj8I1NkBxPQrXo3A2QKRwPQrXozZA7FG4HoWrNkDD9Shcj0I3QDMzMzMzczdAMzMzMzNzN0AzMzMzM3M3QHsUrkfhejdAXI/C9SicN0BSuB6F6xE4QIXrUbgeRThAhetRuB5FOEBI4XoUroc4QHE9CtejsDhAcT0K16OwOEBxPQrXo7A4QKRwPQrX4zhApHA9CtfjOEAVrkfhehQ5QMP1KFyPgjlAhetRuB6FOkCQwvUoXM86QJDC9ShczzpAkML1KFzPOkCQwvUoXM86QA==\",\"dtype\":\"float64\",\"order\":\"little\",\"shape\":[137]},\"fill_alpha\":{\"__ndarray__\":\"AAAAAABA7T8AAAAAAEDtPwAAAAAAQO0/AAAAAABA7T8AAAAAAEDtPwAAAAAAQO0/AAAAAABA6D8AAAAAAEDoPwAAAAAAQOc/AAAAAABA5T8AAAAAAEDmPwAAAAAAQOY/AAAAAABA5z8AAAAAAEDoPwAAAAAAQOY/AAAAAABA6D8AAAAAAEDmPwAAAAAAQOY/AAAAAABA5j8AAAAAAEDoPwAAAAAAQOY/AAAAAABA5j8AAAAAAEDmPwAAAAAAQOc/AAAAAABA5j8AAAAAAEDmPwAAAAAAQOc/AAAAAABA5j8AAAAAAEDmPwAAAAAAQOc/AAAAAABA5j8AAAAAAEDoPwAAAAAAQOY/AAAAAABA5j8AAAAAAEDmPwAAAAAAQOc/AAAAAABA5j8AAAAAAEDlPwAAAAAAQOY/AAAAAABA6D8AAAAAAEDlPwAAAAAAQOU/AAAAAABA5j8AAAAAAEDmPwAAAAAAQOc/AAAAAABA5z8AAAAAAEDnPwAAAAAAQOg/AAAAAABA5j8AAAAAAEDlPwAAAAAAQOc/AAAAAABA5T8AAAAAAEDlPwAAAAAAQOY/AAAAAABA5D8AAAAAAEDmPwAAAAAAQOY/AAAAAABA5z8AAAAAAEDnPwAAAAAAQOc/AAAAAABA5j8AAAAAAEDmPwAAAAAAQOg/AAAAAABA5j8AAAAAAEDmPwAAAAAAQOY/AAAAAABA5j8AAAAAAEDnPwAAAAAAQOg/AAAAAABA5z8AAAAAAEDmPwAAAAAAQOg/AAAAAABA5z8AAAAAAEDmPwAAAAAAQOY/AAAAAABA5z8AAAAAAEDnPwAAAAAAQOc/AAAAAABA5z8AAAAAAEDmPwAAAAAAQOg/AAAAAABA5j8AAAAAAEDlPwAAAAAAQOc/AAAAAABA5T8AAAAAAEDlPwAAAAAAQOU/AAAAAABA5D8AAAAAAEDmPwAAAAAAQOY/AAAAAABA5z8AAAAAAEDnPwAAAAAAQOY/AAAAAABA5z8AAAAAAEDmPwAAAAAAQOg/AAAAAABA5j8AAAAAAEDmPwAAAAAAQOY/AAAAAABA5j8AAAAAAEDoPwAAAAAAQOc/AAAAAABA5z8AAAAAAEDnPwAAAAAAQOg/AAAAAABA5T8AAAAAAEDlPwAAAAAAQOY/AAAAAABA5z8AAAAAAEDnPwAAAAAAQOc/AAAAAABA5j8AAAAAAEDoPwAAAAAAQOg/AAAAAABA5T8AAAAAAEDnPwAAAAAAQOY/AAAAAABA5j8AAAAAAEDnPwAAAAAAQOc/AAAAAABA5z8AAAAAAEDmPwAAAAAAQOY/AAAAAABA5j8AAAAAAEDmPwAAAAAAQOY/AAAAAABA5T8AAAAAAEDlPwAAAAAAQOc/AAAAAABA5j8AAAAAAEDoPwAAAAAAQOY/AAAAAABA5z8AAAAAAEDnPwAAAAAAQOY/AAAAAABA5z8AAAAAAEDnPw==\",\"dtype\":\"float64\",\"order\":\"little\",\"shape\":[137]},\"index\":[0,1,2,3,4,5,6,7,8,9,10,11,12,13,14,15,16,17,18,19,20,21,22,23,24,25,26,27,28,29,30,31,32,33,34,35,36,37,38,39,40,41,42,43,44,45,46,47,48,49,50,51,52,53,54,55,56,57,58,59,60,61,62,63,64,65,66,67,68,69,70,71,72,73,74,75,76,77,78,79,80,81,82,83,84,85,86,87,88,89,90,91,92,93,94,95,96,97,98,99,100,101,102,103,104,105,106,107,108,109,110,111,112,113,114,115,116,117,118,119,120,121,122,123,124,125,126,127,128,129,130,131,132,133,134,135,136],\"instrument\":[0,0,0,0,0,0,0,0,0,0,0,0,0,0,0,0,0,0,0,0,0,0,0,0,0,0,0,0,0,0,0,0,0,0,0,0,0,0,0,0,0,0,0,0,0,0,0,0,0,0,0,0,0,0,0,0,0,0,0,0,0,0,0,0,0,0,0,0,0,0,0,0,0,0,0,0,0,0,0,0,0,0,0,0,0,0,0,0,0,0,0,0,0,0,0,0,0,0,0,0,0,0,0,0,0,0,0,0,0,0,0,0,0,0,0,0,0,0,0,0,0,0,0,0,0,0,0,0,0,0,0,0,0,0,0,0,0],\"pitch\":[76,75,76,75,76,71,74,72,57,45,52,60,57,69,57,64,47,52,62,68,52,52,52,62,45,52,57,60,57,69,57,64,47,52,62,68,52,52,52,64,45,52,57,60,57,69,57,64,43,55,64,52,52,52,64,59,59,62,62,62,53,57,64,59,52,59,68,64,56,56,56,64,64,45,52,60,57,69,57,57,64,43,55,64,52,52,52,64,59,59,62,62,53,62,57,64,59,52,59,68,56,56,64,56,64,45,52,60,57,69,57,57,64,64,43,62,41,53,64,62,64,62,53,57,52,40,56,59,64,52,56,59,64,45,52,60,69],\"program\":[0,0,0,0,0,0,0,0,0,0,0,0,0,0,0,0,0,0,0,0,0,0,0,0,0,0,0,0,0,0,0,0,0,0,0,0,0,0,0,0,0,0,0,0,0,0,0,0,0,0,0,0,0,0,0,0,0,0,0,0,0,0,0,0,0,0,0,0,0,0,0,0,0,0,0,0,0,0,0,0,0,0,0,0,0,0,0,0,0,0,0,0,0,0,0,0,0,0,0,0,0,0,0,0,0,0,0,0,0,0,0,0,0,0,0,0,0,0,0,0,0,0,0,0,0,0,0,0,0,0,0,0,0,0,0,0,0],\"start_time\":{\"__ndarray__\":\"uB6F61G4nj+4HoXrUbjOP4XrUbgehds/KVyPwvUo5D+QwvUoXI/qP3sUrkfhevA/hetRuB6F8z+4HoXrUbj2P1K4HoXrUQBA7FG4HoXr+T/sUbgehev5P+xRuB6F6/k/7FG4HoXrAUDsUbgehev5P3E9CtejcANAj8L1KFyPBkAAAAAAAAAKQAAAAAAAAApAAAAAAAAACkCuR+F6FK4JQFyPwvUoXA1A9ihcj8L1DkA+CtejcD0QQM3MzMzMzBFAhetRuB6FE0CF61G4HoUTQDMzMzMzMxVAZ2ZmZmZmE0AAAAAAAAAWQIXrUbgehRNAw/UoXI/CFkBcj8L1KFwYQArXo3A9ChpACtejcD0KGkAK16NwPQoaQArXo3A9ChpAuB6F61G4G0CF61G4HoUcQFK4HoXrUR1A4XoUrkfhHkC4HoXrUTggQEjhehSuRyBAj8L1KFwPIUC4HoXrUTggQIXrUbgehSFAuB6F61E4IEDsUbgeheshQDMzMzMzsyJACtejcD2KI0AK16NwPYojQArXo3A9iiNA16NwPQpXJEC4HoXrUbgkQB+F61G4HiVAuB6F61G4JED2KFyPwvUlQFyPwvUoXCZAPgrXo3C9JkAK16NwPYonQOxRuB6F6ydAPgrXo3C9JkA+CtejcL0mQOF6FK5HYShAKVyPwvUoKUBxPQrXo/ApQHE9Ctej8ClAcT0K16PwKUBxPQrXo/ApQM3MzMzMzCpArkfhehQuK0AVrkfhepQrQFyPwvUoXCxAw/UoXI/CLEC4HoXrUTgtQLgehetROC1AuB6F61E4LUAAAAAAAAAuQLgehetROC1A4XoUrkdhLkBI4XoUrscuQJDC9Shcjy9AMzMzMzMzMEAzMzMzMzMwQDMzMzMzMzBA4XoUrkehMEBSuB6F69EwQD4K16Nw/TBAUrgehevRMEApXI/C9WgxQFyPwvUonDFAzczMzMzMMUAzMzMzMzMyQNejcD0K1zFA7FG4HoVrMkDNzMzMzMwxQB+F61G4njJAw/UoXI8CM0BxPQrXo3AzQHE9CtejcDNAcT0K16NwM0AVrkfhetQzQIXrUbgeBTRAcT0K16NwM0C4HoXrUTg0QFyPwvUonDRACtejcD0KNUAK16NwPQo1QArXo3A9CjVArkfhehRuNUAK16NwPQo1QB+F61G4njVAUrgehevRNUA+CtejcD02QHE9CtejcDZA9ihcj8I1NkBI4XoUrgc3QKRwPQrXozZApHA9CtejNkCkcD0K16M2QMP1KFyPQjdAMzMzMzNzN0DXo3A9Ctc3QDMzMzMzczdAMzMzMzNzN0CF61G4HkU4QIXrUbgeRThAhetRuB5FOECF61G4HkU4QHsUrkfhOjhAKVyPwvWoOECamZmZmdk4QBWuR+F6FDlAexSuR+F6OUDsUbgehas5QOxRuB6FqzlA7FG4HoWrOUDsUbgehas5QA==\",\"dtype\":\"float64\",\"order\":\"little\",\"shape\":[137]},\"top\":{\"__ndarray__\":\"mpmZmZkZU0CamZmZmdlSQJqZmZmZGVNAmpmZmZnZUkCamZmZmRlTQJqZmZmZ2VFAmpmZmZmZUkCamZmZmRlSQDMzMzMzs0xAMzMzMzOzRkAzMzMzMzNKQDMzMzMzM05AMzMzMzOzTECamZmZmVlRQDMzMzMzs0xAmpmZmZkZUEAzMzMzM7NHQDMzMzMzM0pAMzMzMzMzT0CamZmZmRlRQDMzMzMzM0pAMzMzMzMzSkAzMzMzMzNKQDMzMzMzM09AMzMzMzOzRkAzMzMzMzNKQDMzMzMzs0xAMzMzMzMzTkAzMzMzM7NMQJqZmZmZWVFAMzMzMzOzTECamZmZmRlQQDMzMzMzs0dAMzMzMzMzSkAzMzMzMzNPQJqZmZmZGVFAMzMzMzMzSkAzMzMzMzNKQDMzMzMzM0pAmpmZmZkZUEAzMzMzM7NGQDMzMzMzM0pAMzMzMzOzTEAzMzMzMzNOQDMzMzMzs0xAmpmZmZlZUUAzMzMzM7NMQJqZmZmZGVBAMzMzMzOzRUAzMzMzM7NLQJqZmZmZGVBAMzMzMzMzSkAzMzMzMzNKQDMzMzMzM0pAmpmZmZkZUEAzMzMzM7NNQDMzMzMzs01AMzMzMzMzT0AzMzMzMzNPQDMzMzMzM09AMzMzMzOzSkAzMzMzM7NMQJqZmZmZGVBAMzMzMzOzTUAzMzMzMzNKQDMzMzMzs01AmpmZmZkZUUCamZmZmRlQQDMzMzMzM0xAMzMzMzMzTEAzMzMzMzNMQJqZmZmZGVBAmpmZmZkZUEAzMzMzM7NGQDMzMzMzM0pAMzMzMzMzTkAzMzMzM7NMQJqZmZmZWVFAMzMzMzOzTEAzMzMzM7NMQJqZmZmZGVBAMzMzMzOzRUAzMzMzM7NLQJqZmZmZGVBAMzMzMzMzSkAzMzMzMzNKQDMzMzMzM0pAmpmZmZkZUEAzMzMzM7NNQDMzMzMzs01AMzMzMzMzT0AzMzMzMzNPQDMzMzMzs0pAMzMzMzMzT0AzMzMzM7NMQJqZmZmZGVBAMzMzMzOzTUAzMzMzMzNKQDMzMzMzs01AmpmZmZkZUUAzMzMzMzNMQDMzMzMzM0xAmpmZmZkZUEAzMzMzMzNMQJqZmZmZGVBAMzMzMzOzRkAzMzMzMzNKQDMzMzMzM05AMzMzMzOzTECamZmZmVlRQDMzMzMzs0xAMzMzMzOzTECamZmZmRlQQJqZmZmZGVBAMzMzMzOzRUAzMzMzMzNPQDMzMzMzs0RAMzMzMzOzSkCamZmZmRlQQDMzMzMzM09AmpmZmZkZUEAzMzMzMzNPQDMzMzMzs0pAMzMzMzOzTEAzMzMzMzNKQDMzMzMzM0RAMzMzMzMzTEAzMzMzM7NNQJqZmZmZGVBAMzMzMzMzSkAzMzMzMzNMQDMzMzMzs01AmpmZmZkZUEAzMzMzM7NGQDMzMzMzM0pAMzMzMzMzTkCamZmZmVlRQA==\",\"dtype\":\"float64\",\"order\":\"little\",\"shape\":[137]},\"velocity\":[117,117,117,117,117,117,97,97,93,85,89,89,93,97,89,97,89,89,89,97,89,89,89,93,89,89,93,89,89,93,89,97,89,89,89,93,89,85,89,97,85,85,89,89,93,93,93,97,89,85,93,85,85,89,81,89,89,93,93,93,89,89,97,89,89,89,89,93,97,93,89,97,93,89,89,93,93,93,93,89,97,89,85,93,85,85,85,81,89,89,93,93,89,93,89,97,89,89,89,89,97,93,93,93,97,85,85,89,93,93,93,89,97,97,85,93,89,89,93,93,93,89,89,89,89,89,85,85,93,89,97,89,93,93,89,93,93]},\"selected\":{\"id\":\"1545\"},\"selection_policy\":{\"id\":\"1544\"}},\"id\":\"1530\",\"type\":\"ColumnDataSource\"},{\"attributes\":{},\"id\":\"1508\",\"type\":\"BasicTicker\"},{\"attributes\":{\"source\":{\"id\":\"1530\"}},\"id\":\"1536\",\"type\":\"CDSView\"},{\"attributes\":{},\"id\":\"1540\",\"type\":\"AllLabels\"},{\"attributes\":{\"bottom_units\":\"screen\",\"coordinates\":null,\"fill_alpha\":0.5,\"fill_color\":\"lightgrey\",\"group\":null,\"left_units\":\"screen\",\"level\":\"overlay\",\"line_alpha\":1.0,\"line_color\":\"black\",\"line_dash\":[4,4],\"line_width\":2,\"right_units\":\"screen\",\"syncable\":false,\"top_units\":\"screen\"},\"id\":\"1520\",\"type\":\"BoxAnnotation\"},{\"attributes\":{},\"id\":\"1542\",\"type\":\"BasicTickFormatter\"},{\"attributes\":{},\"id\":\"1518\",\"type\":\"ResetTool\"},{\"attributes\":{\"tools\":[{\"id\":\"1515\"},{\"id\":\"1516\"},{\"id\":\"1517\"},{\"id\":\"1518\"},{\"id\":\"1519\"}]},\"id\":\"1521\",\"type\":\"Toolbar\"},{\"attributes\":{\"axis_label\":\"pitch (MIDI)\",\"coordinates\":null,\"formatter\":{\"id\":\"1539\"},\"group\":null,\"major_label_policy\":{\"id\":\"1540\"},\"ticker\":{\"id\":\"1527\"}},\"id\":\"1511\",\"type\":\"LinearAxis\"},{\"attributes\":{},\"id\":\"1505\",\"type\":\"LinearScale\"},{\"attributes\":{},\"id\":\"1543\",\"type\":\"AllLabels\"},{\"attributes\":{\"interval\":12},\"id\":\"1527\",\"type\":\"SingleIntervalTicker\"},{\"attributes\":{},\"id\":\"1501\",\"type\":\"DataRange1d\"},{\"attributes\":{},\"id\":\"1519\",\"type\":\"SaveTool\"},{\"attributes\":{\"callback\":null,\"tooltips\":[[\"pitch\",\"@pitch\"],[\"program\",\"@program\"],[\"velo\",\"@velocity\"],[\"duration\",\"@duration\"],[\"start_time\",\"@start_time\"],[\"end_time\",\"@end_time\"],[\"velocity\",\"@velocity\"],[\"fill_alpha\",\"@fill_alpha\"]]},\"id\":\"1515\",\"type\":\"HoverTool\"},{\"attributes\":{\"bottom\":{\"field\":\"bottom\"},\"fill_alpha\":{\"value\":0.1},\"fill_color\":{\"value\":\"#d53e4f\"},\"hatch_alpha\":{\"value\":0.1},\"left\":{\"field\":\"start_time\"},\"line_alpha\":{\"value\":0.1},\"right\":{\"field\":\"end_time\"},\"top\":{\"field\":\"top\"}},\"id\":\"1533\",\"type\":\"Quad\"},{\"attributes\":{\"coordinates\":null,\"group\":null},\"id\":\"1537\",\"type\":\"Title\"}],\"root_ids\":[\"1498\"]},\"title\":\"Bokeh Application\",\"version\":\"2.4.3\"}};\n",
              "  const render_items = [{\"docid\":\"95a97cd8-ec92-47c8-998e-f64ebde046e7\",\"root_ids\":[\"1498\"],\"roots\":{\"1498\":\"76c59b3b-1cd1-4590-b63a-037c0a562fe5\"}}];\n",
              "  root.Bokeh.embed.embed_items_notebook(docs_json, render_items);\n",
              "  }\n",
              "  if (root.Bokeh !== undefined) {\n",
              "    embed_document(root);\n",
              "  } else {\n",
              "    let attempts = 0;\n",
              "    const timer = setInterval(function(root) {\n",
              "      if (root.Bokeh !== undefined) {\n",
              "        clearInterval(timer);\n",
              "        embed_document(root);\n",
              "      } else {\n",
              "        attempts++;\n",
              "        if (attempts > 100) {\n",
              "          clearInterval(timer);\n",
              "          console.log(\"Bokeh: ERROR: Unable to run BokehJS code because BokehJS library is missing\");\n",
              "        }\n",
              "      }\n",
              "    }, 10, root)\n",
              "  }\n",
              "})(window);"
            ],
            "application/vnd.bokehjs_exec.v0+json": ""
          },
          "metadata": {
            "application/vnd.bokehjs_exec.v0+json": {
              "id": "1498"
            }
          }
        },
        {
          "output_type": "stream",
          "name": "stdout",
          "text": [
            "Сэмпл сохранён в файл \"sample_0_3.mid\"\n",
            "---------------------------------------\n"
          ]
        },
        {
          "output_type": "stream",
          "name": "stderr",
          "text": [
            "100%|██████████| 3/3 [03:58<00:00, 79.60s/it]\n"
          ]
        },
        {
          "output_type": "display_data",
          "data": {
            "text/plain": [
              "<IPython.core.display.HTML object>"
            ],
            "text/html": [
              "<div id=\"id_6\"> </div>"
            ]
          },
          "metadata": {}
        },
        {
          "output_type": "display_data",
          "data": {
            "text/html": [
              "\n",
              "  <div class=\"bk-root\" id=\"2a344544-c0f3-4529-8215-d9a55e1f50d2\" data-root-id=\"1647\"></div>\n"
            ]
          },
          "metadata": {}
        },
        {
          "output_type": "display_data",
          "data": {
            "application/javascript": [
              "(function(root) {\n",
              "  function embed_document(root) {\n",
              "  const docs_json = {\"e1f4d6e0-6b0d-4e52-86df-d265e89ff77b\":{\"defs\":[],\"roots\":{\"references\":[{\"attributes\":{\"below\":[{\"id\":\"1656\"}],\"center\":[{\"id\":\"1659\"},{\"id\":\"1663\"}],\"height\":200,\"left\":[{\"id\":\"1660\"}],\"renderers\":[{\"id\":\"1684\"}],\"title\":{\"id\":\"1686\"},\"toolbar\":{\"id\":\"1670\"},\"width\":500,\"x_range\":{\"id\":\"1648\"},\"x_scale\":{\"id\":\"1652\"},\"y_range\":{\"id\":\"1650\"},\"y_scale\":{\"id\":\"1654\"}},\"id\":\"1647\",\"subtype\":\"Figure\",\"type\":\"Plot\"},{\"attributes\":{\"coordinates\":null,\"data_source\":{\"id\":\"1679\"},\"glyph\":{\"id\":\"1681\"},\"group\":null,\"hover_glyph\":null,\"muted_glyph\":{\"id\":\"1683\"},\"nonselection_glyph\":{\"id\":\"1682\"},\"view\":{\"id\":\"1685\"}},\"id\":\"1684\",\"type\":\"GlyphRenderer\"},{\"attributes\":{},\"id\":\"1691\",\"type\":\"BasicTickFormatter\"},{\"attributes\":{\"axis_label\":\"time (sec)\",\"coordinates\":null,\"formatter\":{\"id\":\"1691\"},\"group\":null,\"major_label_policy\":{\"id\":\"1692\"},\"ticker\":{\"id\":\"1657\"}},\"id\":\"1656\",\"type\":\"LinearAxis\"},{\"attributes\":{},\"id\":\"1667\",\"type\":\"ResetTool\"},{\"attributes\":{},\"id\":\"1648\",\"type\":\"DataRange1d\"},{\"attributes\":{\"interval\":12},\"id\":\"1678\",\"type\":\"SingleIntervalTicker\"},{\"attributes\":{\"tools\":[{\"id\":\"1664\"},{\"id\":\"1665\"},{\"id\":\"1666\"},{\"id\":\"1667\"},{\"id\":\"1668\"}]},\"id\":\"1670\",\"type\":\"Toolbar\"},{\"attributes\":{\"coordinates\":null,\"group\":null},\"id\":\"1686\",\"type\":\"Title\"},{\"attributes\":{\"bottom\":{\"field\":\"bottom\"},\"fill_alpha\":{\"value\":0.2},\"fill_color\":{\"value\":\"#d53e4f\"},\"hatch_alpha\":{\"value\":0.2},\"left\":{\"field\":\"start_time\"},\"line_alpha\":{\"value\":0.2},\"right\":{\"field\":\"end_time\"},\"top\":{\"field\":\"top\"}},\"id\":\"1683\",\"type\":\"Quad\"},{\"attributes\":{},\"id\":\"1692\",\"type\":\"AllLabels\"},{\"attributes\":{},\"id\":\"1657\",\"type\":\"BasicTicker\"},{\"attributes\":{},\"id\":\"1693\",\"type\":\"UnionRenderers\"},{\"attributes\":{},\"id\":\"1689\",\"type\":\"AllLabels\"},{\"attributes\":{\"axis\":{\"id\":\"1660\"},\"coordinates\":null,\"dimension\":1,\"group\":null,\"ticker\":{\"id\":\"1678\"}},\"id\":\"1663\",\"type\":\"Grid\"},{\"attributes\":{},\"id\":\"1668\",\"type\":\"SaveTool\"},{\"attributes\":{\"interval\":12},\"id\":\"1676\",\"type\":\"SingleIntervalTicker\"},{\"attributes\":{\"bottom\":{\"field\":\"bottom\"},\"fill_alpha\":{\"field\":\"fill_alpha\"},\"fill_color\":{\"value\":\"#d53e4f\"},\"left\":{\"field\":\"start_time\"},\"right\":{\"field\":\"end_time\"},\"top\":{\"field\":\"top\"}},\"id\":\"1681\",\"type\":\"Quad\"},{\"attributes\":{\"axis\":{\"id\":\"1656\"},\"coordinates\":null,\"group\":null,\"ticker\":null},\"id\":\"1659\",\"type\":\"Grid\"},{\"attributes\":{},\"id\":\"1654\",\"type\":\"LinearScale\"},{\"attributes\":{},\"id\":\"1688\",\"type\":\"BasicTickFormatter\"},{\"attributes\":{\"callback\":null,\"tooltips\":[[\"pitch\",\"@pitch\"],[\"program\",\"@program\"],[\"velo\",\"@velocity\"],[\"duration\",\"@duration\"],[\"start_time\",\"@start_time\"],[\"end_time\",\"@end_time\"],[\"velocity\",\"@velocity\"],[\"fill_alpha\",\"@fill_alpha\"]]},\"id\":\"1664\",\"type\":\"HoverTool\"},{\"attributes\":{\"axis_label\":\"pitch (MIDI)\",\"coordinates\":null,\"formatter\":{\"id\":\"1688\"},\"group\":null,\"major_label_policy\":{\"id\":\"1689\"},\"ticker\":{\"id\":\"1676\"}},\"id\":\"1660\",\"type\":\"LinearAxis\"},{\"attributes\":{},\"id\":\"1665\",\"type\":\"PanTool\"},{\"attributes\":{\"bottom_units\":\"screen\",\"coordinates\":null,\"fill_alpha\":0.5,\"fill_color\":\"lightgrey\",\"group\":null,\"left_units\":\"screen\",\"level\":\"overlay\",\"line_alpha\":1.0,\"line_color\":\"black\",\"line_dash\":[4,4],\"line_width\":2,\"right_units\":\"screen\",\"syncable\":false,\"top_units\":\"screen\"},\"id\":\"1669\",\"type\":\"BoxAnnotation\"},{\"attributes\":{},\"id\":\"1694\",\"type\":\"Selection\"},{\"attributes\":{},\"id\":\"1652\",\"type\":\"LinearScale\"},{\"attributes\":{\"source\":{\"id\":\"1679\"}},\"id\":\"1685\",\"type\":\"CDSView\"},{\"attributes\":{\"bottom\":{\"field\":\"bottom\"},\"fill_alpha\":{\"value\":0.1},\"fill_color\":{\"value\":\"#d53e4f\"},\"hatch_alpha\":{\"value\":0.1},\"left\":{\"field\":\"start_time\"},\"line_alpha\":{\"value\":0.1},\"right\":{\"field\":\"end_time\"},\"top\":{\"field\":\"top\"}},\"id\":\"1682\",\"type\":\"Quad\"},{\"attributes\":{\"overlay\":{\"id\":\"1669\"}},\"id\":\"1666\",\"type\":\"BoxZoomTool\"},{\"attributes\":{},\"id\":\"1650\",\"type\":\"DataRange1d\"},{\"attributes\":{\"data\":{\"bottom\":{\"__ndarray__\":\"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\",\"dtype\":\"float64\",\"order\":\"little\",\"shape\":[288]},\"duration\":{\"__ndarray__\":\"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\",\"dtype\":\"float64\",\"order\":\"little\",\"shape\":[288]},\"end_time\":{\"__ndarray__\":\"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\",\"dtype\":\"float64\",\"order\":\"little\",\"shape\":[288]},\"fill_alpha\":{\"__ndarray__\":\"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\",\"dtype\":\"float64\",\"order\":\"little\",\"shape\":[288]},\"index\":[0,1,2,3,4,5,6,7,8,9,10,11,12,13,14,15,16,17,18,19,20,21,22,23,24,25,26,27,28,29,30,31,32,33,34,35,36,37,38,39,40,41,42,43,44,45,46,47,48,49,50,51,52,53,54,55,56,57,58,59,60,61,62,63,64,65,66,67,68,69,70,71,72,73,74,75,76,77,78,79,80,81,82,83,84,85,86,87,88,89,90,91,92,93,94,95,96,97,98,99,100,101,102,103,104,105,106,107,108,109,110,111,112,113,114,115,116,117,118,119,120,121,122,123,124,125,126,127,128,129,130,131,132,133,134,135,136,137,138,139,140,141,142,143,144,145,146,147,148,149,150,151,152,153,154,155,156,157,158,159,160,161,162,163,164,165,166,167,168,169,170,171,172,173,174,175,176,177,178,179,180,181,182,183,184,185,186,187,188,189,190,191,192,193,194,195,196,197,198,199,200,201,202,203,204,205,206,207,208,209,210,211,212,213,214,215,216,217,218,219,220,221,222,223,224,225,226,227,228,229,230,231,232,233,234,235,236,237,238,239,240,241,242,243,244,245,246,247,248,249,250,251,252,253,254,255,256,257,258,259,260,261,262,263,264,265,266,267,268,269,270,271,272,273,274,275,276,277,278,279,280,281,282,283,284,285,286,287],\"instrument\":[0,0,0,0,0,0,0,0,0,0,0,0,0,0,0,0,0,0,0,0,0,0,0,0,0,0,0,0,0,0,0,0,0,0,0,0,0,0,0,0,0,0,0,0,0,0,0,0,0,0,0,0,0,0,0,0,0,0,0,0,0,0,0,0,0,0,0,0,0,0,0,0,0,0,0,0,0,0,0,0,0,0,0,0,0,0,0,0,0,0,0,0,0,0,0,0,0,0,0,0,0,0,0,0,0,0,0,0,0,0,0,0,0,0,0,0,0,0,0,0,0,0,0,0,0,0,0,0,0,0,0,0,0,0,0,0,0,0,0,0,0,0,0,0,0,0,0,0,0,0,0,0,0,0,0,0,0,0,0,0,0,0,0,0,0,0,0,0,0,0,0,0,0,0,0,0,0,0,0,0,0,0,0,0,0,0,0,0,0,0,0,0,0,0,0,0,0,0,0,0,0,0,0,0,0,0,0,0,0,0,0,0,0,0,0,0,0,0,0,0,0,0,0,0,0,0,0,0,0,0,0,0,0,0,0,0,0,0,0,0,0,0,0,0,0,0,0,0,0,0,0,0,0,0,0,0,0,0,0,0,0,0,0,0,0,0,0,0,0,0,0,0,0,0,0,0,0,0,0,0,0,0,0,0,0,0,0,0],\"pitch\":[76,75,76,75,76,71,74,72,45,69,52,57,60,64,69,52,57,60,64,62,64,68,59,62,64,68,64,59,62,68,77,76,74,45,72,52,57,60,64,69,52,57,60,64,59,62,64,68,62,64,68,64,62,59,68,77,76,74,45,72,52,57,60,64,69,52,57,60,64,62,64,59,68,62,64,68,59,62,64,68,76,74,72,74,45,52,72,57,71,60,69,64,71,52,57,72,60,64,74,72,59,62,64,64,43,62,59,64,76,74,72,74,45,52,72,57,71,60,69,64,71,52,57,72,60,64,74,59,62,64,72,64,62,59,64,76,74,72,45,74,52,72,57,71,60,69,64,71,52,57,72,60,64,74,59,62,64,72,64,62,59,64,76,74,72,45,79,52,76,57,74,60,72,64,71,52,57,72,60,64,74,59,62,64,72,59,43,64,62,71,59,72,71,69,67,69,65,69,65,69,69,65,68,71,69,65,69,65,69,69,65,68,71,65,45,76,52,74,57,72,64,60,71,69,52,57,71,60,64,72,62,64,59,71,62,64,59,62,64,71,81,79,77,40,47,52,76,55,59,47,52,64,72,55,64,59,71,69,67,65,64,76,74,72,45,52,57,71,60,72,64,52,57,69,60,68,64,57,65,52,76,59,56,57,60,76,45,52],\"program\":[0,0,0,0,0,0,0,0,0,0,0,0,0,0,0,0,0,0,0,0,0,0,0,0,0,0,0,0,0,0,0,0,0,0,0,0,0,0,0,0,0,0,0,0,0,0,0,0,0,0,0,0,0,0,0,0,0,0,0,0,0,0,0,0,0,0,0,0,0,0,0,0,0,0,0,0,0,0,0,0,0,0,0,0,0,0,0,0,0,0,0,0,0,0,0,0,0,0,0,0,0,0,0,0,0,0,0,0,0,0,0,0,0,0,0,0,0,0,0,0,0,0,0,0,0,0,0,0,0,0,0,0,0,0,0,0,0,0,0,0,0,0,0,0,0,0,0,0,0,0,0,0,0,0,0,0,0,0,0,0,0,0,0,0,0,0,0,0,0,0,0,0,0,0,0,0,0,0,0,0,0,0,0,0,0,0,0,0,0,0,0,0,0,0,0,0,0,0,0,0,0,0,0,0,0,0,0,0,0,0,0,0,0,0,0,0,0,0,0,0,0,0,0,0,0,0,0,0,0,0,0,0,0,0,0,0,0,0,0,0,0,0,0,0,0,0,0,0,0,0,0,0,0,0,0,0,0,0,0,0,0,0,0,0,0,0,0,0,0,0,0,0,0,0,0,0,0,0,0,0,0,0,0,0,0,0,0,0],\"start_time\":{\"__ndarray__\":\"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\",\"dtype\":\"float64\",\"order\":\"little\",\"shape\":[288]},\"top\":{\"__ndarray__\":\"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\",\"dtype\":\"float64\",\"order\":\"little\",\"shape\":[288]},\"velocity\":[117,117,117,117,117,117,97,97,85,89,85,89,85,89,85,89,89,89,89,85,93,89,89,89,93,89,93,93,89,89,93,97,93,85,97,85,89,85,89,85,89,89,89,89,89,85,93,89,89,93,89,93,89,93,89,93,93,97,85,97,85,89,85,89,85,89,89,89,89,85,93,89,89,89,93,89,89,89,93,89,97,97,93,97,85,85,93,89,93,89,89,89,93,85,85,93,89,89,93,93,89,85,93,93,85,85,89,93,93,93,97,97,85,85,93,89,93,89,89,89,93,85,85,93,89,89,93,89,85,93,93,93,85,89,93,93,93,93,85,97,85,93,89,93,89,89,89,93,85,89,93,89,89,97,89,85,93,93,93,85,89,93,93,93,93,81,97,89,93,89,93,89,93,89,97,85,85,93,89,89,97,93,85,93,93,89,81,93,85,93,89,93,93,93,93,89,89,89,85,85,85,85,85,85,89,89,89,85,85,89,89,85,85,89,81,97,85,93,85,93,89,89,93,93,85,89,93,93,89,93,85,93,89,93,89,93,89,89,93,93,89,89,93,89,85,89,97,89,89,85,85,93,97,89,89,89,97,89,89,93,93,93,97,93,81,85,89,97,93,97,93,85,89,93,89,93,89,85,93,89,93,89,89,89,93,97,93,93]},\"selected\":{\"id\":\"1694\"},\"selection_policy\":{\"id\":\"1693\"}},\"id\":\"1679\",\"type\":\"ColumnDataSource\"}],\"root_ids\":[\"1647\"]},\"title\":\"Bokeh Application\",\"version\":\"2.4.3\"}};\n",
              "  const render_items = [{\"docid\":\"e1f4d6e0-6b0d-4e52-86df-d265e89ff77b\",\"root_ids\":[\"1647\"],\"roots\":{\"1647\":\"2a344544-c0f3-4529-8215-d9a55e1f50d2\"}}];\n",
              "  root.Bokeh.embed.embed_items_notebook(docs_json, render_items);\n",
              "  }\n",
              "  if (root.Bokeh !== undefined) {\n",
              "    embed_document(root);\n",
              "  } else {\n",
              "    let attempts = 0;\n",
              "    const timer = setInterval(function(root) {\n",
              "      if (root.Bokeh !== undefined) {\n",
              "        clearInterval(timer);\n",
              "        embed_document(root);\n",
              "      } else {\n",
              "        attempts++;\n",
              "        if (attempts > 100) {\n",
              "          clearInterval(timer);\n",
              "          console.log(\"Bokeh: ERROR: Unable to run BokehJS code because BokehJS library is missing\");\n",
              "        }\n",
              "      }\n",
              "    }, 10, root)\n",
              "  }\n",
              "})(window);"
            ],
            "application/vnd.bokehjs_exec.v0+json": ""
          },
          "metadata": {
            "application/vnd.bokehjs_exec.v0+json": {
              "id": "1647"
            }
          }
        },
        {
          "output_type": "stream",
          "name": "stdout",
          "text": [
            "Сэмпл сохранён в файл \"sample_0_4.mid\"\n",
            "---------------------------------------\n"
          ]
        }
      ]
    }
  ]
}